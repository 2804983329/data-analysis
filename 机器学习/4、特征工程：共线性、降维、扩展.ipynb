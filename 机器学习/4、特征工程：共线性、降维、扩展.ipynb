{
 "cells": [
  {
   "cell_type": "markdown",
   "metadata": {
    "collapsed": true,
    "pycharm": {
     "name": "#%% md\n"
    }
   },
   "source": [
    "### 特征工程：共线性、降维、扩展\n",
    "#### 1、共线性\n",
    "##### 特征间共线性：\n",
    "        - 两个或多个特征包含了相似的信息，相互之间存在强烈的相关关系\n",
    "##### 常用判断标准：\n",
    "        -两个或多个以上的特征间的相关性系数高于0.8\n",
    "##### 共线性的影响：\n",
    "        - 降低运算效率\n",
    "        - 降低一些模型的稳定性\n",
    "        - 弱化一些模型的预测能力\n",
    "##### 处理方式：\n",
    "        - 删除：一组相互共线的特征中只保留与y相关性最高的一个\n",
    "        - 变换：对共线的两列特征进行求比值、求差值等计算"
   ]
  },
  {
   "cell_type": "code",
   "execution_count": null,
   "outputs": [],
   "source": [
    "#特征工程的演示\n",
    "\n",
    "import pandas as pd\n",
    "import matplotlib.pyplot as plt\n",
    "df = pd.read_csv('')\n",
    "df.columns\n",
    "print(df.shape)\n",
    "print(df.dtype)\n",
    "print(df.isnull().sum())\n",
    "print(df.head())"
   ],
   "metadata": {
    "collapsed": false,
    "pycharm": {
     "name": "#%%\n"
    }
   }
  },
  {
   "cell_type": "code",
   "execution_count": null,
   "outputs": [],
   "source": [
    "#变量相关性矩阵\n",
    "correlation_table = df.drop(columns='id').corr()\n",
    "print(correlation_table)"
   ],
   "metadata": {
    "collapsed": false,
    "pycharm": {
     "name": "#%%\n"
    }
   }
  },
  {
   "cell_type": "code",
   "execution_count": null,
   "outputs": [],
   "source": [
    "#对相关性矩阵进行可视化\n",
    "import seaborn as sns\n",
    "#绘制相关性矩阵热力图\n",
    "sns.heatmap(correlation_table)\n",
    "plt.show()"
   ],
   "metadata": {
    "collapsed": false,
    "pycharm": {
     "name": "#%%\n"
    }
   }
  },
  {
   "cell_type": "code",
   "execution_count": null,
   "outputs": [],
   "source": [
    "#查看共线的日间、夜间、夜间20-29岁人口与房价的关系\n",
    "print(df[['房价','日间人口','夜间人口','夜间20-29岁人口']].corr())"
   ],
   "metadata": {
    "collapsed": false,
    "pycharm": {
     "name": "#%%\n"
    }
   }
  },
  {
   "cell_type": "code",
   "execution_count": null,
   "outputs": [],
   "source": [
    "#根据共线性矩阵,保留与房价相关性最高的日间人口,将夜间人口和夜间20-29岁人口进行比例处理\n",
    "def age_percent(row):\n",
    "    if row['夜间人口'] == 0:\n",
    "        return 0\n",
    "    else:\n",
    "        return row['夜间20-29岁人口']/row['夜间人口']\n",
    "df['per_a20-29'] = df.apply(age_percent,axis=1)\n",
    "df = df.drop(columns=['夜间人口','夜间20-29岁人口'])\n",
    "#再次查看相关性矩阵的热力图\n",
    "correlation_table = df.corr()\n",
    "sns.heatmap(correlation_table)\n"
   ],
   "metadata": {
    "collapsed": false,
    "pycharm": {
     "name": "#%%\n"
    }
   }
  },
  {
   "cell_type": "markdown",
   "source": [
    "### 2、数据降维与特征提取\n",
    "#### 处理目的：\n",
    "        - 降低不相关特征对于模型准确性的干扰\n",
    "        - 降低模型复杂度，提高模型泛化能力\n",
    "        - 减少建模特征，提高模型训练与预测速度\n",
    "#### 处理方法：\n",
    "        - 基于数据理解，直接删除\n",
    "        - 使用主成分分析法（pca）对特征进行提取\n",
    "        - 使用机器学习模型对特征进行筛选"
   ],
   "metadata": {
    "collapsed": false
   }
  },
  {
   "cell_type": "code",
   "execution_count": null,
   "outputs": [],
   "source": [
    "#查看样例数据特征表\n",
    "df.columns\n"
   ],
   "metadata": {
    "collapsed": false,
    "pycharm": {
     "name": "#%%\n"
    }
   }
  },
  {
   "cell_type": "code",
   "execution_count": null,
   "outputs": [],
   "source": [
    "#载入sklearn里的pac模块\n",
    "from sklearn.decomposition import PCA\n",
    "pca = PCA(n_components=5)\n",
    "x = df[['字段1','字段2','字段3','字段4','字段5']]\n",
    "#使用x进行pca模型训练同时对x进行装换\n",
    "x_transform = pca.fit_transform(x)\n",
    "#查看主成分对于数据的解释方差百分比\n",
    "print(pca.explained_variance_ratio_.sum())"
   ],
   "metadata": {
    "collapsed": false,
    "pycharm": {
     "name": "#%%\n"
    }
   }
  },
  {
   "cell_type": "code",
   "execution_count": null,
   "outputs": [],
   "source": [
    "#查看保留主成分数量与方差解释百分比\n",
    "for i in range(1,8):\n",
    "    pca = PCA(n_components=i)\n",
    "    x_transform = pca.fit_transform(x)\n",
    "    print(f'components = {i},explanined_variance = {pca.explained_variance_ratio_.sum()}')"
   ],
   "metadata": {
    "collapsed": false,
    "pycharm": {
     "name": "#%%\n"
    }
   }
  },
  {
   "cell_type": "markdown",
   "source": [
    "#### 常用判断标准：保留数据的解释方差累积百分比达到95%的所有特征"
   ],
   "metadata": {
    "collapsed": false
   }
  },
  {
   "cell_type": "code",
   "execution_count": null,
   "outputs": [],
   "source": [
    "#使用pipeline整合数据标准化、主成分分析与模型\n",
    "from sklearn.linear_model import LinearRegression\n",
    "from sklearn.preprocessing import StandardScaler\n",
    "from sklearn.decomposition import PCA\n",
    "from sklearn.pipeline import Pipeline\n",
    "#构建模型工作流\n",
    "pipe_lm = Pipeline([\n",
    "        ('sc',StandardScaler()),\n",
    "        ('pca',Pca(n_components = 1)),\n",
    "        ('lm_regr',LinearRegression())\n",
    "        ])\n",
    "print(pipe_lm)"
   ],
   "metadata": {
    "collapsed": false,
    "pycharm": {
     "name": "#%%\n"
    }
   }
  },
  {
   "cell_type": "markdown",
   "source": [
    "#### 使用模型进行特征筛选"
   ],
   "metadata": {
    "collapsed": false
   }
  },
  {
   "cell_type": "code",
   "execution_count": null,
   "outputs": [],
   "source": [
    "from sklearn.feature_selection import SelectFromModel\n",
    "from sklearn.linear_model import Lasso\n",
    "#准备筛选数据\n",
    "x = df[['日间人口','夜间人口','夜间20-29岁人口','','','']]\n",
    "print(x.shape[1])\n",
    "y = df[['房价']]\n",
    "#定义筛选模型\n",
    "lasso_lm = Lasso(alpha=500)\n",
    "#定义特征筛选模型\n",
    "select_m = SelectFromModel(lasso_lm)\n",
    "#训练筛选器\n",
    "select_m.fit(x,y)\n",
    "#运行筛选结果\n",
    "print(select_m.transform(x).shape[1])"
   ],
   "metadata": {
    "collapsed": false,
    "pycharm": {
     "name": "#%%\n"
    }
   }
  },
  {
   "cell_type": "code",
   "execution_count": null,
   "outputs": [],
   "source": [
    "#构建模型工作流\n",
    "pipe_lm = Pipeline([\n",
    "        ('sc',StandardScaler()),\n",
    "        ('lasso_select',SelectFromModel(lasso_lm)),\n",
    "        ('lm_regr',LinearRegression())\n",
    "        ])\n",
    "print(pipe_lm)"
   ],
   "metadata": {
    "collapsed": false,
    "pycharm": {
     "name": "#%%\n"
    }
   }
  },
  {
   "cell_type": "markdown",
   "source": [
    "#### 3、特征扩展\n",
    "##### 处理目的：\n",
    "         - 解决模型欠拟合\n",
    "         - 捕捉自变量与应变力之间的非线性关系\n",
    "\n",
    "##### 常见处理方法：\n",
    "###### 多项式拓展：\n",
    "            1） 假设数据集中包含自变量a,b\n",
    "            2)  如果对自变量做多项式二次扩展\n",
    "            3） 自变量集从两个变量扩展为5个变量（a、b、a*a、b*b、a*b）"
   ],
   "metadata": {
    "collapsed": false
   }
  },
  {
   "cell_type": "code",
   "execution_count": null,
   "outputs": [],
   "source": [
    "from sklearn.preprocessing import PolynomialFeatures\n",
    "#准备筛选数据\n",
    "x = df[['日间人口','夜间人口','夜间20-29岁人口','','','']]\n",
    "print(x.shape[1])\n",
    "#定义特征扩展模型并扩展特征\n",
    "polynomy = PolynomialFeatures(degree=2)\n",
    "#训练筛选器\n",
    "new_x = polynomy.fit_transform(x)\n",
    "print(new_x,shape[1])"
   ],
   "metadata": {
    "collapsed": false,
    "pycharm": {
     "name": "#%%\n"
    }
   }
  },
  {
   "cell_type": "code",
   "execution_count": null,
   "outputs": [],
   "source": [
    "#构建模型工作流\n",
    "pipe_lm = Pipeline([\n",
    "        ('sc',StandardScaler()),\n",
    "        ('poly_tran',PolynomialFeatures(degree=2)),\n",
    "        ('lm_regr',LinearRegression())\n",
    "        ])\n",
    "print(pipe_lm)"
   ],
   "metadata": {
    "collapsed": false,
    "pycharm": {
     "name": "#%%\n"
    }
   }
  },
  {
   "cell_type": "code",
   "execution_count": null,
   "outputs": [],
   "source": [],
   "metadata": {
    "collapsed": false,
    "pycharm": {
     "name": "#%%\n"
    }
   }
  },
  {
   "cell_type": "markdown",
   "source": [],
   "metadata": {
    "collapsed": false,
    "pycharm": {
     "name": "#%% md\n"
    }
   }
  },
  {
   "cell_type": "code",
   "execution_count": null,
   "outputs": [],
   "source": [
    "#查看样例数据特征表\n",
    "df.columns\n"
   ],
   "metadata": {
    "collapsed": false,
    "pycharm": {
     "name": "#%%\n"
    }
   }
  },
  {
   "cell_type": "code",
   "execution_count": null,
   "outputs": [],
   "source": [
    "#载入sklearn里的pac模块\n",
    "from sklearn.decomposition import PCA\n",
    "pca = PCA(n_components=5)\n",
    "x = df[['字段1','字段2','字段3','字段4','字段5']]\n",
    "#使用x进行pca模型训练同时对x进行装换\n",
    "x_transform = pca.fit_transform(x)\n",
    "#查看主成分对于数据的解释方差百分比\n",
    "print(pca.explained_variance_ratio_.sum())"
   ],
   "metadata": {
    "collapsed": false,
    "pycharm": {
     "name": "#%%\n"
    }
   }
  },
  {
   "cell_type": "code",
   "execution_count": null,
   "outputs": [],
   "source": [
    "#查看保留主成分数量与方差解释百分比\n",
    "for i in range(1,8):\n",
    "    pca = PCA(n_components=i)\n",
    "    x_transform = pca.fit_transform(x)\n",
    "    print(f'components = {i},explanined_variance = {pca.explained_variance_ratio_.sum()}')"
   ],
   "metadata": {
    "collapsed": false,
    "pycharm": {
     "name": "#%%\n"
    }
   }
  },
  {
   "cell_type": "markdown",
   "source": [
    "#### 常用判断标准：保留数据的解释方差累积百分比达到95%的所有特征"
   ],
   "metadata": {
    "collapsed": false,
    "pycharm": {
     "name": "#%% md\n"
    }
   }
  },
  {
   "cell_type": "code",
   "execution_count": null,
   "outputs": [],
   "source": [
    "#使用pipeline整合数据标准化、主成分分析与模型\n",
    "from sklearn.linear_model import LinearRegression\n",
    "from sklearn.preprocessing import StandardScaler\n",
    "from sklearn.decomposition import PCA\n",
    "from sklearn.pipeline import Pipeline\n",
    "#构建模型工作流\n",
    "pipe_lm = Pipeline([\n",
    "        ('sc',StandardScaler()),\n",
    "        ('pca',Pca(n_components = 1)),\n",
    "        ('lm_regr',LinearRegression())\n",
    "        ])\n",
    "print(pipe_lm)"
   ],
   "metadata": {
    "collapsed": false,
    "pycharm": {
     "name": "#%%\n"
    }
   }
  },
  {
   "cell_type": "markdown",
   "source": [
    "#### 使用模型进行特征筛选"
   ],
   "metadata": {
    "collapsed": false,
    "pycharm": {
     "name": "#%% md\n"
    }
   }
  },
  {
   "cell_type": "code",
   "execution_count": null,
   "outputs": [],
   "source": [
    "from sklearn.feature_selection import SelectFromModel\n",
    "from sklearn.linear_model import Lasso\n",
    "#准备筛选数据\n",
    "x = df[['日间人口','夜间人口','夜间20-29岁人口','','','']]\n",
    "print(x.shape[1])\n",
    "y = df[['房价']]\n",
    "#定义筛选模型\n",
    "lasso_lm = Lasso(alpha=500)\n",
    "#定义特征筛选模型\n",
    "select_m = SelectFromModel(lasso_lm)\n",
    "#训练筛选器\n",
    "select_m.fit(x,y)\n",
    "#运行筛选结果\n",
    "print(select_m.transform(x).shape[1])"
   ],
   "metadata": {
    "collapsed": false,
    "pycharm": {
     "name": "#%%\n"
    }
   }
  },
  {
   "cell_type": "code",
   "execution_count": null,
   "outputs": [],
   "source": [
    "#构建模型工作流\n",
    "pipe_lm = Pipeline([\n",
    "        ('sc',StandardScaler()),\n",
    "        ('lasso_select',SelectFromModel(lasso_lm)),\n",
    "        ('lm_regr',LinearRegression())\n",
    "        ])\n",
    "print(pipe_lm)"
   ],
   "metadata": {
    "collapsed": false,
    "pycharm": {
     "name": "#%%\n"
    }
   }
  },
  {
   "cell_type": "markdown",
   "source": [
    "#### 3、特征扩展\n",
    "##### 处理目的：\n",
    "         - 解决模型欠拟合\n",
    "         - 捕捉自变量与应变力之间的非线性关系\n",
    "\n",
    "##### 常见处理方法：\n",
    "###### 多项式拓展：\n",
    "            1） 假设数据集中包含自变量a,b\n",
    "            2)  如果对自变量做多项式二次扩展\n",
    "            3） 自变量集从两个变量扩展为5个变量（a、b、a*a、b*b、a*b）"
   ],
   "metadata": {
    "collapsed": false
   }
  },
  {
   "cell_type": "code",
   "execution_count": null,
   "outputs": [],
   "source": [
    "from sklearn.preprocessing import PolynomialFeatures\n",
    "#准备筛选数据\n",
    "x = df[['日间人口','夜间人口','夜间20-29岁人口','','','']]\n",
    "print(x.shape[1])\n",
    "#定义特征扩展模型并扩展特征\n",
    "polynomy = PolynomialFeatures(degree=2)\n",
    "#训练筛选器\n",
    "new_x = polynomy.fit_transform(x)\n",
    "print(new_x,shape[1])"
   ],
   "metadata": {
    "collapsed": false,
    "pycharm": {
     "name": "#%%\n"
    }
   }
  },
  {
   "cell_type": "code",
   "execution_count": null,
   "outputs": [],
   "source": [
    "#构建模型工作流\n",
    "pipe_lm = Pipeline([\n",
    "        ('sc',StandardScaler()),\n",
    "        ('poly_tran',PolynomialFeatures(degree=2)),\n",
    "        ('lm_regr',LinearRegression())\n",
    "        ])\n",
    "print(pipe_lm)"
   ],
   "metadata": {
    "collapsed": false,
    "pycharm": {
     "name": "#%%\n"
    }
   }
  },
  {
   "cell_type": "code",
   "execution_count": null,
   "outputs": [],
   "source": [],
   "metadata": {
    "collapsed": false,
    "pycharm": {
     "name": "#%%\n"
    }
   }
  }
 ],
 "metadata": {
  "kernelspec": {
   "display_name": "Python 3",
   "language": "python",
   "name": "python3"
  },
  "language_info": {
   "codemirror_mode": {
    "name": "ipython",
    "version": 2
   },
   "file_extension": ".py",
   "mimetype": "text/x-python",
   "name": "python",
   "nbconvert_exporter": "python",
   "pygments_lexer": "ipython2",
   "version": "2.7.6"
  }
 },
 "nbformat": 4,
 "nbformat_minor": 0
}