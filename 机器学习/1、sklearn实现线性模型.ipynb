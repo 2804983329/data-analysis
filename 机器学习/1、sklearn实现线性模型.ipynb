{
 "cells": [
  {
   "cell_type": "code",
   "execution_count": null,
   "metadata": {
    "collapsed": true
   },
   "outputs": [],
   "source": [
    "import pandas as pd\n",
    "df = pd.read_csv('')\n",
    "df.columns"
   ]
  },
  {
   "cell_type": "code",
   "execution_count": null,
   "outputs": [],
   "source": [
    "制作标签变量\n",
    "price_median = df['房价'].median()\n",
    "print(price_median)\n",
    "df['is_high'] = df['房价'].map(lambda x: True if x>=price_median else False)\n",
    "print(df['is_high'].value_counts())"
   ],
   "metadata": {
    "collapsed": false,
    "pycharm": {
     "name": "#%%\n"
    }
   }
  },
  {
   "cell_type": "code",
   "execution_count": null,
   "outputs": [],
   "source": [
    "#提取自变量\n",
    "x_train = df.copy()[['特征字段','']]\n",
    "#提取因变量：数值型\n",
    "y_train = df.copy()['房价']\n",
    "#提取因变量：类别型\n",
    "y_label = df.copy()['is_high']"
   ],
   "metadata": {
    "collapsed": false,
    "pycharm": {
     "name": "#%%\n"
    }
   }
  },
  {
   "cell_type": "code",
   "execution_count": null,
   "outputs": [],
   "source": [
    "#加载pipeline\n",
    "from sklearn.pipeline import Pipeline\n",
    "#加载线性回归模型\n",
    "from sklearn.linear_model import LinearRegression\n",
    "\n",
    "#构建线性回归模型\n",
    "pipe_lm = Pipeline([\n",
    "        ('lm_regr',LinearRegression(fit_intercept=True))\n",
    "        ])\n",
    "#训练线性回归模型\n",
    "pipe_lm.fit(x_train,y_train)\n",
    "#使用线性回归模型进行预测\n",
    "y_train_predict = pipe_lm.predict(x_train)"
   ],
   "metadata": {
    "collapsed": false,
    "pycharm": {
     "name": "#%%\n"
    }
   }
  },
  {
   "cell_type": "code",
   "execution_count": null,
   "outputs": [],
   "source": [
    "#查看线性回归模型特征参数\n",
    "print(pipe_lm.named_steps['lm_regr'].coef_)\n",
    "\n",
    "#查看线性回归模型截距值\n",
    "print(pipe_lm.named_steps['lm_regr'].intercept_)\n"
   ],
   "metadata": {
    "collapsed": false,
    "pycharm": {
     "name": "#%%\n"
    }
   }
  },
  {
   "cell_type": "code",
   "execution_count": null,
   "outputs": [],
   "source": [
    "#提取模型特征参数\n",
    "coef = pipe_lm.named_steps['lm_regr'].coef_\n",
    "#提取对应的特征名称\n",
    "features = x_train.columns.tolist()\n",
    "\n",
    "#构建参数df\n",
    "coef_table = pd.DataFrame({'feature':features,'coefficient':coef})\n",
    "print(coef_table)"
   ],
   "metadata": {
    "collapsed": false,
    "pycharm": {
     "name": "#%%\n"
    }
   }
  },
  {
   "cell_type": "code",
   "execution_count": null,
   "outputs": [],
   "source": [
    "#加载画图组件matplotlib\n",
    "import matplotlib.pyplot as plt\n",
    "#绘制参数特征值柱状图\n",
    "coef_table.set_index(['feature']).plot.barh()\n",
    "\n",
    "#设置x等于0的参考线\n",
    "plt.axvline(0, color = 'k')\n",
    "#显示图表\n",
    "plt.show()"
   ],
   "metadata": {
    "collapsed": false,
    "pycharm": {
     "name": "#%%\n"
    }
   }
  },
  {
   "cell_type": "code",
   "execution_count": null,
   "outputs": [],
   "source": [
    "#加载lasso回归模型\n",
    "from sklearn.linear_model import Lasso\n",
    "#构建线性回归模型  #alpha 控制L1正则系数的影响力\n",
    "pipe_lasso = Pipeline([\n",
    "            ('lasso_regr',Lasso(alpha=500,fit_intercept=True))\n",
    "            ])\n",
    "#训练线性回归模型\n",
    "pipe_lasso.fit(x_train,y_train)\n",
    "#使用线性回归模型进行预测\n",
    "y_train_predict = pipe_lasso.predict(x_train)\n"
   ],
   "metadata": {
    "collapsed": false,
    "pycharm": {
     "name": "#%%\n"
    }
   }
  },
  {
   "cell_type": "code",
   "execution_count": null,
   "outputs": [],
   "source": [
    "#查看线性回归模型特征参数\n",
    "print(pipe_lasso.named_steps['lasso_regr'].coef_)\n",
    "\n",
    "#查看线性回归模型截距值\n",
    "print(pipe_lasso.named_steps['lasso_regr'].intercept_)\n"
   ],
   "metadata": {
    "collapsed": false,
    "pycharm": {
     "name": "#%%\n"
    }
   }
  },
  {
   "cell_type": "code",
   "execution_count": null,
   "outputs": [],
   "source": [
    "#提取模型特征参数\n",
    "coef = pipe_lasso.named_steps['lasso_regr'].coef_\n",
    "#提取对应的特征名称\n",
    "features = x_train.columns.tolist()\n",
    "\n",
    "#构建参数df\n",
    "coef_table = pd.DataFrame({'feature':features,'coefficient':coef})\n",
    "print(coef_table)\n"
   ],
   "metadata": {
    "collapsed": false,
    "pycharm": {
     "name": "#%%\n"
    }
   }
  },
  {
   "cell_type": "code",
   "execution_count": null,
   "outputs": [],
   "source": [
    "#绘制参数特征值柱状图\n",
    "coef_table.set_index(['feature']).plot.barh()\n",
    "\n",
    "#设置x等于0的参考线\n",
    "plt.axvline(0, color = 'k')\n",
    "#显示图表\n",
    "plt.show()"
   ],
   "metadata": {
    "collapsed": false,
    "pycharm": {
     "name": "#%%\n"
    }
   }
  },
  {
   "cell_type": "code",
   "execution_count": null,
   "outputs": [],
   "source": [
    "\n",
    "#加载ridge回归模型\n",
    "from sklearn.linear_model import Ridge\n",
    "#构建线性回归模型  #alpha 控制L1正则系数的影响力  solver 模型求解器   lsqr最小二乘法\n",
    "pipe_ridge = Pipeline([\n",
    "            ('ridge_regr',Ridge(alpha=500,fit_intercept=True,solver = 'lsqr'))\n",
    "            ])\n",
    "#训练线性回归模型\n",
    "pipe_ridge.fit(x_train,y_train)\n",
    "#使用线性回归模型进行预测\n",
    "y_train_predict = pipe_ridge.predict(x_train)\n"
   ],
   "metadata": {
    "collapsed": false,
    "pycharm": {
     "name": "#%%\n"
    }
   }
  },
  {
   "cell_type": "code",
   "execution_count": null,
   "outputs": [],
   "source": [
    "#查看线性回归模型特征参数\n",
    "print(pipe_ridge.named_steps['ridge_regr'].coef_)\n",
    "\n",
    "#查看线性回归模型截距值\n",
    "print(pipe_ridge.named_steps['ridge_regr'].intercept_)\n",
    " #L2 约束特征值变得很小，防止过拟合"
   ],
   "metadata": {
    "collapsed": false,
    "pycharm": {
     "name": "#%%\n"
    }
   }
  },
  {
   "cell_type": "code",
   "execution_count": null,
   "outputs": [],
   "source": [
    "#提取模型特征参数\n",
    "coef = pipe_ridge.named_steps['ridge_regr'].coef_\n",
    "#提取对应的特征名称\n",
    "features = x_train.columns.tolist()\n",
    "\n",
    "#构建参数df\n",
    "coef_table = pd.DataFrame({'feature':features,'coefficient':coef})\n",
    "print(coef_table)\n"
   ],
   "metadata": {
    "collapsed": false,
    "pycharm": {
     "name": "#%%\n"
    }
   }
  },
  {
   "cell_type": "code",
   "execution_count": null,
   "outputs": [],
   "source": [
    "#绘制参数特征值柱状图\n",
    "coef_table.set_index(['feature']).plot.barh()\n",
    "\n",
    "#设置x等于0的参考线\n",
    "plt.axvline(0, color = 'k')\n",
    "#显示图表\n",
    "plt.show()\n",
    "\n"
   ],
   "metadata": {
    "collapsed": false,
    "pycharm": {
     "name": "#%%\n"
    }
   }
  },
  {
   "cell_type": "code",
   "execution_count": null,
   "outputs": [],
   "source": [
    "\n",
    "#加载logist回归模型\n",
    "from sklearn.linear_model import LogisticRegression\n",
    "#构建线性回归模型  #alpha 控制L1正则系数的影响力  solver 模型求解器   lsqr最小二乘法\n",
    "#penalty='l1',  penalty  l1正则系数  liblinear坐标下降\n",
    "pipe_logistic = Pipeline([\n",
    "            ('logistic_clf',LogisticRegression(penalty='l1',fit_intercept=True,solver = 'liblinear'))\n",
    "            ])\n",
    "#训练线性回归模型\n",
    "pipe_logistic.fit(x_train,y_label)\n",
    "#使用线性回归模型进行预测\n",
    "y_train_predict = pipe_logistic.predict(x_train)"
   ],
   "metadata": {
    "collapsed": false,
    "pycharm": {
     "name": "#%%\n"
    }
   }
  },
  {
   "cell_type": "markdown",
   "source": [
    "逻辑回归模型参数解释   penalty （默认使用L2正则系数）\n",
    "    -- 'l1' :l1正则系数\n",
    "    -- 'l2' : l2正则系数\n",
    "    -- 'none' : 无正则系数\n",
    "    slover（默认是'liblinear'坐标下降法）\n",
    "    -- 'liblinear' : 坐标下降法,可以处理l1和l2正则系数，适用于小数据量（一般指十万个样本以下）\n",
    "    -- 'sag': sag是随机平均梯度下降法，只能处理L2正则系数，适用于大数据量\n",
    "    -- 'saga' : saga是sag的变体，可以处理l1和l2正则系数，适用于大数据量\n",
    "\n"
   ],
   "metadata": {
    "collapsed": false,
    "pycharm": {
     "name": "#%% md\n"
    }
   }
  },
  {
   "cell_type": "code",
   "execution_count": null,
   "outputs": [],
   "source": [
    "#查看线性回归模型特征参数\n",
    "print(pipe_logistic.named_steps['logistic_clf'].coef_)\n",
    "\n",
    "#查看线性回归模型截距值\n",
    "print(pipe_logistic.named_steps['logistic_clf'].intercept_)\n",
    " #L2 约束特征值变得很小，防止过拟合"
   ],
   "metadata": {
    "collapsed": false,
    "pycharm": {
     "name": "#%%\n"
    }
   }
  },
  {
   "cell_type": "code",
   "execution_count": null,
   "outputs": [],
   "source": [
    "#提取模型特征参数\n",
    "coef = pipe_logistic.named_steps['logistic_clf'].coef_\n",
    "#提取对应的特征名称\n",
    "features = x_train.columns.tolist()\n",
    "\n",
    "#构建参数df\n",
    "coef_table = pd.DataFrame({'feature':features,'coefficient':coef})\n",
    "print(coef_table)\n"
   ],
   "metadata": {
    "collapsed": false,
    "pycharm": {
     "name": "#%%\n"
    }
   }
  },
  {
   "cell_type": "code",
   "execution_count": null,
   "outputs": [],
   "source": [
    "#绘制参数特征值柱状图\n",
    "coef_table.set_index(['feature']).plot.barh()\n",
    "\n",
    "#设置x等于0的参考线\n",
    "plt.axvline(0, color = 'k')\n",
    "#显示图表\n",
    "plt.show()\n"
   ],
   "metadata": {
    "collapsed": false,
    "pycharm": {
     "name": "#%%\n"
    }
   }
  },
  {
   "cell_type": "code",
   "execution_count": null,
   "outputs": [],
   "source": [
    "\n",
    "\n",
    "\n",
    "\n",
    "\n",
    "\n",
    "\n",
    "\n"
   ],
   "metadata": {
    "collapsed": false,
    "pycharm": {
     "name": "#%%\n"
    }
   }
  },
  {
   "cell_type": "code",
   "execution_count": null,
   "outputs": [],
   "source": [
    "\n",
    "\n",
    "\n"
   ],
   "metadata": {
    "collapsed": false,
    "pycharm": {
     "name": "#%%\n"
    }
   }
  }
 ],
 "metadata": {
  "kernelspec": {
   "display_name": "Python 3",
   "language": "python",
   "name": "python3"
  },
  "language_info": {
   "codemirror_mode": {
    "name": "ipython",
    "version": 2
   },
   "file_extension": ".py",
   "mimetype": "text/x-python",
   "name": "python",
   "nbconvert_exporter": "python",
   "pygments_lexer": "ipython2",
   "version": "2.7.6"
  }
 },
 "nbformat": 4,
 "nbformat_minor": 0
}