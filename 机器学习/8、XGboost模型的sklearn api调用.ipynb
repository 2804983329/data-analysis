{
 "cells": [
  {
   "cell_type": "code",
   "execution_count": null,
   "metadata": {
    "collapsed": true
   },
   "outputs": [],
   "source": []
  },
  {
   "cell_type": "code",
   "execution_count": null,
   "outputs": [],
   "source": [
    "#数据读取以及xy提取\n",
    "import pandas as pd\n",
    "import matplotlib as plt\n",
    "#样例数据读取\n",
    "df = pd.read_excel('')\n",
    "#根据共线性矩阵,保留与房价相关性最高的日间人口,将夜间人口和夜间20-29岁人口进行比例处理\n",
    "def age_percent(row):\n",
    "    if row['夜间人口'] == 0:\n",
    "        return 0\n",
    "    else:\n",
    "        return row['夜间20-29岁人口']/row['夜间人口']\n",
    "df['per_a20-29'] = df.apply(age_percent,axis=1)\n",
    "df = df.drop(columns=['夜间人口','夜间20-29岁人口'])\n",
    "#制作标签变量\n",
    "price_median = df['房价']median()\n",
    "df['is_high'] = df['房价'].map(lambda x: True if x >= price_median else False)\n",
    "print(df['is_high'].value_counts())\n",
    "#数据集基本情况查看\n",
    "print(df.shape)\n",
    "print(df.dtypes)\n",
    "#划分数据集\n",
    "x = df[['日间人口','夜间人口','夜间20-29岁人口','','','']]\n",
    "print(x.shape)\n",
    "y = df[['is_high']]\n",
    "print(y.shape)\n",
    "print(df.isnull().sum())"
   ],
   "metadata": {
    "collapsed": false,
    "pycharm": {
     "name": "#%%\n"
    }
   }
  },
  {
   "cell_type": "code",
   "execution_count": null,
   "outputs": [],
   "source": [],
   "metadata": {
    "collapsed": false,
    "pycharm": {
     "name": "#%%\n"
    }
   }
  }
 ],
 "metadata": {
  "kernelspec": {
   "display_name": "Python 3",
   "language": "python",
   "name": "python3"
  },
  "language_info": {
   "codemirror_mode": {
    "name": "ipython",
    "version": 2
   },
   "file_extension": ".py",
   "mimetype": "text/x-python",
   "name": "python",
   "nbconvert_exporter": "python",
   "pygments_lexer": "ipython2",
   "version": "2.7.6"
  }
 },
 "nbformat": 4,
 "nbformat_minor": 0
}