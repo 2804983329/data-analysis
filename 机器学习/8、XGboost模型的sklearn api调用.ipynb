{
 "cells": [
  {
   "cell_type": "code",
   "execution_count": null,
   "metadata": {
    "collapsed": true
   },
   "outputs": [],
   "source": []
  },
  {
   "cell_type": "code",
   "execution_count": null,
   "outputs": [],
   "source": [
    "#数据读取以及xy提取\n",
    "import pandas as pd\n",
    "import matplotlib as plt\n",
    "#样例数据读取\n",
    "df = pd.read_excel('')\n",
    "#根据共线性矩阵,保留与房价相关性最高的日间人口,将夜间人口和夜间20-29岁人口进行比例处理\n",
    "def age_percent(row):\n",
    "    if row['夜间人口'] == 0:\n",
    "        return 0\n",
    "    else:\n",
    "        return row['夜间20-29岁人口']/row['夜间人口']\n",
    "df['per_a20-29'] = df.apply(age_percent,axis=1)\n",
    "df = df.drop(columns=['夜间人口','夜间20-29岁人口'])\n",
    "#制作标签变量\n",
    "price_median = df['房价']median()\n",
    "df['is_high'] = df['房价'].map(lambda x: True if x >= price_median else False)\n",
    "print(df['is_high'].value_counts())\n",
    "#数据集基本情况查看\n",
    "print(df.shape)\n",
    "print(df.dtypes)\n",
    "#划分数据集\n",
    "x = df[['日间人口','夜间人口','夜间20-29岁人口','','','']]\n",
    "print(x.shape)\n",
    "y = df[['is_high']]\n",
    "print(y.shape)\n",
    "print(df.isnull().sum())"
   ],
   "metadata": {
    "collapsed": false,
    "pycharm": {
     "name": "#%%\n"
    }
   }
  },
  {
   "cell_type": "code",
   "execution_count": null,
   "outputs": [],
   "source": [
    "#构建分类模型的交叉验证策略\n",
    "from sklearn.model_selection import StratifiedKFold\n",
    "k = 5\n",
    "kf = StratifiedKFold(n_splits=k,shuffle=True)\n",
    "kf.get_n_splits(x, y)\n",
    "print(kf)\n"
   ],
   "metadata": {
    "collapsed": false,
    "pycharm": {
     "name": "#%%\n"
    }
   }
  },
  {
   "cell_type": "code",
   "execution_count": null,
   "outputs": [],
   "source": [
    "from sklearn.preprocessing import PowerTransformer, StandardScaler,PolynomialFeatures\n",
    "from sklearn.pipeline import Pipeline\n",
    "#pip install xgboost\n",
    "\n",
    "xgb_model = xgb_XGBClassifier(objective='binary:hinge',\n",
    "                              nthread=16,\n",
    "                              booster = 'gbtree',\n",
    "                              n_estimators=500,\n",
    "                              learning_rate=0.05,\n",
    "                              max_depth =9,\n",
    "                              subsample=0.8,\n",
    "                              colsample_byutree=0.8)\n",
    "\n",
    "pipe_clf = Pipeline([\n",
    "    ('sc',StandardScaler()),\n",
    "    ('power_trans',PowerTransformer()),\n",
    "    ('xgb_clf',xgb_model)\n",
    "    ])\n",
    "print(pipe_clf)\n"
   ],
   "metadata": {
    "collapsed": false,
    "pycharm": {
     "name": "#%%\n"
    }
   }
  },
  {
   "cell_type": "markdown",
   "source": [
    "xgboost模型参数讲解\n",
    "通用参数：\n",
    "booster：默认gbtree\n",
    "    - gbtree:基于树的模型\n",
    "    - gbliner：线性模型\n",
    "nthread：最大线程数\n",
    "\n",
    "objective：任务类型\n",
    "    - 回归任务：reg：squarederror\n",
    "    - 二元分类任务：\n",
    "        - binary：logistic（输出概率）\n",
    "        - binary：hinge（输出分类结果）\n",
    "    - 其他任务类型详解：https://xgboost.readthedocs.io/en/latest/parameter.html#learning-task-parameters\n",
    "\n",
    "    训练参数 以tree booster为例子：\n",
    "    n_estimators：自学习器数量\n",
    "    learning rate“训练步长\n",
    "    max_depth:树最大深度\n",
    "    max_leaf_nodes:树最大节点或叶子数量\n",
    "    subsample:控制每棵树的训练样本比例\n",
    "    solsumple_bytree：控制每棵树，训练特征比例\n",
    "    lambda:L2正则系数\n",
    "    alpha：L1正则系数\n",
    "    其他参数详解：https://xgboost.readthedocs.io/en/latest/python/python_api.html#model_xgboost.sklearn\n"
   ],
   "metadata": {
    "collapsed": false,
    "pycharm": {
     "name": "#%% md\n"
    }
   }
  },
  {
   "cell_type": "code",
   "execution_count": null,
   "outputs": [],
   "source": [
    "import warnings\n",
    "from sklearn.metrics import accuracy_score,precision_score,recall_score,roc_auc_score\n",
    "warnings.filterwarnings('ignore')\n",
    "acc = []\n",
    "precision = []\n",
    "recall = []\n",
    "auc = []\n",
    "for train_index, test_index in kf.split(x,y):\n",
    "    x_traincv, x_testcv = x.loc[train_index],x.loc[test_index]\n",
    "    y_traincv, y_testcv = y.loc[train_index], y.loc[test_index]\n",
    "    pipe_clf.fit(x_traincv, y_traincv)  #训练\n",
    "    y_predictcv = pipe_clf.predict(x_testcv) #预测\n",
    "    k_acc = accuracy_score(y_testcv,y_predictcv)\n",
    "    print(f'accuracy score is: {k_acc}')\n",
    "    acc.append(k_acc)\n",
    "    k_precision = precision_score(y_testcv,y_predictcv)\n",
    "    print(f'precision score is: {k_precision}')\n",
    "    precision.append(k_precision)\n",
    "    k_recall = recall_score(y_testcv,y_predictcv)\n",
    "    print(f'recall score is: {k_recall}')\n",
    "    recall.append(k_recall)\n",
    "    k_auc = roc_auc_score(y_testcv,y_predictcv)\n",
    "    print(f'auc: {k_auc}')\n",
    "    auc.append(k_auc)\n",
    "import numpy as np\n",
    "print(f'---------------------------------')\n",
    "print(f'average accuracy score is :{np.array(acc).mean()}')\n",
    "print(f'average precison  is :{np.array(precison).mean()}')\n",
    "print(f'average recall score is :{np.array(recall).mean()}')\n",
    "print(f'average auc is :{np.array(auc).mean()}')"
   ],
   "metadata": {
    "collapsed": false,
    "pycharm": {
     "name": "#%%\n"
    }
   }
  }
 ],
 "metadata": {
  "kernelspec": {
   "display_name": "Python 3",
   "language": "python",
   "name": "python3"
  },
  "language_info": {
   "codemirror_mode": {
    "name": "ipython",
    "version": 2
   },
   "file_extension": ".py",
   "mimetype": "text/x-python",
   "name": "python",
   "nbconvert_exporter": "python",
   "pygments_lexer": "ipython2",
   "version": "2.7.6"
  }
 },
 "nbformat": 4,
 "nbformat_minor": 0
}