{
 "cells": [
  {
   "cell_type": "markdown",
   "metadata": {
    "collapsed": true,
    "pycharm": {
     "name": "#%% md\n"
    }
   },
   "source": [
    "#### 随机森林模型的sklearn实现"
   ]
  },
  {
   "cell_type": "code",
   "execution_count": null,
   "outputs": [],
   "source": [],
   "metadata": {
    "collapsed": false,
    "pycharm": {
     "name": "#%%\n"
    }
   }
  },
  {
   "cell_type": "code",
   "execution_count": null,
   "outputs": [],
   "source": [
    "#数据读取以及xy提取\n",
    "import pandas as pd\n",
    "import matplotlib as plt\n",
    "#样例数据读取\n",
    "df = pd.read_excel('')\n",
    "#根据共线性矩阵,保留与房价相关性最高的日间人口,将夜间人口和夜间20-29岁人口进行比例处理\n",
    "def age_percent(row):\n",
    "    if row['夜间人口'] == 0:\n",
    "        return 0\n",
    "    else:\n",
    "        return row['夜间20-29岁人口']/row['夜间人口']\n",
    "df['per_a20-29'] = df.apply(age_percent,axis=1)\n",
    "df = df.drop(columns=['夜间人口','夜间20-29岁人口'])\n",
    "#制作标签变量\n",
    "price_median = df['房价']median()\n",
    "df['is_high'] = df['房价'].map(lambda x: True if x >= price_median else False)\n",
    "print(df['is_high'].value_counts())\n",
    "#数据集基本情况查看\n",
    "print(df.shape)\n",
    "print(df.dtypes)\n",
    "#划分数据集\n",
    "x = df[['日间人口','夜间人口','夜间20-29岁人口','','','']]\n",
    "print(x.shape)\n",
    "y = df[['is_high']]\n",
    "print(y.shape)\n",
    "print(df.isnull().sum())"
   ],
   "metadata": {
    "collapsed": false,
    "pycharm": {
     "name": "#%%\n"
    }
   }
  },
  {
   "cell_type": "code",
   "execution_count": null,
   "outputs": [],
   "source": [
    "#留出法进行数据集划分\n",
    "#载入sklearn中数据集划分的方法\n",
    "from sklearn.model_selection import train_test_split\n",
    "#将数据集划分成训练集和验证集：划分比例为0.75：0.25\n",
    "training, testing = train_test_split(df,test_size=0.25,random_state=1)\n",
    "#提取训练集中的x和y\n",
    "x_train = training.copy()[['日间人口','夜间人口','夜间20-29岁人口','','','']]\n",
    "y_train = training.copy()['is_high']\n",
    "\n",
    "#提取验证集中的x和y\n",
    "x_test = testing.copy()[['日间人口','夜间人口','夜间20-29岁人口','','','']]\n",
    "y_test = testing.copy()['is_high']\n",
    "print(f'the shape of training set is : {training.shape}')\n",
    "print(f'the shape of testing set is : {testing.shape}')"
   ],
   "metadata": {
    "collapsed": false,
    "pycharm": {
     "name": "#%%\n"
    }
   }
  },
  {
   "cell_type": "code",
   "execution_count": null,
   "outputs": [],
   "source": [
    "from sklearn.preprocessing import PowerTransformer, StandardScaler, PolynomialFeatures\n",
    "from sklearn.pipeline import Pipeline\n",
    "from sklearn.ensemble import RandomForestClassifier\n",
    "rf_model = RandomForestClassifier(criterion='gini',\n",
    "                                  n_jobs=16,\n",
    "                                  max_features='auto',\n",
    "                                  n_estimators=100,\n",
    "                                  max_depth=None,\n",
    "                                  random_state=133)\n",
    "pipe_clf = Pipeline([\n",
    "        ('sc',StandardScaler()),\n",
    "        ('power_trans',PowerTransformer()),\n",
    "        ('polynom_trans',PolynomialFeatures(degree=2)),\n",
    "        ('rf_clf', rf_model)\n",
    "        ])\n",
    "print(pipe_clf)"
   ],
   "metadata": {
    "collapsed": false,
    "pycharm": {
     "name": "#%%\n"
    }
   }
  },
  {
   "cell_type": "markdown",
   "source": [
    "##### 随机森林模型参数讲解\n",
    "特有参数：\n",
    "n_estimators:也就是自学习器的个数\n",
    "max_features:每棵树选择的特征的最大数量，默认是\"auto\"\n",
    "bootstrap:默认True，构建决策树的时候是否使用有放回的抽样方式构建训练数据\n",
    "\n",
    "决策树模型参数：\n",
    "criterio:做划分时对特征的评价标准默认是基尼系数gini，另一个可选择的标准是信息增益。回归树默认是均方差mse，另一个是绝对值差mae。\n",
    "max_depth:每棵树的最大深度，默认None\n",
    "min_sample_spilit:内部节点在划分所需最小样本数\n",
    "min_sample_leaf:叶子节点最少样本数\n",
    "max_leaf_nodes:最大叶子节点数"
   ],
   "metadata": {
    "collapsed": false,
    "pycharm": {
     "name": "#%% md\n"
    }
   }
  },
  {
   "cell_type": "code",
   "execution_count": null,
   "outputs": [],
   "source": [
    "#查看留出法验证集上模型的表现\n",
    "import  warnings\n",
    "from    sklearn.metrics import accuracy_score,precision_score,recall_score,roc_auc_score\n",
    "warnings.filterwarnings('ignore')\n",
    "pipe_clf.fit(x_train,y_train)\n",
    "y_predict = pipe_clf.predict(x_test)\n",
    "print(f'accuracy score is : {accuracy_score(y_test,y_predict)}')\n",
    "print(f'precision score is : {precision_score(y_test,y_predict)}')\n",
    "print(f'recall score is : {recall_score(y_test,y_predict)}')\n",
    "print(f'auc  : {roc_auc_score(y_test,y_predict)}')"
   ],
   "metadata": {
    "collapsed": false,
    "pycharm": {
     "name": "#%%\n"
    }
   }
  }
 ],
 "metadata": {
  "kernelspec": {
   "display_name": "Python 3",
   "language": "python",
   "name": "python3"
  },
  "language_info": {
   "codemirror_mode": {
    "name": "ipython",
    "version": 2
   },
   "file_extension": ".py",
   "mimetype": "text/x-python",
   "name": "python",
   "nbconvert_exporter": "python",
   "pygments_lexer": "ipython2",
   "version": "2.7.6"
  }
 },
 "nbformat": 4,
 "nbformat_minor": 0
}