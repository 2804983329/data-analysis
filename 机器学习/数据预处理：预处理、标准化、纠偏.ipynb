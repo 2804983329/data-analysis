{
 "cells": [
  {
   "cell_type": "code",
   "execution_count": null,
   "metadata": {
    "collapsed": true
   },
   "outputs": [],
   "source": []
  },
  {
   "cell_type": "markdown",
   "source": [
    "### 数据预处理：预处理、标准化、纠偏\n",
    "#### 1、预处理\n",
    "##### 缺失值：样本的部分特征信息缺失\n",
    "处理方式：\n",
    "    - 删除：缺失样本量非常大，删除整个变量，如果缺失量较少，且难以填充则删除缺失样本\n",
    "    - 填充：缺失量小于10%，根据缺失变量的数据分布采取均值或中位数进行填充\n",
    "    - 预测缺失样：使用与缺失相比相关性非常高的特征，简历模型，预测缺失值"
   ],
   "metadata": {
    "collapsed": false,
    "pycharm": {
     "name": "#%% md\n"
    }
   }
  },
  {
   "cell_type": "code",
   "execution_count": null,
   "outputs": [],
   "source": [
    "#数据预处理演示\n",
    "import pandas as pd\n",
    "import matplotlib.pyplot as plt\n",
    "df = pd.read_csv('')\n",
    "df.columns\n",
    "print(df.shape)\n",
    "print(df.dtype)\n",
    "print(df.head())\n"
   ],
   "metadata": {
    "collapsed": false,
    "pycharm": {
     "name": "#%%\n"
    }
   }
  },
  {
   "cell_type": "code",
   "execution_count": null,
   "outputs": [],
   "source": [
    "#缺失值处理\n",
    "#查看数据样本中的缺失情况\n",
    "print(df.isnull().sum())"
   ],
   "metadata": {
    "collapsed": false,
    "pycharm": {
     "name": "#%%\n"
    }
   }
  },
  {
   "cell_type": "code",
   "execution_count": null,
   "outputs": [],
   "source": [
    "#逐一查看特征，进行缺失值填充\n",
    "#查看房价\n",
    "df['房价'].hist()\n",
    "plt.show()"
   ],
   "metadata": {
    "collapsed": false,
    "pycharm": {
     "name": "#%%\n"
    }
   }
  },
  {
   "cell_type": "code",
   "execution_count": null,
   "outputs": [],
   "source": [
    "#选择均值填充\n",
    "price_mean = df['房价'].mean()\n",
    "print(price_mean)\n",
    "#使用均值进行缺失值填充\n",
    "df.loc[df['房价'].isna(),'房价'] =price_mean\n",
    "print(df.isnull().sum())"
   ],
   "metadata": {
    "collapsed": false,
    "pycharm": {
     "name": "#%%\n"
    }
   }
  },
  {
   "cell_type": "code",
   "execution_count": null,
   "outputs": [],
   "source": [
    "#选择均值填充\n",
    "area_median = df['area'].median()\n",
    "print(area_median)\n",
    "#使用均值进行缺失值填充\n",
    "df.loc[df['area'].isna(),'area'] =area_median\n",
    "print(df.isnull().sum())"
   ],
   "metadata": {
    "collapsed": false,
    "pycharm": {
     "name": "#%%\n"
    }
   }
  },
  {
   "cell_type": "code",
   "execution_count": null,
   "outputs": [],
   "source": [
    "#查看相关性系数\n",
    "print(df[['日间人口','夜间人口','字段3']].corr())"
   ],
   "metadata": {
    "collapsed": false,
    "pycharm": {
     "name": "#%%\n"
    }
   }
  },
  {
   "cell_type": "code",
   "execution_count": null,
   "outputs": [],
   "source": [
    "#训练线性回归模型对夜间认可进行填补\n",
    "from sklearn.linear_model import LinearRegression\n",
    "from sklearn.metrics import r2_score  #评价指标r2_score\n",
    "train = df.copy().loc[df['夜间人口'].isna(),['日间人口','夜间人口']].reset_index(drop=True)\n",
    "x = train(['日间人口'])\n",
    "y = train(['夜间人口'])\n",
    "model =LinearRegression()\n",
    "model.fit(x,y)\n",
    "print(f'R squared is: {r2_score(y,x)}')"
   ],
   "metadata": {
    "collapsed": false,
    "pycharm": {
     "name": "#%%\n"
    }
   }
  },
  {
   "cell_type": "code",
   "execution_count": null,
   "outputs": [],
   "source": [
    "#对缺失值进行填充\n",
    "df.loc[df['夜间人口'].isna(),['夜间人口']] =model.predict(df.loc[df['日间人口'].isna(),['日间人口']])"
   ],
   "metadata": {
    "collapsed": false,
    "pycharm": {
     "name": "#%%\n"
    }
   }
  },
  {
   "cell_type": "code",
   "execution_count": null,
   "outputs": [],
   "source": [
    "#特殊类型的缺失值\n",
    "print(df.complete_year.value_counts())"
   ],
   "metadata": {
    "collapsed": false,
    "pycharm": {
     "name": "#%%\n"
    }
   }
  },
  {
   "cell_type": "code",
   "execution_count": null,
   "outputs": [],
   "source": [
    "#做切片删除缺失房龄的样本\n",
    "df = df[df.complete_year != '未知'].reset_index(drop=True)\n"
   ],
   "metadata": {
    "collapsed": false,
    "pycharm": {
     "name": "#%%\n"
    }
   }
  },
  {
   "cell_type": "markdown",
   "source": [
    "### 离群值：远离数据主要部分的样本（极大值或极小值）\n",
    "处理方式：\n",
    "    - 删除：直接删除离群样本\n",
    "    - 填充样本：使用box-plot定义变量的数值上下界，以上界填充极大值，下界填充最小值"
   ],
   "metadata": {
    "collapsed": false,
    "pycharm": {
     "name": "#%% md\n"
    }
   }
  },
  {
   "cell_type": "code",
   "execution_count": null,
   "outputs": [],
   "source": [
    "#查看房价的离群情况\n",
    "df['房价'].hist()\n",
    "plt.show()\n",
    "df['房价'].boxplot()\n",
    "plt.show()"
   ],
   "metadata": {
    "collapsed": false,
    "pycharm": {
     "name": "#%%\n"
    }
   }
  },
  {
   "cell_type": "code",
   "execution_count": null,
   "outputs": [],
   "source": [
    "#根据箱线图的上下限进行异常值的填充\n",
    "def boxplot_fill(col):\n",
    "    #计算iqr：数据四分之三分位值和四分之一分位值得差\n",
    "    iqr = col.quantile(0.75) - col.quantile(0.25)\n",
    "    #根据iqr计算异常值判断阈值\n",
    "    u_th = col.quantile(0.75) + 1.5*iqr #上界\n",
    "    l_th = col.quantile(0.25) - 1.5*iqr #下界\n",
    "    #定义转换函数：如果数字大于上界则用上界值填充，小于下界则用下界值填充\n",
    "    def box_trans(x):\n",
    "        if x > u_th:\n",
    "            return u_th\n",
    "        elif x <l_th:\n",
    "            return l_th\n",
    "        else:\n",
    "            return x\n",
    "    return col.map(box_trans)\n",
    "#填充效果查看\n",
    "boxplot_fill(df['房价']).hist()\n",
    "#进行赋值\n",
    "df['房价'] = boxplot_fill(df['房价'])\n",
    "plt.show()"
   ],
   "metadata": {
    "collapsed": false,
    "pycharm": {
     "name": "#%%\n"
    }
   }
  },
  {
   "cell_type": "code",
   "execution_count": null,
   "outputs": [],
   "source": [
    "df.to_excel('名称.xlsx',index=False)\n"
   ],
   "metadata": {
    "collapsed": false,
    "pycharm": {
     "name": "#%%\n"
    }
   }
  },
  {
   "cell_type": "markdown",
   "source": [
    "### 2、标准化\n",
    "#### 标准化目的：\n",
    "    - 去除数据量纲的影响\n",
    "    - 提高模型的解释性\n",
    "    - 加快模型收敛速度\n",
    "#### 标准化的方法\n",
    "    - 中心化：减去均值再除以标准差\n",
    "    - 01标准化：减去最小值再除以最大值与最小值得差\n"
   ],
   "metadata": {
    "collapsed": false,
    "pycharm": {
     "name": "#%% md\n"
    }
   }
  },
  {
   "cell_type": "code",
   "execution_count": null,
   "outputs": [],
   "source": [
    "#sklearn 中标准化的方法\n",
    "from sklearn.preprocessing import StandardScaler\n",
    "from sklearn.preprocessing import MinMaxScaler\n",
    "#以中心化为例子讲解sklearn中标准化的使用方法\n",
    "scaler = StandardScaler()\n",
    "df['日间人口'].hist()\n",
    "plt.show()\n",
    "trans_data = df.copy()[['日间人口']]\n",
    "scaler.fit(trans_data)\n",
    "trans_data['日间人口'] = scaler.transform(trans_data)\n",
    "trans_data['日间人口'].hist()\n",
    "plt.show()\n"
   ],
   "metadata": {
    "collapsed": false,
    "pycharm": {
     "name": "#%%\n"
    }
   }
  },
  {
   "cell_type": "code",
   "execution_count": null,
   "outputs": [],
   "source": [
    "#使用pipeline整合数据标准化与模型\n",
    "from sklearn.linear_model import LinearRegression\n",
    "from sklearn.preprocessing import StandardScaler\n",
    "from sklearn.pipeline import Pipeline\n",
    "#构建模型工作流\n",
    "pipe_lm = Pipeline([\n",
    "        ('sc',StandardScaler()),\n",
    "        ('lm_regr',LinearRegression())\n",
    "        ])\n",
    "print(pipe_lm)\n"
   ],
   "metadata": {
    "collapsed": false,
    "pycharm": {
     "name": "#%%\n"
    }
   }
  },
  {
   "cell_type": "markdown",
   "source": [
    "#### 3、纠偏\n",
    "    - 正态分布：数据呈现对称的钟型分布\n",
    "    - 右偏态 ：样本大量集中在均值左边（均值偏到了右边）\n",
    "    - 左偏态 ：样本大量集中在均值右边（均值偏到了左边）\n",
    "\n",
    "\n",
    "\n",
    "\n",
    "\n",
    "\n",
    "\n",
    "\n",
    "\n",
    "\n"
   ],
   "metadata": {
    "collapsed": false,
    "pycharm": {
     "name": "#%% md\n"
    }
   }
  }
 ],
 "metadata": {
  "kernelspec": {
   "display_name": "Python 3",
   "language": "python",
   "name": "python3"
  },
  "language_info": {
   "codemirror_mode": {
    "name": "ipython",
    "version": 2
   },
   "file_extension": ".py",
   "mimetype": "text/x-python",
   "name": "python",
   "nbconvert_exporter": "python",
   "pygments_lexer": "ipython2",
   "version": "2.7.6"
  }
 },
 "nbformat": 4,
 "nbformat_minor": 0
}