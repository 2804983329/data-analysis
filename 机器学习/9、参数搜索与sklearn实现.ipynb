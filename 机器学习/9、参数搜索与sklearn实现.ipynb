{
 "cells": [
  {
   "cell_type": "markdown",
   "metadata": {
    "collapsed": true,
    "pycharm": {
     "name": "#%% md\n"
    }
   },
   "source": [
    "#### 参数搜索与sklearn实现\n",
    "##### 参数类型\n",
    "    - 一般参数：模型通过最小化损失函数自动求解的参数\n",
    "    - 超参数：不能通过模型对数据进行学习而求解的参数，比如神经网络的层数、正则系数的alpha值等\n",
    "\n",
    "##### 参数搜索\n",
    "    -超参数的搜索：提前设置好参数可以选择的候选值，然后根据不同参数组合对于模型泛化能力的贡献，选取最佳的超参数组合\n",
    "\n",
    "##### 参数搜索的方法：\n",
    "GridSearchCV，基于交叉验证的网格搜索法：将要搜索的参数候选值输入搜索器内，搜索器遍历每一种参数组合，使用交叉验证法对比每种参数组合下模型的表现，返回表现最好模型的参数值\n",
    "    - 优点：自动调参，参数准确性高\n",
    "    - 缺点：需要耗费巨大的算例和计算时间（比如：搜索100棵树的随机森林模型的两种参数各三个候选值，选择k等于10的交叉验证，则需要训练验证9000棵决策树才能返回最佳参数）\n",
    "\n",
    "RandomizedSearchCV,基于交叉验证的随机搜索法，基本原理与GridSearchCV一致，但为了提高搜索效率，搜索器会从参数组合中随机搜索一些参数进行训练和验证，返回其中表现最好的参数值\n",
    "    - 优点：运行效率高，适合大数据样本\n",
    "    - 缺点：参数的准确性有所牺牲\n",
    "\n",
    "\n"
   ]
  },
  {
   "cell_type": "code",
   "execution_count": null,
   "outputs": [],
   "source": [
    "\n",
    "#数据读取以及xy提取\n",
    "import pandas as pd\n",
    "import matplotlib as plt\n",
    "#样例数据读取\n",
    "df = pd.read_excel('')\n",
    "#根据共线性矩阵,保留与房价相关性最高的日间人口,将夜间人口和夜间20-29岁人口进行比例处理\n",
    "def age_percent(row):\n",
    "    if row['夜间人口'] == 0:\n",
    "        return 0\n",
    "    else:\n",
    "        return row['夜间20-29岁人口']/row['夜间人口']\n",
    "df['per_a20-29'] = df.apply(age_percent,axis=1)\n",
    "df = df.drop(columns=['夜间人口','夜间20-29岁人口'])\n",
    "#制作标签变量\n",
    "price_median = df['房价']median()\n",
    "df['is_high'] = df['房价'].map(lambda x: True if x >= price_median else False)\n",
    "print(df['is_high'].value_counts())\n",
    "#数据集基本情况查看\n",
    "print(df.shape)\n",
    "print(df.dtypes)\n",
    "#划分数据集\n",
    "x = df[['日间人口','夜间人口','夜间20-29岁人口','','','']]\n",
    "print(x.shape)\n",
    "y = df[['is_high']]\n",
    "print(y.shape)\n",
    "print(df.isnull().sum())"
   ],
   "metadata": {
    "collapsed": false,
    "pycharm": {
     "name": "#%%\n"
    }
   }
  },
  {
   "cell_type": "code",
   "execution_count": null,
   "outputs": [],
   "source": [
    "#留出法进行数据集划分\n",
    "#载入sklearn中数据集划分的方法\n",
    "from sklearn.model_selection import train_test_split\n",
    "#将数据集划分成训练集和验证集：划分比例为0.75：0.25\n",
    "training, testing = train_test_split(df,test_size=0.25,random_state=1)\n",
    "#提取训练集中的x和y\n",
    "x_train = training.copy()[['日间人口','夜间人口','夜间20-29岁人口','','','']]\n",
    "y_train = training.copy()['is_high']\n",
    "\n",
    "#提取验证集中的x和y\n",
    "x_test = testing.copy()[['日间人口','夜间人口','夜间20-29岁人口','','','']]\n",
    "y_test = testing.copy()['is_high']\n",
    "print(f'the shape of training set is : {training.shape}')\n",
    "print(f'the shape of testing set is : {testing.shape}')\n"
   ],
   "metadata": {
    "collapsed": false,
    "pycharm": {
     "name": "#%%\n"
    }
   }
  },
  {
   "cell_type": "code",
   "execution_count": null,
   "outputs": [],
   "source": [
    "from sklearn.preprocessing import PowerTransformer, StandardScaler,PolynomialFeatures\n",
    "from sklearn.pipeline import Pipeline\n",
    "from sklearn.ensemble import RandomForestClassifier\n",
    "from sklearn.model_selection import StratifiedKFold, GridSearchCV\n",
    "#如何是选择随机网络搜索则：\n",
    "from sklearn.model_selection import RandomizedSearchCV\n",
    "#定义随机森林模型\n",
    "rf_model = RandomForestClassifier(criterion='gini',\n",
    "                                  n_jobs=16,\n",
    "                                  n_estimators=100,\n",
    "                                  max_depth=None,\n",
    "                                  random_state=133)\n",
    "#定义需要搜索的参数矩阵\n",
    "parameters = {'max_features': ['auto',5,0.8,None]\n",
    "              'max_depth':[None,3,9]}\n",
    "#交叉验证机制\n",
    "cv = StratifiedKFold(n_splits=3, shuffle=True)\n",
    "#定义参数搜索器\n",
    "rf_gridsearch = GridSearchCV(rf_model, parameters, n_jobs=16, cv=cv, scoring = 'roc_auc',\n",
    "                             verbose=2,refit=True)\n",
    "#pipeline模型封装\n",
    "pipe_clf = Pipeline([\n",
    "        ('sc',StandardScaler()),\n",
    "        ('power_trans',PowerTransformer()),\n",
    "        ('polynom_trans',PolynomialFeatures(degree=2)),\n",
    "        ('rf_clf', rf_model)\n",
    "        ])\n",
    "print(pipe_clf)"
   ],
   "metadata": {
    "collapsed": false,
    "pycharm": {
     "name": "#%%\n"
    }
   }
  },
  {
   "cell_type": "code",
   "execution_count": null,
   "outputs": [],
   "source": [
    "import warnings\n",
    "from sklearn.metrics import accuracy_score,precision_score,recall_score,roc_auc_score\n",
    "warnings.filterwarnings('ignore')\n",
    "pipe_clf.fit(x_train,y_train)\n",
    "y_predict = pipe_clf.predict(x_test)\n",
    "print(f'accuracy score is : {accuracy_score(y_test,y_predict)}')\n",
    "print(f'precision score is : {precision_score(y_test,y_predict)}')\n",
    "print(f'recall score is : {recall_score(y_test,y_predict)}')\n",
    "print(f'auc  : {roc_auc_score(y_test,y_predict)}')\n"
   ],
   "metadata": {
    "collapsed": false,
    "pycharm": {
     "name": "#%%\n"
    }
   }
  },
  {
   "cell_type": "code",
   "execution_count": null,
   "outputs": [],
   "source": [
    "print(pipe_clf.named_steps['rf_clf'].best_params)"
   ],
   "metadata": {
    "collapsed": false,
    "pycharm": {
     "name": "#%%\n"
    }
   }
  }
 ],
 "metadata": {
  "kernelspec": {
   "display_name": "Python 3",
   "language": "python",
   "name": "python3"
  },
  "language_info": {
   "codemirror_mode": {
    "name": "ipython",
    "version": 2
   },
   "file_extension": ".py",
   "mimetype": "text/x-python",
   "name": "python",
   "nbconvert_exporter": "python",
   "pygments_lexer": "ipython2",
   "version": "2.7.6"
  }
 },
 "nbformat": 4,
 "nbformat_minor": 0
}