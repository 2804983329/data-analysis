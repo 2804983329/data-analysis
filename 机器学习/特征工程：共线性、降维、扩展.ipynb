{
 "cells": [
  {
   "cell_type": "markdown",
   "metadata": {
    "collapsed": true,
    "pycharm": {
     "name": "#%% md\n"
    }
   },
   "source": [
    "### 特征工程：共线性、降维、扩展\n",
    "#### 1、共线性\n",
    "##### 特征间共线性：\n",
    "        - 两个或多个特征包含了相似的信息，相互之间存在强烈的相关关系\n",
    "##### 常用判断标准：\n",
    "        -两个或多个以上的特征间的相关性系数高于0.8\n",
    "##### 共线性的影响：\n",
    "        - 降低运算效率\n",
    "        - 降低一些模型的稳定性\n",
    "        - 弱化一些模型的预测能力\n",
    "##### 处理方式：\n",
    "        - 删除：一组相互共线的特征中只保留与y相关性最高的一个\n",
    "        - 变换：对共线的两列特征进行求比值、求差值等计算"
   ]
  },
  {
   "cell_type": "code",
   "execution_count": null,
   "outputs": [],
   "source": [
    "#特征工程的演示\n",
    "\n",
    "import pandas as pd\n",
    "import matplotlib.pyplot as plt\n",
    "df = pd.read_csv('')\n",
    "df.columns\n",
    "print(df.shape)\n",
    "print(df.dtype)\n",
    "print(df.isnull().sum())\n",
    "print(df.head())"
   ],
   "metadata": {
    "collapsed": false,
    "pycharm": {
     "name": "#%%\n"
    }
   }
  },
  {
   "cell_type": "code",
   "execution_count": null,
   "outputs": [],
   "source": [
    "#变量相关性矩阵\n",
    "correlation_table = df.drop(columns='id').corr()\n",
    "print(correlation_table)"
   ],
   "metadata": {
    "collapsed": false,
    "pycharm": {
     "name": "#%%\n"
    }
   }
  },
  {
   "cell_type": "code",
   "execution_count": null,
   "outputs": [],
   "source": [
    "#对相关性矩阵进行可视化\n",
    "import seaborn as sns\n",
    "#绘制相关性矩阵热力图\n",
    "sns.heatmap(correlation_table)\n",
    "plt.show()"
   ],
   "metadata": {
    "collapsed": false,
    "pycharm": {
     "name": "#%%\n"
    }
   }
  },
  {
   "cell_type": "code",
   "execution_count": null,
   "outputs": [],
   "source": [
    "#查看共线的日间、夜间、夜间20-29岁人口与房价的关系\n",
    "print(df[['房价','日间人口','夜间人口','夜间20-29岁人口']].corr())"
   ],
   "metadata": {
    "collapsed": false,
    "pycharm": {
     "name": "#%%\n"
    }
   }
  },
  {
   "cell_type": "code",
   "execution_count": null,
   "outputs": [],
   "source": [
    "#根据共线性矩阵,保留与房价相关性最高的日间人口,将夜间人口和夜间20-29岁人口进行比例处理\n",
    "\n"
   ],
   "metadata": {
    "collapsed": false,
    "pycharm": {
     "name": "#%%\n"
    }
   }
  }
 ],
 "metadata": {
  "kernelspec": {
   "display_name": "Python 3",
   "language": "python",
   "name": "python3"
  },
  "language_info": {
   "codemirror_mode": {
    "name": "ipython",
    "version": 2
   },
   "file_extension": ".py",
   "mimetype": "text/x-python",
   "name": "python",
   "nbconvert_exporter": "python",
   "pygments_lexer": "ipython2",
   "version": "2.7.6"
  }
 },
 "nbformat": 4,
 "nbformat_minor": 0
}