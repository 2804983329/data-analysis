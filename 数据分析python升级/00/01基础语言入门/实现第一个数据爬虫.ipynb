{
 "cells": [
  {
   "cell_type": "markdown",
   "source": [
    "### 1、快速读懂网页结构\n"
   ],
   "metadata": {
    "collapsed": false,
    "pycharm": {
     "name": "#%% md\n"
    }
   }
  },
  {
   "cell_type": "code",
   "source": [
    "import requests\n",
    "print('导入模块')"
   ],
   "metadata": {
    "collapsed": false,
    "pycharm": {
     "name": "#%%\n"
    }
   },
   "execution_count": 1,
   "outputs": [
    {
     "name": "stdout",
     "output_type": "stream",
     "text": [
      "导入模块\n"
     ]
    }
   ]
  },
  {
   "cell_type": "code",
   "execution_count": 2,
   "outputs": [],
   "source": [
    "# 用get的方式对腾讯新闻网站发出请求http://news.qq.com/\n",
    "\n",
    "r = requests.get(url='http://news.qq.com/')\n",
    "print(r)\n",
    "print(type(r))"
   ],
   "metadata": {
    "collapsed": false,
    "pycharm": {
     "name": "#%%\n"
    }
   }
  },
  {
   "cell_type": "code",
   "execution_count": null,
   "outputs": [],
   "source": [
    "r = requests.get(url='url',params={'wd':''})"
   ],
   "metadata": {
    "collapsed": false,
    "pycharm": {
     "name": "#%%\n"
    }
   }
  },
  {
   "cell_type": "code",
   "execution_count": null,
   "outputs": [],
   "source": [
    "#访问豆瓣网站\n",
    "h1=('cookie':'')\n",
    "r = requests.get(url='url',headers = h1)\n",
    "print(r.encoding,r.status_code)\n",
    "print(r.text)\n"
   ],
   "metadata": {
    "collapsed": false,
    "pycharm": {
     "name": "#%%\n"
    }
   }
  },
  {
   "cell_type": "markdown",
   "source": [
    "### 页面解析"
   ],
   "metadata": {
    "collapsed": false,
    "pycharm": {
     "name": "#%% md\n"
    }
   }
  },
  {
   "cell_type": "code",
   "execution_count": null,
   "outputs": [],
   "source": [
    "from bs4 import BeautifulSoup\n",
    "\n",
    "print(r.text)\n",
    "\n",
    "soup = BeautifulSoup(r.text,'lxml')\n",
    "type(soup)"
   ],
   "metadata": {
    "collapsed": false,
    "pycharm": {
     "name": "#%%\n"
    }
   }
  },
  {
   "cell_type": "code",
   "execution_count": null,
   "outputs": [],
   "source": [
    "print(soup.h1)  #快速定位采集内容\n",
    "print(soup.title)\n",
    "print(soup.a)"
   ],
   "metadata": {
    "collapsed": false,
    "pycharm": {
     "name": "#%%\n"
    }
   }
  },
  {
   "cell_type": "code",
   "execution_count": null,
   "outputs": [],
   "source": [
    "print(soup.a.name,type(soup.a.name))\n",
    "print(soup.a.attrs,type(soup.a.attrs)) #识别标签\n",
    "print(soup.a.text) #识别元素\n",
    "\n",
    "soup.a.attrs['href']"
   ],
   "metadata": {
    "collapsed": false,
    "pycharm": {
     "name": "#%%\n"
    }
   }
  },
  {
   "cell_type": "code",
   "execution_count": null,
   "outputs": [],
   "source": [
    "test = soup.find('ul',class='cover...').find_all('a').attrs['href']\n",
    "print(text)\n",
    "print(test.attrs['href'])"
   ],
   "metadata": {
    "collapsed": false,
    "pycharm": {
     "name": "#%%\n"
    }
   }
  },
  {
   "cell_type": "code",
   "execution_count": null,
   "outputs": [],
   "source": [
    "#寻找页面中某类标签\n",
    "urls =  soup.find('ul',class='cover...').find_all('a')\n",
    "url_lst = []\n",
    "for url in urls:\n",
    "    url_lst.append(url['href'])\n",
    "\n",
    "url_lst\n"
   ],
   "metadata": {
    "collapsed": false,
    "pycharm": {
     "name": "#%%\n"
    }
   }
  },
  {
   "cell_type": "code",
   "execution_count": null,
   "outputs": [],
   "source": [
    "import re  #正则表达式\n",
    "\n",
    "def datacrawler(urli):\n",
    "    ri = requests.get(url = urli)\n",
    "    soupi = BeautifulSoup(ri.text,'lxml')\n",
    "    $print(soupi)\n",
    "\n",
    "    title = soupi.find('h1').text.replace('\\n','')\n",
    "    info1 = soupi.find('div',id='info').text\n",
    "    info1 = re.split('[\\n:]',info1)\n",
    "    for item in info1[:]:\n",
    "        if item =='':\n",
    "            info1.remove(item)\n",
    "    dic1 = dict(zip(info1[::2],info1[1::2]))\n",
    "    return info1\n",
    "\n",
    "#info1.pop  pop方法\n",
    "url1 =url_lst[0]\n",
    "print(url1)\n",
    "datacrawler(url1)"
   ],
   "metadata": {
    "collapsed": false,
    "pycharm": {
     "name": "#%%\n"
    }
   }
  },
  {
   "cell_type": "code",
   "execution_count": null,
   "outputs": [],
   "source": [
    "requests\n",
    "BeautifulSoup"
   ],
   "metadata": {
    "collapsed": false,
    "pycharm": {
     "name": "#%%\n"
    }
   }
  }
 ],
 "metadata": {
  "kernelspec": {
   "name": "python3",
   "language": "python",
   "display_name": "Python 3"
  },
  "language_info": {
   "codemirror_mode": {
    "name": "ipython",
    "version": 2
   },
   "file_extension": ".py",
   "mimetype": "text/x-python",
   "name": "python",
   "nbconvert_exporter": "python",
   "pygments_lexer": "ipython2",
   "version": "2.7.6"
  }
 },
 "nbformat": 4,
 "nbformat_minor": 0
}