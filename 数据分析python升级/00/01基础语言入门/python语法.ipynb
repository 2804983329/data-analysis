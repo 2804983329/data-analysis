{
 "cells": [
  {
   "cell_type": "markdown",
   "source": [],
   "metadata": {
    "collapsed": false
   }
  },
  {
   "cell_type": "markdown",
   "metadata": {
    "collapsed": true,
    "pycharm": {
     "name": "#%% md\n"
    }
   },
   "source": [
    "##### 3、如何用python加载数据 →字典+列表的存储方式\n",
    "1)成功 读取商铺数据.csv\n",
    "文件\n",
    "2）解析数据，存成列表字典格式：[{'var1':value1,'var2':value2,'var3':value3...},...,{}]\n",
    "3)数据清洗：\n",
    "- comment，point两个字段清洗成数字\n",
    "- 清楚字段缺失的数据\n",
    "- commentlist拆分成3个字段，并且清洗成数字\n"
   ]
  },
  {
   "cell_type": "code",
   "execution_count": 4,
   "outputs": [
    {
     "ename": "FileNotFoundError",
     "evalue": "[Errno 2] No such file or directory: ''",
     "output_type": "error",
     "traceback": [
      "\u001B[1;31m---------------------------------------------------------------------------\u001B[0m",
      "\u001B[1;31mFileNotFoundError\u001B[0m                         Traceback (most recent call last)",
      "\u001B[1;32m<ipython-input-4-0eff44f213ac>\u001B[0m in \u001B[0;36m<module>\u001B[1;34m\u001B[0m\n\u001B[0;32m      2\u001B[0m \u001B[1;31m#读取数据\u001B[0m\u001B[1;33m\u001B[0m\u001B[1;33m\u001B[0m\u001B[1;33m\u001B[0m\u001B[0m\n\u001B[0;32m      3\u001B[0m \u001B[1;33m\u001B[0m\u001B[0m\n\u001B[1;32m----> 4\u001B[1;33m \u001B[0mf\u001B[0m\u001B[1;33m=\u001B[0m \u001B[0mopen\u001B[0m\u001B[1;33m(\u001B[0m\u001B[1;34m''\u001B[0m\u001B[1;33m,\u001B[0m\u001B[1;34m'r'\u001B[0m\u001B[1;33m,\u001B[0m\u001B[0mencoding\u001B[0m\u001B[1;33m=\u001B[0m\u001B[1;34m'utf-8'\u001B[0m\u001B[1;33m)\u001B[0m\u001B[1;33m\u001B[0m\u001B[1;33m\u001B[0m\u001B[0m\n\u001B[0m\u001B[0;32m      5\u001B[0m \u001B[1;32mfor\u001B[0m \u001B[0mi\u001B[0m \u001B[1;32min\u001B[0m \u001B[0mf\u001B[0m\u001B[1;33m.\u001B[0m\u001B[0mreadline\u001B[0m\u001B[1;33m(\u001B[0m\u001B[1;33m)\u001B[0m\u001B[1;33m[\u001B[0m\u001B[1;33m:\u001B[0m\u001B[1;36m5\u001B[0m\u001B[1;33m]\u001B[0m\u001B[1;33m:\u001B[0m\u001B[1;33m\u001B[0m\u001B[1;33m\u001B[0m\u001B[0m\n\u001B[0;32m      6\u001B[0m     \u001B[0mprint\u001B[0m\u001B[1;33m(\u001B[0m\u001B[0mi\u001B[0m\u001B[1;33m.\u001B[0m\u001B[0msplit\u001B[0m\u001B[1;33m(\u001B[0m\u001B[1;34m','\u001B[0m\u001B[1;33m)\u001B[0m\u001B[1;33m)\u001B[0m\u001B[1;33m\u001B[0m\u001B[1;33m\u001B[0m\u001B[0m\n",
      "\u001B[1;31mFileNotFoundError\u001B[0m: [Errno 2] No such file or directory: ''"
     ]
    }
   ],
   "source": [
    "#读取数据\n",
    "\n",
    "f= open('','r',encoding='utf-8')\n",
    "for i in f.readline()[:5]:\n",
    "    print(i.split(','))\n",
    "# 查看数据"
   ],
   "metadata": {
    "collapsed": false,
    "pycharm": {
     "name": "#%%\n"
    }
   }
  },
  {
   "cell_type": "code",
   "execution_count": null,
   "outputs": [],
   "source": [
    "#函数式编程\n",
    "def fcm(s):\n",
    "    if '条' in s:\n",
    "        return int(s.split(\"\")[0])\n",
    "    else:\n",
    "        return '缺失数据'\n",
    "def fpr(s):\n",
    "    if '￥' in s:\n",
    "        return float(s.split('￥')[-1])\n",
    "    else:\n",
    "        return '缺失数据'\n",
    "def fcl(s):\n",
    "    if ' ' in s:\n",
    "        quality = float(s.split('          ')[0][2:])\n",
    "        environment = float(s.split('          ')[1][2:])\n",
    "        service = float(s.split('          ')[2][2:-1])\n",
    "        return  quality,environment,service\n",
    "    else:\n",
    "        return '缺失数据'\n",
    "print('finish')"
   ],
   "metadata": {
    "collapsed": false,
    "pycharm": {
     "name": "#%%\n"
    }
   }
  },
  {
   "cell_type": "code",
   "execution_count": null,
   "outputs": [],
   "source": [
    "f.seek(0)\n",
    "\n",
    "for i in f.readlines()[1:10]:\n",
    "    data = i.split(',')\n",
    "    #print(data)\n",
    "    classify = data[0]\n",
    "    name = data[1]\n",
    "    comment_count = fcm(data[2])\n",
    "    star =data[3]\n",
    "    price = fpr(data[4])\n",
    "    qua = fcl(data[6])[0]\n",
    "    env = fcl(data[6])[1]\n",
    "    ser = fcl(data[6])[2]\n",
    "    #创建字典存储数据\n",
    "    data_re =[\n",
    "        ['分类',classify]\n",
    "        ['名称',name]\n",
    "        ['价格',price]\n",
    "    ]\n",
    "    dic = dict(data_re)\n",
    "\n",
    "    print(classify,name,comment_count)"
   ],
   "metadata": {
    "collapsed": false,
    "pycharm": {
     "name": "#%%\n"
    }
   }
  },
  {
   "cell_type": "code",
   "execution_count": 1,
   "outputs": [
    {
     "ename": "NameError",
     "evalue": "name 'f' is not defined",
     "output_type": "error",
     "traceback": [
      "\u001B[1;31m---------------------------------------------------------------------------\u001B[0m",
      "\u001B[1;31mNameError\u001B[0m                                 Traceback (most recent call last)",
      "\u001B[1;32m<ipython-input-1-b0fc98e6b2e5>\u001B[0m in \u001B[0;36m<module>\u001B[1;34m\u001B[0m\n\u001B[0;32m      3\u001B[0m \u001B[0mdatalst\u001B[0m \u001B[1;33m=\u001B[0m \u001B[1;33m[\u001B[0m\u001B[1;33m]\u001B[0m \u001B[1;31m#创建空列表\u001B[0m\u001B[1;33m\u001B[0m\u001B[1;33m\u001B[0m\u001B[0m\n\u001B[0;32m      4\u001B[0m \u001B[1;33m\u001B[0m\u001B[0m\n\u001B[1;32m----> 5\u001B[1;33m \u001B[0mf\u001B[0m\u001B[1;33m.\u001B[0m\u001B[0mseek\u001B[0m\u001B[1;33m(\u001B[0m\u001B[1;36m0\u001B[0m\u001B[1;33m)\u001B[0m\u001B[1;33m\u001B[0m\u001B[1;33m\u001B[0m\u001B[0m\n\u001B[0m\u001B[0;32m      6\u001B[0m \u001B[0mn\u001B[0m\u001B[1;33m=\u001B[0m\u001B[1;36m0\u001B[0m \u001B[1;31m#创建计数变量\u001B[0m\u001B[1;33m\u001B[0m\u001B[1;33m\u001B[0m\u001B[0m\n\u001B[0;32m      7\u001B[0m \u001B[1;32mfor\u001B[0m \u001B[0mi\u001B[0m \u001B[1;32min\u001B[0m \u001B[0mf\u001B[0m\u001B[1;33m.\u001B[0m\u001B[0mreadline\u001B[0m\u001B[1;33m(\u001B[0m\u001B[1;33m)\u001B[0m\u001B[1;33m[\u001B[0m\u001B[1;36m1\u001B[0m\u001B[1;33m:\u001B[0m\u001B[1;36m20\u001B[0m\u001B[1;33m]\u001B[0m\u001B[1;33m:\u001B[0m\u001B[1;33m\u001B[0m\u001B[1;33m\u001B[0m\u001B[0m\n",
      "\u001B[1;31mNameError\u001B[0m: name 'f' is not defined"
     ]
    }
   ],
   "source": [
    "#数据清洗\n",
    "\n",
    "datalst = [] #创建空列表\n",
    "\n",
    "f.seek(0)\n",
    "n=0 #创建计数变量\n",
    "for i in f.readlines()[1:10]:\n",
    "    data = i.split(',')\n",
    "    #print(data)\n",
    "    classify = data[0]              #提取分类\n",
    "    name = data[1]                  #提取店铺名称\n",
    "    comment_count = fcm(data[2])    #提取评论数量\n",
    "    star =data[3]                   #提取星级\n",
    "    price = fpr(data[4])            #提取人均\n",
    "    add  = data[5]                  #提取地址\n",
    "    qua = fcl(data[6])[0]           #提取质量评分\n",
    "    env = fcl(data[6])[1]           #提取环境评分\n",
    "    ser = fcl(data[6])[2]           #提取服务评分\n",
    "    if '缺失数据' not in [comment_count,price,qua]:     #用于判断是否有数据缺失\n",
    "        n += 1\n",
    "        data_re = [['classify',classify],\n",
    "                   ['name',name],\n",
    "                   ['comment_count',comment_count],\n",
    "                   ['star',star],\n",
    "                   ['price',price],\n",
    "                   ['add',add],\n",
    "                   ['qua',qua],\n",
    "                   ['env',env],\n",
    "                   ['ser',ser]]\n",
    "        datalst.append(dict(data_re))       #生成字典并存入列表datalst\n",
    "        print('成功加载%i条数据' %n)\n",
    "    else:\n",
    "        continue\n",
    "\n",
    "print(datalst)\n",
    "print('总共加载%i条数据' %n)"
   ],
   "metadata": {
    "collapsed": false,
    "pycharm": {
     "name": "#%%\n"
    }
   }
  },
  {
   "cell_type": "code",
   "execution_count": null,
   "outputs": [],
   "source": [],
   "metadata": {
    "collapsed": false,
    "pycharm": {
     "name": "#%%"
    }
   }
  }
 ],
 "metadata": {
  "kernelspec": {
   "name": "python3",
   "language": "python",
   "display_name": "Python 3"
  },
  "language_info": {
   "codemirror_mode": {
    "name": "ipython",
    "version": 2
   },
   "file_extension": ".py",
   "mimetype": "text/x-python",
   "name": "python",
   "nbconvert_exporter": "python",
   "pygments_lexer": "ipython2",
   "version": "2.7.6"
  }
 },
 "nbformat": 4,
 "nbformat_minor": 0
}