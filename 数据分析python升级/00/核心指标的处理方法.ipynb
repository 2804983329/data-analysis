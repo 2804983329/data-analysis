{
 "cells": [
  {
   "cell_type": "code",
   "execution_count": 5,
   "metadata": {
    "collapsed": true
   },
   "outputs": [
    {
     "name": "stdout",
     "output_type": "stream",
     "text": [
      "导出成功\n"
     ]
    }
   ],
   "source": [
    "import numpy as np\n",
    "import pandas as pd\n",
    "import matplotlib.pyplot as plt\n",
    "\n",
    "import warnings\n",
    "warnings.filterwarnings('ignore')\n",
    "print('导出成功')"
   ]
  },
  {
   "cell_type": "code",
   "execution_count": 9,
   "outputs": [
    {
     "data": {
      "text/plain": "        房屋编码      小区  朝向   房屋单价  参考首付   参考总价          经度         纬度\n0  605093949   大望新平村  南北   5434  15.0   50.0  114.180964  22.603698\n1  605768856     通宝楼  南北   3472   7.5   25.0  114.179298  22.566910\n2  606815561  罗湖区罗芳村  南北   5842  15.6   52.0  114.158869  22.547223\n3  605147285     兴华苑  南北   3829  10.8   36.0  114.158040  22.554343\n4  606030866  京基东方都会  西南  47222  51.0  170.0  114.149243  22.554370",
      "text/html": "<div>\n<style scoped>\n    .dataframe tbody tr th:only-of-type {\n        vertical-align: middle;\n    }\n\n    .dataframe tbody tr th {\n        vertical-align: top;\n    }\n\n    .dataframe thead th {\n        text-align: right;\n    }\n</style>\n<table border=\"1\" class=\"dataframe\">\n  <thead>\n    <tr style=\"text-align: right;\">\n      <th></th>\n      <th>房屋编码</th>\n      <th>小区</th>\n      <th>朝向</th>\n      <th>房屋单价</th>\n      <th>参考首付</th>\n      <th>参考总价</th>\n      <th>经度</th>\n      <th>纬度</th>\n    </tr>\n  </thead>\n  <tbody>\n    <tr>\n      <th>0</th>\n      <td>605093949</td>\n      <td>大望新平村</td>\n      <td>南北</td>\n      <td>5434</td>\n      <td>15.0</td>\n      <td>50.0</td>\n      <td>114.180964</td>\n      <td>22.603698</td>\n    </tr>\n    <tr>\n      <th>1</th>\n      <td>605768856</td>\n      <td>通宝楼</td>\n      <td>南北</td>\n      <td>3472</td>\n      <td>7.5</td>\n      <td>25.0</td>\n      <td>114.179298</td>\n      <td>22.566910</td>\n    </tr>\n    <tr>\n      <th>2</th>\n      <td>606815561</td>\n      <td>罗湖区罗芳村</td>\n      <td>南北</td>\n      <td>5842</td>\n      <td>15.6</td>\n      <td>52.0</td>\n      <td>114.158869</td>\n      <td>22.547223</td>\n    </tr>\n    <tr>\n      <th>3</th>\n      <td>605147285</td>\n      <td>兴华苑</td>\n      <td>南北</td>\n      <td>3829</td>\n      <td>10.8</td>\n      <td>36.0</td>\n      <td>114.158040</td>\n      <td>22.554343</td>\n    </tr>\n    <tr>\n      <th>4</th>\n      <td>606030866</td>\n      <td>京基东方都会</td>\n      <td>西南</td>\n      <td>47222</td>\n      <td>51.0</td>\n      <td>170.0</td>\n      <td>114.149243</td>\n      <td>22.554370</td>\n    </tr>\n  </tbody>\n</table>\n</div>"
     },
     "execution_count": 9,
     "metadata": {},
     "output_type": "execute_result"
    }
   ],
   "source": [
    "#E:/视频qyp/【瑞客论坛 www.ruike1.com】网易云课堂 数据分析师Python进阶（完结）/00-0 QQ群资料/【非常重要】课程资料/CLASSDATA_ch04进阶算法学习：统计分析能力强化/CH01数据特征分析/深圳罗湖二手房信息.csv\n",
    "#s数据读取\n",
    "\n",
    "data = pd.read_csv('E:/视频qyp/【瑞客论坛 www.ruike1.com】网易云课堂 数据分析师Python进阶（完结）/00-0 QQ群资料/【非常重要】课程资料/CLASSDATA_ch04进阶算法学习：统计分析能力强化/CH01数据特征分析/深圳罗湖二手房信息.csv',engine='python')\n",
    "data.head()"
   ],
   "metadata": {
    "collapsed": false,
    "pycharm": {
     "name": "#%%\n"
    }
   }
  },
  {
   "cell_type": "code",
   "execution_count": 10,
   "outputs": [
    {
     "data": {
      "text/plain": "<matplotlib.collections.PathCollection at 0x21b9c3da0c8>"
     },
     "execution_count": 10,
     "metadata": {},
     "output_type": "execute_result"
    },
    {
     "data": {
      "text/plain": "<Figure size 432x288 with 1 Axes>",
      "image/png": "[encoded data removed]"
     },
     "metadata": {
      "needs_background": "light"
     },
     "output_type": "display_data"
    }
   ],
   "source": [
    "plt.scatter(data['经度'],data['纬度'],\n",
    "            s= data['房屋价格'],\n",
    "            c= data['参考总价'],\n",
    "            alpha= 0.6,\n",
    "            cmap='Reds')\n",
    "plt.grid()  #加虚线"
   ],
   "metadata": {
    "collapsed": false,
    "pycharm": {
     "name": "#%%\n"
    }
   }
  },
  {
   "cell_type": "code",
   "execution_count": null,
   "outputs": [],
   "source": [
    "#查看极差\n",
    "def d_range(df,*cols):\n",
    "    krange = []\n",
    "    for col in cols:\n",
    "        crange = df[col].max() - df[col].min\n",
    "        krange.append(crange)\n",
    "    return krange"
   ],
   "metadata": {
    "collapsed": false,
    "pycharm": {
     "name": "#%%\n"
    }
   }
  }
 ],
 "metadata": {
  "kernelspec": {
   "name": "python3",
   "language": "python",
   "display_name": "Python 3"
  },
  "language_info": {
   "codemirror_mode": {
    "name": "ipython",
    "version": 2
   },
   "file_extension": ".py",
   "mimetype": "text/x-python",
   "name": "python",
   "nbconvert_exporter": "python",
   "pygments_lexer": "ipython2",
   "version": "2.7.6"
  }
 },
 "nbformat": 4,
 "nbformat_minor": 0
}