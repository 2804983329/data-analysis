{
 "cells": [
  {
   "cell_type": "code",
   "execution_count": 95,
   "metadata": {
    "collapsed": true
   },
   "outputs": [
    {
     "name": "stdout",
     "output_type": "stream",
     "text": [
      "['\\ufeffclassify', 'name', 'comment', 'star', 'price', 'address', 'commentlist\\n']\n",
      "['美食', '望蓉城老坛酸菜鱼(合生汇店)', '我要点评', '该商户暂无星级', '人均                                        ￥125', '翔殷路1099号合生汇5F', '口味8.3                                环境8.4                                服务8.5\\n']\n",
      "['美食', '泰国街边料理', '74                    条点评', '准四星商户', '人均                                        ￥48', '黄兴路合生汇B2美食集市内', '口味7.4                                环境7.6                                服务7.4\\n']\n",
      "['美食', '壹面如故(苏宁生活广场店)', '265                    条点评', '准四星商户', '人均                                        ￥21', '邯郸路585号苏宁生活广场B1层', '口味7.0                                环境7.2                                服务7.2\\n']\n",
      "['美食', '鮨谷•Aburiya(合生汇店)', '2748                    条点评', '准五星商户', '人均                                        ￥142', '翔殷路1099号合生广场5楼23、28铺位', '口味8.9                                环境8.5                                服务8.4\\n']\n"
     ]
    }
   ],
   "source": [
    "f = open('E:/视频qyp/【瑞客论坛 www.ruike1.com】网易云课堂 数据分析师Python进阶（完结）/00-0 QQ群资料/【非常重要】课程资料/CLASSDATA_ch02基础语言入门：从零开始学习Python/商铺数据.csv','r',encoding='utf8')\n",
    "\n",
    "for i in f.readlines()[:5]:\n",
    "    print(i.split(','))\n",
    "    #查看数据"
   ]
  },
  {
   "cell_type": "code",
   "execution_count": 96,
   "outputs": [
    {
     "name": "stdout",
     "output_type": "stream",
     "text": [
      "finish\n"
     ]
    }
   ],
   "source": [
    "#清洗字段\n",
    "#创建comment，price，commentlist清洗函数\n",
    "\n",
    "#函数式编程\n",
    "def fcm(s):\n",
    "    if '条' in s:\n",
    "        return int(s.split('                    ')[0])\n",
    "    else:\n",
    "        return '缺失数据'\n",
    "#comment清洗函数：用空格分段，选取结果list的第一个为点评数，并且转化为整数\n",
    "\n",
    "def fpr(s):\n",
    "    if '￥' in s:\n",
    "        return float(s.split('￥')[-1])\n",
    "    else:\n",
    "        return '缺失数据'\n",
    "#comment清洗函数：用￥分段，选取结果list的最后一个为人均价格，并且转化为浮点数\n",
    "\n",
    "def fcl(s):\n",
    "    if ' ' in s:\n",
    "        quality = float(s.split('                                ')[0][2:])\n",
    "        environment = float(s.split('                                ')[1][2:])\n",
    "        service = float(s.split('                                ')[2][2:-1])\n",
    "        return  quality,environment,service\n",
    "    else:\n",
    "        return '缺失数据'\n",
    "#commentlist清洗函数：用空格分段，分别清洗出质量、环境及服务质量，并转化为浮点型\n",
    "\n",
    "print('finish')"
   ],
   "metadata": {
    "collapsed": false,
    "pycharm": {
     "name": "#%%\n"
    }
   }
  },
  {
   "cell_type": "code",
   "execution_count": 97,
   "outputs": [
    {
     "name": "stdout",
     "output_type": "stream",
     "text": [
      "成功加载1条数据\n",
      "成功加载2条数据\n",
      "成功加载3条数据\n",
      "成功加载4条数据\n",
      "成功加载5条数据\n",
      "成功加载6条数据\n",
      "成功加载7条数据\n",
      "[{'classify': '美食', 'name': '泰国街边料理', 'comment_count': 74, 'star': '准四星商户', 'price': 48.0, 'add': '黄兴路合生汇B2美食集市内', 'qua': 7.4, 'env': 7.6, 'ser': 7.4}, {'classify': '美食', 'name': '壹面如故(苏宁生活广场店)', 'comment_count': 265, 'star': '准四星商户', 'price': 21.0, 'add': '邯郸路585号苏宁生活广场B1层', 'qua': 7.0, 'env': 7.2, 'ser': 7.2}, {'classify': '美食', 'name': '鮨谷•Aburiya(合生汇店)', 'comment_count': 2748, 'star': '准五星商户', 'price': 142.0, 'add': '翔殷路1099号合生广场5楼23、28铺位', 'qua': 8.9, 'env': 8.5, 'ser': 8.4}, {'classify': '美食', 'name': '麦当劳(万达店)', 'comment_count': 785, 'star': '准四星商户', 'price': 24.0, 'add': '邯郸路600号万达商业广场B1楼A05号铺', 'qua': 7.4, 'env': 7.2, 'ser': 7.2}, {'classify': '美食', 'name': '蒸年青STEAMYOUNG(百联又一城购物中心店)', 'comment_count': 3779, 'star': '准五星商户', 'price': 70.0, 'add': '淞沪路8号百联又一城购物中心7层', 'qua': 8.6, 'env': 8.6, 'ser': 8.6}, {'classify': '美食', 'name': '丸来玩趣(百联又一城购物中心店)', 'comment_count': 458, 'star': '准四星商户', 'price': 14.0, 'add': '淞沪路8号百联又一城购物中心B1层', 'qua': 7.0, 'env': 6.5, 'ser': 6.5}, {'classify': '美食', 'name': '韩国雪冰(合生汇店)', 'comment_count': 1280, 'star': '四星商户', 'price': 47.0, 'add': '翔殷路1099号合生汇4F', 'qua': 7.7, 'env': 7.5, 'ser': 7.6}]\n",
      "总共加载7条数据\n"
     ]
    }
   ],
   "source": [
    "#数据清洗\n",
    "\n",
    "datalst = [] #创建空列表\n",
    "\n",
    "f.seek(0)\n",
    "n=0 #创建计数变量\n",
    "for i in f.readlines()[1:10]:\n",
    "    data = i.split(',')\n",
    "    #print(data)\n",
    "    classify = data[0]              #提取分类\n",
    "    name = data[1]                  #提取店铺名称\n",
    "    comment_count = fcm(data[2])    #提取评论数量\n",
    "    star =data[3]                   #提取星级\n",
    "    price = fpr(data[4])            #提取人均\n",
    "    add  = data[5]                  #提取地址\n",
    "    qua = fcl(data[6])[0]           #提取质量评分\n",
    "    env = fcl(data[6])[1]           #提取环境评分\n",
    "    ser = fcl(data[6])[2]           #提取服务评分\n",
    "    if '缺失数据' not in [comment_count,price,qua]:     #用于判断是否有数据缺失\n",
    "        n += 1\n",
    "        data_re = [['classify',classify],\n",
    "                   ['name',name],\n",
    "                   ['comment_count',comment_count],\n",
    "                   ['star',star],\n",
    "                   ['price',price],\n",
    "                   ['add',add],\n",
    "                   ['qua',qua],\n",
    "                   ['env',env],\n",
    "                   ['ser',ser]]\n",
    "        datalst.append(dict(data_re))       #生成字典并存入列表datalst\n",
    "        print('成功加载%i条数据' %n)\n",
    "    else:\n",
    "        continue\n",
    "\n",
    "print(datalst)\n",
    "print('总共加载%i条数据' %n)\n"
   ],
   "metadata": {
    "collapsed": false,
    "pycharm": {
     "name": "#%%\n"
    }
   }
  },
  {
   "cell_type": "code",
   "execution_count": 98,
   "outputs": [],
   "source": [
    "import pandas as pd\n",
    "\n",
    "import warnings\n",
    "warnings.filterwarnings('ignore')\n"
   ],
   "metadata": {
    "collapsed": false,
    "pycharm": {
     "name": "#%%\n"
    }
   }
  },
  {
   "cell_type": "code",
   "execution_count": 99,
   "outputs": [
    {
     "name": "stdout",
     "output_type": "stream",
     "text": [
      "<class 'pandas.core.frame.DataFrame'> object\n"
     ]
    },
    {
     "data": {
      "text/plain": "  classify              name                      comment     star  \\\n0       美食    望蓉城老坛酸菜鱼(合生汇店)                         我要点评  该商户暂无星级   \n1       美食            泰国街边料理    74                    条点评    准四星商户   \n2       美食     壹面如故(苏宁生活广场店)   265                    条点评    准四星商户   \n3       美食  鮨谷•Aburiya(合生汇店)  2748                    条点评    准五星商户   \n4       美食         我们的烤肉我们的馕     5                    条点评    准四星商户   \n\n                                            price                address  \\\n0  人均                                        ￥125          翔殷路1099号合生汇5F   \n1   人均                                        ￥48          黄兴路合生汇B2美食集市内   \n2   人均                                        ￥21       邯郸路585号苏宁生活广场B1层   \n3  人均                                        ￥142  翔殷路1099号合生广场5楼23、28铺位   \n4         人均                                    -             邯郸路399-D3号   \n\n                                         commentlist  \n0  口味8.3                                环境8.4    ...  \n1  口味7.4                                环境7.6    ...  \n2  口味7.0                                环境7.2    ...  \n3  口味8.9                                环境8.5    ...  \n4  口味7.5                                环境6.8    ...  ",
      "text/html": "<div>\n<style scoped>\n    .dataframe tbody tr th:only-of-type {\n        vertical-align: middle;\n    }\n\n    .dataframe tbody tr th {\n        vertical-align: top;\n    }\n\n    .dataframe thead th {\n        text-align: right;\n    }\n</style>\n<table border=\"1\" class=\"dataframe\">\n  <thead>\n    <tr style=\"text-align: right;\">\n      <th></th>\n      <th>classify</th>\n      <th>name</th>\n      <th>comment</th>\n      <th>star</th>\n      <th>price</th>\n      <th>address</th>\n      <th>commentlist</th>\n    </tr>\n  </thead>\n  <tbody>\n    <tr>\n      <th>0</th>\n      <td>美食</td>\n      <td>望蓉城老坛酸菜鱼(合生汇店)</td>\n      <td>我要点评</td>\n      <td>该商户暂无星级</td>\n      <td>人均                                        ￥125</td>\n      <td>翔殷路1099号合生汇5F</td>\n      <td>口味8.3                                环境8.4    ...</td>\n    </tr>\n    <tr>\n      <th>1</th>\n      <td>美食</td>\n      <td>泰国街边料理</td>\n      <td>74                    条点评</td>\n      <td>准四星商户</td>\n      <td>人均                                        ￥48</td>\n      <td>黄兴路合生汇B2美食集市内</td>\n      <td>口味7.4                                环境7.6    ...</td>\n    </tr>\n    <tr>\n      <th>2</th>\n      <td>美食</td>\n      <td>壹面如故(苏宁生活广场店)</td>\n      <td>265                    条点评</td>\n      <td>准四星商户</td>\n      <td>人均                                        ￥21</td>\n      <td>邯郸路585号苏宁生活广场B1层</td>\n      <td>口味7.0                                环境7.2    ...</td>\n    </tr>\n    <tr>\n      <th>3</th>\n      <td>美食</td>\n      <td>鮨谷•Aburiya(合生汇店)</td>\n      <td>2748                    条点评</td>\n      <td>准五星商户</td>\n      <td>人均                                        ￥142</td>\n      <td>翔殷路1099号合生广场5楼23、28铺位</td>\n      <td>口味8.9                                环境8.5    ...</td>\n    </tr>\n    <tr>\n      <th>4</th>\n      <td>美食</td>\n      <td>我们的烤肉我们的馕</td>\n      <td>5                    条点评</td>\n      <td>准四星商户</td>\n      <td>人均                                    -</td>\n      <td>邯郸路399-D3号</td>\n      <td>口味7.5                                环境6.8    ...</td>\n    </tr>\n  </tbody>\n</table>\n</div>"
     },
     "execution_count": 99,
     "metadata": {},
     "output_type": "execute_result"
    }
   ],
   "source": [
    "#如何用pandas 读取数据\n",
    "\n",
    "df = pd.read_csv('E:/视频qyp/【瑞客论坛 www.ruike1.com】网易云课堂 数据分析师Python进阶（完结）/00-0 QQ群资料/【非常重要】课程资料/CLASSDATA_ch02基础语言入门：从零开始学习Python/商铺数据.csv')\n",
    "print(type(df),df['name'].dtype)\n",
    "df.head()"
   ],
   "metadata": {
    "collapsed": false,
    "pycharm": {
     "name": "#%%\n"
    }
   }
  },
  {
   "cell_type": "code",
   "execution_count": 100,
   "outputs": [
    {
     "name": "stdout",
     "output_type": "stream",
     "text": [
      "int32\n"
     ]
    },
    {
     "data": {
      "text/plain": "  classify              name  comment   star  \\\n1       美食            泰国街边料理       74  准四星商户   \n2       美食     壹面如故(苏宁生活广场店)      265  准四星商户   \n3       美食  鮨谷•Aburiya(合生汇店)     2748  准五星商户   \n4       美食         我们的烤肉我们的馕        5  准四星商户   \n5       美食          麦当劳(万达店)      785  准四星商户   \n\n                                            price                address  \\\n1   人均                                        ￥48          黄兴路合生汇B2美食集市内   \n2   人均                                        ￥21       邯郸路585号苏宁生活广场B1层   \n3  人均                                        ￥142  翔殷路1099号合生广场5楼23、28铺位   \n4         人均                                    -             邯郸路399-D3号   \n5   人均                                        ￥24  邯郸路600号万达商业广场B1楼A05号铺   \n\n                                         commentlist  \n1  口味7.4                                环境7.6    ...  \n2  口味7.0                                环境7.2    ...  \n3  口味8.9                                环境8.5    ...  \n4  口味7.5                                环境6.8    ...  \n5  口味7.4                                环境7.2    ...  ",
      "text/html": "<div>\n<style scoped>\n    .dataframe tbody tr th:only-of-type {\n        vertical-align: middle;\n    }\n\n    .dataframe tbody tr th {\n        vertical-align: top;\n    }\n\n    .dataframe thead th {\n        text-align: right;\n    }\n</style>\n<table border=\"1\" class=\"dataframe\">\n  <thead>\n    <tr style=\"text-align: right;\">\n      <th></th>\n      <th>classify</th>\n      <th>name</th>\n      <th>comment</th>\n      <th>star</th>\n      <th>price</th>\n      <th>address</th>\n      <th>commentlist</th>\n    </tr>\n  </thead>\n  <tbody>\n    <tr>\n      <th>1</th>\n      <td>美食</td>\n      <td>泰国街边料理</td>\n      <td>74</td>\n      <td>准四星商户</td>\n      <td>人均                                        ￥48</td>\n      <td>黄兴路合生汇B2美食集市内</td>\n      <td>口味7.4                                环境7.6    ...</td>\n    </tr>\n    <tr>\n      <th>2</th>\n      <td>美食</td>\n      <td>壹面如故(苏宁生活广场店)</td>\n      <td>265</td>\n      <td>准四星商户</td>\n      <td>人均                                        ￥21</td>\n      <td>邯郸路585号苏宁生活广场B1层</td>\n      <td>口味7.0                                环境7.2    ...</td>\n    </tr>\n    <tr>\n      <th>3</th>\n      <td>美食</td>\n      <td>鮨谷•Aburiya(合生汇店)</td>\n      <td>2748</td>\n      <td>准五星商户</td>\n      <td>人均                                        ￥142</td>\n      <td>翔殷路1099号合生广场5楼23、28铺位</td>\n      <td>口味8.9                                环境8.5    ...</td>\n    </tr>\n    <tr>\n      <th>4</th>\n      <td>美食</td>\n      <td>我们的烤肉我们的馕</td>\n      <td>5</td>\n      <td>准四星商户</td>\n      <td>人均                                    -</td>\n      <td>邯郸路399-D3号</td>\n      <td>口味7.5                                环境6.8    ...</td>\n    </tr>\n    <tr>\n      <th>5</th>\n      <td>美食</td>\n      <td>麦当劳(万达店)</td>\n      <td>785</td>\n      <td>准四星商户</td>\n      <td>人均                                        ￥24</td>\n      <td>邯郸路600号万达商业广场B1楼A05号铺</td>\n      <td>口味7.4                                环境7.2    ...</td>\n    </tr>\n  </tbody>\n</table>\n</div>"
     },
     "execution_count": 100,
     "metadata": {},
     "output_type": "execute_result"
    }
   ],
   "source": [
    "#comment字段清洗\n",
    "#将字段comment中包含条的数据筛选出来\n",
    "df1=df[df['comment'].str.contains('条')]\n",
    "#只保留条字前面的条数\n",
    "df1['comment'] = df1['comment'].str.split('条').str[0]\n",
    "#转换为整形\n",
    "df1['comment']=df1['comment'].astype('int')\n",
    "print(df1['comment'].dtype)\n",
    "df1.head()"
   ],
   "metadata": {
    "collapsed": false,
    "pycharm": {
     "name": "#%%\n"
    }
   }
  },
  {
   "cell_type": "code",
   "execution_count": 101,
   "outputs": [
    {
     "name": "stdout",
     "output_type": "stream",
     "text": [
      "float64\n"
     ]
    },
    {
     "data": {
      "text/plain": "  classify                       name  comment   star  price  \\\n1       美食                     泰国街边料理       74  准四星商户   48.0   \n2       美食              壹面如故(苏宁生活广场店)      265  准四星商户   21.0   \n3       美食           鮨谷•Aburiya(合生汇店)     2748  准五星商户  142.0   \n5       美食                   麦当劳(万达店)      785  准四星商户   24.0   \n6       美食  蒸年青STEAMYOUNG(百联又一城购物中心店)     3779  准五星商户   70.0   \n\n                 address                                        commentlist  \n1          黄兴路合生汇B2美食集市内  口味7.4                                环境7.6    ...  \n2       邯郸路585号苏宁生活广场B1层  口味7.0                                环境7.2    ...  \n3  翔殷路1099号合生广场5楼23、28铺位  口味8.9                                环境8.5    ...  \n5  邯郸路600号万达商业广场B1楼A05号铺  口味7.4                                环境7.2    ...  \n6       淞沪路8号百联又一城购物中心7层  口味8.6                                环境8.6    ...  ",
      "text/html": "<div>\n<style scoped>\n    .dataframe tbody tr th:only-of-type {\n        vertical-align: middle;\n    }\n\n    .dataframe tbody tr th {\n        vertical-align: top;\n    }\n\n    .dataframe thead th {\n        text-align: right;\n    }\n</style>\n<table border=\"1\" class=\"dataframe\">\n  <thead>\n    <tr style=\"text-align: right;\">\n      <th></th>\n      <th>classify</th>\n      <th>name</th>\n      <th>comment</th>\n      <th>star</th>\n      <th>price</th>\n      <th>address</th>\n      <th>commentlist</th>\n    </tr>\n  </thead>\n  <tbody>\n    <tr>\n      <th>1</th>\n      <td>美食</td>\n      <td>泰国街边料理</td>\n      <td>74</td>\n      <td>准四星商户</td>\n      <td>48.0</td>\n      <td>黄兴路合生汇B2美食集市内</td>\n      <td>口味7.4                                环境7.6    ...</td>\n    </tr>\n    <tr>\n      <th>2</th>\n      <td>美食</td>\n      <td>壹面如故(苏宁生活广场店)</td>\n      <td>265</td>\n      <td>准四星商户</td>\n      <td>21.0</td>\n      <td>邯郸路585号苏宁生活广场B1层</td>\n      <td>口味7.0                                环境7.2    ...</td>\n    </tr>\n    <tr>\n      <th>3</th>\n      <td>美食</td>\n      <td>鮨谷•Aburiya(合生汇店)</td>\n      <td>2748</td>\n      <td>准五星商户</td>\n      <td>142.0</td>\n      <td>翔殷路1099号合生广场5楼23、28铺位</td>\n      <td>口味8.9                                环境8.5    ...</td>\n    </tr>\n    <tr>\n      <th>5</th>\n      <td>美食</td>\n      <td>麦当劳(万达店)</td>\n      <td>785</td>\n      <td>准四星商户</td>\n      <td>24.0</td>\n      <td>邯郸路600号万达商业广场B1楼A05号铺</td>\n      <td>口味7.4                                环境7.2    ...</td>\n    </tr>\n    <tr>\n      <th>6</th>\n      <td>美食</td>\n      <td>蒸年青STEAMYOUNG(百联又一城购物中心店)</td>\n      <td>3779</td>\n      <td>准五星商户</td>\n      <td>70.0</td>\n      <td>淞沪路8号百联又一城购物中心7层</td>\n      <td>口味8.6                                环境8.6    ...</td>\n    </tr>\n  </tbody>\n</table>\n</div>"
     },
     "execution_count": 101,
     "metadata": {},
     "output_type": "execute_result"
    }
   ],
   "source": [
    "#price清洗\n",
    "df1=df1[df1['price'].str.contains('￥')]\n",
    "df1['price'] = df1['price'].str.split('￥').str[-1]\n",
    "df1['price']=df1['price'].astype('float')\n",
    "print(df1['price'].dtype)\n",
    "df1.head(1)"
   ],
   "metadata": {
    "collapsed": false,
    "pycharm": {
     "name": "#%%\n"
    }
   }
  },
  {
   "cell_type": "code",
   "execution_count": 102,
   "outputs": [
    {
     "data": {
      "text/plain": "  classify                       name  comment   star  price  \\\n1       美食                     泰国街边料理       74  准四星商户   48.0   \n2       美食              壹面如故(苏宁生活广场店)      265  准四星商户   21.0   \n3       美食           鮨谷•Aburiya(合生汇店)     2748  准五星商户  142.0   \n5       美食                   麦当劳(万达店)      785  准四星商户   24.0   \n6       美食  蒸年青STEAMYOUNG(百联又一城购物中心店)     3779  准五星商户   70.0   \n\n                 address    q    e    s  \n1          黄兴路合生汇B2美食集市内  7.4  7.6  7.4  \n2       邯郸路585号苏宁生活广场B1层  7.0  7.2  7.2  \n3  翔殷路1099号合生广场5楼23、28铺位  8.9  8.5  8.4  \n5  邯郸路600号万达商业广场B1楼A05号铺  7.4  7.2  7.2  \n6       淞沪路8号百联又一城购物中心7层  8.6  8.6  8.6  ",
      "text/html": "<div>\n<style scoped>\n    .dataframe tbody tr th:only-of-type {\n        vertical-align: middle;\n    }\n\n    .dataframe tbody tr th {\n        vertical-align: top;\n    }\n\n    .dataframe thead th {\n        text-align: right;\n    }\n</style>\n<table border=\"1\" class=\"dataframe\">\n  <thead>\n    <tr style=\"text-align: right;\">\n      <th></th>\n      <th>classify</th>\n      <th>name</th>\n      <th>comment</th>\n      <th>star</th>\n      <th>price</th>\n      <th>address</th>\n      <th>q</th>\n      <th>e</th>\n      <th>s</th>\n    </tr>\n  </thead>\n  <tbody>\n    <tr>\n      <th>1</th>\n      <td>美食</td>\n      <td>泰国街边料理</td>\n      <td>74</td>\n      <td>准四星商户</td>\n      <td>48.0</td>\n      <td>黄兴路合生汇B2美食集市内</td>\n      <td>7.4</td>\n      <td>7.6</td>\n      <td>7.4</td>\n    </tr>\n    <tr>\n      <th>2</th>\n      <td>美食</td>\n      <td>壹面如故(苏宁生活广场店)</td>\n      <td>265</td>\n      <td>准四星商户</td>\n      <td>21.0</td>\n      <td>邯郸路585号苏宁生活广场B1层</td>\n      <td>7.0</td>\n      <td>7.2</td>\n      <td>7.2</td>\n    </tr>\n    <tr>\n      <th>3</th>\n      <td>美食</td>\n      <td>鮨谷•Aburiya(合生汇店)</td>\n      <td>2748</td>\n      <td>准五星商户</td>\n      <td>142.0</td>\n      <td>翔殷路1099号合生广场5楼23、28铺位</td>\n      <td>8.9</td>\n      <td>8.5</td>\n      <td>8.4</td>\n    </tr>\n    <tr>\n      <th>5</th>\n      <td>美食</td>\n      <td>麦当劳(万达店)</td>\n      <td>785</td>\n      <td>准四星商户</td>\n      <td>24.0</td>\n      <td>邯郸路600号万达商业广场B1楼A05号铺</td>\n      <td>7.4</td>\n      <td>7.2</td>\n      <td>7.2</td>\n    </tr>\n    <tr>\n      <th>6</th>\n      <td>美食</td>\n      <td>蒸年青STEAMYOUNG(百联又一城购物中心店)</td>\n      <td>3779</td>\n      <td>准五星商户</td>\n      <td>70.0</td>\n      <td>淞沪路8号百联又一城购物中心7层</td>\n      <td>8.6</td>\n      <td>8.6</td>\n      <td>8.6</td>\n    </tr>\n  </tbody>\n</table>\n</div>"
     },
     "execution_count": 102,
     "metadata": {},
     "output_type": "execute_result"
    }
   ],
   "source": [
    "df1['q'] = df1['commentlist'].str.split('                                ').str[0].str[2:]\n",
    "df1['e'] = df1['commentlist'].str.split('                                ').str[1].str[2:]\n",
    "df1['s'] = df1['commentlist'].str.split('                                ').str[2].str[2:]\n",
    "#删除字段\n",
    "del df1['commentlist']\n",
    "df1.head(1)"
   ],
   "metadata": {
    "collapsed": false,
    "pycharm": {
     "name": "#%%\n"
    }
   }
  },
  {
   "cell_type": "markdown",
   "source": [
    "### 索引问题"
   ],
   "metadata": {
    "collapsed": false,
    "pycharm": {
     "name": "#%% md\n"
    }
   }
  },
  {
   "cell_type": "code",
   "execution_count": 103,
   "outputs": [
    {
     "name": "stdout",
     "output_type": "stream",
     "text": [
      "<class 'pandas.core.series.Series'>\n"
     ]
    },
    {
     "data": {
      "text/plain": "1                       泰国街边料理\n2                壹面如故(苏宁生活广场店)\n3             鮨谷•Aburiya(合生汇店)\n5                     麦当劳(万达店)\n6    蒸年青STEAMYOUNG(百联又一城购物中心店)\nName: name, dtype: object"
     },
     "execution_count": 103,
     "metadata": {},
     "output_type": "execute_result"
    }
   ],
   "source": [
    "#索引\n",
    "#列索引：df[]\n",
    "s = df1['name'].head()\n",
    "print(type(s))\n",
    "s"
   ],
   "metadata": {
    "collapsed": false,
    "pycharm": {
     "name": "#%%\n"
    }
   }
  },
  {
   "cell_type": "code",
   "execution_count": 104,
   "outputs": [
    {
     "name": "stdout",
     "output_type": "stream",
     "text": [
      "<class 'pandas.core.frame.DataFrame'>\n"
     ]
    },
    {
     "data": {
      "text/plain": "                           name  comment\n1                        泰国街边料理       74\n2                 壹面如故(苏宁生活广场店)      265\n3              鮨谷•Aburiya(合生汇店)     2748\n5                      麦当劳(万达店)      785\n6     蒸年青STEAMYOUNG(百联又一城购物中心店)     3779\n...                         ...      ...\n1217               屈臣氏(苏宁电器广场店)       22\n1232                   澳人坊(万达店)       12\n1237                 奥卡索(东方商厦店)        6\n1240              TISSOT(巴黎春天店)       17\n1259               as女鞋店(巴黎春天店)       11\n\n[560 rows x 2 columns]",
      "text/html": "<div>\n<style scoped>\n    .dataframe tbody tr th:only-of-type {\n        vertical-align: middle;\n    }\n\n    .dataframe tbody tr th {\n        vertical-align: top;\n    }\n\n    .dataframe thead th {\n        text-align: right;\n    }\n</style>\n<table border=\"1\" class=\"dataframe\">\n  <thead>\n    <tr style=\"text-align: right;\">\n      <th></th>\n      <th>name</th>\n      <th>comment</th>\n    </tr>\n  </thead>\n  <tbody>\n    <tr>\n      <th>1</th>\n      <td>泰国街边料理</td>\n      <td>74</td>\n    </tr>\n    <tr>\n      <th>2</th>\n      <td>壹面如故(苏宁生活广场店)</td>\n      <td>265</td>\n    </tr>\n    <tr>\n      <th>3</th>\n      <td>鮨谷•Aburiya(合生汇店)</td>\n      <td>2748</td>\n    </tr>\n    <tr>\n      <th>5</th>\n      <td>麦当劳(万达店)</td>\n      <td>785</td>\n    </tr>\n    <tr>\n      <th>6</th>\n      <td>蒸年青STEAMYOUNG(百联又一城购物中心店)</td>\n      <td>3779</td>\n    </tr>\n    <tr>\n      <th>...</th>\n      <td>...</td>\n      <td>...</td>\n    </tr>\n    <tr>\n      <th>1217</th>\n      <td>屈臣氏(苏宁电器广场店)</td>\n      <td>22</td>\n    </tr>\n    <tr>\n      <th>1232</th>\n      <td>澳人坊(万达店)</td>\n      <td>12</td>\n    </tr>\n    <tr>\n      <th>1237</th>\n      <td>奥卡索(东方商厦店)</td>\n      <td>6</td>\n    </tr>\n    <tr>\n      <th>1240</th>\n      <td>TISSOT(巴黎春天店)</td>\n      <td>17</td>\n    </tr>\n    <tr>\n      <th>1259</th>\n      <td>as女鞋店(巴黎春天店)</td>\n      <td>11</td>\n    </tr>\n  </tbody>\n</table>\n<p>560 rows × 2 columns</p>\n</div>"
     },
     "execution_count": 104,
     "metadata": {},
     "output_type": "execute_result"
    }
   ],
   "source": [
    "#多列索引\n",
    "s2 = df1[['name','comment']]\n",
    "print(type(s2))\n",
    "s2"
   ],
   "metadata": {
    "collapsed": false,
    "pycharm": {
     "name": "#%%\n"
    }
   }
  },
  {
   "cell_type": "code",
   "execution_count": 105,
   "outputs": [],
   "source": [
    "#行索引：.iloc /  .loc\n",
    "#.loc"
   ],
   "metadata": {
    "collapsed": false,
    "pycharm": {
     "name": "#%%\n"
    }
   }
  },
  {
   "cell_type": "code",
   "execution_count": 106,
   "outputs": [
    {
     "data": {
      "text/plain": "               a          b          c          d\none    42.832292  48.438952  30.436249  59.798388\ntwo    96.769709  48.953634  99.338541  80.257174\nthree  11.270567  48.000410  23.221948  19.713756",
      "text/html": "<div>\n<style scoped>\n    .dataframe tbody tr th:only-of-type {\n        vertical-align: middle;\n    }\n\n    .dataframe tbody tr th {\n        vertical-align: top;\n    }\n\n    .dataframe thead th {\n        text-align: right;\n    }\n</style>\n<table border=\"1\" class=\"dataframe\">\n  <thead>\n    <tr style=\"text-align: right;\">\n      <th></th>\n      <th>a</th>\n      <th>b</th>\n      <th>c</th>\n      <th>d</th>\n    </tr>\n  </thead>\n  <tbody>\n    <tr>\n      <th>one</th>\n      <td>42.832292</td>\n      <td>48.438952</td>\n      <td>30.436249</td>\n      <td>59.798388</td>\n    </tr>\n    <tr>\n      <th>two</th>\n      <td>96.769709</td>\n      <td>48.953634</td>\n      <td>99.338541</td>\n      <td>80.257174</td>\n    </tr>\n    <tr>\n      <th>three</th>\n      <td>11.270567</td>\n      <td>48.000410</td>\n      <td>23.221948</td>\n      <td>19.713756</td>\n    </tr>\n  </tbody>\n</table>\n</div>"
     },
     "execution_count": 106,
     "metadata": {},
     "output_type": "execute_result"
    }
   ],
   "source": [
    "import numpy as np\n",
    "#df = pd.DataFrame(np.random.rand(12).reshape(3,4)*100)\n",
    "df = pd.DataFrame(np.random.rand(12).reshape(3,4)*100,\n",
    "                  index = ['one','two','three'],\n",
    "                  columns = ['a','b','c','d'])\n",
    "df"
   ],
   "metadata": {
    "collapsed": false,
    "pycharm": {
     "name": "#%%\n"
    }
   }
  },
  {
   "cell_type": "code",
   "execution_count": 107,
   "outputs": [
    {
     "data": {
      "text/plain": "               a          b          c          d\ntwo    96.769709  48.953634  99.338541  80.257174\nthree  11.270567  48.000410  23.221948  19.713756",
      "text/html": "<div>\n<style scoped>\n    .dataframe tbody tr th:only-of-type {\n        vertical-align: middle;\n    }\n\n    .dataframe tbody tr th {\n        vertical-align: top;\n    }\n\n    .dataframe thead th {\n        text-align: right;\n    }\n</style>\n<table border=\"1\" class=\"dataframe\">\n  <thead>\n    <tr style=\"text-align: right;\">\n      <th></th>\n      <th>a</th>\n      <th>b</th>\n      <th>c</th>\n      <th>d</th>\n    </tr>\n  </thead>\n  <tbody>\n    <tr>\n      <th>two</th>\n      <td>96.769709</td>\n      <td>48.953634</td>\n      <td>99.338541</td>\n      <td>80.257174</td>\n    </tr>\n    <tr>\n      <th>three</th>\n      <td>11.270567</td>\n      <td>48.000410</td>\n      <td>23.221948</td>\n      <td>19.713756</td>\n    </tr>\n  </tbody>\n</table>\n</div>"
     },
     "execution_count": 107,
     "metadata": {},
     "output_type": "execute_result"
    }
   ],
   "source": [
    "#loc  首先按 one two three 去筛选\n",
    "df.loc['two']\n",
    "df.loc[['two','three']]"
   ],
   "metadata": {
    "collapsed": false,
    "pycharm": {
     "name": "#%%\n"
    }
   }
  },
  {
   "cell_type": "code",
   "execution_count": 108,
   "outputs": [
    {
     "data": {
      "text/plain": "             a          b          c          d\none  42.832292  48.438952  30.436249  59.798388\ntwo  96.769709  48.953634  99.338541  80.257174",
      "text/html": "<div>\n<style scoped>\n    .dataframe tbody tr th:only-of-type {\n        vertical-align: middle;\n    }\n\n    .dataframe tbody tr th {\n        vertical-align: top;\n    }\n\n    .dataframe thead th {\n        text-align: right;\n    }\n</style>\n<table border=\"1\" class=\"dataframe\">\n  <thead>\n    <tr style=\"text-align: right;\">\n      <th></th>\n      <th>a</th>\n      <th>b</th>\n      <th>c</th>\n      <th>d</th>\n    </tr>\n  </thead>\n  <tbody>\n    <tr>\n      <th>one</th>\n      <td>42.832292</td>\n      <td>48.438952</td>\n      <td>30.436249</td>\n      <td>59.798388</td>\n    </tr>\n    <tr>\n      <th>two</th>\n      <td>96.769709</td>\n      <td>48.953634</td>\n      <td>99.338541</td>\n      <td>80.257174</td>\n    </tr>\n  </tbody>\n</table>\n</div>"
     },
     "execution_count": 108,
     "metadata": {},
     "output_type": "execute_result"
    }
   ],
   "source": [
    "#iloc\n",
    "df.iloc[0]\n",
    "df.iloc[[0,1]]\n"
   ],
   "metadata": {
    "collapsed": false,
    "pycharm": {
     "name": "#%%\n"
    }
   }
  },
  {
   "cell_type": "code",
   "execution_count": 109,
   "outputs": [
    {
     "data": {
      "text/plain": "  classify                       name  comment   star  price  \\\n1       美食                     泰国街边料理       74  准四星商户   48.0   \n2       美食              壹面如故(苏宁生活广场店)      265  准四星商户   21.0   \n3       美食           鮨谷•Aburiya(合生汇店)     2748  准五星商户  142.0   \n5       美食                   麦当劳(万达店)      785  准四星商户   24.0   \n6       美食  蒸年青STEAMYOUNG(百联又一城购物中心店)     3779  准五星商户   70.0   \n\n                 address    q    e    s  \n1          黄兴路合生汇B2美食集市内  7.4  7.6  7.4  \n2       邯郸路585号苏宁生活广场B1层  7.0  7.2  7.2  \n3  翔殷路1099号合生广场5楼23、28铺位  8.9  8.5  8.4  \n5  邯郸路600号万达商业广场B1楼A05号铺  7.4  7.2  7.2  \n6       淞沪路8号百联又一城购物中心7层  8.6  8.6  8.6  ",
      "text/html": "<div>\n<style scoped>\n    .dataframe tbody tr th:only-of-type {\n        vertical-align: middle;\n    }\n\n    .dataframe tbody tr th {\n        vertical-align: top;\n    }\n\n    .dataframe thead th {\n        text-align: right;\n    }\n</style>\n<table border=\"1\" class=\"dataframe\">\n  <thead>\n    <tr style=\"text-align: right;\">\n      <th></th>\n      <th>classify</th>\n      <th>name</th>\n      <th>comment</th>\n      <th>star</th>\n      <th>price</th>\n      <th>address</th>\n      <th>q</th>\n      <th>e</th>\n      <th>s</th>\n    </tr>\n  </thead>\n  <tbody>\n    <tr>\n      <th>1</th>\n      <td>美食</td>\n      <td>泰国街边料理</td>\n      <td>74</td>\n      <td>准四星商户</td>\n      <td>48.0</td>\n      <td>黄兴路合生汇B2美食集市内</td>\n      <td>7.4</td>\n      <td>7.6</td>\n      <td>7.4</td>\n    </tr>\n    <tr>\n      <th>2</th>\n      <td>美食</td>\n      <td>壹面如故(苏宁生活广场店)</td>\n      <td>265</td>\n      <td>准四星商户</td>\n      <td>21.0</td>\n      <td>邯郸路585号苏宁生活广场B1层</td>\n      <td>7.0</td>\n      <td>7.2</td>\n      <td>7.2</td>\n    </tr>\n    <tr>\n      <th>3</th>\n      <td>美食</td>\n      <td>鮨谷•Aburiya(合生汇店)</td>\n      <td>2748</td>\n      <td>准五星商户</td>\n      <td>142.0</td>\n      <td>翔殷路1099号合生广场5楼23、28铺位</td>\n      <td>8.9</td>\n      <td>8.5</td>\n      <td>8.4</td>\n    </tr>\n    <tr>\n      <th>5</th>\n      <td>美食</td>\n      <td>麦当劳(万达店)</td>\n      <td>785</td>\n      <td>准四星商户</td>\n      <td>24.0</td>\n      <td>邯郸路600号万达商业广场B1楼A05号铺</td>\n      <td>7.4</td>\n      <td>7.2</td>\n      <td>7.2</td>\n    </tr>\n    <tr>\n      <th>6</th>\n      <td>美食</td>\n      <td>蒸年青STEAMYOUNG(百联又一城购物中心店)</td>\n      <td>3779</td>\n      <td>准五星商户</td>\n      <td>70.0</td>\n      <td>淞沪路8号百联又一城购物中心7层</td>\n      <td>8.6</td>\n      <td>8.6</td>\n      <td>8.6</td>\n    </tr>\n  </tbody>\n</table>\n</div>"
     },
     "execution_count": 109,
     "metadata": {},
     "output_type": "execute_result"
    }
   ],
   "source": [
    "#布尔型索引 :按判断条件去筛选 对某列的数据进行条件判断筛选\n",
    "df1.head()\n",
    "\n"
   ],
   "metadata": {
    "collapsed": false,
    "pycharm": {
     "name": "#%%\n"
    }
   }
  },
  {
   "cell_type": "code",
   "execution_count": 112,
   "outputs": [
    {
     "data": {
      "text/plain": "                         name    q    e    s\n1                      泰国街边料理  7.4  7.6  7.4\n2               壹面如故(苏宁生活广场店)  7.0  7.2  7.2\n3            鮨谷•Aburiya(合生汇店)  8.9  8.5  8.4\n5                    麦当劳(万达店)  7.4  7.2  7.2\n6   蒸年青STEAMYOUNG(百联又一城购物中心店)  8.6  8.6  8.6\n7            丸来玩趣(百联又一城购物中心店)  7.0  6.5  6.5\n8                  韩国雪冰(合生汇店)  7.7  7.5  7.6\n9            小菜园新徽菜(五角场万达广场店)  8.5  8.9  9.0\n12           莆田餐厅(百联又一城购物中心店)  8.0  8.4  8.0\n13             旬彩(百联又一城购物中心店)  7.2  7.1  7.2",
      "text/html": "<div>\n<style scoped>\n    .dataframe tbody tr th:only-of-type {\n        vertical-align: middle;\n    }\n\n    .dataframe tbody tr th {\n        vertical-align: top;\n    }\n\n    .dataframe thead th {\n        text-align: right;\n    }\n</style>\n<table border=\"1\" class=\"dataframe\">\n  <thead>\n    <tr style=\"text-align: right;\">\n      <th></th>\n      <th>name</th>\n      <th>q</th>\n      <th>e</th>\n      <th>s</th>\n    </tr>\n  </thead>\n  <tbody>\n    <tr>\n      <th>1</th>\n      <td>泰国街边料理</td>\n      <td>7.4</td>\n      <td>7.6</td>\n      <td>7.4</td>\n    </tr>\n    <tr>\n      <th>2</th>\n      <td>壹面如故(苏宁生活广场店)</td>\n      <td>7.0</td>\n      <td>7.2</td>\n      <td>7.2</td>\n    </tr>\n    <tr>\n      <th>3</th>\n      <td>鮨谷•Aburiya(合生汇店)</td>\n      <td>8.9</td>\n      <td>8.5</td>\n      <td>8.4</td>\n    </tr>\n    <tr>\n      <th>5</th>\n      <td>麦当劳(万达店)</td>\n      <td>7.4</td>\n      <td>7.2</td>\n      <td>7.2</td>\n    </tr>\n    <tr>\n      <th>6</th>\n      <td>蒸年青STEAMYOUNG(百联又一城购物中心店)</td>\n      <td>8.6</td>\n      <td>8.6</td>\n      <td>8.6</td>\n    </tr>\n    <tr>\n      <th>7</th>\n      <td>丸来玩趣(百联又一城购物中心店)</td>\n      <td>7.0</td>\n      <td>6.5</td>\n      <td>6.5</td>\n    </tr>\n    <tr>\n      <th>8</th>\n      <td>韩国雪冰(合生汇店)</td>\n      <td>7.7</td>\n      <td>7.5</td>\n      <td>7.6</td>\n    </tr>\n    <tr>\n      <th>9</th>\n      <td>小菜园新徽菜(五角场万达广场店)</td>\n      <td>8.5</td>\n      <td>8.9</td>\n      <td>9.0</td>\n    </tr>\n    <tr>\n      <th>12</th>\n      <td>莆田餐厅(百联又一城购物中心店)</td>\n      <td>8.0</td>\n      <td>8.4</td>\n      <td>8.0</td>\n    </tr>\n    <tr>\n      <th>13</th>\n      <td>旬彩(百联又一城购物中心店)</td>\n      <td>7.2</td>\n      <td>7.1</td>\n      <td>7.2</td>\n    </tr>\n  </tbody>\n</table>\n</div>"
     },
     "execution_count": 112,
     "metadata": {},
     "output_type": "execute_result"
    }
   ],
   "source": [
    "#df1[条件]\n",
    "#df1[df1['comment']>50]\n",
    "df1[df1['comment']>50][['name','q','e','s']].head(10)"
   ],
   "metadata": {
    "collapsed": false,
    "pycharm": {
     "name": "#%%\n"
    }
   }
  },
  {
   "cell_type": "markdown",
   "source": [
    "### pandas 总结"
   ],
   "metadata": {
    "collapsed": false,
    "pycharm": {
     "name": "#%% md\n"
    }
   }
  },
  {
   "cell_type": "code",
   "execution_count": 116,
   "outputs": [
    {
     "data": {
      "text/plain": "a    122\nb    153\nc     23\nd     33\ne     45\ndtype: int64"
     },
     "execution_count": 116,
     "metadata": {},
     "output_type": "execute_result"
    }
   ],
   "source": [
    "#数据类型\n",
    "s = pd.Series([122,153,23,33,45],index= ['a','b','c','d','e'])\n",
    "s\n"
   ],
   "metadata": {
    "collapsed": false,
    "pycharm": {
     "name": "#%%\n"
    }
   }
  },
  {
   "cell_type": "code",
   "execution_count": 117,
   "outputs": [
    {
     "data": {
      "text/plain": "{'name': ['jack', 'tom', 'marry'],\n 'age': [18, 19, 20],\n 'gender': ['m', 'w', 'm']}"
     },
     "execution_count": 117,
     "metadata": {},
     "output_type": "execute_result"
    }
   ],
   "source": [
    "#Dataframe\n",
    "\n",
    "data = {'name':['jack','tom','marry'],'age':[18,19,20],'gender':['m','w','m']}\n",
    "data"
   ],
   "metadata": {
    "collapsed": false,
    "pycharm": {
     "name": "#%%\n"
    }
   }
  },
  {
   "cell_type": "code",
   "execution_count": 118,
   "outputs": [
    {
     "data": {
      "text/plain": "    name  age gender\n0   jack   18      m\n1    tom   19      w\n2  marry   20      m",
      "text/html": "<div>\n<style scoped>\n    .dataframe tbody tr th:only-of-type {\n        vertical-align: middle;\n    }\n\n    .dataframe tbody tr th {\n        vertical-align: top;\n    }\n\n    .dataframe thead th {\n        text-align: right;\n    }\n</style>\n<table border=\"1\" class=\"dataframe\">\n  <thead>\n    <tr style=\"text-align: right;\">\n      <th></th>\n      <th>name</th>\n      <th>age</th>\n      <th>gender</th>\n    </tr>\n  </thead>\n  <tbody>\n    <tr>\n      <th>0</th>\n      <td>jack</td>\n      <td>18</td>\n      <td>m</td>\n    </tr>\n    <tr>\n      <th>1</th>\n      <td>tom</td>\n      <td>19</td>\n      <td>w</td>\n    </tr>\n    <tr>\n      <th>2</th>\n      <td>marry</td>\n      <td>20</td>\n      <td>m</td>\n    </tr>\n  </tbody>\n</table>\n</div>"
     },
     "execution_count": 118,
     "metadata": {},
     "output_type": "execute_result"
    }
   ],
   "source": [
    "frame =pd.DataFrame(data)\n",
    "frame\n"
   ],
   "metadata": {
    "collapsed": false,
    "pycharm": {
     "name": "#%%\n"
    }
   }
  },
  {
   "cell_type": "code",
   "execution_count": 120,
   "outputs": [
    {
     "data": {
      "text/plain": "[0, 1, 2]"
     },
     "execution_count": 120,
     "metadata": {},
     "output_type": "execute_result"
    }
   ],
   "source": [
    "frame.index.tolist()"
   ],
   "metadata": {
    "collapsed": false,
    "pycharm": {
     "name": "#%%\n"
    }
   }
  },
  {
   "cell_type": "code",
   "execution_count": 122,
   "outputs": [
    {
     "data": {
      "text/plain": "['name', 'age', 'gender']"
     },
     "execution_count": 122,
     "metadata": {},
     "output_type": "execute_result"
    }
   ],
   "source": [
    "frame.columns.tolist()"
   ],
   "metadata": {
    "collapsed": false,
    "pycharm": {
     "name": "#%%\n"
    }
   }
  },
  {
   "cell_type": "code",
   "execution_count": 124,
   "outputs": [
    {
     "data": {
      "text/plain": "numpy.ndarray"
     },
     "execution_count": 124,
     "metadata": {},
     "output_type": "execute_result"
    }
   ],
   "source": [
    "frame.values"
   ],
   "metadata": {
    "collapsed": false,
    "pycharm": {
     "name": "#%%\n"
    }
   }
  },
  {
   "cell_type": "code",
   "execution_count": null,
   "outputs": [],
   "source": [
    "type(frame.values)"
   ],
   "metadata": {
    "collapsed": false,
    "pycharm": {
     "name": "#%%\n"
    }
   }
  },
  {
   "cell_type": "code",
   "execution_count": null,
   "outputs": [],
   "source": [
    "#如何创建\n",
    "\n",
    "# 1、有数据直接读取，read_cav, read_excel\n",
    "\n",
    "# 2、 字典创建，随机数+columns设置"
   ],
   "metadata": {
    "collapsed": false,
    "pycharm": {
     "name": "#%%\n"
    }
   }
  },
  {
   "cell_type": "code",
   "execution_count": 126,
   "outputs": [
    {
     "data": {
      "text/plain": "   values1  values2\n0        2        2\n1        2        2\n2        2       22\n3       26       26\n4        2       52\n5        4       44\n6        5        5",
      "text/html": "<div>\n<style scoped>\n    .dataframe tbody tr th:only-of-type {\n        vertical-align: middle;\n    }\n\n    .dataframe tbody tr th {\n        vertical-align: top;\n    }\n\n    .dataframe thead th {\n        text-align: right;\n    }\n</style>\n<table border=\"1\" class=\"dataframe\">\n  <thead>\n    <tr style=\"text-align: right;\">\n      <th></th>\n      <th>values1</th>\n      <th>values2</th>\n    </tr>\n  </thead>\n  <tbody>\n    <tr>\n      <th>0</th>\n      <td>2</td>\n      <td>2</td>\n    </tr>\n    <tr>\n      <th>1</th>\n      <td>2</td>\n      <td>2</td>\n    </tr>\n    <tr>\n      <th>2</th>\n      <td>2</td>\n      <td>22</td>\n    </tr>\n    <tr>\n      <th>3</th>\n      <td>26</td>\n      <td>26</td>\n    </tr>\n    <tr>\n      <th>4</th>\n      <td>2</td>\n      <td>52</td>\n    </tr>\n    <tr>\n      <th>5</th>\n      <td>4</td>\n      <td>44</td>\n    </tr>\n    <tr>\n      <th>6</th>\n      <td>5</td>\n      <td>5</td>\n    </tr>\n  </tbody>\n</table>\n</div>"
     },
     "execution_count": 126,
     "metadata": {},
     "output_type": "execute_result"
    }
   ],
   "source": [
    "df = pd.DataFrame({'values1':[2,2,2,26,2,4,5],'values2':[2,2,22,26,52,44,5],})\n",
    "\n",
    "df\n"
   ],
   "metadata": {
    "collapsed": false,
    "pycharm": {
     "name": "#%%\n"
    }
   }
  },
  {
   "cell_type": "code",
   "execution_count": 127,
   "outputs": [
    {
     "data": {
      "text/plain": "            A           B\n0   98.711924   56.201244\n1   99.845067  -91.455275\n2   -9.975081 -124.828745\n3 -104.635472   86.438522\n4  -10.586686  -27.457726",
      "text/html": "<div>\n<style scoped>\n    .dataframe tbody tr th:only-of-type {\n        vertical-align: middle;\n    }\n\n    .dataframe tbody tr th {\n        vertical-align: top;\n    }\n\n    .dataframe thead th {\n        text-align: right;\n    }\n</style>\n<table border=\"1\" class=\"dataframe\">\n  <thead>\n    <tr style=\"text-align: right;\">\n      <th></th>\n      <th>A</th>\n      <th>B</th>\n    </tr>\n  </thead>\n  <tbody>\n    <tr>\n      <th>0</th>\n      <td>98.711924</td>\n      <td>56.201244</td>\n    </tr>\n    <tr>\n      <th>1</th>\n      <td>99.845067</td>\n      <td>-91.455275</td>\n    </tr>\n    <tr>\n      <th>2</th>\n      <td>-9.975081</td>\n      <td>-124.828745</td>\n    </tr>\n    <tr>\n      <th>3</th>\n      <td>-104.635472</td>\n      <td>86.438522</td>\n    </tr>\n    <tr>\n      <th>4</th>\n      <td>-10.586686</td>\n      <td>-27.457726</td>\n    </tr>\n  </tbody>\n</table>\n</div>"
     },
     "execution_count": 127,
     "metadata": {},
     "output_type": "execute_result"
    }
   ],
   "source": [
    "df = pd.DataFrame(np.random.randn(100,2)*100,columns=['A','B'])\n",
    "df.head()\n"
   ],
   "metadata": {
    "collapsed": false,
    "pycharm": {
     "name": "#%%\n"
    }
   }
  },
  {
   "cell_type": "code",
   "execution_count": 133,
   "outputs": [
    {
     "data": {
      "text/plain": "<matplotlib.axes._subplots.AxesSubplot at 0x1da65449ec8>"
     },
     "execution_count": 133,
     "metadata": {},
     "output_type": "execute_result"
    },
    {
     "data": {
      "text/plain": "<Figure size 432x288 with 1 Axes>",
      "image/png": "[encoded data removed]"
     },
     "metadata": {
      "needs_background": "light"
     },
     "output_type": "display_data"
    }
   ],
   "source": [
    "import  matplotlib.pyplot as plt\n",
    "#% matplotlib inline\n",
    "\n",
    "df.plot()\n",
    "plt.grid()"
   ],
   "metadata": {
    "collapsed": false,
    "pycharm": {
     "name": "#%%\n"
    }
   }
  },
  {
   "cell_type": "code",
   "execution_count": 136,
   "outputs": [
    {
     "data": {
      "text/plain": "0     False\n1      True\n2      True\n3      True\n4     False\n5      True\n6      True\n7     False\n8      True\n9      True\n10    False\n11     True\n12     True\n13    False\n14     True\ndtype: bool"
     },
     "execution_count": 136,
     "metadata": {},
     "output_type": "execute_result"
    }
   ],
   "source": [
    "#去重\n",
    "\n",
    "s = pd.Series([1,1,1,1,2,2,2,3,3,3,4,4,4,5,5])\n",
    "s.duplicated()"
   ],
   "metadata": {
    "collapsed": false,
    "pycharm": {
     "name": "#%%\n"
    }
   }
  },
  {
   "cell_type": "code",
   "execution_count": 138,
   "outputs": [
    {
     "data": {
      "text/plain": "0     1\n4     2\n7     3\n10    4\n13    5\ndtype: int64"
     },
     "execution_count": 138,
     "metadata": {},
     "output_type": "execute_result"
    }
   ],
   "source": [
    "s = pd.Series([1,1,1,1,2,2,2,3,3,3,4,4,4,5,5])\n",
    "s[s.duplicated() == False]\n"
   ],
   "metadata": {
    "collapsed": false,
    "pycharm": {
     "name": "#%%\n"
    }
   }
  },
  {
   "cell_type": "code",
   "execution_count": 139,
   "outputs": [
    {
     "data": {
      "text/plain": "0     NaN\n1       b\n2       b\n3       d\n4     NaN\n5     NaN\n6       d\n7     NaN\n8       f\n9       d\n10    NaN\n11      d\n12      f\n13      f\ndtype: object"
     },
     "execution_count": 139,
     "metadata": {},
     "output_type": "execute_result"
    }
   ],
   "source": [
    "#替换\n",
    "\n",
    "s = pd.Series(list('abbdasdsfdadff'))\n",
    "#s.replace('a',np.nan)\n",
    "s.replace(['a','s'],np.nan)\n"
   ],
   "metadata": {
    "collapsed": false,
    "pycharm": {
     "name": "#%%\n"
    }
   }
  },
  {
   "cell_type": "code",
   "execution_count": 140,
   "outputs": [
    {
     "data": {
      "text/plain": "0     helloworld\n1              b\n2              b\n3              d\n4     helloworld\n5            123\n6              d\n7            123\n8              f\n9              d\n10    helloworld\n11             d\n12             f\n13             f\ndtype: object"
     },
     "execution_count": 140,
     "metadata": {},
     "output_type": "execute_result"
    }
   ],
   "source": [
    "#替换\n",
    "\n",
    "s = pd.Series(list('abbdasdsfdadff'))\n",
    "s.replace({'a':'helloworld','s':123})\n"
   ],
   "metadata": {
    "collapsed": false,
    "pycharm": {
     "name": "#%%\n"
    }
   }
  },
  {
   "cell_type": "code",
   "execution_count": 141,
   "outputs": [
    {
     "data": {
      "text/plain": "   classify                       name  comment   star  price  \\\n1        美食                     泰国街边料理       74  准四星商户   48.0   \n2        美食              壹面如故(苏宁生活广场店)      265  准四星商户   21.0   \n3        美食           鮨谷•Aburiya(合生汇店)     2748  准五星商户  142.0   \n5        美食                   麦当劳(万达店)      785  准四星商户   24.0   \n6        美食  蒸年青STEAMYOUNG(百联又一城购物中心店)     3779  准五星商户   70.0   \n7        美食           丸来玩趣(百联又一城购物中心店)      458  准四星商户   14.0   \n8        美食                 韩国雪冰(合生汇店)     1280   四星商户   47.0   \n9        美食           小菜园新徽菜(五角场万达广场店)       85  准五星商户   81.0   \n11       美食                 阿满鸡排(合生汇店)       30   四星商户   17.0   \n12       美食           莆田餐厅(百联又一城购物中心店)      988   四星商户  150.0   \n\n                  address    q    e    s  \n1           黄兴路合生汇B2美食集市内  7.4  7.6  7.4  \n2        邯郸路585号苏宁生活广场B1层  7.0  7.2  7.2  \n3   翔殷路1099号合生广场5楼23、28铺位  8.9  8.5  8.4  \n5   邯郸路600号万达商业广场B1楼A05号铺  7.4  7.2  7.2  \n6        淞沪路8号百联又一城购物中心7层  8.6  8.6  8.6  \n7       淞沪路8号百联又一城购物中心B1层  7.0  6.5  6.5  \n8           翔殷路1099号合生汇4F  7.7  7.5  7.6  \n9    邯郸路600号万达商业广场特力时尚汇3层  8.5  8.9  9.0  \n11          翔殷路1099号合生汇4层  7.9  8.0  7.7  \n12       淞沪路8号百联又一城购物中心7层  8.0  8.4  8.0  ",
      "text/html": "<div>\n<style scoped>\n    .dataframe tbody tr th:only-of-type {\n        vertical-align: middle;\n    }\n\n    .dataframe tbody tr th {\n        vertical-align: top;\n    }\n\n    .dataframe thead th {\n        text-align: right;\n    }\n</style>\n<table border=\"1\" class=\"dataframe\">\n  <thead>\n    <tr style=\"text-align: right;\">\n      <th></th>\n      <th>classify</th>\n      <th>name</th>\n      <th>comment</th>\n      <th>star</th>\n      <th>price</th>\n      <th>address</th>\n      <th>q</th>\n      <th>e</th>\n      <th>s</th>\n    </tr>\n  </thead>\n  <tbody>\n    <tr>\n      <th>1</th>\n      <td>美食</td>\n      <td>泰国街边料理</td>\n      <td>74</td>\n      <td>准四星商户</td>\n      <td>48.0</td>\n      <td>黄兴路合生汇B2美食集市内</td>\n      <td>7.4</td>\n      <td>7.6</td>\n      <td>7.4</td>\n    </tr>\n    <tr>\n      <th>2</th>\n      <td>美食</td>\n      <td>壹面如故(苏宁生活广场店)</td>\n      <td>265</td>\n      <td>准四星商户</td>\n      <td>21.0</td>\n      <td>邯郸路585号苏宁生活广场B1层</td>\n      <td>7.0</td>\n      <td>7.2</td>\n      <td>7.2</td>\n    </tr>\n    <tr>\n      <th>3</th>\n      <td>美食</td>\n      <td>鮨谷•Aburiya(合生汇店)</td>\n      <td>2748</td>\n      <td>准五星商户</td>\n      <td>142.0</td>\n      <td>翔殷路1099号合生广场5楼23、28铺位</td>\n      <td>8.9</td>\n      <td>8.5</td>\n      <td>8.4</td>\n    </tr>\n    <tr>\n      <th>5</th>\n      <td>美食</td>\n      <td>麦当劳(万达店)</td>\n      <td>785</td>\n      <td>准四星商户</td>\n      <td>24.0</td>\n      <td>邯郸路600号万达商业广场B1楼A05号铺</td>\n      <td>7.4</td>\n      <td>7.2</td>\n      <td>7.2</td>\n    </tr>\n    <tr>\n      <th>6</th>\n      <td>美食</td>\n      <td>蒸年青STEAMYOUNG(百联又一城购物中心店)</td>\n      <td>3779</td>\n      <td>准五星商户</td>\n      <td>70.0</td>\n      <td>淞沪路8号百联又一城购物中心7层</td>\n      <td>8.6</td>\n      <td>8.6</td>\n      <td>8.6</td>\n    </tr>\n    <tr>\n      <th>7</th>\n      <td>美食</td>\n      <td>丸来玩趣(百联又一城购物中心店)</td>\n      <td>458</td>\n      <td>准四星商户</td>\n      <td>14.0</td>\n      <td>淞沪路8号百联又一城购物中心B1层</td>\n      <td>7.0</td>\n      <td>6.5</td>\n      <td>6.5</td>\n    </tr>\n    <tr>\n      <th>8</th>\n      <td>美食</td>\n      <td>韩国雪冰(合生汇店)</td>\n      <td>1280</td>\n      <td>四星商户</td>\n      <td>47.0</td>\n      <td>翔殷路1099号合生汇4F</td>\n      <td>7.7</td>\n      <td>7.5</td>\n      <td>7.6</td>\n    </tr>\n    <tr>\n      <th>9</th>\n      <td>美食</td>\n      <td>小菜园新徽菜(五角场万达广场店)</td>\n      <td>85</td>\n      <td>准五星商户</td>\n      <td>81.0</td>\n      <td>邯郸路600号万达商业广场特力时尚汇3层</td>\n      <td>8.5</td>\n      <td>8.9</td>\n      <td>9.0</td>\n    </tr>\n    <tr>\n      <th>11</th>\n      <td>美食</td>\n      <td>阿满鸡排(合生汇店)</td>\n      <td>30</td>\n      <td>四星商户</td>\n      <td>17.0</td>\n      <td>翔殷路1099号合生汇4层</td>\n      <td>7.9</td>\n      <td>8.0</td>\n      <td>7.7</td>\n    </tr>\n    <tr>\n      <th>12</th>\n      <td>美食</td>\n      <td>莆田餐厅(百联又一城购物中心店)</td>\n      <td>988</td>\n      <td>四星商户</td>\n      <td>150.0</td>\n      <td>淞沪路8号百联又一城购物中心7层</td>\n      <td>8.0</td>\n      <td>8.4</td>\n      <td>8.0</td>\n    </tr>\n  </tbody>\n</table>\n</div>"
     },
     "execution_count": 141,
     "metadata": {},
     "output_type": "execute_result"
    }
   ],
   "source": [
    "#分组\n",
    "df1.head(10)"
   ],
   "metadata": {
    "collapsed": false,
    "pycharm": {
     "name": "#%%\n"
    }
   }
  },
  {
   "cell_type": "code",
   "execution_count": 145,
   "outputs": [
    {
     "data": {
      "text/plain": "star\n三星商户       411.000000\n二星商户        39.000000\n五星商户       669.242424\n准五星商户      258.184615\n准四星商户      303.988142\n四星商户       235.508772\n该商户暂无星级     40.000000\nName: price, dtype: float64"
     },
     "execution_count": 145,
     "metadata": {},
     "output_type": "execute_result"
    }
   ],
   "source": [
    "#df1.groupby('star').count()\n",
    "#以star分组，算price的平均值\n",
    "df1.groupby('star')['price'].mean()"
   ],
   "metadata": {
    "collapsed": false,
    "pycharm": {
     "name": "#%%\n"
    }
   }
  },
  {
   "cell_type": "code",
   "execution_count": 146,
   "outputs": [
    {
     "data": {
      "text/plain": "star\n三星商户        36\n二星商户         1\n五星商户        33\n准五星商户       65\n准四星商户      253\n四星商户       171\n该商户暂无星级      1\nName: price, dtype: int64"
     },
     "execution_count": 146,
     "metadata": {},
     "output_type": "execute_result"
    }
   ],
   "source": [
    "df1.groupby('star')['price'].count()\n",
    "\n"
   ],
   "metadata": {
    "collapsed": false,
    "pycharm": {
     "name": "#%%\n"
    }
   }
  },
  {
   "cell_type": "code",
   "execution_count": 151,
   "outputs": [],
   "source": [
    "#merge 合并 ————》 类似excel的vlookup\n",
    "\n",
    "df1 = pd.DataFrame({'key':['K0','K1','K2','K3'],\n",
    "                    'A':['A0','A1','A2','A3'],\n",
    "                    'B':['B0','B1','B2','B3']})\n",
    "df2 = pd.DataFrame({'key':['K0','K1','K2','K3'],\n",
    "                    'C':['C0','C1','C2','C3'],\n",
    "                    'D':['D0','D1','D2','D3']})\n",
    "df3 = pd.DataFrame({'key1':['K0','K1','K2','K3'],\n",
    "                    'key2':['K0','K1','K0','K1'],\n",
    "                    'A':['A0','A1','A2','A3'],\n",
    "                    'B':['B0','B1','B2','B3']})\n",
    "df4 = pd.DataFrame({'key1':['K0','K1','K2','K3'],\n",
    "                    'key2':['K0','K1','K0','K1'],\n",
    "                    'C':['C0','C1','C2','C3'],\n",
    "                    'D':['D0','D1','D2','D3']})"
   ],
   "metadata": {
    "collapsed": false,
    "pycharm": {
     "name": "#%%\n"
    }
   }
  },
  {
   "cell_type": "code",
   "execution_count": null,
   "outputs": [],
   "source": [
    "df1"
   ],
   "metadata": {
    "collapsed": false,
    "pycharm": {
     "name": "#%%\n"
    }
   }
  },
  {
   "cell_type": "code",
   "execution_count": 148,
   "outputs": [
    {
     "name": "stdout",
     "output_type": "stream",
     "text": [
      "  key   A   B   C   D\n",
      "0  K0  A0  B0  C0  D0\n",
      "1  K1  A1  B1  C1  D1\n",
      "2  K2  A2  B2  C2  D2\n",
      "3  K3  A3  B3  C3  D3\n",
      "--------\n"
     ]
    }
   ],
   "source": [
    "print(pd.merge(df1,df2,on='key'))\n",
    "print('--------')"
   ],
   "metadata": {
    "collapsed": false,
    "pycharm": {
     "name": "#%%\n"
    }
   }
  },
  {
   "cell_type": "code",
   "execution_count": 152,
   "outputs": [
    {
     "name": "stdout",
     "output_type": "stream",
     "text": [
      "  key1 key2   A   B   C   D\n",
      "0   K0   K0  A0  B0  C0  D0\n",
      "1   K1   K1  A1  B1  C1  D1\n",
      "2   K2   K0  A2  B2  C2  D2\n",
      "3   K3   K1  A3  B3  C3  D3\n",
      "--------\n"
     ]
    }
   ],
   "source": [
    "#多个连接键\n",
    "print(pd.merge(df3,df4,on=['key1','key2']))\n",
    "print('--------')\n"
   ],
   "metadata": {
    "collapsed": false,
    "pycharm": {
     "name": "#%%\n"
    }
   }
  },
  {
   "cell_type": "code",
   "execution_count": null,
   "outputs": [],
   "source": [],
   "metadata": {
    "collapsed": false,
    "pycharm": {
     "name": "#%%\n"
    }
   }
  }
 ],
 "metadata": {
  "kernelspec": {
   "name": "python3",
   "language": "python",
   "display_name": "Python 3"
  },
  "language_info": {
   "codemirror_mode": {
    "name": "ipython",
    "version": 2
   },
   "file_extension": ".py",
   "mimetype": "text/x-python",
   "name": "python",
   "nbconvert_exporter": "python",
   "pygments_lexer": "ipython2",
   "version": "2.7.6"
  }
 },
 "nbformat": 4,
 "nbformat_minor": 0
}