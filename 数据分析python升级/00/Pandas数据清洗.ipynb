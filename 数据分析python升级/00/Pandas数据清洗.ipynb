{
 "cells": [
  {
   "cell_type": "code",
   "execution_count": 39,
   "metadata": {
    "collapsed": true
   },
   "outputs": [
    {
     "name": "stdout",
     "output_type": "stream",
     "text": [
      "['\\ufeffclassify', 'name', 'comment', 'star', 'price', 'address', 'commentlist\\n']\n",
      "['美食', '望蓉城老坛酸菜鱼(合生汇店)', '我要点评', '该商户暂无星级', '人均                                        ￥125', '翔殷路1099号合生汇5F', '口味8.3                                环境8.4                                服务8.5\\n']\n",
      "['美食', '泰国街边料理', '74                    条点评', '准四星商户', '人均                                        ￥48', '黄兴路合生汇B2美食集市内', '口味7.4                                环境7.6                                服务7.4\\n']\n",
      "['美食', '壹面如故(苏宁生活广场店)', '265                    条点评', '准四星商户', '人均                                        ￥21', '邯郸路585号苏宁生活广场B1层', '口味7.0                                环境7.2                                服务7.2\\n']\n",
      "['美食', '鮨谷•Aburiya(合生汇店)', '2748                    条点评', '准五星商户', '人均                                        ￥142', '翔殷路1099号合生广场5楼23、28铺位', '口味8.9                                环境8.5                                服务8.4\\n']\n"
     ]
    }
   ],
   "source": [
    "f = open('E:/视频qyp/【瑞客论坛 www.ruike1.com】网易云课堂 数据分析师Python进阶（完结）/00-0 QQ群资料/【非常重要】课程资料\\CLASSDATA_ch02基础语言入门：从零开始学习Python/商铺数据.csv','r',encoding='utf8')\n",
    "\n",
    "for i in f.readlines()[:5]:\n",
    "    print(i.split(','))\n",
    "    #查看数据"
   ]
  },
  {
   "cell_type": "code",
   "execution_count": 40,
   "outputs": [
    {
     "name": "stdout",
     "output_type": "stream",
     "text": [
      "finish\n"
     ]
    }
   ],
   "source": [
    "#清洗字段\n",
    "#创建comment，price，commentlist清洗函数\n",
    "\n",
    "#函数式编程\n",
    "def fcm(s):\n",
    "    if '条' in s:\n",
    "        return int(s.split('                    ')[0])\n",
    "    else:\n",
    "        return '缺失数据'\n",
    "#comment清洗函数：用空格分段，选取结果list的第一个为点评数，并且转化为整数\n",
    "\n",
    "def fpr(s):\n",
    "    if '￥' in s:\n",
    "        return float(s.split('￥')[-1])\n",
    "    else:\n",
    "        return '缺失数据'\n",
    "#comment清洗函数：用￥分段，选取结果list的最后一个为人均价格，并且转化为浮点数\n",
    "\n",
    "def fcl(s):\n",
    "    if ' ' in s:\n",
    "        quality = float(s.split('                                ')[0][2:])\n",
    "        environment = float(s.split('                                ')[1][2:])\n",
    "        service = float(s.split('                                ')[2][2:-1])\n",
    "        return  quality,environment,service\n",
    "    else:\n",
    "        return '缺失数据'\n",
    "#commentlist清洗函数：用空格分段，分别清洗出质量、环境及服务质量，并转化为浮点型\n",
    "\n",
    "print('finish')"
   ],
   "metadata": {
    "collapsed": false,
    "pycharm": {
     "name": "#%%\n"
    }
   }
  },
  {
   "cell_type": "code",
   "execution_count": 41,
   "outputs": [
    {
     "name": "stdout",
     "output_type": "stream",
     "text": [
      "成功加载1条数据\n",
      "成功加载2条数据\n",
      "成功加载3条数据\n",
      "成功加载4条数据\n",
      "成功加载5条数据\n",
      "成功加载6条数据\n",
      "成功加载7条数据\n",
      "[{'classify': '美食', 'name': '泰国街边料理', 'comment_count': 74, 'star': '准四星商户', 'price': 48.0, 'add': '黄兴路合生汇B2美食集市内', 'qua': 7.4, 'env': 7.6, 'ser': 7.4}, {'classify': '美食', 'name': '壹面如故(苏宁生活广场店)', 'comment_count': 265, 'star': '准四星商户', 'price': 21.0, 'add': '邯郸路585号苏宁生活广场B1层', 'qua': 7.0, 'env': 7.2, 'ser': 7.2}, {'classify': '美食', 'name': '鮨谷•Aburiya(合生汇店)', 'comment_count': 2748, 'star': '准五星商户', 'price': 142.0, 'add': '翔殷路1099号合生广场5楼23、28铺位', 'qua': 8.9, 'env': 8.5, 'ser': 8.4}, {'classify': '美食', 'name': '麦当劳(万达店)', 'comment_count': 785, 'star': '准四星商户', 'price': 24.0, 'add': '邯郸路600号万达商业广场B1楼A05号铺', 'qua': 7.4, 'env': 7.2, 'ser': 7.2}, {'classify': '美食', 'name': '蒸年青STEAMYOUNG(百联又一城购物中心店)', 'comment_count': 3779, 'star': '准五星商户', 'price': 70.0, 'add': '淞沪路8号百联又一城购物中心7层', 'qua': 8.6, 'env': 8.6, 'ser': 8.6}, {'classify': '美食', 'name': '丸来玩趣(百联又一城购物中心店)', 'comment_count': 458, 'star': '准四星商户', 'price': 14.0, 'add': '淞沪路8号百联又一城购物中心B1层', 'qua': 7.0, 'env': 6.5, 'ser': 6.5}, {'classify': '美食', 'name': '韩国雪冰(合生汇店)', 'comment_count': 1280, 'star': '四星商户', 'price': 47.0, 'add': '翔殷路1099号合生汇4F', 'qua': 7.7, 'env': 7.5, 'ser': 7.6}]\n",
      "总共加载7条数据\n"
     ]
    }
   ],
   "source": [
    "#数据清洗\n",
    "\n",
    "datalst = [] #创建空列表\n",
    "\n",
    "f.seek(0)\n",
    "n=0 #创建计数变量\n",
    "for i in f.readlines()[1:10]:\n",
    "    data = i.split(',')\n",
    "    #print(data)\n",
    "    classify = data[0]              #提取分类\n",
    "    name = data[1]                  #提取店铺名称\n",
    "    comment_count = fcm(data[2])    #提取评论数量\n",
    "    star =data[3]                   #提取星级\n",
    "    price = fpr(data[4])            #提取人均\n",
    "    add  = data[5]                  #提取地址\n",
    "    qua = fcl(data[6])[0]           #提取质量评分\n",
    "    env = fcl(data[6])[1]           #提取环境评分\n",
    "    ser = fcl(data[6])[2]           #提取服务评分\n",
    "    if '缺失数据' not in [comment_count,price,qua]:     #用于判断是否有数据缺失\n",
    "        n += 1\n",
    "        data_re = [['classify',classify],\n",
    "                   ['name',name],\n",
    "                   ['comment_count',comment_count],\n",
    "                   ['star',star],\n",
    "                   ['price',price],\n",
    "                   ['add',add],\n",
    "                   ['qua',qua],\n",
    "                   ['env',env],\n",
    "                   ['ser',ser]]\n",
    "        datalst.append(dict(data_re))       #生成字典并存入列表datalst\n",
    "        print('成功加载%i条数据' %n)\n",
    "    else:\n",
    "        continue\n",
    "\n",
    "print(datalst)\n",
    "print('总共加载%i条数据' %n)"
   ],
   "metadata": {
    "collapsed": false,
    "pycharm": {
     "name": "#%%\n"
    }
   }
  }
 ],
 "metadata": {
  "kernelspec": {
   "name": "python3",
   "language": "python",
   "display_name": "Python 3"
  },
  "language_info": {
   "codemirror_mode": {
    "name": "ipython",
    "version": 2
   },
   "file_extension": ".py",
   "mimetype": "text/x-python",
   "name": "python",
   "nbconvert_exporter": "python",
   "pygments_lexer": "ipython2",
   "version": "2.7.6"
  }
 },
 "nbformat": 4,
 "nbformat_minor": 0
}