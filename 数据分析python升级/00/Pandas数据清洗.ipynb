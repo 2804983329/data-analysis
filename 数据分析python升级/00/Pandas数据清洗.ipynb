{
 "cells": [
  {
   "cell_type": "code",
   "execution_count": 95,
   "metadata": {
    "collapsed": true
   },
   "outputs": [
    {
     "name": "stdout",
     "output_type": "stream",
     "text": [
      "['\\ufeffclassify', 'name', 'comment', 'star', 'price', 'address', 'commentlist\\n']\n",
      "['美食', '望蓉城老坛酸菜鱼(合生汇店)', '我要点评', '该商户暂无星级', '人均                                        ￥125', '翔殷路1099号合生汇5F', '口味8.3                                环境8.4                                服务8.5\\n']\n",
      "['美食', '泰国街边料理', '74                    条点评', '准四星商户', '人均                                        ￥48', '黄兴路合生汇B2美食集市内', '口味7.4                                环境7.6                                服务7.4\\n']\n",
      "['美食', '壹面如故(苏宁生活广场店)', '265                    条点评', '准四星商户', '人均                                        ￥21', '邯郸路585号苏宁生活广场B1层', '口味7.0                                环境7.2                                服务7.2\\n']\n",
      "['美食', '鮨谷•Aburiya(合生汇店)', '2748                    条点评', '准五星商户', '人均                                        ￥142', '翔殷路1099号合生广场5楼23、28铺位', '口味8.9                                环境8.5                                服务8.4\\n']\n"
     ]
    }
   ],
   "source": [
    "f = open('E:/视频qyp/【瑞客论坛 www.ruike1.com】网易云课堂 数据分析师Python进阶（完结）/00-0 QQ群资料/【非常重要】课程资料/CLASSDATA_ch02基础语言入门：从零开始学习Python/商铺数据.csv','r',encoding='utf8')\n",
    "\n",
    "for i in f.readlines()[:5]:\n",
    "    print(i.split(','))\n",
    "    #查看数据"
   ]
  },
  {
   "cell_type": "code",
   "execution_count": 96,
   "outputs": [
    {
     "name": "stdout",
     "output_type": "stream",
     "text": [
      "finish\n"
     ]
    }
   ],
   "source": [
    "#清洗字段\n",
    "#创建comment，price，commentlist清洗函数\n",
    "\n",
    "#函数式编程\n",
    "def fcm(s):\n",
    "    if '条' in s:\n",
    "        return int(s.split('                    ')[0])\n",
    "    else:\n",
    "        return '缺失数据'\n",
    "#comment清洗函数：用空格分段，选取结果list的第一个为点评数，并且转化为整数\n",
    "\n",
    "def fpr(s):\n",
    "    if '￥' in s:\n",
    "        return float(s.split('￥')[-1])\n",
    "    else:\n",
    "        return '缺失数据'\n",
    "#comment清洗函数：用￥分段，选取结果list的最后一个为人均价格，并且转化为浮点数\n",
    "\n",
    "def fcl(s):\n",
    "    if ' ' in s:\n",
    "        quality = float(s.split('                                ')[0][2:])\n",
    "        environment = float(s.split('                                ')[1][2:])\n",
    "        service = float(s.split('                                ')[2][2:-1])\n",
    "        return  quality,environment,service\n",
    "    else:\n",
    "        return '缺失数据'\n",
    "#commentlist清洗函数：用空格分段，分别清洗出质量、环境及服务质量，并转化为浮点型\n",
    "\n",
    "print('finish')"
   ],
   "metadata": {
    "collapsed": false,
    "pycharm": {
     "name": "#%%\n"
    }
   }
  },
  {
   "cell_type": "code",
   "execution_count": 97,
   "outputs": [
    {
     "name": "stdout",
     "output_type": "stream",
     "text": [
      "成功加载1条数据\n",
      "成功加载2条数据\n",
      "成功加载3条数据\n",
      "成功加载4条数据\n",
      "成功加载5条数据\n",
      "成功加载6条数据\n",
      "成功加载7条数据\n",
      "[{'classify': '美食', 'name': '泰国街边料理', 'comment_count': 74, 'star': '准四星商户', 'price': 48.0, 'add': '黄兴路合生汇B2美食集市内', 'qua': 7.4, 'env': 7.6, 'ser': 7.4}, {'classify': '美食', 'name': '壹面如故(苏宁生活广场店)', 'comment_count': 265, 'star': '准四星商户', 'price': 21.0, 'add': '邯郸路585号苏宁生活广场B1层', 'qua': 7.0, 'env': 7.2, 'ser': 7.2}, {'classify': '美食', 'name': '鮨谷•Aburiya(合生汇店)', 'comment_count': 2748, 'star': '准五星商户', 'price': 142.0, 'add': '翔殷路1099号合生广场5楼23、28铺位', 'qua': 8.9, 'env': 8.5, 'ser': 8.4}, {'classify': '美食', 'name': '麦当劳(万达店)', 'comment_count': 785, 'star': '准四星商户', 'price': 24.0, 'add': '邯郸路600号万达商业广场B1楼A05号铺', 'qua': 7.4, 'env': 7.2, 'ser': 7.2}, {'classify': '美食', 'name': '蒸年青STEAMYOUNG(百联又一城购物中心店)', 'comment_count': 3779, 'star': '准五星商户', 'price': 70.0, 'add': '淞沪路8号百联又一城购物中心7层', 'qua': 8.6, 'env': 8.6, 'ser': 8.6}, {'classify': '美食', 'name': '丸来玩趣(百联又一城购物中心店)', 'comment_count': 458, 'star': '准四星商户', 'price': 14.0, 'add': '淞沪路8号百联又一城购物中心B1层', 'qua': 7.0, 'env': 6.5, 'ser': 6.5}, {'classify': '美食', 'name': '韩国雪冰(合生汇店)', 'comment_count': 1280, 'star': '四星商户', 'price': 47.0, 'add': '翔殷路1099号合生汇4F', 'qua': 7.7, 'env': 7.5, 'ser': 7.6}]\n",
      "总共加载7条数据\n"
     ]
    }
   ],
   "source": [
    "#数据清洗\n",
    "\n",
    "datalst = [] #创建空列表\n",
    "\n",
    "f.seek(0)\n",
    "n=0 #创建计数变量\n",
    "for i in f.readlines()[1:10]:\n",
    "    data = i.split(',')\n",
    "    #print(data)\n",
    "    classify = data[0]              #提取分类\n",
    "    name = data[1]                  #提取店铺名称\n",
    "    comment_count = fcm(data[2])    #提取评论数量\n",
    "    star =data[3]                   #提取星级\n",
    "    price = fpr(data[4])            #提取人均\n",
    "    add  = data[5]                  #提取地址\n",
    "    qua = fcl(data[6])[0]           #提取质量评分\n",
    "    env = fcl(data[6])[1]           #提取环境评分\n",
    "    ser = fcl(data[6])[2]           #提取服务评分\n",
    "    if '缺失数据' not in [comment_count,price,qua]:     #用于判断是否有数据缺失\n",
    "        n += 1\n",
    "        data_re = [['classify',classify],\n",
    "                   ['name',name],\n",
    "                   ['comment_count',comment_count],\n",
    "                   ['star',star],\n",
    "                   ['price',price],\n",
    "                   ['add',add],\n",
    "                   ['qua',qua],\n",
    "                   ['env',env],\n",
    "                   ['ser',ser]]\n",
    "        datalst.append(dict(data_re))       #生成字典并存入列表datalst\n",
    "        print('成功加载%i条数据' %n)\n",
    "    else:\n",
    "        continue\n",
    "\n",
    "print(datalst)\n",
    "print('总共加载%i条数据' %n)\n"
   ],
   "metadata": {
    "collapsed": false,
    "pycharm": {
     "name": "#%%\n"
    }
   }
  },
  {
   "cell_type": "code",
   "execution_count": 98,
   "outputs": [],
   "source": [
    "import pandas as pd\n",
    "\n",
    "import warnings\n",
    "warnings.filterwarnings('ignore')\n"
   ],
   "metadata": {
    "collapsed": false,
    "pycharm": {
     "name": "#%%\n"
    }
   }
  },
  {
   "cell_type": "code",
   "execution_count": 99,
   "outputs": [
    {
     "name": "stdout",
     "output_type": "stream",
     "text": [
      "<class 'pandas.core.frame.DataFrame'> object\n"
     ]
    },
    {
     "data": {
      "text/plain": "  classify              name                      comment     star  \\\n0       美食    望蓉城老坛酸菜鱼(合生汇店)                         我要点评  该商户暂无星级   \n1       美食            泰国街边料理    74                    条点评    准四星商户   \n2       美食     壹面如故(苏宁生活广场店)   265                    条点评    准四星商户   \n3       美食  鮨谷•Aburiya(合生汇店)  2748                    条点评    准五星商户   \n4       美食         我们的烤肉我们的馕     5                    条点评    准四星商户   \n\n                                            price                address  \\\n0  人均                                        ￥125          翔殷路1099号合生汇5F   \n1   人均                                        ￥48          黄兴路合生汇B2美食集市内   \n2   人均                                        ￥21       邯郸路585号苏宁生活广场B1层   \n3  人均                                        ￥142  翔殷路1099号合生广场5楼23、28铺位   \n4         人均                                    -             邯郸路399-D3号   \n\n                                         commentlist  \n0  口味8.3                                环境8.4    ...  \n1  口味7.4                                环境7.6    ...  \n2  口味7.0                                环境7.2    ...  \n3  口味8.9                                环境8.5    ...  \n4  口味7.5                                环境6.8    ...  ",
      "text/html": "<div>\n<style scoped>\n    .dataframe tbody tr th:only-of-type {\n        vertical-align: middle;\n    }\n\n    .dataframe tbody tr th {\n        vertical-align: top;\n    }\n\n    .dataframe thead th {\n        text-align: right;\n    }\n</style>\n<table border=\"1\" class=\"dataframe\">\n  <thead>\n    <tr style=\"text-align: right;\">\n      <th></th>\n      <th>classify</th>\n      <th>name</th>\n      <th>comment</th>\n      <th>star</th>\n      <th>price</th>\n      <th>address</th>\n      <th>commentlist</th>\n    </tr>\n  </thead>\n  <tbody>\n    <tr>\n      <th>0</th>\n      <td>美食</td>\n      <td>望蓉城老坛酸菜鱼(合生汇店)</td>\n      <td>我要点评</td>\n      <td>该商户暂无星级</td>\n      <td>人均                                        ￥125</td>\n      <td>翔殷路1099号合生汇5F</td>\n      <td>口味8.3                                环境8.4    ...</td>\n    </tr>\n    <tr>\n      <th>1</th>\n      <td>美食</td>\n      <td>泰国街边料理</td>\n      <td>74                    条点评</td>\n      <td>准四星商户</td>\n      <td>人均                                        ￥48</td>\n      <td>黄兴路合生汇B2美食集市内</td>\n      <td>口味7.4                                环境7.6    ...</td>\n    </tr>\n    <tr>\n      <th>2</th>\n      <td>美食</td>\n      <td>壹面如故(苏宁生活广场店)</td>\n      <td>265                    条点评</td>\n      <td>准四星商户</td>\n      <td>人均                                        ￥21</td>\n      <td>邯郸路585号苏宁生活广场B1层</td>\n      <td>口味7.0                                环境7.2    ...</td>\n    </tr>\n    <tr>\n      <th>3</th>\n      <td>美食</td>\n      <td>鮨谷•Aburiya(合生汇店)</td>\n      <td>2748                    条点评</td>\n      <td>准五星商户</td>\n      <td>人均                                        ￥142</td>\n      <td>翔殷路1099号合生广场5楼23、28铺位</td>\n      <td>口味8.9                                环境8.5    ...</td>\n    </tr>\n    <tr>\n      <th>4</th>\n      <td>美食</td>\n      <td>我们的烤肉我们的馕</td>\n      <td>5                    条点评</td>\n      <td>准四星商户</td>\n      <td>人均                                    -</td>\n      <td>邯郸路399-D3号</td>\n      <td>口味7.5                                环境6.8    ...</td>\n    </tr>\n  </tbody>\n</table>\n</div>"
     },
     "execution_count": 99,
     "metadata": {},
     "output_type": "execute_result"
    }
   ],
   "source": [
    "#如何用pandas 读取数据\n",
    "\n",
    "df = pd.read_csv('E:/视频qyp/【瑞客论坛 www.ruike1.com】网易云课堂 数据分析师Python进阶（完结）/00-0 QQ群资料/【非常重要】课程资料/CLASSDATA_ch02基础语言入门：从零开始学习Python/商铺数据.csv')\n",
    "print(type(df),df['name'].dtype)\n",
    "df.head()"
   ],
   "metadata": {
    "collapsed": false,
    "pycharm": {
     "name": "#%%\n"
    }
   }
  },
  {
   "cell_type": "code",
   "execution_count": 100,
   "outputs": [
    {
     "name": "stdout",
     "output_type": "stream",
     "text": [
      "int32\n"
     ]
    },
    {
     "data": {
      "text/plain": "  classify              name  comment   star  \\\n1       美食            泰国街边料理       74  准四星商户   \n2       美食     壹面如故(苏宁生活广场店)      265  准四星商户   \n3       美食  鮨谷•Aburiya(合生汇店)     2748  准五星商户   \n4       美食         我们的烤肉我们的馕        5  准四星商户   \n5       美食          麦当劳(万达店)      785  准四星商户   \n\n                                            price                address  \\\n1   人均                                        ￥48          黄兴路合生汇B2美食集市内   \n2   人均                                        ￥21       邯郸路585号苏宁生活广场B1层   \n3  人均                                        ￥142  翔殷路1099号合生广场5楼23、28铺位   \n4         人均                                    -             邯郸路399-D3号   \n5   人均                                        ￥24  邯郸路600号万达商业广场B1楼A05号铺   \n\n                                         commentlist  \n1  口味7.4                                环境7.6    ...  \n2  口味7.0                                环境7.2    ...  \n3  口味8.9                                环境8.5    ...  \n4  口味7.5                                环境6.8    ...  \n5  口味7.4                                环境7.2    ...  ",
      "text/html": "<div>\n<style scoped>\n    .dataframe tbody tr th:only-of-type {\n        vertical-align: middle;\n    }\n\n    .dataframe tbody tr th {\n        vertical-align: top;\n    }\n\n    .dataframe thead th {\n        text-align: right;\n    }\n</style>\n<table border=\"1\" class=\"dataframe\">\n  <thead>\n    <tr style=\"text-align: right;\">\n      <th></th>\n      <th>classify</th>\n      <th>name</th>\n      <th>comment</th>\n      <th>star</th>\n      <th>price</th>\n      <th>address</th>\n      <th>commentlist</th>\n    </tr>\n  </thead>\n  <tbody>\n    <tr>\n      <th>1</th>\n      <td>美食</td>\n      <td>泰国街边料理</td>\n      <td>74</td>\n      <td>准四星商户</td>\n      <td>人均                                        ￥48</td>\n      <td>黄兴路合生汇B2美食集市内</td>\n      <td>口味7.4                                环境7.6    ...</td>\n    </tr>\n    <tr>\n      <th>2</th>\n      <td>美食</td>\n      <td>壹面如故(苏宁生活广场店)</td>\n      <td>265</td>\n      <td>准四星商户</td>\n      <td>人均                                        ￥21</td>\n      <td>邯郸路585号苏宁生活广场B1层</td>\n      <td>口味7.0                                环境7.2    ...</td>\n    </tr>\n    <tr>\n      <th>3</th>\n      <td>美食</td>\n      <td>鮨谷•Aburiya(合生汇店)</td>\n      <td>2748</td>\n      <td>准五星商户</td>\n      <td>人均                                        ￥142</td>\n      <td>翔殷路1099号合生广场5楼23、28铺位</td>\n      <td>口味8.9                                环境8.5    ...</td>\n    </tr>\n    <tr>\n      <th>4</th>\n      <td>美食</td>\n      <td>我们的烤肉我们的馕</td>\n      <td>5</td>\n      <td>准四星商户</td>\n      <td>人均                                    -</td>\n      <td>邯郸路399-D3号</td>\n      <td>口味7.5                                环境6.8    ...</td>\n    </tr>\n    <tr>\n      <th>5</th>\n      <td>美食</td>\n      <td>麦当劳(万达店)</td>\n      <td>785</td>\n      <td>准四星商户</td>\n      <td>人均                                        ￥24</td>\n      <td>邯郸路600号万达商业广场B1楼A05号铺</td>\n      <td>口味7.4                                环境7.2    ...</td>\n    </tr>\n  </tbody>\n</table>\n</div>"
     },
     "execution_count": 100,
     "metadata": {},
     "output_type": "execute_result"
    }
   ],
   "source": [
    "#comment字段清洗\n",
    "#将字段comment中包含条的数据筛选出来\n",
    "df1=df[df['comment'].str.contains('条')]\n",
    "#只保留条字前面的条数\n",
    "df1['comment'] = df1['comment'].str.split('条').str[0]\n",
    "#转换为整形\n",
    "df1['comment']=df1['comment'].astype('int')\n",
    "print(df1['comment'].dtype)\n",
    "df1.head()"
   ],
   "metadata": {
    "collapsed": false,
    "pycharm": {
     "name": "#%%\n"
    }
   }
  },
  {
   "cell_type": "code",
   "execution_count": 101,
   "outputs": [
    {
     "name": "stdout",
     "output_type": "stream",
     "text": [
      "float64\n"
     ]
    },
    {
     "data": {
      "text/plain": "  classify                       name  comment   star  price  \\\n1       美食                     泰国街边料理       74  准四星商户   48.0   \n2       美食              壹面如故(苏宁生活广场店)      265  准四星商户   21.0   \n3       美食           鮨谷•Aburiya(合生汇店)     2748  准五星商户  142.0   \n5       美食                   麦当劳(万达店)      785  准四星商户   24.0   \n6       美食  蒸年青STEAMYOUNG(百联又一城购物中心店)     3779  准五星商户   70.0   \n\n                 address                                        commentlist  \n1          黄兴路合生汇B2美食集市内  口味7.4                                环境7.6    ...  \n2       邯郸路585号苏宁生活广场B1层  口味7.0                                环境7.2    ...  \n3  翔殷路1099号合生广场5楼23、28铺位  口味8.9                                环境8.5    ...  \n5  邯郸路600号万达商业广场B1楼A05号铺  口味7.4                                环境7.2    ...  \n6       淞沪路8号百联又一城购物中心7层  口味8.6                                环境8.6    ...  ",
      "text/html": "<div>\n<style scoped>\n    .dataframe tbody tr th:only-of-type {\n        vertical-align: middle;\n    }\n\n    .dataframe tbody tr th {\n        vertical-align: top;\n    }\n\n    .dataframe thead th {\n        text-align: right;\n    }\n</style>\n<table border=\"1\" class=\"dataframe\">\n  <thead>\n    <tr style=\"text-align: right;\">\n      <th></th>\n      <th>classify</th>\n      <th>name</th>\n      <th>comment</th>\n      <th>star</th>\n      <th>price</th>\n      <th>address</th>\n      <th>commentlist</th>\n    </tr>\n  </thead>\n  <tbody>\n    <tr>\n      <th>1</th>\n      <td>美食</td>\n      <td>泰国街边料理</td>\n      <td>74</td>\n      <td>准四星商户</td>\n      <td>48.0</td>\n      <td>黄兴路合生汇B2美食集市内</td>\n      <td>口味7.4                                环境7.6    ...</td>\n    </tr>\n    <tr>\n      <th>2</th>\n      <td>美食</td>\n      <td>壹面如故(苏宁生活广场店)</td>\n      <td>265</td>\n      <td>准四星商户</td>\n      <td>21.0</td>\n      <td>邯郸路585号苏宁生活广场B1层</td>\n      <td>口味7.0                                环境7.2    ...</td>\n    </tr>\n    <tr>\n      <th>3</th>\n      <td>美食</td>\n      <td>鮨谷•Aburiya(合生汇店)</td>\n      <td>2748</td>\n      <td>准五星商户</td>\n      <td>142.0</td>\n      <td>翔殷路1099号合生广场5楼23、28铺位</td>\n      <td>口味8.9                                环境8.5    ...</td>\n    </tr>\n    <tr>\n      <th>5</th>\n      <td>美食</td>\n      <td>麦当劳(万达店)</td>\n      <td>785</td>\n      <td>准四星商户</td>\n      <td>24.0</td>\n      <td>邯郸路600号万达商业广场B1楼A05号铺</td>\n      <td>口味7.4                                环境7.2    ...</td>\n    </tr>\n    <tr>\n      <th>6</th>\n      <td>美食</td>\n      <td>蒸年青STEAMYOUNG(百联又一城购物中心店)</td>\n      <td>3779</td>\n      <td>准五星商户</td>\n      <td>70.0</td>\n      <td>淞沪路8号百联又一城购物中心7层</td>\n      <td>口味8.6                                环境8.6    ...</td>\n    </tr>\n  </tbody>\n</table>\n</div>"
     },
     "execution_count": 101,
     "metadata": {},
     "output_type": "execute_result"
    }
   ],
   "source": [
    "#price清洗\n",
    "df1=df1[df1['price'].str.contains('￥')]\n",
    "df1['price'] = df1['price'].str.split('￥').str[-1]\n",
    "df1['price']=df1['price'].astype('float')\n",
    "print(df1['price'].dtype)\n",
    "df1.head()"
   ],
   "metadata": {
    "collapsed": false,
    "pycharm": {
     "name": "#%%\n"
    }
   }
  },
  {
   "cell_type": "code",
   "execution_count": 102,
   "outputs": [
    {
     "data": {
      "text/plain": "  classify                       name  comment   star  price  \\\n1       美食                     泰国街边料理       74  准四星商户   48.0   \n2       美食              壹面如故(苏宁生活广场店)      265  准四星商户   21.0   \n3       美食           鮨谷•Aburiya(合生汇店)     2748  准五星商户  142.0   \n5       美食                   麦当劳(万达店)      785  准四星商户   24.0   \n6       美食  蒸年青STEAMYOUNG(百联又一城购物中心店)     3779  准五星商户   70.0   \n\n                 address    q    e    s  \n1          黄兴路合生汇B2美食集市内  7.4  7.6  7.4  \n2       邯郸路585号苏宁生活广场B1层  7.0  7.2  7.2  \n3  翔殷路1099号合生广场5楼23、28铺位  8.9  8.5  8.4  \n5  邯郸路600号万达商业广场B1楼A05号铺  7.4  7.2  7.2  \n6       淞沪路8号百联又一城购物中心7层  8.6  8.6  8.6  ",
      "text/html": "<div>\n<style scoped>\n    .dataframe tbody tr th:only-of-type {\n        vertical-align: middle;\n    }\n\n    .dataframe tbody tr th {\n        vertical-align: top;\n    }\n\n    .dataframe thead th {\n        text-align: right;\n    }\n</style>\n<table border=\"1\" class=\"dataframe\">\n  <thead>\n    <tr style=\"text-align: right;\">\n      <th></th>\n      <th>classify</th>\n      <th>name</th>\n      <th>comment</th>\n      <th>star</th>\n      <th>price</th>\n      <th>address</th>\n      <th>q</th>\n      <th>e</th>\n      <th>s</th>\n    </tr>\n  </thead>\n  <tbody>\n    <tr>\n      <th>1</th>\n      <td>美食</td>\n      <td>泰国街边料理</td>\n      <td>74</td>\n      <td>准四星商户</td>\n      <td>48.0</td>\n      <td>黄兴路合生汇B2美食集市内</td>\n      <td>7.4</td>\n      <td>7.6</td>\n      <td>7.4</td>\n    </tr>\n    <tr>\n      <th>2</th>\n      <td>美食</td>\n      <td>壹面如故(苏宁生活广场店)</td>\n      <td>265</td>\n      <td>准四星商户</td>\n      <td>21.0</td>\n      <td>邯郸路585号苏宁生活广场B1层</td>\n      <td>7.0</td>\n      <td>7.2</td>\n      <td>7.2</td>\n    </tr>\n    <tr>\n      <th>3</th>\n      <td>美食</td>\n      <td>鮨谷•Aburiya(合生汇店)</td>\n      <td>2748</td>\n      <td>准五星商户</td>\n      <td>142.0</td>\n      <td>翔殷路1099号合生广场5楼23、28铺位</td>\n      <td>8.9</td>\n      <td>8.5</td>\n      <td>8.4</td>\n    </tr>\n    <tr>\n      <th>5</th>\n      <td>美食</td>\n      <td>麦当劳(万达店)</td>\n      <td>785</td>\n      <td>准四星商户</td>\n      <td>24.0</td>\n      <td>邯郸路600号万达商业广场B1楼A05号铺</td>\n      <td>7.4</td>\n      <td>7.2</td>\n      <td>7.2</td>\n    </tr>\n    <tr>\n      <th>6</th>\n      <td>美食</td>\n      <td>蒸年青STEAMYOUNG(百联又一城购物中心店)</td>\n      <td>3779</td>\n      <td>准五星商户</td>\n      <td>70.0</td>\n      <td>淞沪路8号百联又一城购物中心7层</td>\n      <td>8.6</td>\n      <td>8.6</td>\n      <td>8.6</td>\n    </tr>\n  </tbody>\n</table>\n</div>"
     },
     "execution_count": 102,
     "metadata": {},
     "output_type": "execute_result"
    }
   ],
   "source": [
    "df1['q'] = df1['commentlist'].str.split('                                ').str[0].str[2:]\n",
    "df1['e'] = df1['commentlist'].str.split('                                ').str[1].str[2:]\n",
    "df1['s'] = df1['commentlist'].str.split('                                ').str[2].str[2:]\n",
    "#删除字段\n",
    "del df1['commentlist']\n",
    "df1.head()"
   ],
   "metadata": {
    "collapsed": false,
    "pycharm": {
     "name": "#%%\n"
    }
   }
  },
  {
   "cell_type": "markdown",
   "source": [
    "### 索引问题"
   ],
   "metadata": {
    "collapsed": false,
    "pycharm": {
     "name": "#%% md\n"
    }
   }
  },
  {
   "cell_type": "code",
   "execution_count": 103,
   "outputs": [
    {
     "name": "stdout",
     "output_type": "stream",
     "text": [
      "<class 'pandas.core.series.Series'>\n"
     ]
    },
    {
     "data": {
      "text/plain": "1                       泰国街边料理\n2                壹面如故(苏宁生活广场店)\n3             鮨谷•Aburiya(合生汇店)\n5                     麦当劳(万达店)\n6    蒸年青STEAMYOUNG(百联又一城购物中心店)\nName: name, dtype: object"
     },
     "execution_count": 103,
     "metadata": {},
     "output_type": "execute_result"
    }
   ],
   "source": [
    "#索引\n",
    "#列索引：df[]\n",
    "s = df1['name'].head()\n",
    "print(type(s))\n",
    "s"
   ],
   "metadata": {
    "collapsed": false,
    "pycharm": {
     "name": "#%%\n"
    }
   }
  },
  {
   "cell_type": "code",
   "execution_count": 104,
   "outputs": [
    {
     "name": "stdout",
     "output_type": "stream",
     "text": [
      "<class 'pandas.core.frame.DataFrame'>\n"
     ]
    },
    {
     "data": {
      "text/plain": "                           name  comment\n1                        泰国街边料理       74\n2                 壹面如故(苏宁生活广场店)      265\n3              鮨谷•Aburiya(合生汇店)     2748\n5                      麦当劳(万达店)      785\n6     蒸年青STEAMYOUNG(百联又一城购物中心店)     3779\n...                         ...      ...\n1217               屈臣氏(苏宁电器广场店)       22\n1232                   澳人坊(万达店)       12\n1237                 奥卡索(东方商厦店)        6\n1240              TISSOT(巴黎春天店)       17\n1259               as女鞋店(巴黎春天店)       11\n\n[560 rows x 2 columns]",
      "text/html": "<div>\n<style scoped>\n    .dataframe tbody tr th:only-of-type {\n        vertical-align: middle;\n    }\n\n    .dataframe tbody tr th {\n        vertical-align: top;\n    }\n\n    .dataframe thead th {\n        text-align: right;\n    }\n</style>\n<table border=\"1\" class=\"dataframe\">\n  <thead>\n    <tr style=\"text-align: right;\">\n      <th></th>\n      <th>name</th>\n      <th>comment</th>\n    </tr>\n  </thead>\n  <tbody>\n    <tr>\n      <th>1</th>\n      <td>泰国街边料理</td>\n      <td>74</td>\n    </tr>\n    <tr>\n      <th>2</th>\n      <td>壹面如故(苏宁生活广场店)</td>\n      <td>265</td>\n    </tr>\n    <tr>\n      <th>3</th>\n      <td>鮨谷•Aburiya(合生汇店)</td>\n      <td>2748</td>\n    </tr>\n    <tr>\n      <th>5</th>\n      <td>麦当劳(万达店)</td>\n      <td>785</td>\n    </tr>\n    <tr>\n      <th>6</th>\n      <td>蒸年青STEAMYOUNG(百联又一城购物中心店)</td>\n      <td>3779</td>\n    </tr>\n    <tr>\n      <th>...</th>\n      <td>...</td>\n      <td>...</td>\n    </tr>\n    <tr>\n      <th>1217</th>\n      <td>屈臣氏(苏宁电器广场店)</td>\n      <td>22</td>\n    </tr>\n    <tr>\n      <th>1232</th>\n      <td>澳人坊(万达店)</td>\n      <td>12</td>\n    </tr>\n    <tr>\n      <th>1237</th>\n      <td>奥卡索(东方商厦店)</td>\n      <td>6</td>\n    </tr>\n    <tr>\n      <th>1240</th>\n      <td>TISSOT(巴黎春天店)</td>\n      <td>17</td>\n    </tr>\n    <tr>\n      <th>1259</th>\n      <td>as女鞋店(巴黎春天店)</td>\n      <td>11</td>\n    </tr>\n  </tbody>\n</table>\n<p>560 rows × 2 columns</p>\n</div>"
     },
     "execution_count": 104,
     "metadata": {},
     "output_type": "execute_result"
    }
   ],
   "source": [
    "#多列索引\n",
    "s2 = df1[['name','comment']]\n",
    "print(type(s2))\n",
    "s2"
   ],
   "metadata": {
    "collapsed": false,
    "pycharm": {
     "name": "#%%\n"
    }
   }
  },
  {
   "cell_type": "code",
   "execution_count": 105,
   "outputs": [],
   "source": [
    "#行索引：.iloc /  .loc\n",
    "#.loc"
   ],
   "metadata": {
    "collapsed": false,
    "pycharm": {
     "name": "#%%\n"
    }
   }
  },
  {
   "cell_type": "code",
   "execution_count": 106,
   "outputs": [
    {
     "data": {
      "text/plain": "               a          b          c          d\none    42.832292  48.438952  30.436249  59.798388\ntwo    96.769709  48.953634  99.338541  80.257174\nthree  11.270567  48.000410  23.221948  19.713756",
      "text/html": "<div>\n<style scoped>\n    .dataframe tbody tr th:only-of-type {\n        vertical-align: middle;\n    }\n\n    .dataframe tbody tr th {\n        vertical-align: top;\n    }\n\n    .dataframe thead th {\n        text-align: right;\n    }\n</style>\n<table border=\"1\" class=\"dataframe\">\n  <thead>\n    <tr style=\"text-align: right;\">\n      <th></th>\n      <th>a</th>\n      <th>b</th>\n      <th>c</th>\n      <th>d</th>\n    </tr>\n  </thead>\n  <tbody>\n    <tr>\n      <th>one</th>\n      <td>42.832292</td>\n      <td>48.438952</td>\n      <td>30.436249</td>\n      <td>59.798388</td>\n    </tr>\n    <tr>\n      <th>two</th>\n      <td>96.769709</td>\n      <td>48.953634</td>\n      <td>99.338541</td>\n      <td>80.257174</td>\n    </tr>\n    <tr>\n      <th>three</th>\n      <td>11.270567</td>\n      <td>48.000410</td>\n      <td>23.221948</td>\n      <td>19.713756</td>\n    </tr>\n  </tbody>\n</table>\n</div>"
     },
     "execution_count": 106,
     "metadata": {},
     "output_type": "execute_result"
    }
   ],
   "source": [
    "import numpy as np\n",
    "#df = pd.DataFrame(np.random.rand(12).reshape(3,4)*100)\n",
    "df = pd.DataFrame(np.random.rand(12).reshape(3,4)*100,\n",
    "                  index = ['one','two','three'],\n",
    "                  columns = ['a','b','c','d'])\n",
    "df"
   ],
   "metadata": {
    "collapsed": false,
    "pycharm": {
     "name": "#%%\n"
    }
   }
  },
  {
   "cell_type": "code",
   "execution_count": 107,
   "outputs": [
    {
     "data": {
      "text/plain": "               a          b          c          d\ntwo    96.769709  48.953634  99.338541  80.257174\nthree  11.270567  48.000410  23.221948  19.713756",
      "text/html": "<div>\n<style scoped>\n    .dataframe tbody tr th:only-of-type {\n        vertical-align: middle;\n    }\n\n    .dataframe tbody tr th {\n        vertical-align: top;\n    }\n\n    .dataframe thead th {\n        text-align: right;\n    }\n</style>\n<table border=\"1\" class=\"dataframe\">\n  <thead>\n    <tr style=\"text-align: right;\">\n      <th></th>\n      <th>a</th>\n      <th>b</th>\n      <th>c</th>\n      <th>d</th>\n    </tr>\n  </thead>\n  <tbody>\n    <tr>\n      <th>two</th>\n      <td>96.769709</td>\n      <td>48.953634</td>\n      <td>99.338541</td>\n      <td>80.257174</td>\n    </tr>\n    <tr>\n      <th>three</th>\n      <td>11.270567</td>\n      <td>48.000410</td>\n      <td>23.221948</td>\n      <td>19.713756</td>\n    </tr>\n  </tbody>\n</table>\n</div>"
     },
     "execution_count": 107,
     "metadata": {},
     "output_type": "execute_result"
    }
   ],
   "source": [
    "#loc  首先按 one two three 去筛选\n",
    "df.loc['two']\n",
    "df.loc[['two','three']]"
   ],
   "metadata": {
    "collapsed": false,
    "pycharm": {
     "name": "#%%\n"
    }
   }
  },
  {
   "cell_type": "code",
   "execution_count": 108,
   "outputs": [
    {
     "data": {
      "text/plain": "             a          b          c          d\none  42.832292  48.438952  30.436249  59.798388\ntwo  96.769709  48.953634  99.338541  80.257174",
      "text/html": "<div>\n<style scoped>\n    .dataframe tbody tr th:only-of-type {\n        vertical-align: middle;\n    }\n\n    .dataframe tbody tr th {\n        vertical-align: top;\n    }\n\n    .dataframe thead th {\n        text-align: right;\n    }\n</style>\n<table border=\"1\" class=\"dataframe\">\n  <thead>\n    <tr style=\"text-align: right;\">\n      <th></th>\n      <th>a</th>\n      <th>b</th>\n      <th>c</th>\n      <th>d</th>\n    </tr>\n  </thead>\n  <tbody>\n    <tr>\n      <th>one</th>\n      <td>42.832292</td>\n      <td>48.438952</td>\n      <td>30.436249</td>\n      <td>59.798388</td>\n    </tr>\n    <tr>\n      <th>two</th>\n      <td>96.769709</td>\n      <td>48.953634</td>\n      <td>99.338541</td>\n      <td>80.257174</td>\n    </tr>\n  </tbody>\n</table>\n</div>"
     },
     "execution_count": 108,
     "metadata": {},
     "output_type": "execute_result"
    }
   ],
   "source": [
    "#iloc\n",
    "df.iloc[0]\n",
    "df.iloc[[0,1]]\n"
   ],
   "metadata": {
    "collapsed": false,
    "pycharm": {
     "name": "#%%\n"
    }
   }
  },
  {
   "cell_type": "code",
   "execution_count": 109,
   "outputs": [
    {
     "data": {
      "text/plain": "  classify                       name  comment   star  price  \\\n1       美食                     泰国街边料理       74  准四星商户   48.0   \n2       美食              壹面如故(苏宁生活广场店)      265  准四星商户   21.0   \n3       美食           鮨谷•Aburiya(合生汇店)     2748  准五星商户  142.0   \n5       美食                   麦当劳(万达店)      785  准四星商户   24.0   \n6       美食  蒸年青STEAMYOUNG(百联又一城购物中心店)     3779  准五星商户   70.0   \n\n                 address    q    e    s  \n1          黄兴路合生汇B2美食集市内  7.4  7.6  7.4  \n2       邯郸路585号苏宁生活广场B1层  7.0  7.2  7.2  \n3  翔殷路1099号合生广场5楼23、28铺位  8.9  8.5  8.4  \n5  邯郸路600号万达商业广场B1楼A05号铺  7.4  7.2  7.2  \n6       淞沪路8号百联又一城购物中心7层  8.6  8.6  8.6  ",
      "text/html": "<div>\n<style scoped>\n    .dataframe tbody tr th:only-of-type {\n        vertical-align: middle;\n    }\n\n    .dataframe tbody tr th {\n        vertical-align: top;\n    }\n\n    .dataframe thead th {\n        text-align: right;\n    }\n</style>\n<table border=\"1\" class=\"dataframe\">\n  <thead>\n    <tr style=\"text-align: right;\">\n      <th></th>\n      <th>classify</th>\n      <th>name</th>\n      <th>comment</th>\n      <th>star</th>\n      <th>price</th>\n      <th>address</th>\n      <th>q</th>\n      <th>e</th>\n      <th>s</th>\n    </tr>\n  </thead>\n  <tbody>\n    <tr>\n      <th>1</th>\n      <td>美食</td>\n      <td>泰国街边料理</td>\n      <td>74</td>\n      <td>准四星商户</td>\n      <td>48.0</td>\n      <td>黄兴路合生汇B2美食集市内</td>\n      <td>7.4</td>\n      <td>7.6</td>\n      <td>7.4</td>\n    </tr>\n    <tr>\n      <th>2</th>\n      <td>美食</td>\n      <td>壹面如故(苏宁生活广场店)</td>\n      <td>265</td>\n      <td>准四星商户</td>\n      <td>21.0</td>\n      <td>邯郸路585号苏宁生活广场B1层</td>\n      <td>7.0</td>\n      <td>7.2</td>\n      <td>7.2</td>\n    </tr>\n    <tr>\n      <th>3</th>\n      <td>美食</td>\n      <td>鮨谷•Aburiya(合生汇店)</td>\n      <td>2748</td>\n      <td>准五星商户</td>\n      <td>142.0</td>\n      <td>翔殷路1099号合生广场5楼23、28铺位</td>\n      <td>8.9</td>\n      <td>8.5</td>\n      <td>8.4</td>\n    </tr>\n    <tr>\n      <th>5</th>\n      <td>美食</td>\n      <td>麦当劳(万达店)</td>\n      <td>785</td>\n      <td>准四星商户</td>\n      <td>24.0</td>\n      <td>邯郸路600号万达商业广场B1楼A05号铺</td>\n      <td>7.4</td>\n      <td>7.2</td>\n      <td>7.2</td>\n    </tr>\n    <tr>\n      <th>6</th>\n      <td>美食</td>\n      <td>蒸年青STEAMYOUNG(百联又一城购物中心店)</td>\n      <td>3779</td>\n      <td>准五星商户</td>\n      <td>70.0</td>\n      <td>淞沪路8号百联又一城购物中心7层</td>\n      <td>8.6</td>\n      <td>8.6</td>\n      <td>8.6</td>\n    </tr>\n  </tbody>\n</table>\n</div>"
     },
     "execution_count": 109,
     "metadata": {},
     "output_type": "execute_result"
    }
   ],
   "source": [
    "#布尔型索引 :按判断条件去筛选 对某列的数据进行条件判断筛选\n",
    "df1.head()\n",
    "\n"
   ],
   "metadata": {
    "collapsed": false,
    "pycharm": {
     "name": "#%%\n"
    }
   }
  },
  {
   "cell_type": "code",
   "execution_count": 111,
   "outputs": [
    {
     "data": {
      "text/plain": "                           name    q    e    s\n1                        泰国街边料理  7.4  7.6  7.4\n2                 壹面如故(苏宁生活广场店)  7.0  7.2  7.2\n3              鮨谷•Aburiya(合生汇店)  8.9  8.5  8.4\n5                      麦当劳(万达店)  7.4  7.2  7.2\n6     蒸年青STEAMYOUNG(百联又一城购物中心店)  8.6  8.6  8.6\n...                         ...  ...  ...  ...\n1126               Etam(特力时尚汇店)  7.7  7.9  7.0\n1141          Triumph(巴黎春天五角场店)  7.0  7.0  7.0\n1147             新世纪食品城(百联又一城店)  7.0  7.0  7.0\n1187          JACK&JONES(扬族百货店)  7.2  7.2  7.2\n1212                   环东服饰礼品市场  7.2  7.2  7.2\n\n[416 rows x 4 columns]",
      "text/html": "<div>\n<style scoped>\n    .dataframe tbody tr th:only-of-type {\n        vertical-align: middle;\n    }\n\n    .dataframe tbody tr th {\n        vertical-align: top;\n    }\n\n    .dataframe thead th {\n        text-align: right;\n    }\n</style>\n<table border=\"1\" class=\"dataframe\">\n  <thead>\n    <tr style=\"text-align: right;\">\n      <th></th>\n      <th>name</th>\n      <th>q</th>\n      <th>e</th>\n      <th>s</th>\n    </tr>\n  </thead>\n  <tbody>\n    <tr>\n      <th>1</th>\n      <td>泰国街边料理</td>\n      <td>7.4</td>\n      <td>7.6</td>\n      <td>7.4</td>\n    </tr>\n    <tr>\n      <th>2</th>\n      <td>壹面如故(苏宁生活广场店)</td>\n      <td>7.0</td>\n      <td>7.2</td>\n      <td>7.2</td>\n    </tr>\n    <tr>\n      <th>3</th>\n      <td>鮨谷•Aburiya(合生汇店)</td>\n      <td>8.9</td>\n      <td>8.5</td>\n      <td>8.4</td>\n    </tr>\n    <tr>\n      <th>5</th>\n      <td>麦当劳(万达店)</td>\n      <td>7.4</td>\n      <td>7.2</td>\n      <td>7.2</td>\n    </tr>\n    <tr>\n      <th>6</th>\n      <td>蒸年青STEAMYOUNG(百联又一城购物中心店)</td>\n      <td>8.6</td>\n      <td>8.6</td>\n      <td>8.6</td>\n    </tr>\n    <tr>\n      <th>...</th>\n      <td>...</td>\n      <td>...</td>\n      <td>...</td>\n      <td>...</td>\n    </tr>\n    <tr>\n      <th>1126</th>\n      <td>Etam(特力时尚汇店)</td>\n      <td>7.7</td>\n      <td>7.9</td>\n      <td>7.0</td>\n    </tr>\n    <tr>\n      <th>1141</th>\n      <td>Triumph(巴黎春天五角场店)</td>\n      <td>7.0</td>\n      <td>7.0</td>\n      <td>7.0</td>\n    </tr>\n    <tr>\n      <th>1147</th>\n      <td>新世纪食品城(百联又一城店)</td>\n      <td>7.0</td>\n      <td>7.0</td>\n      <td>7.0</td>\n    </tr>\n    <tr>\n      <th>1187</th>\n      <td>JACK&amp;JONES(扬族百货店)</td>\n      <td>7.2</td>\n      <td>7.2</td>\n      <td>7.2</td>\n    </tr>\n    <tr>\n      <th>1212</th>\n      <td>环东服饰礼品市场</td>\n      <td>7.2</td>\n      <td>7.2</td>\n      <td>7.2</td>\n    </tr>\n  </tbody>\n</table>\n<p>416 rows × 4 columns</p>\n</div>"
     },
     "execution_count": 111,
     "metadata": {},
     "output_type": "execute_result"
    }
   ],
   "source": [
    "#df1[条件]\n",
    "#df1[df1['comment']>50]\n",
    "df1[df1['comment']>50][['name','q','e','s']]"
   ],
   "metadata": {
    "collapsed": false,
    "pycharm": {
     "name": "#%%\n"
    }
   }
  },
  {
   "cell_type": "code",
   "execution_count": null,
   "outputs": [],
   "source": [],
   "metadata": {
    "collapsed": false,
    "pycharm": {
     "name": "#%%"
    }
   }
  }
 ],
 "metadata": {
  "kernelspec": {
   "name": "python3",
   "language": "python",
   "display_name": "Python 3"
  },
  "language_info": {
   "codemirror_mode": {
    "name": "ipython",
    "version": 2
   },
   "file_extension": ".py",
   "mimetype": "text/x-python",
   "name": "python",
   "nbconvert_exporter": "python",
   "pygments_lexer": "ipython2",
   "version": "2.7.6"
  }
 },
 "nbformat": 4,
 "nbformat_minor": 0
}