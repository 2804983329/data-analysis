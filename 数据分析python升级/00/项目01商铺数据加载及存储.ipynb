{
 "cells": [
  {
   "cell_type": "code",
   "execution_count": null,
   "metadata": {
    "collapsed": true
   },
   "outputs": [],
   "source": [
    "'''\n",
    "【项目01】  商铺数据加载及存储\n",
    "\n",
    "作业要求：\n",
    "1、成功读取“商铺数据.csv”文件\n",
    "2、解析数据，存成列表字典格式：[{'var1':value1,'var2':value2,'var3':values,...},...,{}]\n",
    "3、数据清洗：\n",
    "① comment，price两个字段清洗成数字\n",
    "② 清除字段缺失的数据\n",
    "③ commentlist拆分成三个字段，并且清洗成数字\n",
    "4、结果存为.pkl文件\n",
    "\n",
    "'''"
   ]
  },
  {
   "cell_type": "code",
   "execution_count": 37,
   "outputs": [
    {
     "name": "stdout",
     "output_type": "stream",
     "text": [
      "commentlist\n",
      "\n",
      "口味8.3                                环境8.4                                服务8.5\n",
      "\n",
      "口味7.4                                环境7.6                                服务7.4\n",
      "\n",
      "口味7.0                                环境7.2                                服务7.2\n",
      "\n",
      "口味8.9                                环境8.5                                服务8.4\n",
      "\n"
     ]
    },
    {
     "data": {
      "text/plain": "0"
     },
     "execution_count": 37,
     "metadata": {},
     "output_type": "execute_result"
    }
   ],
   "source": [
    "#读取数据\n",
    "f = open(r'E:\\视频qyp\\【瑞客论坛 www.ruike1.com】网易云课堂 数据分析师Python进阶（完结）\\00-0 QQ群资料\\【非常重要】课程资料\\CLASSDATA_ch02基础语言入门：从零开始学习Python\\商铺数据.csv','r',encoding='utf8')\n",
    "for i in f.readlines()[:5]:\n",
    "    print(i.split(',')[-1])\n",
    "f.seek(0)"
   ],
   "metadata": {
    "collapsed": false,
    "pycharm": {
     "name": "#%%\n"
    }
   }
  },
  {
   "cell_type": "code",
   "execution_count": 23,
   "outputs": [
    {
     "ename": "IndentationError",
     "evalue": "unindent does not match any outer indentation level (<tokenize>, line 17)",
     "output_type": "error",
     "traceback": [
      "\u001B[1;36m  File \u001B[1;32m\"<tokenize>\"\u001B[1;36m, line \u001B[1;32m17\u001B[0m\n\u001B[1;33m    f.seek(0)\u001B[0m\n\u001B[1;37m    ^\u001B[0m\n\u001B[1;31mIndentationError\u001B[0m\u001B[1;31m:\u001B[0m unindent does not match any outer indentation level\n"
     ]
    }
   ],
   "source": [
    "#清洗数据\n",
    "\n",
    "def fcm(s):\n",
    "    if '条' in s:\n",
    "        return(int(s.split(' ')[0]))\n",
    "    else:\n",
    "        return('缺失数据')\n",
    "\n",
    "\n",
    "for i in f.readlines()[:10]:\n",
    "    cm = fcm(i.split(',')[2])\n",
    "    print(cm)\n",
    "\n",
    "for i in f.readlines()[:10]:\n",
    "    pr = fpr(i.split(',')[4])\n",
    "    print(pr)"
   ],
   "metadata": {
    "collapsed": false,
    "pycharm": {
     "name": "#%%\n"
    }
   }
  },
  {
   "cell_type": "code",
   "execution_count": 26,
   "outputs": [
    {
     "name": "stdout",
     "output_type": "stream",
     "text": [
      "缺失数据\n",
      "125\n",
      "48\n",
      "21\n",
      "142\n",
      "缺失数据\n",
      "24\n",
      "70\n",
      "14\n",
      "47\n"
     ]
    }
   ],
   "source": [
    "def fpr(s):\n",
    "    if '￥' in s:\n",
    "        return(int(s.split('￥')[-1]))\n",
    "    else:\n",
    "        return('缺失数据')\n",
    "\n",
    "for i in f.readlines()[:10]:\n",
    "    pr = fpr(i.split(',')[4])\n",
    "    print(pr)"
   ],
   "metadata": {
    "collapsed": false,
    "pycharm": {
     "name": "#%%\n"
    }
   }
  },
  {
   "cell_type": "code",
   "execution_count": 40,
   "outputs": [
    {
     "name": "stdout",
     "output_type": "stream",
     "text": [
      "缺失数据\n",
      "[0.3, 0.4, 0.5]\n",
      "[0.4, 0.6, 0.4]\n",
      "[0.0, 0.2, 0.2]\n",
      "[0.9, 0.5, 0.4]\n",
      "[0.5, 0.8, 0.5]\n",
      "[0.4, 0.2, 0.2]\n",
      "[0.6, 0.6, 0.6]\n",
      "[0.0, 0.5, 0.5]\n",
      "[0.7, 0.5, 0.6]\n"
     ]
    }
   ],
   "source": [
    "f.seek(0)\n",
    "def fcl(s):\n",
    "    if len(s) == 3:\n",
    "        quality=float(s[0][3:])\n",
    "        env =float(s[1][3:])\n",
    "        service = float(s[2][3:])\n",
    "        return([quality,env,service])\n",
    "    else:\n",
    "        return('缺失数据')\n",
    "\n",
    "for i in f.readlines()[:10]:\n",
    "    cl = fcl(i.split(',')[-1].split('                                '))\n",
    "    print(cl)\n",
    "\n",
    "\n",
    "\n",
    "\n",
    "\n",
    "\n",
    "\n",
    "\n",
    "\n",
    "\n",
    "\n"
   ],
   "metadata": {
    "collapsed": false,
    "pycharm": {
     "name": "#%%\n"
    }
   }
  }
 ],
 "metadata": {
  "anaconda-cloud": {},
  "kernelspec": {
   "display_name": "Python [default]",
   "language": "python",
   "name": "python3"
  },
  "language_info": {
   "codemirror_mode": {
    "name": "ipython",
    "version": 3
   },
   "file_extension": ".py",
   "mimetype": "text/x-python",
   "name": "python",
   "nbconvert_exporter": "python",
   "pygments_lexer": "ipython3",
   "version": "3.5.2"
  }
 },
 "nbformat": 4,
 "nbformat_minor": 1
}