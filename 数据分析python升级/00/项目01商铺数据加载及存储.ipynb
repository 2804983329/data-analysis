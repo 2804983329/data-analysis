{
 "cells": [
  {
   "cell_type": "code",
   "execution_count": 48,
   "metadata": {
    "collapsed": true
   },
   "outputs": [
    {
     "data": {
      "text/plain": "\"\\n【项目01】  商铺数据加载及存储\\n\\n作业要求：\\n1、成功读取“商铺数据.csv”文件\\n2、解析数据，存成列表字典格式：[{'var1':value1,'var2':value2,'var3':values,...},...,{}]\\n3、数据清洗：\\n① comment，price两个字段清洗成数字\\n② 清除字段缺失的数据\\n③ commentlist拆分成三个字段，并且清洗成数字\\n4、结果存为.pkl文件\\n\\n\""
     },
     "execution_count": 48,
     "metadata": {},
     "output_type": "execute_result"
    }
   ],
   "source": [
    "'''\n",
    "【项目01】  商铺数据加载及存储\n",
    "\n",
    "作业要求：\n",
    "1、成功读取“商铺数据.csv”文件\n",
    "2、解析数据，存成列表字典格式：[{'var1':value1,'var2':value2,'var3':values,...},...,{}]\n",
    "3、数据清洗：\n",
    "① comment，price两个字段清洗成数字\n",
    "② 清除字段缺失的数据\n",
    "③ commentlist拆分成三个字段，并且清洗成数字\n",
    "4、结果存为.pkl文件\n",
    "\n",
    "'''"
   ]
  },
  {
   "cell_type": "code",
   "execution_count": 49,
   "outputs": [
    {
     "name": "stdout",
     "output_type": "stream",
     "text": [
      "['\\ufeffclassify', 'name', 'comment', 'star', 'price', 'address', 'commentlist\\n']\n",
      "['美食', '望蓉城老坛酸菜鱼(合生汇店)', '我要点评', '该商户暂无星级', '人均                                        ￥125', '翔殷路1099号合生汇5F', '口味8.3                                环境8.4                                服务8.5\\n']\n",
      "['美食', '泰国街边料理', '74                    条点评', '准四星商户', '人均                                        ￥48', '黄兴路合生汇B2美食集市内', '口味7.4                                环境7.6                                服务7.4\\n']\n",
      "['美食', '壹面如故(苏宁生活广场店)', '265                    条点评', '准四星商户', '人均                                        ￥21', '邯郸路585号苏宁生活广场B1层', '口味7.0                                环境7.2                                服务7.2\\n']\n",
      "['美食', '鮨谷•Aburiya(合生汇店)', '2748                    条点评', '准五星商户', '人均                                        ￥142', '翔殷路1099号合生广场5楼23、28铺位', '口味8.9                                环境8.5                                服务8.4\\n']\n"
     ]
    },
    {
     "data": {
      "text/plain": "0"
     },
     "execution_count": 49,
     "metadata": {},
     "output_type": "execute_result"
    }
   ],
   "source": [
    "#读取数据\n",
    "f = open(r'E:\\视频qyp\\【瑞客论坛 www.ruike1.com】网易云课堂 数据分析师Python进阶（完结）\\00-0 QQ群资料\\【非常重要】课程资料\\CLASSDATA_ch02基础语言入门：从零开始学习Python\\商铺数据.csv','r',encoding='utf8')\n",
    "for i in f.readlines()[:5]:\n",
    "    print(i.split(','))\n",
    "f.seek(0)"
   ],
   "metadata": {
    "collapsed": false,
    "pycharm": {
     "name": "#%%\n"
    }
   }
  },
  {
   "cell_type": "code",
   "execution_count": 50,
   "outputs": [
    {
     "name": "stdout",
     "output_type": "stream",
     "text": [
      "缺失数据\n",
      "缺失数据\n",
      "74\n",
      "265\n",
      "2748\n",
      "5\n",
      "785\n",
      "3779\n",
      "458\n",
      "1280\n"
     ]
    }
   ],
   "source": [
    "#清洗数据\n",
    "\n",
    "def fcm(s):\n",
    "    if '条' in s:\n",
    "        return(int(s.split(' ')[0]))\n",
    "    else:\n",
    "        return('缺失数据')\n",
    "\n",
    "\n",
    "for i in f.readlines()[:10]:\n",
    "    cm = fcm(i.split(',')[2])\n",
    "    print(cm)\n",
    "\n",
    "for i in f.readlines()[:10]:\n",
    "    pr = fpr(i.split(',')[4])\n",
    "    print(pr)"
   ],
   "metadata": {
    "collapsed": false,
    "pycharm": {
     "name": "#%%\n"
    }
   }
  },
  {
   "cell_type": "code",
   "execution_count": 51,
   "outputs": [],
   "source": [
    "def fpr(s):\n",
    "    if '￥' in s:\n",
    "        return(int(s.split('￥')[-1]))\n",
    "    else:\n",
    "        return('缺失数据')\n",
    "\n",
    "for i in f.readlines()[:10]:\n",
    "    pr = fpr(i.split(',')[4])\n",
    "    print(pr)"
   ],
   "metadata": {
    "collapsed": false,
    "pycharm": {
     "name": "#%%\n"
    }
   }
  },
  {
   "cell_type": "code",
   "execution_count": 52,
   "outputs": [
    {
     "name": "stdout",
     "output_type": "stream",
     "text": [
      "缺失数据\n",
      "[8.3, 8.4, 8.5]\n",
      "[7.4, 7.6, 7.4]\n",
      "[7.0, 7.2, 7.2]\n",
      "[8.9, 8.5, 8.4]\n",
      "[7.5, 6.8, 7.5]\n",
      "[7.4, 7.2, 7.2]\n",
      "[8.6, 8.6, 8.6]\n",
      "[7.0, 6.5, 6.5]\n",
      "[7.7, 7.5, 7.6]\n"
     ]
    }
   ],
   "source": [
    "f.seek(0)\n",
    "def fcl(s):\n",
    "    if len(s) == 3:\n",
    "        quality=float(s[0][2:])\n",
    "        env =float(s[1][2:])\n",
    "        service = float(s[2][2:])\n",
    "        return([quality,env,service])\n",
    "    else:\n",
    "        return('缺失数据')\n",
    "\n",
    "for i in f.readlines()[:10]:\n",
    "    cl = fcl(i.split(',')[-1].split('                                '))\n",
    "    print(cl)\n"
   ],
   "metadata": {
    "collapsed": false,
    "pycharm": {
     "name": "#%%\n"
    }
   }
  },
  {
   "cell_type": "code",
   "execution_count": 70,
   "outputs": [
    {
     "name": "stdout",
     "output_type": "stream",
     "text": [
      "美食 缺失数据 8.5\n",
      "美食 74 7.4\n",
      "成功读取1条数据\n",
      "{'classify': '美食', 'name': '泰国街边料理', 'com_count': 74, 'star': '准四星商户', 'price': 48, 'add': '黄兴路合生汇B2美食集市内', 'qua': 7.4, 'env': 7.6, 'service': 7.4}\n",
      "美食 265 7.2\n",
      "成功读取2条数据\n",
      "{'classify': '美食', 'name': '壹面如故(苏宁生活广场店)', 'com_count': 265, 'star': '准四星商户', 'price': 21, 'add': '邯郸路585号苏宁生活广场B1层', 'qua': 7.0, 'env': 7.2, 'service': 7.2}\n",
      "美食 2748 8.4\n",
      "成功读取3条数据\n",
      "{'classify': '美食', 'name': '鮨谷•Aburiya(合生汇店)', 'com_count': 2748, 'star': '准五星商户', 'price': 142, 'add': '翔殷路1099号合生广场5楼23、28铺位', 'qua': 8.9, 'env': 8.5, 'service': 8.4}\n",
      "美食 5 7.5\n",
      "美食 785 7.2\n",
      "成功读取4条数据\n",
      "{'classify': '美食', 'name': '麦当劳(万达店)', 'com_count': 785, 'star': '准四星商户', 'price': 24, 'add': '邯郸路600号万达商业广场B1楼A05号铺', 'qua': 7.4, 'env': 7.2, 'service': 7.2}\n",
      "美食 3779 8.6\n",
      "成功读取5条数据\n",
      "{'classify': '美食', 'name': '蒸年青STEAMYOUNG(百联又一城购物中心店)', 'com_count': 3779, 'star': '准五星商户', 'price': 70, 'add': '淞沪路8号百联又一城购物中心7层', 'qua': 8.6, 'env': 8.6, 'service': 8.6}\n",
      "美食 458 6.5\n",
      "成功读取6条数据\n",
      "{'classify': '美食', 'name': '丸来玩趣(百联又一城购物中心店)', 'com_count': 458, 'star': '准四星商户', 'price': 14, 'add': '淞沪路8号百联又一城购物中心B1层', 'qua': 7.0, 'env': 6.5, 'service': 6.5}\n",
      "美食 1280 7.6\n",
      "成功读取7条数据\n",
      "{'classify': '美食', 'name': '韩国雪冰(合生汇店)', 'com_count': 1280, 'star': '四星商户', 'price': 47, 'add': '翔殷路1099号合生汇4F', 'qua': 7.7, 'env': 7.5, 'service': 7.6}\n",
      "[{'classify': '美食', 'name': '泰国街边料理', 'com_count': 74, 'star': '准四星商户', 'price': 48, 'add': '黄兴路合生汇B2美食集市内', 'qua': 7.4, 'env': 7.6, 'service': 7.4}, {'classify': '美食', 'name': '壹面如故(苏宁生活广场店)', 'com_count': 265, 'star': '准四星商户', 'price': 21, 'add': '邯郸路585号苏宁生活广场B1层', 'qua': 7.0, 'env': 7.2, 'service': 7.2}, {'classify': '美食', 'name': '鮨谷•Aburiya(合生汇店)', 'com_count': 2748, 'star': '准五星商户', 'price': 142, 'add': '翔殷路1099号合生广场5楼23、28铺位', 'qua': 8.9, 'env': 8.5, 'service': 8.4}, {'classify': '美食', 'name': '麦当劳(万达店)', 'com_count': 785, 'star': '准四星商户', 'price': 24, 'add': '邯郸路600号万达商业广场B1楼A05号铺', 'qua': 7.4, 'env': 7.2, 'service': 7.2}, {'classify': '美食', 'name': '蒸年青STEAMYOUNG(百联又一城购物中心店)', 'com_count': 3779, 'star': '准五星商户', 'price': 70, 'add': '淞沪路8号百联又一城购物中心7层', 'qua': 8.6, 'env': 8.6, 'service': 8.6}, {'classify': '美食', 'name': '丸来玩趣(百联又一城购物中心店)', 'com_count': 458, 'star': '准四星商户', 'price': 14, 'add': '淞沪路8号百联又一城购物中心B1层', 'qua': 7.0, 'env': 6.5, 'service': 6.5}, {'classify': '美食', 'name': '韩国雪冰(合生汇店)', 'com_count': 1280, 'star': '四星商户', 'price': 47, 'add': '翔殷路1099号合生汇4F', 'qua': 7.7, 'env': 7.5, 'service': 7.6}]\n",
      "总共加载7条数据\n",
      "完成！\n"
     ]
    }
   ],
   "source": [
    "#清洗字段缺失数据\n",
    "\n",
    "datalst=[]\n",
    "n=0\n",
    "f.seek(0)\n",
    "\n",
    "for i in f.readlines()[1:10]:\n",
    "    data = i.split(',')\n",
    "    classify =data[0]\n",
    "    name =data[1]\n",
    "    com_count = fcm(data[2])\n",
    "    star =data[3]\n",
    "    price = fpr(data[4])\n",
    "    add = data[5]\n",
    "    qua = fcl(data[-1].split('                                '))[0]\n",
    "    env =fcl(data[-1].split('                                '))[1]\n",
    "    service = fcl(data[-1].split('                                '))[2]\n",
    "    print(classify,com_count,service)\n",
    "    if '缺失数据' not  in [com_count, price, qua]:\n",
    "        n += 1\n",
    "        data_lst2 = [['classify',classify],\n",
    "                     ['name',name],\n",
    "                     ['com_count',com_count],\n",
    "                     ['star',star],\n",
    "                     ['price',price],\n",
    "                     ['add',add],\n",
    "                     ['qua',qua],\n",
    "                     ['env',env],\n",
    "                     ['service',service]]\n",
    "        #print(data_lst2)\n",
    "        datalst.append(dict(data_lst2))\n",
    "        print('成功读取%i条数据' %n)\n",
    "        print(dict(data_lst2))\n",
    "    else:\n",
    "        continue\n",
    "print(datalst)\n",
    "print('总共加载%i条数据'  %n)\n",
    "print('完成！')\n",
    "\n",
    "\n",
    "\n"
   ],
   "metadata": {
    "collapsed": false,
    "pycharm": {
     "name": "#%%\n"
    }
   }
  }
 ],
 "metadata": {
  "anaconda-cloud": {},
  "kernelspec": {
   "display_name": "Python [default]",
   "language": "python",
   "name": "python3"
  },
  "language_info": {
   "codemirror_mode": {
    "name": "ipython",
    "version": 3
   },
   "file_extension": ".py",
   "mimetype": "text/x-python",
   "name": "python",
   "nbconvert_exporter": "python",
   "pygments_lexer": "ipython3",
   "version": "3.5.2"
  }
 },
 "nbformat": 4,
 "nbformat_minor": 1
}