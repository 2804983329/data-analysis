{
 "cells": [
  {
   "cell_type": "code",
   "execution_count": 23,
   "outputs": [
    {
     "data": {
      "text/plain": "'\\n【课程1.2】  Numpy基础数据结构\\n\\nNumPy数组是一个多维数组对象，称为ndarray。其由两部分组成：\\n① 实际的数据\\n② 描述这些数据的元数据\\n\\n'"
     },
     "execution_count": 23,
     "metadata": {},
     "output_type": "execute_result"
    }
   ],
   "source": [
    "'''\n",
    "【课程1.2】  Numpy基础数据结构\n",
    "\n",
    "NumPy数组是一个多维数组对象，称为ndarray。其由两部分组成：\n",
    "① 实际的数据\n",
    "② 描述这些数据的元数据\n",
    "\n",
    "'''"
   ],
   "metadata": {
    "collapsed": false,
    "pycharm": {
     "name": "#%%\n"
    }
   }
  },
  {
   "cell_type": "code",
   "execution_count": 24,
   "outputs": [
    {
     "name": "stdout",
     "output_type": "stream",
     "text": [
      "[1 2 3 4 5 6 7]\n",
      "1\n",
      "(7,)\n",
      "7\n",
      "int32\n",
      "4\n",
      "<memory at 0x000001B2EFC141C8>\n"
     ]
    },
    {
     "data": {
      "text/plain": "array([1, 2, 3, 4, 5, 6, 7])"
     },
     "execution_count": 24,
     "metadata": {},
     "output_type": "execute_result"
    }
   ],
   "source": [
    "# 多维数组ndarray\n",
    "import numpy as np\n",
    "\n",
    "ar = np.array([1,2,3,4,5,6,7])\n",
    "print(ar)          # 输出数组，注意数组的格式：中括号，元素之间没有逗号（和列表区分）\n",
    "print(ar.ndim)     # 输出数组维度的个数（轴数），或者说“秩”，维度的数量也称rank\n",
    "print(ar.shape)    # 数组的维度，对于n行m列的数组，shape为（n，m）\n",
    "print(ar.size)     # 数组的元素总数，对于n行m列的数组，元素总数为n*m\n",
    "print(ar.dtype)    # 数组中元素的类型，类似type()（注意了，type()是函数，.dtype是方法）\n",
    "print(ar.itemsize) # 数组中每个元素的字节大小，int32l类型字节为4，float64的字节为8\n",
    "print(ar.data)     # 包含实际数组元素的缓冲区，由于一般通过数组的索引获取元素，所以通常不需要使用这个属性。\n",
    "ar   # 交互方式下输出，会有array(数组)\n",
    "\n",
    "# 数组的基本属性\n",
    "# ① 数组的维数称为秩（rank），一维数组的秩为1，二维数组的秩为2，以此类推\n",
    "# ② 在NumPy中，每一个线性的数组称为是一个轴（axes），秩其实是描述轴的数量：\n",
    "# 比如说，二维数组相当于是两个一维数组，其中第一个一维数组中每个元素又是一个一维数组\n",
    "# 所以一维数组就是NumPy中的轴（axes），第一个轴相当于是底层数组，第二个轴是底层数组里的数组。\n",
    "# 而轴的数量——秩，就是数组的维数。"
   ],
   "metadata": {
    "collapsed": false,
    "pycharm": {
     "name": "#%%\n"
    }
   }
  },
  {
   "cell_type": "code",
   "execution_count": 25,
   "outputs": [
    {
     "name": "stdout",
     "output_type": "stream",
     "text": [
      "[0 1 2 3 4 5 6 7 8 9]\n",
      "[0 1 2 3 4 5 6 7 8 9]\n",
      "[1 2 3 4 5]\n",
      "[['1' '2' '3' '4' '5']\n",
      " ['a' 'b' 'c' 'd' 'e']]\n",
      "[[0.46062453 0.77173562 0.70862643 0.49944128 0.8325403 ]\n",
      " [0.24004114 0.79478237 0.05159295 0.30266884 0.75786834]]\n"
     ]
    }
   ],
   "source": [
    "# 创建数组：array()函数，括号内可以是列表、元祖、数组、生成器等\n",
    "\n",
    "\n",
    "ar1 =np.array(range(10))\n",
    "ar2 = np.arange(10)\n",
    "ar3 = np.array([1,2,3,4,5])\n",
    "ar4 = np.array([[1,2,3,4,5],['a','b','c','d','e']])\n",
    "print(ar1)\n",
    "print(ar2)\n",
    "print(ar3)\n",
    "print(ar4)\n",
    "print(np.random.rand(10).reshape(2,5))\n",
    "\n",
    "\n"
   ],
   "metadata": {
    "collapsed": false,
    "pycharm": {
     "name": "#%%\n"
    }
   }
  },
  {
   "cell_type": "code",
   "execution_count": 26,
   "outputs": [
    {
     "name": "stdout",
     "output_type": "stream",
     "text": [
      "[0 1 2 3 4 5 6 7 8 9]\n",
      "[0. 1. 2. 3. 4. 5. 6. 7. 8. 9.]\n",
      "[ 5  6  7  8  9 10 11]\n",
      "[ 5.  7.  9. 11.]\n",
      "[   0    1    2 ... 9997 9998 9999]\n"
     ]
    }
   ],
   "source": [
    "# 创建数组：arange()，类似range()，在给定间隔内返回均匀间隔的值。\n",
    "\n",
    "print(np.arange(10))    # 返回0-9，整型\n",
    "print(np.arange(10.0))  # 返回0.0-9.0，浮点型\n",
    "print(np.arange(5,12))  # 返回5-11\n",
    "print(np.arange(5.0,12,2))  # 返回5.0-12.0，步长为2\n",
    "print(np.arange(10000))  # 如果数组太大而无法打印，NumPy会自动跳过数组的中心部分，并只打印边角："
   ],
   "metadata": {
    "collapsed": false,
    "pycharm": {
     "name": "#%%\n"
    }
   }
  },
  {
   "cell_type": "code",
   "execution_count": 27,
   "outputs": [
    {
     "name": "stdout",
     "output_type": "stream",
     "text": [
      "[2.   2.25 2.5  2.75 3.  ] <class 'numpy.ndarray'>\n",
      "[2.  2.2 2.4 2.6 2.8]\n",
      "(array([2.  , 2.25, 2.5 , 2.75, 3.  ]), 0.25) <class 'tuple'>\n"
     ]
    }
   ],
   "source": [
    "# 创建数组：linspace():返回在间隔[开始，停止]上计算的num个均匀间隔的样本。\n",
    "\n",
    "ar1 = np.linspace(2.0, 3.0, num=5)\n",
    "ar2 = np.linspace(2.0, 3.0, num=5, endpoint=False)\n",
    "ar3 = np.linspace(2.0, 3.0, num=5, retstep=True)\n",
    "print(ar1,type(ar1))\n",
    "print(ar2)\n",
    "print(ar3,type(ar3))\n",
    "# numpy.linspace(start, stop, num=50, endpoint=True, retstep=False, dtype=None)\n",
    "# start：起始值，stop：结束值\n",
    "# num：生成样本数，默认为50\n",
    "# endpoint：如果为真，则停止是最后一个样本。否则，不包括在内。默认值为True。\n",
    "# retstep：如果为真，返回（样本，步骤），其中步长是样本之间的间距 → 输出为一个包含2个元素的元祖，第一个元素为array，第二个为步长实际值"
   ],
   "metadata": {
    "collapsed": false,
    "pycharm": {
     "name": "#%%\n"
    }
   }
  },
  {
   "cell_type": "code",
   "execution_count": 28,
   "outputs": [
    {
     "name": "stdout",
     "output_type": "stream",
     "text": [
      "[0. 0. 0. 0. 0.] float64\n",
      "[[0 0]\n",
      " [0 0]] int32\n",
      "------\n",
      "[[0 1 2 3 4]\n",
      " [5 6 7 8 9]]\n",
      "[[0 0 0 0 0]\n",
      " [0 0 0 0 0]]\n",
      "------\n",
      "[1. 1. 1. 1. 1. 1. 1. 1. 1.]\n",
      "[[[1. 1. 1. 1.]\n",
      "  [1. 1. 1. 1.]\n",
      "  [1. 1. 1. 1.]]\n",
      "\n",
      " [[1. 1. 1. 1.]\n",
      "  [1. 1. 1. 1.]\n",
      "  [1. 1. 1. 1.]]]\n",
      "[[1 1 1 1 1]\n",
      " [1 1 1 1 1]]\n"
     ]
    }
   ],
   "source": [
    "# 创建数组：zeros()/zeros_like()/ones()/ones_like()\n",
    "\n",
    "ar1 = np.zeros(5)\n",
    "ar2 = np.zeros((2,2), dtype = np.int)\n",
    "print(ar1,ar1.dtype)\n",
    "print(ar2,ar2.dtype)\n",
    "print('------')\n",
    "# numpy.zeros(shape, dtype=float, order='C'):返回给定形状和类型的新数组，用零填充。\n",
    "# shape：数组纬度，二维以上需要用()，且输入参数为整数\n",
    "# dtype：数据类型，默认numpy.float64\n",
    "# order：是否在存储器中以C或Fortran连续（按行或列方式）存储多维数据。\n",
    "\n",
    "ar3 = np.array([list(range(5)),list(range(5,10))])\n",
    "ar4 = np.zeros_like(ar3)\n",
    "print(ar3)\n",
    "print(ar4)\n",
    "print('------')\n",
    "# 返回具有与给定数组相同的形状和类型的零数组，这里ar4根据ar3的形状和dtype创建一个全0的数组\n",
    "\n",
    "ar5 = np.ones(9)\n",
    "ar6 = np.ones((2,3,4))\n",
    "ar7 = np.ones_like(ar3)\n",
    "print(ar5)\n",
    "print(ar6)\n",
    "print(ar7)\n",
    "# ones()/ones_like()和zeros()/zeros_like()一样，只是填充为1"
   ],
   "metadata": {
    "collapsed": false,
    "pycharm": {
     "name": "#%%\n"
    }
   }
  },
  {
   "cell_type": "code",
   "execution_count": 28,
   "outputs": [],
   "source": [],
   "metadata": {
    "collapsed": false,
    "pycharm": {
     "name": "#%%\n"
    }
   }
  },
  {
   "cell_type": "code",
   "execution_count": 29,
   "outputs": [
    {
     "name": "stdout",
     "output_type": "stream",
     "text": [
      "[[1. 0. 0. 0. 0.]\n",
      " [0. 1. 0. 0. 0.]\n",
      " [0. 0. 1. 0. 0.]\n",
      " [0. 0. 0. 1. 0.]\n",
      " [0. 0. 0. 0. 1.]]\n"
     ]
    }
   ],
   "source": [
    "# 创建数组：eye()\n",
    "\n",
    "print(np.eye(5))\n",
    "# 创建一个正方的N*N的单位矩阵，对角线值为1，其余为0"
   ],
   "metadata": {
    "collapsed": false,
    "pycharm": {
     "name": "#%%\n"
    }
   }
  },
  {
   "cell_type": "markdown",
   "source": [
    "ndarray的数据类型\n",
    "\n",
    "bool\t用一个字节存储的布尔类型（True或False）\n",
    "\n",
    "inti\t由所在平台决定其大小的整数（一般为int32或int64）\n",
    "\n",
    "int8\t一个字节大小，-128 至 127\n",
    "\n",
    "int16\t整数，-32768 至 32767\n",
    "\n",
    "int32\t整数，-2 ** 31 至 2 ** 32 -1\n",
    "\n",
    "int64\t整数，-2 ** 63 至 2 ** 63 - 1\n",
    "\n",
    "uint8\t无符号整数，0 至 255\n",
    "\n",
    "uint16\t无符号整数，0 至 65535\n",
    "\n",
    "uint32\t无符号整数，0 至 2 ** 32 - 1\n",
    "\n",
    "uint64\t无符号整数，0 至 2 ** 64 - 1\n",
    "\n",
    "float16\t半精度浮点数：16位，正负号1位，指数5位，精度10位\n",
    "\n",
    "float32\t单精度浮点数：32位，正负号1位，指数8位，精度23位\n",
    "\n",
    "float64或float\t双精度浮点数：64位，正负号1位，指数11位，精度52位\n",
    "\n",
    "complex64\t复数，分别用两个32位浮点数表示实部和虚部\n",
    "\n",
    "complex128或complex\t复数，分别用两个64位浮点数表示实部和虚部"
   ],
   "metadata": {
    "collapsed": false
   }
  },
  {
   "cell_type": "markdown",
   "source": [
    "######## 本节课有作业，请查看 “课程作业.docx”  ########"
   ],
   "metadata": {
    "collapsed": false
   }
  },
  {
   "cell_type": "code",
   "execution_count": 30,
   "outputs": [
    {
     "data": {
      "text/plain": "'\\n【课程1.3】  Numpy通用函数\\n\\n基本操作\\n\\n'"
     },
     "execution_count": 30,
     "metadata": {},
     "output_type": "execute_result"
    }
   ],
   "source": [
    "'''\n",
    "【课程1.3】  Numpy通用函数\n",
    "\n",
    "基本操作\n",
    "\n",
    "'''"
   ],
   "metadata": {
    "collapsed": false,
    "pycharm": {
     "name": "#%%\n"
    }
   }
  },
  {
   "cell_type": "code",
   "execution_count": 31,
   "outputs": [
    {
     "name": "stdout",
     "output_type": "stream",
     "text": [
      "[0 1 2 3 4 5 6 7 8 9] \n",
      " [0 1 2 3 4 5 6 7 8 9]\n",
      "[[1. 1.]\n",
      " [1. 1.]\n",
      " [1. 1.]\n",
      " [1. 1.]\n",
      " [1. 1.]] \n",
      " [[1. 1. 1. 1. 1.]\n",
      " [1. 1. 1. 1. 1.]]\n",
      "------\n",
      "[0 1 2 3 4 5 6 7 8 9] \n",
      " [[0 1 2 3 4]\n",
      " [5 6 7 8 9]]\n",
      "[[0. 0. 0. 0. 0. 0. 0. 0.]\n",
      " [0. 0. 0. 0. 0. 0. 0. 0.]\n",
      " [0. 0. 0. 0. 0. 0. 0. 0.]]\n",
      "[[ 0  1  2  3]\n",
      " [ 4  5  6  7]\n",
      " [ 8  9 10 11]]\n",
      "------\n",
      "[[0 1 2 3]\n",
      " [4 0 1 2]\n",
      " [3 4 0 1]]\n"
     ]
    }
   ],
   "source": [
    "# 数组形状：.T/.reshape()/.resize()\n",
    "\n",
    "ar1 = np.arange(10)\n",
    "ar2 = np.ones((5,2))\n",
    "print(ar1,'\\n',ar1.T)\n",
    "print(ar2,'\\n',ar2.T)\n",
    "print('------')\n",
    "# .T方法：转置，例如原shape为(3,4)/(2,3,4)，转置结果为(4,3)/(4,3,2) → 所以一维数组转置后结果不变\n",
    "\n",
    "\n",
    "\n",
    "ar3 = ar1.reshape(2,5)     # 用法1：直接将已有数组改变形状\n",
    "ar4 = np.zeros((4,6)).reshape(3,8)   # 用法2：生成数组后直接改变形状\n",
    "ar5 = np.reshape(np.arange(12),(3,4))   # 用法3：参数内添加数组，目标形状\n",
    "print(ar1,'\\n',ar3)\n",
    "print(ar4)\n",
    "print(ar5)\n",
    "print('------')\n",
    "# numpy.reshape(a, newshape, order='C')：为数组提供新形状，而不更改其数据，所以元素数量需要一致！！\n",
    "\n",
    "ar6 = np.resize(np.arange(5),(3,4))\n",
    "print(ar6)\n",
    "# numpy.resize(a, new_shape)：返回具有指定形状的新数组，如有必要可重复填充所需数量的元素。\n",
    "# 注意了：.T/.reshape()/.resize()都是生成新的数组！！！\n"
   ],
   "metadata": {
    "collapsed": false,
    "pycharm": {
     "name": "#%%\n"
    }
   }
  },
  {
   "cell_type": "code",
   "execution_count": 32,
   "outputs": [
    {
     "ename": "SyntaxError",
     "evalue": "invalid syntax (<ipython-input-32-987e71aa9255>, line 1)",
     "output_type": "error",
     "traceback": [
      "\u001B[1;36m  File \u001B[1;32m\"<ipython-input-32-987e71aa9255>\"\u001B[1;36m, line \u001B[1;32m1\u001B[0m\n\u001B[1;33m    numpy通用函数 07.45\u001B[0m\n\u001B[1;37m                  ^\u001B[0m\n\u001B[1;31mSyntaxError\u001B[0m\u001B[1;31m:\u001B[0m invalid syntax\n"
     ]
    }
   ],
   "source": [
    "numpy通用函数 07.45"
   ],
   "metadata": {
    "collapsed": false,
    "pycharm": {
     "name": "#%%\n"
    }
   }
  },
  {
   "cell_type": "code",
   "execution_count": null,
   "outputs": [],
   "source": [
    "# 数组的复制\n",
    "\n",
    "ar1 = np.arange(10)\n",
    "ar2 = ar1\n",
    "print(ar2 is ar1)\n",
    "ar1[2] = 9\n",
    "print(ar1,ar2)\n",
    "# 回忆python的赋值逻辑：指向内存中生成的一个值 → 这里ar1和ar2指向同一个值，所以ar1改变，ar2一起改变\n",
    "\n",
    "ar3 = ar1.copy()\n",
    "print(ar3 is ar1)\n",
    "ar1[0] = 9\n",
    "print(ar1,ar3)\n",
    "# copy方法生成数组及其数据的完整拷贝\n",
    "# 再次提醒：.T/.reshape()/.resize()都是生成新的数组！！！\n",
    "\n"
   ],
   "metadata": {
    "collapsed": false,
    "pycharm": {
     "name": "#%%\n"
    }
   }
  },
  {
   "cell_type": "markdown",
   "source": [
    "ndarray的数据类型\n",
    "\n",
    "bool\t用一个字节存储的布尔类型（True或False）\n",
    "\n",
    "inti\t由所在平台决定其大小的整数（一般为int32或int64）\n",
    "\n",
    "int8\t一个字节大小，-128 至 127\n",
    "\n",
    "int16\t整数，-32768 至 32767\n",
    "\n",
    "int32\t整数，-2 ** 31 至 2 ** 32 -1\n",
    "\n",
    "int64\t整数，-2 ** 63 至 2 ** 63 - 1\n",
    "\n",
    "uint8\t无符号整数，0 至 255\n",
    "\n",
    "uint16\t无符号整数，0 至 65535\n",
    "\n",
    "uint32\t无符号整数，0 至 2 ** 32 - 1\n",
    "\n",
    "uint64\t无符号整数，0 至 2 ** 64 - 1\n",
    "\n",
    "float16\t半精度浮点数：16位，正负号1位，指数5位，精度10位\n",
    "\n",
    "float32\t单精度浮点数：32位，正负号1位，指数8位，精度23位\n",
    "\n",
    "float64或float\t双精度浮点数：64位，正负号1位，指数11位，精度52位\n",
    "\n",
    "complex64\t复数，分别用两个32位浮点数表示实部和虚部\n",
    "\n",
    "complex128或complex\t复数，分别用两个64位浮点数表示实部和虚部"
   ],
   "metadata": {
    "collapsed": false
   }
  },
  {
   "cell_type": "markdown",
   "source": [
    "######## 本节课有作业，请查看 “课程作业.docx”  ########"
   ],
   "metadata": {
    "collapsed": false
   }
  },
  {
   "cell_type": "code",
   "execution_count": null,
   "outputs": [],
   "source": [
    "'''\n",
    "【课程1.3】  Numpy通用函数\n",
    "\n",
    "基本操作\n",
    "\n",
    "'''"
   ],
   "metadata": {
    "collapsed": false,
    "pycharm": {
     "name": "#%%\n"
    }
   }
  },
  {
   "cell_type": "code",
   "execution_count": 34,
   "outputs": [
    {
     "name": "stdout",
     "output_type": "stream",
     "text": [
      "[0 1 2 3 4 5 6 7 8 9] \n",
      " [0 1 2 3 4 5 6 7 8 9]\n",
      "[[1. 1.]\n",
      " [1. 1.]\n",
      " [1. 1.]\n",
      " [1. 1.]\n",
      " [1. 1.]] \n",
      " [[1. 1. 1. 1. 1.]\n",
      " [1. 1. 1. 1. 1.]]\n",
      "------\n",
      "[0 1 2 3 4 5 6 7 8 9] \n",
      " [[0 1 2 3 4]\n",
      " [5 6 7 8 9]]\n",
      "[[0. 0. 0. 0. 0. 0. 0. 0.]\n",
      " [0. 0. 0. 0. 0. 0. 0. 0.]\n",
      " [0. 0. 0. 0. 0. 0. 0. 0.]]\n",
      "[[ 0  1  2  3]\n",
      " [ 4  5  6  7]\n",
      " [ 8  9 10 11]]\n",
      "------\n",
      "[[0 1 2 3]\n",
      " [4 0 1 2]\n",
      " [3 4 0 1]]\n"
     ]
    }
   ],
   "source": [
    "# 数组形状：.T/.reshape()/.resize()\n",
    "\n",
    "ar1 = np.arange(10)\n",
    "ar2 = np.ones((5,2))\n",
    "print(ar1,'\\n',ar1.T)\n",
    "print(ar2,'\\n',ar2.T)\n",
    "print('------')\n",
    "# .T方法：转置，例如原shape为(3,4)/(2,3,4)，转置结果为(4,3)/(4,3,2) → 所以一维数组转置后结果不变\n",
    "\n",
    "\n",
    "\n",
    "ar3 = ar1.reshape(2,5)     # 用法1：直接将已有数组改变形状\n",
    "ar4 = np.zeros((4,6)).reshape(3,8)   # 用法2：生成数组后直接改变形状\n",
    "ar5 = np.reshape(np.arange(12),(3,4))   # 用法3：参数内添加数组，目标形状\n",
    "print(ar1,'\\n',ar3)\n",
    "print(ar4)\n",
    "print(ar5)\n",
    "print('------')\n",
    "# numpy.reshape(a, newshape, order='C')：为数组提供新形状，而不更改其数据，所以元素数量需要一致！！\n",
    "\n",
    "ar6 = np.resize(np.arange(5),(3,4))\n",
    "print(ar6)\n",
    "# numpy.resize(a, new_shape)：返回具有指定形状的新数组，如有必要可重复填充所需数量的元素。\n",
    "# 注意了：.T/.reshape()/.resize()都是生成新的数组！！！\n"
   ],
   "metadata": {
    "collapsed": false,
    "pycharm": {
     "name": "#%%\n"
    }
   }
  },
  {
   "cell_type": "code",
   "execution_count": null,
   "outputs": [],
   "source": [
    "# 数组的复制\n",
    "\n",
    "ar1 = np.arange(10)\n",
    "ar2 = ar1\n",
    "print(ar2 is ar1)\n",
    "ar1[2] = 9\n",
    "print(ar1,ar2)\n",
    "# 回忆python的赋值逻辑：指向内存中生成的一个值 → 这里ar1和ar2指向同一个值，所以ar1改变，ar2一起改变\n",
    "\n",
    "ar3 = ar1.copy()\n",
    "print(ar3 is ar1)\n",
    "ar1[0] = 9\n",
    "print(ar1,ar3)\n",
    "# copy方法生成数组及其数据的完整拷贝\n",
    "# 再次提醒：.T/.reshape()/.resize()都是生成新的数组！！！\n",
    "\n",
    "s = np.arange(10)\n",
    "print(np.resize(s,(2,6)))\n",
    "print(s.resize(2,6))\n",
    "print(s)"
   ],
   "metadata": {
    "collapsed": false,
    "pycharm": {
     "name": "#%%\n"
    }
   }
  },
  {
   "cell_type": "code",
   "execution_count": null,
   "outputs": [],
   "source": [
    "#改变数组类型 .astype()\n",
    "ar1 = np.arange(10,dtype = float)\n",
    "ar2 = ar1.astype(np.int64)\n",
    "print(ar1,ar1.dtype)\n",
    "print(ar2,ar2.dtype)\n"
   ],
   "metadata": {
    "collapsed": false,
    "pycharm": {
     "name": "#%%\n"
    }
   }
  },
  {
   "cell_type": "code",
   "execution_count": null,
   "outputs": [],
   "source": [
    "#数组堆叠\n",
    "a = np.arange(5)\n",
    "b = np.array(5,9)\n",
    "print(a)\n",
    "print(b)\n",
    "print(np.hstack((a,b))) #横向连接\n",
    "print('-----')\n",
    "\n",
    "\n",
    "a = np.array([[1],[2],[3]])   # a为二维数组，3行1列\n",
    "b = np.array([['a'],['b'],['c']])  # b为二维数组，3行1列\n",
    "ar2 = np.hstack((a,b))  # 注意:((a,b))，这里形状必须一样\n",
    "print(a,a.shape)\n",
    "print(b,b.shape)\n",
    "print(ar2,ar2.shape)\n",
    "print('-----')\n",
    "# numpy.hstack(tup)：水平（按列顺序）堆叠数组\n",
    "\n",
    "\n",
    "a = np.arange(5)\n",
    "b = np.arange(5,10)\n",
    "ar1 = np.vstack((a,b))\n",
    "print(a,a.shape)\n",
    "print(b,b.shape)\n",
    "print(ar1,ar1.shape)\n",
    "a = np.array([[1],[2],[3]])\n",
    "b = np.array([['a'],['b'],['c'],['d']])\n",
    "ar2 = np.vstack((a,b))  # 这里形状可以不一样\n",
    "print(a,a.shape)\n",
    "print(b,b.shape)\n",
    "print(ar2,ar2.shape)\n",
    "print('-----')\n",
    "# numpy.vstack(tup)：垂直（按列顺序）堆叠数组\n",
    "\n",
    "a = np.arange(5)\n",
    "b = np.arange(5,10)\n",
    "ar1 = np.stack((a,b))\n",
    "ar2 = np.stack((a,b),axis = 1)\n",
    "print(a,a.shape)\n",
    "print(b,b.shape)\n",
    "print(ar1,ar1.shape)\n",
    "print(ar2,ar2.shape)\n",
    "# numpy.stack(arrays, axis=0)：沿着新轴连接数组的序列，形状必须一样！\n",
    "# 重点解释axis参数的意思，假设两个数组[1 2 3]和[4 5 6]，shape均为(3,0)\n",
    "# axis=0：[[1 2 3] [4 5 6]]，shape为(2,3)\n",
    "# axis=1：[[1 4] [2 5] [3 6]]，shape为(3,2)"
   ],
   "metadata": {
    "collapsed": false,
    "pycharm": {
     "name": "#%%\n"
    }
   }
  },
  {
   "cell_type": "code",
   "execution_count": null,
   "outputs": [],
   "source": [
    "# 数组拆分\n",
    "\n",
    "ar = np.arange(16).reshape(4,4)\n",
    "ar1 = np.hsplit(ar,2)\n",
    "print(ar)\n",
    "print(ar1,type(ar1))\n",
    "# numpy.hsplit(ary, indices_or_sections)：将数组水平（逐列）拆分为多个子数组 → 按列拆分\n",
    "# 输出结果为列表，列表中元素为数组\n",
    "\n",
    "ar2 = np.vsplit(ar,4)\n",
    "print(ar2,type(ar2))\n",
    "# numpy.vsplit(ary, indices_or_sections)：:将数组垂直（行方向）拆分为多个子数组 → 按行拆"
   ],
   "metadata": {
    "collapsed": false,
    "pycharm": {
     "name": "#%%\n"
    }
   }
  },
  {
   "cell_type": "code",
   "execution_count": null,
   "outputs": [],
   "source": [
    "# 数组简单运算\n",
    "\n",
    "ar = np.arange(6).reshape(2,3)\n",
    "print(ar + 10)   # 加法\n",
    "print(ar * 2)   # 乘法\n",
    "print(1 / (ar+1))  # 除法\n",
    "print(ar ** 0.5)  # 幂\n",
    "# 与标量的运算\n",
    "\n",
    "print(ar.mean())  # 求平均值\n",
    "print(ar.max())  # 求最大值\n",
    "print(ar.min())  # 求最小值\n",
    "print(ar.std())  # 求标准差\n",
    "print(ar.var())  # 求方差\n",
    "print(ar.sum(), np.sum(ar,axis = 0))  # 求和，np.sum() → axis为0，按列求和；axis为1，按行求和\n",
    "print(np.sort(np.array([1,4,3,2,5,6])))  # 排序\n",
    "# 常用函数"
   ],
   "metadata": {
    "collapsed": false,
    "pycharm": {
     "name": "#%%\n"
    }
   }
  },
  {
   "cell_type": "markdown",
   "source": [
    "######## 本节课有作业，请查看 “课程作业.docx”  ########"
   ],
   "metadata": {
    "collapsed": false
   }
  },
  {
   "cell_type": "code",
   "execution_count": null,
   "outputs": [],
   "source": [
    "'''\n"
   ],
   "metadata": {
    "collapsed": false,
    "pycharm": {
     "name": "#%%\n"
    }
   }
  },
  {
   "cell_type": "code",
   "execution_count": null,
   "outputs": [],
   "source": [
    "\n"
   ],
   "metadata": {
    "collapsed": false,
    "pycharm": {
     "name": "#%%\n"
    }
   }
  },
  {
   "cell_type": "code",
   "execution_count": 37,
   "outputs": [
    {
     "name": "stdout",
     "output_type": "stream",
     "text": [
      "[0. 1. 2. 3. 4. 5. 6. 7. 8. 9.] float64\n",
      "[0 1 2 3 4 5 6 7 8 9] int64\n"
     ]
    }
   ],
   "source": [],
   "metadata": {
    "collapsed": false,
    "pycharm": {
     "name": "#%%\n"
    }
   }
  },
  {
   "cell_type": "code",
   "execution_count": 38,
   "outputs": [
    {
     "ename": "TypeError",
     "evalue": "data type not understood",
     "output_type": "error",
     "traceback": [
      "\u001B[1;31m---------------------------------------------------------------------------\u001B[0m",
      "\u001B[1;31mTypeError\u001B[0m                                 Traceback (most recent call last)",
      "\u001B[1;32m<ipython-input-38-0742f5b84c48>\u001B[0m in \u001B[0;36m<module>\u001B[1;34m\u001B[0m\n\u001B[0;32m      1\u001B[0m \u001B[1;31m#数组堆叠\u001B[0m\u001B[1;33m\u001B[0m\u001B[1;33m\u001B[0m\u001B[1;33m\u001B[0m\u001B[0m\n\u001B[0;32m      2\u001B[0m \u001B[0ma\u001B[0m \u001B[1;33m=\u001B[0m \u001B[0mnp\u001B[0m\u001B[1;33m.\u001B[0m\u001B[0marange\u001B[0m\u001B[1;33m(\u001B[0m\u001B[1;36m5\u001B[0m\u001B[1;33m)\u001B[0m\u001B[1;33m\u001B[0m\u001B[1;33m\u001B[0m\u001B[0m\n\u001B[1;32m----> 3\u001B[1;33m \u001B[0mb\u001B[0m \u001B[1;33m=\u001B[0m \u001B[0mnp\u001B[0m\u001B[1;33m.\u001B[0m\u001B[0marray\u001B[0m\u001B[1;33m(\u001B[0m\u001B[1;36m5\u001B[0m\u001B[1;33m,\u001B[0m\u001B[1;36m9\u001B[0m\u001B[1;33m)\u001B[0m\u001B[1;33m\u001B[0m\u001B[1;33m\u001B[0m\u001B[0m\n\u001B[0m\u001B[0;32m      4\u001B[0m \u001B[0mprint\u001B[0m\u001B[1;33m(\u001B[0m\u001B[0ma\u001B[0m\u001B[1;33m)\u001B[0m\u001B[1;33m\u001B[0m\u001B[1;33m\u001B[0m\u001B[0m\n\u001B[0;32m      5\u001B[0m \u001B[0mprint\u001B[0m\u001B[1;33m(\u001B[0m\u001B[0mb\u001B[0m\u001B[1;33m)\u001B[0m\u001B[1;33m\u001B[0m\u001B[1;33m\u001B[0m\u001B[0m\n",
      "\u001B[1;31mTypeError\u001B[0m: data type not understood"
     ]
    }
   ],
   "source": [
    "#数组堆叠\n",
    "a = np.arange(5)\n",
    "b = np.array(5,9)\n",
    "print(a)\n",
    "print(b)\n",
    "print(np.hstack((a,b))) #横向连接\n",
    "print('-----')\n",
    "\n",
    "\n",
    "a = np.array([[1],[2],[3]])   # a为二维数组，3行1列\n",
    "b = np.array([['a'],['b'],['c']])  # b为二维数组，3行1列\n",
    "ar2 = np.hstack((a,b))  # 注意:((a,b))，这里形状必须一样\n",
    "print(a,a.shape)\n",
    "print(b,b.shape)\n",
    "print(ar2,ar2.shape)\n",
    "print('-----')\n",
    "# numpy.hstack(tup)：水平（按列顺序）堆叠数组\n",
    "\n",
    "\n",
    "a = np.arange(5)\n",
    "b = np.arange(5,10)\n",
    "ar1 = np.vstack((a,b))\n",
    "print(a,a.shape)\n",
    "print(b,b.shape)\n",
    "print(ar1,ar1.shape)\n",
    "a = np.array([[1],[2],[3]])\n",
    "b = np.array([['a'],['b'],['c'],['d']])\n",
    "ar2 = np.vstack((a,b))  # 这里形状可以不一样\n",
    "print(a,a.shape)\n",
    "print(b,b.shape)\n",
    "print(ar2,ar2.shape)\n",
    "print('-----')\n",
    "# numpy.vstack(tup)：垂直（按列顺序）堆叠数组\n",
    "\n",
    "a = np.arange(5)\n",
    "b = np.arange(5,10)\n",
    "ar1 = np.stack((a,b))\n",
    "ar2 = np.stack((a,b),axis = 1)\n",
    "print(a,a.shape)\n",
    "print(b,b.shape)\n",
    "print(ar1,ar1.shape)\n",
    "print(ar2,ar2.shape)\n",
    "# numpy.stack(arrays, axis=0)：沿着新轴连接数组的序列，形状必须一样！\n",
    "# 重点解释axis参数的意思，假设两个数组[1 2 3]和[4 5 6]，shape均为(3,0)\n",
    "# axis=0：[[1 2 3] [4 5 6]]，shape为(2,3)\n",
    "# axis=1：[[1 4] [2 5] [3 6]]，shape为(3,2)"
   ],
   "metadata": {
    "collapsed": false,
    "pycharm": {
     "name": "#%%\n"
    }
   }
  },
  {
   "cell_type": "code",
   "execution_count": null,
   "outputs": [],
   "source": [],
   "metadata": {
    "collapsed": false,
    "pycharm": {
     "name": "#%%\n"
    }
   }
  },
  {
   "cell_type": "markdown",
   "source": [],
   "metadata": {
    "collapsed": false
   }
  },
  {
   "cell_type": "markdown",
   "source": [
    "######## 本节课有作业，请查看 “课程作业.docx”  ########"
   ],
   "metadata": {
    "collapsed": false
   }
  },
  {
   "cell_type": "code",
   "execution_count": null,
   "outputs": [],
   "source": [
    "'''\n",
    "【课程1.3】  Numpy通用函数\n",
    "\n",
    "基本操作\n",
    "\n",
    "'''"
   ],
   "metadata": {
    "collapsed": false,
    "pycharm": {
     "name": "#%%\n"
    }
   }
  },
  {
   "cell_type": "code",
   "execution_count": 7,
   "outputs": [
    {
     "name": "stdout",
     "output_type": "stream",
     "text": [
      "[0 1 2 3 4 5 6 7 8 9] \n",
      " [0 1 2 3 4 5 6 7 8 9]\n",
      "[[1. 1.]\n",
      " [1. 1.]\n",
      " [1. 1.]\n",
      " [1. 1.]\n",
      " [1. 1.]] \n",
      " [[1. 1. 1. 1. 1.]\n",
      " [1. 1. 1. 1. 1.]]\n",
      "------\n",
      "[[1. 1.]\n",
      " [1. 1.]\n",
      " [1. 1.]\n",
      " [1. 1.]\n",
      " [1. 1.]]\n"
     ]
    },
    {
     "ename": "TypeError",
     "evalue": "data type not understood",
     "output_type": "error",
     "traceback": [
      "\u001B[1;31m---------------------------------------------------------------------------\u001B[0m",
      "\u001B[1;31mTypeError\u001B[0m                                 Traceback (most recent call last)",
      "\u001B[1;32m<ipython-input-7-3c35b56d01ec>\u001B[0m in \u001B[0;36m<module>\u001B[1;34m\u001B[0m\n\u001B[0;32m     10\u001B[0m \u001B[1;33m\u001B[0m\u001B[0m\n\u001B[0;32m     11\u001B[0m \u001B[0mprint\u001B[0m\u001B[1;33m(\u001B[0m\u001B[0mar2\u001B[0m\u001B[1;33m.\u001B[0m\u001B[0mreshape\u001B[0m\u001B[1;33m(\u001B[0m\u001B[1;36m5\u001B[0m\u001B[1;33m,\u001B[0m\u001B[1;36m2\u001B[0m\u001B[1;33m)\u001B[0m\u001B[1;33m)\u001B[0m\u001B[1;33m\u001B[0m\u001B[1;33m\u001B[0m\u001B[0m\n\u001B[1;32m---> 12\u001B[1;33m \u001B[0mprint\u001B[0m\u001B[1;33m(\u001B[0m\u001B[0mnp\u001B[0m\u001B[1;33m.\u001B[0m\u001B[0mones\u001B[0m\u001B[1;33m(\u001B[0m\u001B[1;36m10\u001B[0m\u001B[1;33m,\u001B[0m\u001B[1;36m10\u001B[0m\u001B[1;33m)\u001B[0m\u001B[1;33m.\u001B[0m\u001B[0mreshape\u001B[0m\u001B[1;33m(\u001B[0m\u001B[1;36m5\u001B[0m\u001B[1;33m,\u001B[0m\u001B[1;36m20\u001B[0m\u001B[1;33m)\u001B[0m\u001B[1;33m)\u001B[0m\u001B[1;33m\u001B[0m\u001B[1;33m\u001B[0m\u001B[0m\n\u001B[0m\u001B[0;32m     13\u001B[0m \u001B[0mprint\u001B[0m\u001B[1;33m(\u001B[0m\u001B[0mnp\u001B[0m\u001B[1;33m.\u001B[0m\u001B[0mreshape\u001B[0m\u001B[1;33m(\u001B[0m\u001B[0mnp\u001B[0m\u001B[1;33m.\u001B[0m\u001B[0marange\u001B[0m\u001B[1;33m(\u001B[0m\u001B[1;36m16\u001B[0m\u001B[1;33m)\u001B[0m\u001B[1;33m,\u001B[0m\u001B[1;33m(\u001B[0m\u001B[1;36m2\u001B[0m\u001B[1;33m,\u001B[0m\u001B[1;36m8\u001B[0m\u001B[1;33m)\u001B[0m\u001B[1;33m)\u001B[0m\u001B[1;33m)\u001B[0m\u001B[1;33m\u001B[0m\u001B[1;33m\u001B[0m\u001B[0m\n",
      "\u001B[1;32mD:\\software\\anaconda\\lib\\site-packages\\numpy\\core\\numeric.py\u001B[0m in \u001B[0;36mones\u001B[1;34m(shape, dtype, order)\u001B[0m\n\u001B[0;32m    205\u001B[0m \u001B[1;33m\u001B[0m\u001B[0m\n\u001B[0;32m    206\u001B[0m     \"\"\"\n\u001B[1;32m--> 207\u001B[1;33m     \u001B[0ma\u001B[0m \u001B[1;33m=\u001B[0m \u001B[0mempty\u001B[0m\u001B[1;33m(\u001B[0m\u001B[0mshape\u001B[0m\u001B[1;33m,\u001B[0m \u001B[0mdtype\u001B[0m\u001B[1;33m,\u001B[0m \u001B[0morder\u001B[0m\u001B[1;33m)\u001B[0m\u001B[1;33m\u001B[0m\u001B[1;33m\u001B[0m\u001B[0m\n\u001B[0m\u001B[0;32m    208\u001B[0m     \u001B[0mmultiarray\u001B[0m\u001B[1;33m.\u001B[0m\u001B[0mcopyto\u001B[0m\u001B[1;33m(\u001B[0m\u001B[0ma\u001B[0m\u001B[1;33m,\u001B[0m \u001B[1;36m1\u001B[0m\u001B[1;33m,\u001B[0m \u001B[0mcasting\u001B[0m\u001B[1;33m=\u001B[0m\u001B[1;34m'unsafe'\u001B[0m\u001B[1;33m)\u001B[0m\u001B[1;33m\u001B[0m\u001B[1;33m\u001B[0m\u001B[0m\n\u001B[0;32m    209\u001B[0m     \u001B[1;32mreturn\u001B[0m \u001B[0ma\u001B[0m\u001B[1;33m\u001B[0m\u001B[1;33m\u001B[0m\u001B[0m\n",
      "\u001B[1;31mTypeError\u001B[0m: data type not understood"
     ]
    }
   ],
   "source": [
    "# 数组形状：.T/.reshape()/.resize()\n",
    "\n",
    "ar1 = np.arange(10)\n",
    "ar2 = np.ones((5,2))\n",
    "print(ar1,'\\n',ar1.T)\n",
    "print(ar2,'\\n',ar2.T)\n",
    "print('------')\n",
    "# .T方法：转置，例如原shape为(3,4)/(2,3,4)，转置结果为(4,3)/(4,3,2) → 所以一维数组转置后结果不变\n",
    "\n",
    "\n",
    "\n",
    "ar3 = ar1.reshape(2,5)     # 用法1：直接将已有数组改变形状\n",
    "ar4 = np.zeros((4,6)).reshape(3,8)   # 用法2：生成数组后直接改变形状\n",
    "ar5 = np.reshape(np.arange(12),(3,4))   # 用法3：参数内添加数组，目标形状\n",
    "print(ar1,'\\n',ar3)\n",
    "print(ar4)\n",
    "print(ar5)\n",
    "print('------')\n",
    "# numpy.reshape(a, newshape, order='C')：为数组提供新形状，而不更改其数据，所以元素数量需要一致！！\n",
    "\n",
    "ar6 = np.resize(np.arange(5),(3,4))\n",
    "print(ar6)\n",
    "# numpy.resize(a, new_shape)：返回具有指定形状的新数组，如有必要可重复填充所需数量的元素。\n",
    "# 注意了：.T/.reshape()/.resize()都是生成新的数组！！！"
   ],
   "metadata": {
    "collapsed": false,
    "pycharm": {
     "name": "#%%\n"
    }
   }
  },
  {
   "cell_type": "code",
   "execution_count": null,
   "outputs": [],
   "source": [
    "numpy通用函数 07.45"
   ],
   "metadata": {
    "collapsed": false,
    "pycharm": {
     "name": "#%%\n"
    }
   }
  },
  {
   "cell_type": "code",
   "execution_count": null,
   "outputs": [],
   "source": [],
   "metadata": {
    "collapsed": false,
    "pycharm": {
     "name": "#%%"
    }
   }
  }
 ],
 "metadata": {
  "kernelspec": {
   "name": "python3",
   "language": "python",
   "display_name": "Python 3"
  },
  "language_info": {
   "codemirror_mode": {
    "name": "ipython",
    "version": 2
   },
   "file_extension": ".py",
   "mimetype": "text/x-python",
   "name": "python",
   "nbconvert_exporter": "python",
   "pygments_lexer": "ipython2",
   "version": "2.7.6"
  }
 },
 "nbformat": 4,
 "nbformat_minor": 0
}