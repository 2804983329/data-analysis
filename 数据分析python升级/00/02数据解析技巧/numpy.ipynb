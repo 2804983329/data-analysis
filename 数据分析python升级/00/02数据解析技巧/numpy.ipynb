{
 "cells": [
  {
   "cell_type": "code",
   "execution_count": null,
   "outputs": [],
   "source": [
    "'''\n",
    "【课程1.2】  Numpy基础数据结构\n",
    "\n",
    "NumPy数组是一个多维数组对象，称为ndarray。其由两部分组成：\n",
    "① 实际的数据\n",
    "② 描述这些数据的元数据\n",
    "\n",
    "'''"
   ],
   "metadata": {
    "collapsed": false,
    "pycharm": {
     "name": "#%%\n"
    }
   }
  },
  {
   "cell_type": "code",
   "execution_count": null,
   "outputs": [],
   "source": [
    "# 多维数组ndarray\n",
    "import numpy as np\n",
    "\n",
    "ar = np.array([1,2,3,4,5,6,7])\n",
    "print(ar)          # 输出数组，注意数组的格式：中括号，元素之间没有逗号（和列表区分）\n",
    "print(ar.ndim)     # 输出数组维度的个数（轴数），或者说“秩”，维度的数量也称rank\n",
    "print(ar.shape)    # 数组的维度，对于n行m列的数组，shape为（n，m）\n",
    "print(ar.size)     # 数组的元素总数，对于n行m列的数组，元素总数为n*m\n",
    "print(ar.dtype)    # 数组中元素的类型，类似type()（注意了，type()是函数，.dtype是方法）\n",
    "print(ar.itemsize) # 数组中每个元素的字节大小，int32l类型字节为4，float64的字节为8\n",
    "print(ar.data)     # 包含实际数组元素的缓冲区，由于一般通过数组的索引获取元素，所以通常不需要使用这个属性。\n",
    "ar   # 交互方式下输出，会有array(数组)\n",
    "\n",
    "# 数组的基本属性\n",
    "# ① 数组的维数称为秩（rank），一维数组的秩为1，二维数组的秩为2，以此类推\n",
    "# ② 在NumPy中，每一个线性的数组称为是一个轴（axes），秩其实是描述轴的数量：\n",
    "# 比如说，二维数组相当于是两个一维数组，其中第一个一维数组中每个元素又是一个一维数组\n",
    "# 所以一维数组就是NumPy中的轴（axes），第一个轴相当于是底层数组，第二个轴是底层数组里的数组。\n",
    "# 而轴的数量——秩，就是数组的维数。\n",
    "\n"
   ],
   "metadata": {
    "collapsed": false,
    "pycharm": {
     "name": "#%%\n"
    }
   }
  }
 ],
 "metadata": {
  "kernelspec": {
   "name": "python3",
   "language": "python",
   "display_name": "Python 3"
  },
  "language_info": {
   "codemirror_mode": {
    "name": "ipython",
    "version": 2
   },
   "file_extension": ".py",
   "mimetype": "text/x-python",
   "name": "python",
   "nbconvert_exporter": "python",
   "pygments_lexer": "ipython2",
   "version": "2.7.6"
  }
 },
 "nbformat": 4,
 "nbformat_minor": 0
}