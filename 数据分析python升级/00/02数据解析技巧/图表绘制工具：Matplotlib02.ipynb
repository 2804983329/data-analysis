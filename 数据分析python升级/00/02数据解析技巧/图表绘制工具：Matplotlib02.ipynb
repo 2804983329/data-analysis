{
 "cells": [
  {
   "cell_type": "code",
   "execution_count": null,
   "metadata": {
    "collapsed": true
   },
   "outputs": [],
   "source": [
    "'''\n",
    "【课程3.6】  基本图表绘制 plt.plot()\n",
    "\n",
    "图表类别：线形图、柱状图、密度图，以横纵坐标两个维度为主\n",
    "同时可延展出多种其他图表样式\n",
    "\n",
    "plt.plot(kind='line', ax=None, figsize=None, use_index=True, title=None, grid=None, legend=False,\n",
    "style=None, logx=False, logy=False, loglog=False, xticks=None, yticks=None, xlim=None, ylim=None,\n",
    "rot=None, fontsize=None, colormap=None, table=False, yerr=None, xerr=None, label=None, secondary_y=False, **kwds)\n",
    "\n",
    "'''"
   ]
  },
  {
   "cell_type": "code",
   "execution_count": null,
   "outputs": [],
   "source": [
    "import numpy as np\n",
    "import pandas as pd\n",
    "import matplotlib.pyplot as plt\n",
    "% matplotlib inline"
   ],
   "metadata": {
    "collapsed": false,
    "pycharm": {
     "name": "#%%\n"
    }
   }
  },
  {
   "cell_type": "code",
   "execution_count": null,
   "outputs": [],
   "source": [
    "# Series直接生成图表\n",
    "\n",
    "ts = pd.Series(np.random.randn(1000), index=pd.date_range('1/1/2000', periods=1000))\n",
    "ts = ts.cumsum()\n",
    "ts.plot(kind='line',\n",
    "       label = 'hehe',\n",
    "       style = '--g.',\n",
    "       color = 'red',\n",
    "       alpha = 0.4,\n",
    "       use_index = True,\n",
    "       rot = 45,\n",
    "       grid = True,\n",
    "       ylim = [-50,50],\n",
    "       yticks = list(range(-50,50,10)),\n",
    "       figsize = (8,4),\n",
    "       title = 'test',\n",
    "       legend = True)\n",
    "#plt.grid(True, linestyle = \"--\",color = \"gray\", linewidth = \"0.5\",axis = 'x')  # 网格\n",
    "plt.legend()\n",
    "# Series.plot()：series的index为横坐标，value为纵坐标\n",
    "# kind → line,bar,barh...（折线图，柱状图，柱状图-横...）\n",
    "# label → 图例标签，Dataframe格式以列名为label\n",
    "# style → 风格字符串，这里包括了linestyle（-），marker（.），color（g）\n",
    "# color → 颜色，有color指定时候，以color颜色为准\n",
    "# alpha → 透明度，0-1\n",
    "# use_index → 将索引用为刻度标签，默认为True\n",
    "# rot → 旋转刻度标签，0-360\n",
    "# grid → 显示网格，一般直接用plt.grid\n",
    "# xlim,ylim → x,y轴界限\n",
    "# xticks,yticks → x,y轴刻度值\n",
    "# figsize → 图像大小\n",
    "# title → 图名\n",
    "# legend → 是否显示图例，一般直接用plt.legend()\n",
    "# 也可以 → plt.plot()"
   ],
   "metadata": {
    "collapsed": false,
    "pycharm": {
     "name": "#%%\n"
    }
   }
  },
  {
   "cell_type": "code",
   "execution_count": null,
   "outputs": [],
   "source": [
    "# Dataframe直接生成图表\n",
    "\n",
    "df = pd.DataFrame(np.random.randn(1000, 4), index=ts.index, columns=list('ABCD'))\n",
    "df = df.cumsum()\n",
    "df.plot(kind='line',\n",
    "       style = '--.',\n",
    "       alpha = 0.4,\n",
    "       use_index = True,\n",
    "       rot = 45,\n",
    "       grid = True,\n",
    "       figsize = (8,4),\n",
    "       title = 'test',\n",
    "       legend = True,\n",
    "       subplots = False,\n",
    "       colormap = 'Greens')\n",
    "# subplots → 是否将各个列绘制到不同图表，默认False\n",
    "# 也可以 → plt.plot(df)"
   ],
   "metadata": {
    "collapsed": false,
    "pycharm": {
     "name": "#%%\n"
    }
   }
  },
  {
   "cell_type": "code",
   "execution_count": null,
   "outputs": [],
   "source": [
    "'''\n",
    "【课程3.7】  柱状图、堆叠图、面积图、填图\n",
    "\n",
    "plt.plot(kind='bar/barh') , plt.bar()\n",
    "\n",
    "'''"
   ],
   "metadata": {
    "collapsed": false,
    "pycharm": {
     "name": "#%%\n"
    }
   }
  },
  {
   "cell_type": "code",
   "execution_count": null,
   "outputs": [],
   "source": [
    "# 柱状图与堆叠图\n",
    "\n",
    "fig,axes = plt.subplots(4,1,figsize = (10,10))\n",
    "s = pd.Series(np.random.randint(0,10,16),index = list('abcdefghijklmnop'))\n",
    "df = pd.DataFrame(np.random.rand(10,3), columns=['a','b','c'])\n",
    "\n",
    "s.plot(kind='bar',color = 'k',grid = True,alpha = 0.5,ax = axes[0])  # ax参数 → 选择第几个子图\n",
    "# 单系列柱状图方法一：plt.plot(kind='bar/barh')\n",
    "\n",
    "df = pd.DataFrame(np.random.rand(10,3), columns=['a','b','c'])\n",
    "df.plot(kind='bar',ax = axes[1],grid = True,colormap='Reds_r')\n",
    "# 多系列柱状图\n",
    "\n",
    "df.plot(kind='bar',ax = axes[2],grid = True,colormap='Blues_r',stacked=True)\n",
    "# 多系列堆叠图\n",
    "# stacked → 堆叠\n",
    "\n",
    "df.plot.barh(ax = axes[3],grid = True,stacked=True,colormap = 'BuGn_r')\n",
    "# 新版本plt.plot.<kind>"
   ],
   "metadata": {
    "collapsed": false,
    "pycharm": {
     "name": "#%%\n"
    }
   }
  },
  {
   "cell_type": "code",
   "execution_count": null,
   "outputs": [],
   "source": [
    "# 柱状图 plt.bar()\n",
    "\n",
    "plt.figure(figsize=(10,4))\n",
    "x = np.arange(10)\n",
    "y1 = np.random.rand(10)\n",
    "y2 = -np.random.rand(10)\n",
    "\n",
    "plt.bar(x,y1,width = 1,facecolor = 'yellowgreen',edgecolor = 'white',yerr = y1*0.1)\n",
    "plt.bar(x,y2,width = 1,facecolor = 'lightskyblue',edgecolor = 'white',yerr = y2*0.1)\n",
    "# x,y参数：x，y值\n",
    "# width：宽度比例\n",
    "# facecolor柱状图里填充的颜色、edgecolor是边框的颜色\n",
    "# left-每个柱x轴左边界,bottom-每个柱y轴下边界 → bottom扩展即可化为甘特图 Gantt Chart\n",
    "# align：决定整个bar图分布，默认left表示默认从左边界开始绘制,center会将图绘制在中间位置\n",
    "# xerr/yerr ：x/y方向error bar\n",
    "\n",
    "for i,j in zip(x,y1):\n",
    "    plt.text(i+0.3,j-0.15,'%.2f' % j, color = 'white')\n",
    "for i,j in zip(x,y2):\n",
    "    plt.text(i+0.3,j+0.05,'%.2f' % -j, color = 'white')\n",
    "# 给图添加text\n",
    "# zip() 函数用于将可迭代的对象作为参数，将对象中对应的元素打包成一个个元组，然后返回由这些元组组成的列表。"
   ],
   "metadata": {
    "collapsed": false,
    "pycharm": {
     "name": "#%%\n"
    }
   }
  },
  {
   "cell_type": "code",
   "execution_count": null,
   "outputs": [],
   "source": [
    "# 外嵌图表plt.table()\n",
    "# table(cellText=None, cellColours=None,cellLoc='right', colWidths=None,rowLabels=None, rowColours=None, rowLoc='left',\n",
    "# colLabels=None, colColours=None, colLoc='center',loc='bottom', bbox=None)\n",
    "\n",
    "data = [[ 66386, 174296,  75131, 577908,  32015],\n",
    "        [ 58230, 381139,  78045,  99308, 160454],\n",
    "        [ 89135,  80552, 152558, 497981, 603535],\n",
    "        [ 78415,  81858, 150656, 193263,  69638],\n",
    "        [139361, 331509, 343164, 781380,  52269]]\n",
    "columns = ('Freeze', 'Wind', 'Flood', 'Quake', 'Hail')\n",
    "rows = ['%d year' % x for x in (100, 50, 20, 10, 5)]\n",
    "df = pd.DataFrame(data,columns = ('Freeze', 'Wind', 'Flood', 'Quake', 'Hail'),\n",
    "                 index = ['%d year' % x for x in (100, 50, 20, 10, 5)])\n",
    "print(df)\n",
    "\n",
    "df.plot(kind='bar',grid = True,colormap='Blues_r',stacked=True,figsize=(8,3))\n",
    "# 创建堆叠图\n",
    "\n",
    "plt.table(cellText = data,\n",
    "          cellLoc='center',\n",
    "          cellColours = None,\n",
    "          rowLabels = rows,\n",
    "          rowColours = plt.cm.BuPu(np.linspace(0, 0.5,5))[::-1],  # BuPu可替换成其他colormap\n",
    "          colLabels = columns,\n",
    "          colColours = plt.cm.Reds(np.linspace(0, 0.5,5))[::-1],\n",
    "          rowLoc='right',\n",
    "          loc='bottom')\n",
    "# cellText：表格文本\n",
    "# cellLoc：cell内文本对齐位置\n",
    "# rowLabels：行标签\n",
    "# colLabels：列标签\n",
    "# rowLoc：行标签对齐位置\n",
    "# loc：表格位置 → left，right，top，bottom\n",
    "\n",
    "plt.xticks([])\n",
    "# 不显示x轴标注"
   ],
   "metadata": {
    "collapsed": false,
    "pycharm": {
     "name": "#%%\n"
    }
   }
  },
  {
   "cell_type": "code",
   "execution_count": null,
   "outputs": [],
   "source": [
    "'''\n",
    "【课程3.8】  面积图、填图、饼图\n",
    "\n",
    "plt.plot.area()\n",
    "plt.fill(), plt.fill_between()\n",
    "plt.pie()\n",
    "\n",
    "'''"
   ],
   "metadata": {
    "collapsed": false,
    "pycharm": {
     "name": "#%%\n"
    }
   }
  },
  {
   "cell_type": "code",
   "execution_count": null,
   "outputs": [],
   "source": [
    "# 面积图\n",
    "\n",
    "fig,axes = plt.subplots(2,1,figsize = (8,6))\n",
    "df1 = pd.DataFrame(np.random.rand(10, 4), columns=['a', 'b', 'c', 'd'])\n",
    "df2 = pd.DataFrame(np.random.randn(10, 4), columns=['a', 'b', 'c', 'd'])\n",
    "\n",
    "df1.plot.area(colormap = 'Greens_r',alpha = 0.5,ax = axes[0])\n",
    "df2.plot.area(stacked=False,colormap = 'Set2',alpha = 0.5,ax = axes[1])\n",
    "# 使用Series.plot.area()和DataFrame.plot.area()创建面积图\n",
    "# stacked：是否堆叠，默认情况下False，区域图被堆叠\n",
    "# 为了产生堆积面积图，每列必须是正值或全部负值！\n",
    "# 当数据有NaN时候，自动填充0，所以图标签需要清洗掉缺失值"
   ],
   "metadata": {
    "collapsed": false,
    "pycharm": {
     "name": "#%%\n"
    }
   }
  },
  {
   "cell_type": "code",
   "execution_count": null,
   "outputs": [],
   "source": [
    "# 填图\n",
    "\n",
    "fig,axes = plt.subplots(2,1,figsize = (8,6))\n",
    "\n",
    "x = np.linspace(0, 1, 500)\n",
    "y1 = np.sin(4 * np.pi * x) * np.exp(-5 * x)\n",
    "y2 = -np.sin(4 * np.pi * x) * np.exp(-5 * x)\n",
    "axes[0].fill(x, y1, 'r',alpha=0.5,label='y1')\n",
    "axes[0].fill(x, y2, 'g',alpha=0.5,label='y2')\n",
    "# 对函数与坐标轴之间的区域进行填充，使用fill函数\n",
    "# 也可写成：plt.fill(x, y1, 'r',x, y2, 'g',alpha=0.5)\n",
    "\n",
    "x = np.linspace(0, 5 * np.pi, 1000)\n",
    "y1 = np.sin(x)\n",
    "y2 = np.sin(2 * x)\n",
    "axes[1].fill_between(x, y1, y2, color ='b',alpha=0.5,label='area')\n",
    "# 填充两个函数之间的区域，使用fill_between函数\n",
    "\n",
    "for i in range(2):\n",
    "    axes[i].legend()\n",
    "    axes[i].grid()\n",
    "# 添加图例、格网"
   ],
   "metadata": {
    "collapsed": false,
    "pycharm": {
     "name": "#%%\n"
    }
   }
  },
  {
   "cell_type": "code",
   "execution_count": null,
   "outputs": [],
   "source": [
    "# 饼图 plt.pie()\n",
    "# plt.pie(x, explode=None, labels=None, colors=None, autopct=None, pctdistance=0.6, shadow=False, labeldistance=1.1, startangle=None,\n",
    "# radius=None, counterclock=True, wedgeprops=None, textprops=None, center=(0, 0), frame=False, hold=None, data=None)\n",
    "\n",
    "s = pd.Series(3 * np.random.rand(4), index=['a', 'b', 'c', 'd'], name='series')\n",
    "plt.axis('equal')  # 保证长宽相等\n",
    "plt.pie(s,\n",
    "       explode = [0.1,0,0,0],\n",
    "       labels = s.index,\n",
    "       colors=['r', 'g', 'b', 'c'],\n",
    "       autopct='%.2f%%',\n",
    "       pctdistance=0.6,\n",
    "       labeldistance = 1.2,\n",
    "       shadow = True,\n",
    "       startangle=0,\n",
    "       radius=1.5,\n",
    "       frame=False)\n",
    "print(s)\n",
    "# 第一个参数：数据\n",
    "# explode：指定每部分的偏移量\n",
    "# labels：标签\n",
    "# colors：颜色\n",
    "# autopct：饼图上的数据标签显示方式\n",
    "# pctdistance：每个饼切片的中心和通过autopct生成的文本开始之间的比例\n",
    "# labeldistance：被画饼标记的直径,默认值：1.1\n",
    "# shadow：阴影\n",
    "# startangle：开始角度\n",
    "# radius：半径\n",
    "# frame：图框\n",
    "# counterclock：指定指针方向，顺时针或者逆时针\n",
    "\n"
   ],
   "metadata": {
    "collapsed": false,
    "pycharm": {
     "name": "#%%\n"
    }
   }
  }
 ],
 "metadata": {
  "kernelspec": {
   "display_name": "Python 3",
   "language": "python",
   "name": "python3"
  },
  "language_info": {
   "codemirror_mode": {
    "name": "ipython",
    "version": 2
   },
   "file_extension": ".py",
   "mimetype": "text/x-python",
   "name": "python",
   "nbconvert_exporter": "python",
   "pygments_lexer": "ipython2",
   "version": "2.7.6"
  }
 },
 "nbformat": 4,
 "nbformat_minor": 0
}