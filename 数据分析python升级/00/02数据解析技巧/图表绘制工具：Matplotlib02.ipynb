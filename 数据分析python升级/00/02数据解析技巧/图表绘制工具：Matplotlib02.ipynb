{
 "cells": [
  {
   "cell_type": "code",
   "execution_count": null,
   "metadata": {
    "collapsed": true
   },
   "outputs": [],
   "source": [
    "'''\n",
    "【课程3.6】  基本图表绘制 plt.plot()\n",
    "\n",
    "图表类别：线形图、柱状图、密度图，以横纵坐标两个维度为主\n",
    "同时可延展出多种其他图表样式\n",
    "\n",
    "plt.plot(kind='line', ax=None, figsize=None, use_index=True, title=None, grid=None, legend=False,\n",
    "style=None, logx=False, logy=False, loglog=False, xticks=None, yticks=None, xlim=None, ylim=None,\n",
    "rot=None, fontsize=None, colormap=None, table=False, yerr=None, xerr=None, label=None, secondary_y=False, **kwds)\n",
    "\n",
    "'''"
   ]
  },
  {
   "cell_type": "code",
   "execution_count": null,
   "outputs": [],
   "source": [
    "import numpy as np\n",
    "import pandas as pd\n",
    "import matplotlib.pyplot as plt\n",
    "% matplotlib inline"
   ],
   "metadata": {
    "collapsed": false,
    "pycharm": {
     "name": "#%%\n"
    }
   }
  },
  {
   "cell_type": "code",
   "execution_count": null,
   "outputs": [],
   "source": [
    "# Series直接生成图表\n",
    "\n",
    "ts = pd.Series(np.random.randn(1000), index=pd.date_range('1/1/2000', periods=1000))\n",
    "ts = ts.cumsum()\n",
    "ts.plot(kind='line',\n",
    "       label = 'hehe',\n",
    "       style = '--g.',\n",
    "       color = 'red',\n",
    "       alpha = 0.4,\n",
    "       use_index = True,\n",
    "       rot = 45,\n",
    "       grid = True,\n",
    "       ylim = [-50,50],\n",
    "       yticks = list(range(-50,50,10)),\n",
    "       figsize = (8,4),\n",
    "       title = 'test',\n",
    "       legend = True)\n",
    "#plt.grid(True, linestyle = \"--\",color = \"gray\", linewidth = \"0.5\",axis = 'x')  # 网格\n",
    "plt.legend()\n",
    "# Series.plot()：series的index为横坐标，value为纵坐标\n",
    "# kind → line,bar,barh...（折线图，柱状图，柱状图-横...）\n",
    "# label → 图例标签，Dataframe格式以列名为label\n",
    "# style → 风格字符串，这里包括了linestyle（-），marker（.），color（g）\n",
    "# color → 颜色，有color指定时候，以color颜色为准\n",
    "# alpha → 透明度，0-1\n",
    "# use_index → 将索引用为刻度标签，默认为True\n",
    "# rot → 旋转刻度标签，0-360\n",
    "# grid → 显示网格，一般直接用plt.grid\n",
    "# xlim,ylim → x,y轴界限\n",
    "# xticks,yticks → x,y轴刻度值\n",
    "# figsize → 图像大小\n",
    "# title → 图名\n",
    "# legend → 是否显示图例，一般直接用plt.legend()\n",
    "# 也可以 → plt.plot()"
   ],
   "metadata": {
    "collapsed": false,
    "pycharm": {
     "name": "#%%\n"
    }
   }
  },
  {
   "cell_type": "code",
   "execution_count": null,
   "outputs": [],
   "source": [
    "# Dataframe直接生成图表\n",
    "\n",
    "df = pd.DataFrame(np.random.randn(1000, 4), index=ts.index, columns=list('ABCD'))\n",
    "df = df.cumsum()\n",
    "df.plot(kind='line',\n",
    "       style = '--.',\n",
    "       alpha = 0.4,\n",
    "       use_index = True,\n",
    "       rot = 45,\n",
    "       grid = True,\n",
    "       figsize = (8,4),\n",
    "       title = 'test',\n",
    "       legend = True,\n",
    "       subplots = False,\n",
    "       colormap = 'Greens')\n",
    "# subplots → 是否将各个列绘制到不同图表，默认False\n",
    "# 也可以 → plt.plot(df)"
   ],
   "metadata": {
    "collapsed": false,
    "pycharm": {
     "name": "#%%\n"
    }
   }
  },
  {
   "cell_type": "code",
   "execution_count": null,
   "outputs": [],
   "source": [
    "'''\n",
    "【课程3.7】  柱状图、堆叠图、面积图、填图\n",
    "\n",
    "plt.plot(kind='bar/barh') , plt.bar()\n",
    "\n",
    "'''"
   ],
   "metadata": {
    "collapsed": false,
    "pycharm": {
     "name": "#%%\n"
    }
   }
  },
  {
   "cell_type": "code",
   "execution_count": null,
   "outputs": [],
   "source": [
    "# 柱状图与堆叠图\n",
    "\n",
    "fig,axes = plt.subplots(4,1,figsize = (10,10))\n",
    "s = pd.Series(np.random.randint(0,10,16),index = list('abcdefghijklmnop'))\n",
    "df = pd.DataFrame(np.random.rand(10,3), columns=['a','b','c'])\n",
    "\n",
    "s.plot(kind='bar',color = 'k',grid = True,alpha = 0.5,ax = axes[0])  # ax参数 → 选择第几个子图\n",
    "# 单系列柱状图方法一：plt.plot(kind='bar/barh')\n",
    "\n",
    "df = pd.DataFrame(np.random.rand(10,3), columns=['a','b','c'])\n",
    "df.plot(kind='bar',ax = axes[1],grid = True,colormap='Reds_r')\n",
    "# 多系列柱状图\n",
    "\n",
    "df.plot(kind='bar',ax = axes[2],grid = True,colormap='Blues_r',stacked=True)\n",
    "# 多系列堆叠图\n",
    "# stacked → 堆叠\n",
    "\n",
    "df.plot.barh(ax = axes[3],grid = True,stacked=True,colormap = 'BuGn_r')\n",
    "# 新版本plt.plot.<kind>"
   ],
   "metadata": {
    "collapsed": false,
    "pycharm": {
     "name": "#%%\n"
    }
   }
  },
  {
   "cell_type": "code",
   "execution_count": null,
   "outputs": [],
   "source": [
    "# 柱状图 plt.bar()\n",
    "\n",
    "plt.figure(figsize=(10,4))\n",
    "x = np.arange(10)\n",
    "y1 = np.random.rand(10)\n",
    "y2 = -np.random.rand(10)\n",
    "\n",
    "plt.bar(x,y1,width = 1,facecolor = 'yellowgreen',edgecolor = 'white',yerr = y1*0.1)\n",
    "plt.bar(x,y2,width = 1,facecolor = 'lightskyblue',edgecolor = 'white',yerr = y2*0.1)\n",
    "# x,y参数：x，y值\n",
    "# width：宽度比例\n",
    "# facecolor柱状图里填充的颜色、edgecolor是边框的颜色\n",
    "# left-每个柱x轴左边界,bottom-每个柱y轴下边界 → bottom扩展即可化为甘特图 Gantt Chart\n",
    "# align：决定整个bar图分布，默认left表示默认从左边界开始绘制,center会将图绘制在中间位置\n",
    "# xerr/yerr ：x/y方向error bar\n",
    "\n",
    "for i,j in zip(x,y1):\n",
    "    plt.text(i+0.3,j-0.15,'%.2f' % j, color = 'white')\n",
    "for i,j in zip(x,y2):\n",
    "    plt.text(i+0.3,j+0.05,'%.2f' % -j, color = 'white')\n",
    "# 给图添加text\n",
    "# zip() 函数用于将可迭代的对象作为参数，将对象中对应的元素打包成一个个元组，然后返回由这些元组组成的列表。"
   ],
   "metadata": {
    "collapsed": false,
    "pycharm": {
     "name": "#%%\n"
    }
   }
  },
  {
   "cell_type": "code",
   "execution_count": null,
   "outputs": [],
   "source": [
    "# 外嵌图表plt.table()\n",
    "# table(cellText=None, cellColours=None,cellLoc='right', colWidths=None,rowLabels=None, rowColours=None, rowLoc='left',\n",
    "# colLabels=None, colColours=None, colLoc='center',loc='bottom', bbox=None)\n",
    "\n",
    "data = [[ 66386, 174296,  75131, 577908,  32015],\n",
    "        [ 58230, 381139,  78045,  99308, 160454],\n",
    "        [ 89135,  80552, 152558, 497981, 603535],\n",
    "        [ 78415,  81858, 150656, 193263,  69638],\n",
    "        [139361, 331509, 343164, 781380,  52269]]\n",
    "columns = ('Freeze', 'Wind', 'Flood', 'Quake', 'Hail')\n",
    "rows = ['%d year' % x for x in (100, 50, 20, 10, 5)]\n",
    "df = pd.DataFrame(data,columns = ('Freeze', 'Wind', 'Flood', 'Quake', 'Hail'),\n",
    "                 index = ['%d year' % x for x in (100, 50, 20, 10, 5)])\n",
    "print(df)\n",
    "\n",
    "df.plot(kind='bar',grid = True,colormap='Blues_r',stacked=True,figsize=(8,3))\n",
    "# 创建堆叠图\n",
    "\n",
    "plt.table(cellText = data,\n",
    "          cellLoc='center',\n",
    "          cellColours = None,\n",
    "          rowLabels = rows,\n",
    "          rowColours = plt.cm.BuPu(np.linspace(0, 0.5,5))[::-1],  # BuPu可替换成其他colormap\n",
    "          colLabels = columns,\n",
    "          colColours = plt.cm.Reds(np.linspace(0, 0.5,5))[::-1],\n",
    "          rowLoc='right',\n",
    "          loc='bottom')\n",
    "# cellText：表格文本\n",
    "# cellLoc：cell内文本对齐位置\n",
    "# rowLabels：行标签\n",
    "# colLabels：列标签\n",
    "# rowLoc：行标签对齐位置\n",
    "# loc：表格位置 → left，right，top，bottom\n",
    "\n",
    "plt.xticks([])\n",
    "# 不显示x轴标注"
   ],
   "metadata": {
    "collapsed": false,
    "pycharm": {
     "name": "#%%\n"
    }
   }
  },
  {
   "cell_type": "code",
   "execution_count": null,
   "outputs": [],
   "source": [
    "'''\n",
    "【课程3.8】  面积图、填图、饼图\n",
    "\n",
    "plt.plot.area()\n",
    "plt.fill(), plt.fill_between()\n",
    "plt.pie()\n",
    "\n",
    "'''"
   ],
   "metadata": {
    "collapsed": false,
    "pycharm": {
     "name": "#%%\n"
    }
   }
  },
  {
   "cell_type": "code",
   "execution_count": null,
   "outputs": [],
   "source": [
    "# 面积图\n",
    "\n",
    "fig,axes = plt.subplots(2,1,figsize = (8,6))\n",
    "df1 = pd.DataFrame(np.random.rand(10, 4), columns=['a', 'b', 'c', 'd'])\n",
    "df2 = pd.DataFrame(np.random.randn(10, 4), columns=['a', 'b', 'c', 'd'])\n",
    "\n",
    "df1.plot.area(colormap = 'Greens_r',alpha = 0.5,ax = axes[0])\n",
    "df2.plot.area(stacked=False,colormap = 'Set2',alpha = 0.5,ax = axes[1])\n",
    "# 使用Series.plot.area()和DataFrame.plot.area()创建面积图\n",
    "# stacked：是否堆叠，默认情况下False，区域图被堆叠\n",
    "# 为了产生堆积面积图，每列必须是正值或全部负值！\n",
    "# 当数据有NaN时候，自动填充0，所以图标签需要清洗掉缺失值"
   ],
   "metadata": {
    "collapsed": false,
    "pycharm": {
     "name": "#%%\n"
    }
   }
  },
  {
   "cell_type": "code",
   "execution_count": null,
   "outputs": [],
   "source": [
    "# 填图\n",
    "\n",
    "fig,axes = plt.subplots(2,1,figsize = (8,6))\n",
    "\n",
    "x = np.linspace(0, 1, 500)\n",
    "y1 = np.sin(4 * np.pi * x) * np.exp(-5 * x)\n",
    "y2 = -np.sin(4 * np.pi * x) * np.exp(-5 * x)\n",
    "axes[0].fill(x, y1, 'r',alpha=0.5,label='y1')\n",
    "axes[0].fill(x, y2, 'g',alpha=0.5,label='y2')\n",
    "# 对函数与坐标轴之间的区域进行填充，使用fill函数\n",
    "# 也可写成：plt.fill(x, y1, 'r',x, y2, 'g',alpha=0.5)\n",
    "\n",
    "x = np.linspace(0, 5 * np.pi, 1000)\n",
    "y1 = np.sin(x)\n",
    "y2 = np.sin(2 * x)\n",
    "axes[1].fill_between(x, y1, y2, color ='b',alpha=0.5,label='area')\n",
    "# 填充两个函数之间的区域，使用fill_between函数\n",
    "\n",
    "for i in range(2):\n",
    "    axes[i].legend()\n",
    "    axes[i].grid()\n",
    "# 添加图例、格网"
   ],
   "metadata": {
    "collapsed": false,
    "pycharm": {
     "name": "#%%\n"
    }
   }
  },
  {
   "cell_type": "code",
   "execution_count": null,
   "outputs": [],
   "source": [
    "# 饼图 plt.pie()\n",
    "# plt.pie(x, explode=None, labels=None, colors=None, autopct=None, pctdistance=0.6, shadow=False, labeldistance=1.1, startangle=None,\n",
    "# radius=None, counterclock=True, wedgeprops=None, textprops=None, center=(0, 0), frame=False, hold=None, data=None)\n",
    "\n",
    "s = pd.Series(3 * np.random.rand(4), index=['a', 'b', 'c', 'd'], name='series')\n",
    "plt.axis('equal')  # 保证长宽相等\n",
    "plt.pie(s,\n",
    "       explode = [0.1,0,0,0],\n",
    "       labels = s.index,\n",
    "       colors=['r', 'g', 'b', 'c'],\n",
    "       autopct='%.2f%%',\n",
    "       pctdistance=0.6,\n",
    "       labeldistance = 1.2,\n",
    "       shadow = True,\n",
    "       startangle=0,\n",
    "       radius=1.5,\n",
    "       frame=False)\n",
    "print(s)\n",
    "# 第一个参数：数据\n",
    "# explode：指定每部分的偏移量\n",
    "# labels：标签\n",
    "# colors：颜色\n",
    "# autopct：饼图上的数据标签显示方式\n",
    "# pctdistance：每个饼切片的中心和通过autopct生成的文本开始之间的比例\n",
    "# labeldistance：被画饼标记的直径,默认值：1.1\n",
    "# shadow：阴影\n",
    "# startangle：开始角度\n",
    "# radius：半径\n",
    "# frame：图框\n",
    "# counterclock：指定指针方向，顺时针或者逆时针\n"
   ],
   "metadata": {
    "collapsed": false,
    "pycharm": {
     "name": "#%%\n"
    }
   }
  },
  {
   "cell_type": "code",
   "execution_count": null,
   "outputs": [],
   "source": [
    "'''\n",
    "【课程3.9】  直方图\n",
    "\n",
    "plt.hist(x, bins=10, range=None, normed=False, weights=None, cumulative=False, bottom=None,\n",
    "histtype='bar', align='mid', orientation='vertical',rwidth=None, log=False, color=None, label=None,\n",
    "stacked=False, hold=None, data=None, **kwargs)\n",
    "\n",
    "'''"
   ],
   "metadata": {
    "collapsed": false,
    "pycharm": {
     "name": "#%%\n"
    }
   }
  },
  {
   "cell_type": "code",
   "execution_count": null,
   "outputs": [],
   "source": [
    "# 直方图+密度图\n",
    "\n",
    "s = pd.Series(np.random.randn(1000))\n",
    "s.hist(bins = 20,\n",
    "       histtype = 'bar',\n",
    "       align = 'mid',\n",
    "       orientation = 'vertical',\n",
    "       alpha=0.5,\n",
    "       normed =True)\n",
    "# bin：箱子的宽度\n",
    "# normed 标准化\n",
    "# histtype 风格，bar，barstacked，step，stepfilled\n",
    "# orientation 水平还是垂直{‘horizontal’, ‘vertical’}\n",
    "# align : {‘left’, ‘mid’, ‘right’}, optional(对齐方式)\n",
    "\n",
    "s.plot(kind='kde',style='k--')\n",
    "# 密度图"
   ],
   "metadata": {
    "collapsed": false,
    "pycharm": {
     "name": "#%%\n"
    }
   }
  },
  {
   "cell_type": "code",
   "execution_count": null,
   "outputs": [],
   "source": [
    "# 堆叠直方图\n",
    "\n",
    "plt.figure(num=1)\n",
    "df = pd.DataFrame({'a': np.random.randn(1000) + 1, 'b': np.random.randn(1000),\n",
    "                    'c': np.random.randn(1000) - 1, 'd': np.random.randn(1000)-2},\n",
    "                   columns=['a', 'b', 'c','d'])\n",
    "df.plot.hist(stacked=True,\n",
    "             bins=20,\n",
    "             colormap='Greens_r',\n",
    "             alpha=0.5,\n",
    "             grid=True)\n",
    "# 使用DataFrame.plot.hist()和Series.plot.hist()方法绘制\n",
    "# stacked：是否堆叠\n",
    "\n",
    "df.hist(bins=50)\n",
    "# 生成多个直方图\n"
   ],
   "metadata": {
    "collapsed": false,
    "pycharm": {
     "name": "#%%\n"
    }
   }
  },
  {
   "cell_type": "code",
   "execution_count": null,
   "outputs": [],
   "source": [
    "'''\n",
    "【课程3.10】  散点图、矩阵散点图\n",
    "\n",
    "plt.scatter(), pd.scatter_matrix()\n",
    "\n",
    "'''"
   ],
   "metadata": {
    "collapsed": false,
    "pycharm": {
     "name": "#%%\n"
    }
   }
  },
  {
   "cell_type": "code",
   "execution_count": null,
   "outputs": [],
   "source": [
    "# plt.scatter()散点图\n",
    "# plt.scatter(x, y, s=20, c=None, marker='o', cmap=None, norm=None, vmin=None, vmax=None,\n",
    "# alpha=None, linewidths=None, verts=None, edgecolors=None, hold=None, data=None, **kwargs)\n",
    "\n",
    "plt.figure(figsize=(8,6))\n",
    "x = np.random.randn(1000)\n",
    "y = np.random.randn(1000)\n",
    "plt.scatter(x,y,marker='.',\n",
    "           s = np.random.randn(1000)*100,\n",
    "           cmap = 'Reds',\n",
    "           c = y,\n",
    "           alpha = 0.8,)\n",
    "plt.grid()\n",
    "# s：散点的大小\n",
    "# c：散点的颜色\n",
    "# vmin,vmax：亮度设置，标量\n",
    "# cmap：colormap"
   ],
   "metadata": {
    "collapsed": false,
    "pycharm": {
     "name": "#%%\n"
    }
   }
  },
  {
   "cell_type": "code",
   "execution_count": null,
   "outputs": [],
   "source": [
    "# pd.scatter_matrix()散点矩阵\n",
    "# pd.scatter_matrix(frame, alpha=0.5, figsize=None, ax=None,\n",
    "# grid=False, diagonal='hist', marker='.', density_kwds=None, hist_kwds=None, range_padding=0.05, **kwds)\n",
    "\n",
    "df = pd.DataFrame(np.random.randn(100,4),columns = ['a','b','c','d'])\n",
    "pd.scatter_matrix(df,figsize=(10,6),\n",
    "                 marker = 'o',\n",
    "                 diagonal='kde',\n",
    "                 alpha = 0.5,\n",
    "                 range_padding=0.1)\n",
    "# diagonal：({‘hist’, ‘kde’})，必须且只能在{‘hist’, ‘kde’}中选择1个 → 每个指标的频率图\n",
    "# range_padding：(float, 可选)，图像在x轴、y轴原点附近的留白(padding)，该值越大，留白距离越大，图像远离坐标原点\n",
    "\n"
   ],
   "metadata": {
    "collapsed": false,
    "pycharm": {
     "name": "#%%\n"
    }
   }
  },
  {
   "cell_type": "code",
   "execution_count": null,
   "outputs": [],
   "source": [
    "'''\n",
    "【课程3.11】  极坐标图\n",
    "\n",
    "调用subplot()创建子图时通过设置projection='polar',便可创建一个极坐标子图，然后调用plot()在极坐标子图中绘图\n",
    "\n",
    "'''"
   ],
   "metadata": {
    "collapsed": false,
    "pycharm": {
     "name": "#%%\n"
    }
   }
  },
  {
   "cell_type": "code",
   "execution_count": null,
   "outputs": [],
   "source": [
    "# 创建极坐标轴\n",
    "\n",
    "s = pd.Series(np.arange(20))\n",
    "theta=np.arange(0,2*np.pi,0.02)\n",
    "print(s.head())\n",
    "print(theta[:10])\n",
    "# 创建数据\n",
    "\n",
    "fig = plt.figure(figsize=(8,4))\n",
    "ax1 = plt.subplot(121, projection = 'polar')\n",
    "ax2 = plt.subplot(122)\n",
    "# 创建极坐标子图\n",
    "# 还可以写：ax = fig.add_subplot(111,polar=True)\n",
    "\n",
    "ax1.plot(theta,theta*3,linestyle = '--',lw=1)\n",
    "ax1.plot(s, linestyle = '--', marker = '.',lw=2)\n",
    "ax2.plot(theta,theta*3,linestyle = '--',lw=1)\n",
    "ax2.plot(s)\n",
    "plt.grid()\n",
    "# 创建极坐标图，参数1为角度（弧度制），参数2为value\n",
    "# lw → 线宽"
   ],
   "metadata": {
    "collapsed": false,
    "pycharm": {
     "name": "#%%\n"
    }
   }
  },
  {
   "cell_type": "code",
   "execution_count": null,
   "outputs": [],
   "source": [
    "# 极坐标参数设置\n",
    "\n",
    "theta=np.arange(0,2*np.pi,0.02)\n",
    "plt.figure(figsize=(8,4))\n",
    "ax1= plt.subplot(121, projection='polar')\n",
    "ax2= plt.subplot(122, projection='polar')\n",
    "ax1.plot(theta,theta/6,'--',lw=2)\n",
    "ax2.plot(theta,theta/6,'--',lw=2)\n",
    "# 创建极坐标子图ax\n",
    "\n",
    "ax2.set_theta_direction(-1)\n",
    "# set_theta_direction()：坐标轴正方向，默认逆时针\n",
    "\n",
    "ax2.set_thetagrids(np.arange(0.0, 360.0, 90),['a','b','c','d'])\n",
    "ax2.set_rgrids(np.arange(0.2,2,0.4))\n",
    "# set_thetagrids()：设置极坐标角度网格线显示及标签 → 网格和标签数量一致\n",
    "# set_rgrids()：设置极径网格线显示，其中参数必须是正数\n",
    "\n",
    "ax2.set_theta_offset(np.pi/2)\n",
    "# set_theta_offset()：设置角度偏移，逆时针，弧度制\n",
    "\n",
    "ax2.set_rlim(0.2,1.2)\n",
    "ax2.set_rmax(2)\n",
    "ax2.set_rticks(np.arange(0.1, 1.5, 0.2))\n",
    "# set_rlim()：设置显示的极径范围\n",
    "# set_rmax()：设置显示的极径最大值\n",
    "# set_rticks()：设置极径网格线的显示范围"
   ],
   "metadata": {
    "collapsed": false,
    "pycharm": {
     "name": "#%%\n"
    }
   }
  },
  {
   "cell_type": "code",
   "execution_count": null,
   "outputs": [],
   "source": [
    "# 雷达图1 - 极坐标的折线图/填图 - plt.plot()\n",
    "\n",
    "plt.figure(figsize=(8,4))\n",
    "\n",
    "ax1= plt.subplot(111, projection='polar')\n",
    "ax1.set_title('radar map\\n')  # 创建标题\n",
    "ax1.set_rlim(0,12)\n",
    "\n",
    "data1 = np.random.randint(1,10,10)\n",
    "data2 = np.random.randint(1,10,10)\n",
    "data3 = np.random.randint(1,10,10)\n",
    "theta=np.arange(0,2*np.pi,2*np.pi/10)\n",
    "# 创建数据\n",
    "\n",
    "ax1.plot(theta,data1,'.--',label='data1')\n",
    "ax1.fill(theta,data1,alpha=0.2)\n",
    "ax1.plot(theta,data2,'.--',label='data2')\n",
    "ax1.fill(theta,data2,alpha=0.2)\n",
    "ax1.plot(theta,data3,'.--',label='data3')\n",
    "ax1.fill(theta,data3,alpha=0.2)\n",
    "# 绘制雷达线"
   ],
   "metadata": {
    "collapsed": false,
    "pycharm": {
     "name": "#%%\n"
    }
   }
  },
  {
   "cell_type": "code",
   "execution_count": null,
   "outputs": [],
   "source": [
    "# 雷达图2 - 极坐标的折线图/填图 - plt.polar()\n",
    "# 首尾闭合\n",
    "\n",
    "labels = np.array(['a','b','c','d','e','f']) # 标签\n",
    "dataLenth = 6 # 数据长度\n",
    "data1 = np.random.randint(0,10,6)\n",
    "data2 = np.random.randint(0,10,6) # 数据\n",
    "\n",
    "angles = np.linspace(0, 2*np.pi, dataLenth, endpoint=False) # 分割圆周长\n",
    "data1 = np.concatenate((data1, [data1[0]])) # 闭合\n",
    "data2 = np.concatenate((data2, [data2[0]])) # 闭合\n",
    "angles = np.concatenate((angles, [angles[0]])) # 闭合\n",
    "\n",
    "plt.polar(angles, data1, 'o-', linewidth=1) #做极坐标系\n",
    "plt.fill(angles, data1, alpha=0.25)# 填充\n",
    "plt.polar(angles, data2, 'o-', linewidth=1) #做极坐标系\n",
    "plt.fill(angles, data2, alpha=0.25)# 填充\n",
    "\n",
    "plt.thetagrids(angles * 180/np.pi, labels) # 设置网格、标签\n",
    "plt.ylim(0,10)  # polar的极值设置为ylim"
   ],
   "metadata": {
    "collapsed": false,
    "pycharm": {
     "name": "#%%\n"
    }
   }
  },
  {
   "cell_type": "code",
   "execution_count": null,
   "outputs": [],
   "source": [
    "# 极轴图 - 极坐标的柱状图\n",
    "\n",
    "plt.figure(figsize=(8,4))\n",
    "\n",
    "ax1= plt.subplot(111, projection='polar')\n",
    "ax1.set_title('radar map\\n')  # 创建标题\n",
    "ax1.set_rlim(0,12)\n",
    "\n",
    "data = np.random.randint(1,10,10)\n",
    "theta=np.arange(0,2*np.pi,2*np.pi/10)\n",
    "# 创建数据\n",
    "\n",
    "bar = ax1.bar(theta,data,alpha=0.5)\n",
    "for r,bar in zip(data, bar):\n",
    "    bar.set_facecolor(plt.cm.jet(r/10.))  # 设置颜色\n",
    "plt.thetagrids(np.arange(0.0, 360.0, 90), []) # 设置网格、标签（这里是空标签，则不显示内容）"
   ],
   "metadata": {
    "collapsed": false,
    "pycharm": {
     "name": "#%%\n"
    }
   }
  },
  {
   "cell_type": "code",
   "execution_count": null,
   "outputs": [],
   "source": [
    "'''\n",
    "【课程3.12】  箱型图\n",
    "\n",
    "箱型图：又称为盒须图、盒式图、盒状图或箱线图，是一种用作显示一组数据分散情况资料的统计图\n",
    "包含一组数据的：最大值、最小值、中位数、上四分位数（Q1）、下四分位数（Q3）、异常值\n",
    "① 中位数 → 一组数据平均分成两份，中间的数\n",
    "② 下四分位数Q1 → 是将序列平均分成四份，计算(n+1)/4与(n-1)/4两种，一般使用(n+1)/4\n",
    "③ 上四分位数Q3 → 是将序列平均分成四份，计算(1+n)/4*3=6.75\n",
    "④ 内限 → T形的盒须就是内限，最大值区间Q3+1.5IQR,最小值区间Q1-1.5IQR （IQR=Q3-Q1）\n",
    "⑤ 外限 → T形的盒须就是内限，最大值区间Q3+3IQR,最小值区间Q1-3IQR （IQR=Q3-Q1）\n",
    "⑥ 异常值 → 内限之外 - 中度异常，外限之外 - 极度异常\n",
    "\n",
    "plt.plot.box(),plt.boxplot()\n",
    "\n",
    "'''"
   ],
   "metadata": {
    "collapsed": false,
    "pycharm": {
     "name": "#%%\n"
    }
   }
  },
  {
   "cell_type": "code",
   "execution_count": null,
   "outputs": [],
   "source": [
    "# plt.plot.box()绘制\n",
    "\n",
    "fig,axes = plt.subplots(2,1,figsize=(10,6))\n",
    "df = pd.DataFrame(np.random.rand(10, 5), columns=['A', 'B', 'C', 'D', 'E'])\n",
    "color = dict(boxes='DarkGreen', whiskers='DarkOrange', medians='DarkBlue', caps='Gray')\n",
    "# 箱型图着色\n",
    "# boxes → 箱线\n",
    "# whiskers → 分位数与error bar横线之间竖线的颜色\n",
    "# medians → 中位数线颜色\n",
    "# caps → error bar横线颜色\n",
    "\n",
    "df.plot.box(ylim=[0,1.2],\n",
    "           grid = True,\n",
    "           color = color,\n",
    "           ax = axes[0])\n",
    "# color：样式填充\n",
    "\n",
    "df.plot.box(vert=False,\n",
    "            positions=[1, 4, 5, 6, 8],\n",
    "            ax = axes[1],\n",
    "            grid = True,\n",
    "           color = color)\n",
    "# vert：是否垂直，默认True\n",
    "# position：箱型图占位"
   ],
   "metadata": {
    "collapsed": false,
    "pycharm": {
     "name": "#%%\n"
    }
   }
  },
  {
   "cell_type": "code",
   "execution_count": null,
   "outputs": [],
   "source": [
    "# plt.boxplot()绘制\n",
    "# pltboxplot(x, notch=None, sym=None, vert=None, whis=None, positions=None, widths=None, patch_artist=None, bootstrap=None,\n",
    "# usermedians=None, conf_intervals=None, meanline=None, showmeans=None, showcaps=None, showbox=None, showfliers=None, boxprops=None,\n",
    "# labels=None, flierprops=None, medianprops=None, meanprops=None, capprops=None, whiskerprops=None, manage_xticks=True, autorange=False,\n",
    "# zorder=None, hold=None, data=None)\n",
    "\n",
    "df = pd.DataFrame(np.random.rand(10, 5), columns=['A', 'B', 'C', 'D', 'E'])\n",
    "plt.figure(figsize=(10,4))\n",
    "# 创建图表、数据\n",
    "\n",
    "f = df.boxplot(sym = 'o',  # 异常点形状，参考marker\n",
    "               vert = True,  # 是否垂直\n",
    "               whis = 1.5,  # IQR，默认1.5，也可以设置区间比如[5,95]，代表强制上下边缘为数据95%和5%位置\n",
    "               patch_artist = True,  # 上下四分位框内是否填充，True为填充\n",
    "               meanline = False,showmeans=True,  # 是否有均值线及其形状\n",
    "               showbox = True,  # 是否显示箱线\n",
    "               showcaps = True,  # 是否显示边缘线\n",
    "               showfliers = True,  # 是否显示异常值\n",
    "               notch = False,  # 中间箱体是否缺口\n",
    "               return_type='dict'  # 返回类型为字典\n",
    "              )\n",
    "plt.title('boxplot')\n",
    "print(f)\n",
    "\n",
    "for box in f['boxes']:\n",
    "    box.set( color='b', linewidth=1)        # 箱体边框颜色\n",
    "    box.set( facecolor = 'b' ,alpha=0.5)    # 箱体内部填充颜色\n",
    "for whisker in f['whiskers']:\n",
    "    whisker.set(color='k', linewidth=0.5,linestyle='-')\n",
    "for cap in f['caps']:\n",
    "    cap.set(color='gray', linewidth=2)\n",
    "for median in f['medians']:\n",
    "    median.set(color='DarkBlue', linewidth=2)\n",
    "for flier in f['fliers']:\n",
    "    flier.set(marker='o', color='y', alpha=0.5)\n",
    "# boxes, 箱线\n",
    "# medians, 中位值的横线,\n",
    "# whiskers, 从box到error bar之间的竖线.\n",
    "# fliers, 异常值\n",
    "# caps, error bar横线\n",
    "# means, 均值的横线,"
   ],
   "metadata": {
    "collapsed": false,
    "pycharm": {
     "name": "#%%\n"
    }
   }
  },
  {
   "cell_type": "code",
   "execution_count": null,
   "outputs": [],
   "source": [
    "# plt.boxplot()绘制\n",
    "# 分组汇总\n",
    "\n",
    "df = pd.DataFrame(np.random.rand(10,2), columns=['Col1', 'Col2'] )\n",
    "df['X'] = pd.Series(['A','A','A','A','A','B','B','B','B','B'])\n",
    "df['Y'] = pd.Series(['A','B','A','B','A','B','A','B','A','B'])\n",
    "print(df.head())\n",
    "df.boxplot(by = 'X')\n",
    "df.boxplot(column=['Col1','Col2'], by=['X','Y'])\n",
    "# columns：按照数据的列分子图\n",
    "# by：按照列分组做箱型图"
   ],
   "metadata": {
    "collapsed": false,
    "pycharm": {
     "name": "#%%\n"
    }
   }
  }
 ],
 "metadata": {
  "kernelspec": {
   "display_name": "Python 3",
   "language": "python",
   "name": "python3"
  },
  "language_info": {
   "codemirror_mode": {
    "name": "ipython",
    "version": 2
   },
   "file_extension": ".py",
   "mimetype": "text/x-python",
   "name": "python",
   "nbconvert_exporter": "python",
   "pygments_lexer": "ipython2",
   "version": "2.7.6"
  }
 },
 "nbformat": 4,
 "nbformat_minor": 0
}