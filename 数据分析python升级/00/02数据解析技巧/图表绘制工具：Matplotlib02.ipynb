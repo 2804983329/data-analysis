{
 "cells": [
  {
   "cell_type": "code",
   "execution_count": null,
   "metadata": {
    "collapsed": true
   },
   "outputs": [],
   "source": [
    "'''\n",
    "【课程3.6】  基本图表绘制 plt.plot()\n",
    "\n",
    "图表类别：线形图、柱状图、密度图，以横纵坐标两个维度为主\n",
    "同时可延展出多种其他图表样式\n",
    "\n",
    "plt.plot(kind='line', ax=None, figsize=None, use_index=True, title=None, grid=None, legend=False,\n",
    "style=None, logx=False, logy=False, loglog=False, xticks=None, yticks=None, xlim=None, ylim=None,\n",
    "rot=None, fontsize=None, colormap=None, table=False, yerr=None, xerr=None, label=None, secondary_y=False, **kwds)\n",
    "\n",
    "'''"
   ]
  },
  {
   "cell_type": "code",
   "execution_count": null,
   "outputs": [],
   "source": [
    "import numpy as np\n",
    "import pandas as pd\n",
    "import matplotlib.pyplot as plt\n",
    "% matplotlib inline"
   ],
   "metadata": {
    "collapsed": false,
    "pycharm": {
     "name": "#%%\n"
    }
   }
  },
  {
   "cell_type": "code",
   "execution_count": null,
   "outputs": [],
   "source": [
    "# Series直接生成图表\n",
    "\n",
    "ts = pd.Series(np.random.randn(1000), index=pd.date_range('1/1/2000', periods=1000))\n",
    "ts = ts.cumsum()\n",
    "ts.plot(kind='line',\n",
    "       label = 'hehe',\n",
    "       style = '--g.',\n",
    "       color = 'red',\n",
    "       alpha = 0.4,\n",
    "       use_index = True,\n",
    "       rot = 45,\n",
    "       grid = True,\n",
    "       ylim = [-50,50],\n",
    "       yticks = list(range(-50,50,10)),\n",
    "       figsize = (8,4),\n",
    "       title = 'test',\n",
    "       legend = True)\n",
    "#plt.grid(True, linestyle = \"--\",color = \"gray\", linewidth = \"0.5\",axis = 'x')  # 网格\n",
    "plt.legend()\n",
    "# Series.plot()：series的index为横坐标，value为纵坐标\n",
    "# kind → line,bar,barh...（折线图，柱状图，柱状图-横...）\n",
    "# label → 图例标签，Dataframe格式以列名为label\n",
    "# style → 风格字符串，这里包括了linestyle（-），marker（.），color（g）\n",
    "# color → 颜色，有color指定时候，以color颜色为准\n",
    "# alpha → 透明度，0-1\n",
    "# use_index → 将索引用为刻度标签，默认为True\n",
    "# rot → 旋转刻度标签，0-360\n",
    "# grid → 显示网格，一般直接用plt.grid\n",
    "# xlim,ylim → x,y轴界限\n",
    "# xticks,yticks → x,y轴刻度值\n",
    "# figsize → 图像大小\n",
    "# title → 图名\n",
    "# legend → 是否显示图例，一般直接用plt.legend()\n",
    "# 也可以 → plt.plot()"
   ],
   "metadata": {
    "collapsed": false,
    "pycharm": {
     "name": "#%%\n"
    }
   }
  },
  {
   "cell_type": "code",
   "execution_count": null,
   "outputs": [],
   "source": [
    "# Dataframe直接生成图表\n",
    "\n",
    "df = pd.DataFrame(np.random.randn(1000, 4), index=ts.index, columns=list('ABCD'))\n",
    "df = df.cumsum()\n",
    "df.plot(kind='line',\n",
    "       style = '--.',\n",
    "       alpha = 0.4,\n",
    "       use_index = True,\n",
    "       rot = 45,\n",
    "       grid = True,\n",
    "       figsize = (8,4),\n",
    "       title = 'test',\n",
    "       legend = True,\n",
    "       subplots = False,\n",
    "       colormap = 'Greens')\n",
    "# subplots → 是否将各个列绘制到不同图表，默认False\n",
    "# 也可以 → plt.plot(df)\n",
    "\n",
    "\n"
   ],
   "metadata": {
    "collapsed": false,
    "pycharm": {
     "name": "#%%\n"
    }
   }
  }
 ],
 "metadata": {
  "kernelspec": {
   "display_name": "Python 3",
   "language": "python",
   "name": "python3"
  },
  "language_info": {
   "codemirror_mode": {
    "name": "ipython",
    "version": 2
   },
   "file_extension": ".py",
   "mimetype": "text/x-python",
   "name": "python",
   "nbconvert_exporter": "python",
   "pygments_lexer": "ipython2",
   "version": "2.7.6"
  }
 },
 "nbformat": 4,
 "nbformat_minor": 0
}