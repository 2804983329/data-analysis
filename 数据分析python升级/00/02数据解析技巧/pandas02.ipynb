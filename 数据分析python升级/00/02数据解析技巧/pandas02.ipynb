{
 "cells": [
  {
   "cell_type": "code",
   "execution_count": null,
   "outputs": [],
   "source": [
    "'''\n",
    "【课程2.8】  时间模块：datetime\n",
    "\n",
    "datetime模块，主要掌握：datetime.date(), datetime.datetime(), datetime.timedelta()\n",
    "\n",
    "日期解析方法：parser.parse\n",
    "\n",
    "'''"
   ],
   "metadata": {
    "collapsed": false,
    "pycharm": {
     "name": "#%%\n"
    }
   }
  },
  {
   "cell_type": "code",
   "execution_count": null,
   "outputs": [],
   "source": [
    "import numpy as np\n",
    "import pandas as pd"
   ],
   "metadata": {
    "collapsed": false,
    "pycharm": {
     "name": "#%%\n"
    }
   }
  },
  {
   "cell_type": "code",
   "execution_count": null,
   "outputs": [],
   "source": [
    "# datetime.date：date对象\n",
    "\n",
    "import datetime  # 也可以写 from datetime import date\n",
    "\n",
    "today = datetime.date.today()\n",
    "print(today,type(today))\n",
    "print(str(today),type(str(today)))\n",
    "# datetime.date.today 返回今日\n",
    "# 输出格式为 date类\n",
    "\n",
    "t = datetime.date(2016,6,1)\n",
    "print(t)\n",
    "# (年，月，日) → 直接得到当时日期"
   ],
   "metadata": {
    "collapsed": false,
    "pycharm": {
     "name": "#%%\n"
    }
   }
  },
  {
   "cell_type": "code",
   "execution_count": null,
   "outputs": [],
   "source": [
    "# datetime.datetime：datetime对象\n",
    "\n",
    "now = datetime.datetime.now()\n",
    "print(now,type(now))\n",
    "print(str(now),type(str(now)))\n",
    "# .now()方法，输出当前时间\n",
    "# 输出格式为 datetime类\n",
    "# 可通过str()转化为字符串\n",
    "\n",
    "t1 = datetime.datetime(2016,6,1)\n",
    "t2 = datetime.datetime(2014,1,1,12,44,33)\n",
    "print(t1,t2)\n",
    "# (年，月，日，时，分，秒)，至少输入年月日\n",
    "\n",
    "t2-t1\n",
    "# 相减得到时间差 —— timedelta"
   ],
   "metadata": {
    "collapsed": false,
    "pycharm": {
     "name": "#%%\n"
    }
   }
  },
  {
   "cell_type": "code",
   "execution_count": null,
   "outputs": [],
   "source": [
    "# datetime.timedelta：时间差\n",
    "\n",
    "today = datetime.datetime.today()  # datetime.datetime也有today()方法\n",
    "yestoday = today - datetime.timedelta(1)  #\n",
    "print(today)\n",
    "print(yestoday)\n",
    "print(today - datetime.timedelta(7))\n",
    "# 时间差主要用作时间的加减法，相当于可被识别的时间“差值”"
   ],
   "metadata": {
    "collapsed": false,
    "pycharm": {
     "name": "#%%\n"
    }
   }
  },
  {
   "cell_type": "code",
   "execution_count": null,
   "outputs": [],
   "source": [
    "# parser.parse：日期字符串转换\n",
    "\n",
    "from dateutil.parser import parse\n",
    "\n",
    "date = '12-21-2017'\n",
    "t = parse(date)\n",
    "print(t,type(t))\n",
    "# 直接将str转化成datetime.datetime\n",
    "\n",
    "print(parse('2000-1-1'),'\\n',\n",
    "     parse('5/1/2014'),'\\n',\n",
    "     parse('5/1/2014', dayfirst = True),'\\n',  # 国际通用格式中，日在月之前，可以通过dayfirst来设置\n",
    "     parse('22/1/2014'),'\\n',\n",
    "     parse('Jan 31, 1997 10:45 PM'))\n",
    "# 各种格式可以解析，但无法支持中文\n"
   ],
   "metadata": {
    "collapsed": false,
    "pycharm": {
     "name": "#%%\n"
    }
   }
  },
  {
   "cell_type": "markdown",
   "source": [
    "######## 本节课有作业，请查看 “课程作业.docx”  ########"
   ],
   "metadata": {
    "collapsed": false
   }
  },
  {
   "cell_type": "code",
   "execution_count": null,
   "outputs": [],
   "source": [
    "'''\n",
    "【课程2.9】  Pandas时刻数据：Timestamp\n",
    "\n",
    "时刻数据代表时间点，是pandas的数据类型，是将值与时间点相关联的最基本类型的时间序列数据\n",
    "\n",
    "pandas.Timestamp()\n",
    "\n",
    "'''"
   ],
   "metadata": {
    "collapsed": false,
    "pycharm": {
     "name": "#%%\n"
    }
   }
  },
  {
   "cell_type": "code",
   "execution_count": null,
   "outputs": [],
   "source": [
    "# pd.Timestamp()\n",
    "\n",
    "import numpy as np\n",
    "import pandas as pd\n",
    "\n",
    "date1 = datetime.datetime(2016,12,1,12,45,30)  # 创建一个datetime.datetime\n",
    "date2 = '2017-12-21'  # 创建一个字符串\n",
    "t1 = pd.Timestamp(date1)\n",
    "t2 = pd.Timestamp(date2)\n",
    "print(t1,type(t1))\n",
    "print(t2)\n",
    "print(pd.Timestamp('2017-12-21 15:00:22'))\n",
    "# 直接生成pandas的时刻数据 → 时间戳\n",
    "# 数据类型为 pandas的Timestamp"
   ],
   "metadata": {
    "collapsed": false,
    "pycharm": {
     "name": "#%%\n"
    }
   }
  }
 ],
 "metadata": {
  "kernelspec": {
   "display_name": "Python 3",
   "language": "python",
   "name": "python3"
  },
  "language_info": {
   "codemirror_mode": {
    "name": "ipython",
    "version": 2
   },
   "file_extension": ".py",
   "mimetype": "text/x-python",
   "name": "python",
   "nbconvert_exporter": "python",
   "pygments_lexer": "ipython2",
   "version": "2.7.6"
  }
 },
 "nbformat": 4,
 "nbformat_minor": 0
}