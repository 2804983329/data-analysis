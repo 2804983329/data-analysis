{
 "cells": [
  {
   "cell_type": "code",
   "execution_count": null,
   "outputs": [],
   "source": [
    "'''\n",
    "【课程2.8】  时间模块：datetime\n",
    "\n",
    "datetime模块，主要掌握：datetime.date(), datetime.datetime(), datetime.timedelta()\n",
    "\n",
    "日期解析方法：parser.parse\n",
    "\n",
    "'''"
   ],
   "metadata": {
    "collapsed": false,
    "pycharm": {
     "name": "#%%\n"
    }
   }
  },
  {
   "cell_type": "code",
   "execution_count": null,
   "outputs": [],
   "source": [
    "import numpy as np\n",
    "import pandas as pd"
   ],
   "metadata": {
    "collapsed": false,
    "pycharm": {
     "name": "#%%\n"
    }
   }
  },
  {
   "cell_type": "code",
   "execution_count": null,
   "outputs": [],
   "source": [
    "# datetime.date：date对象\n",
    "\n",
    "import datetime  # 也可以写 from datetime import date\n",
    "\n",
    "today = datetime.date.today()\n",
    "print(today,type(today))\n",
    "print(str(today),type(str(today)))\n",
    "# datetime.date.today 返回今日\n",
    "# 输出格式为 date类\n",
    "\n",
    "t = datetime.date(2016,6,1)\n",
    "print(t)\n",
    "# (年，月，日) → 直接得到当时日期"
   ],
   "metadata": {
    "collapsed": false,
    "pycharm": {
     "name": "#%%\n"
    }
   }
  },
  {
   "cell_type": "code",
   "execution_count": null,
   "outputs": [],
   "source": [
    "# datetime.datetime：datetime对象\n",
    "\n",
    "now = datetime.datetime.now()\n",
    "print(now,type(now))\n",
    "print(str(now),type(str(now)))\n",
    "# .now()方法，输出当前时间\n",
    "# 输出格式为 datetime类\n",
    "# 可通过str()转化为字符串\n",
    "\n",
    "t1 = datetime.datetime(2016,6,1)\n",
    "t2 = datetime.datetime(2014,1,1,12,44,33)\n",
    "print(t1,t2)\n",
    "# (年，月，日，时，分，秒)，至少输入年月日\n",
    "\n",
    "t2-t1\n",
    "# 相减得到时间差 —— timedelta"
   ],
   "metadata": {
    "collapsed": false,
    "pycharm": {
     "name": "#%%\n"
    }
   }
  },
  {
   "cell_type": "code",
   "execution_count": null,
   "outputs": [],
   "source": [
    "# datetime.timedelta：时间差\n",
    "\n",
    "today = datetime.datetime.today()  # datetime.datetime也有today()方法\n",
    "yestoday = today - datetime.timedelta(1)  #\n",
    "print(today)\n",
    "print(yestoday)\n",
    "print(today - datetime.timedelta(7))\n",
    "# 时间差主要用作时间的加减法，相当于可被识别的时间“差值”"
   ],
   "metadata": {
    "collapsed": false,
    "pycharm": {
     "name": "#%%\n"
    }
   }
  },
  {
   "cell_type": "code",
   "execution_count": null,
   "outputs": [],
   "source": [
    "# parser.parse：日期字符串转换\n",
    "\n",
    "from dateutil.parser import parse\n",
    "\n",
    "date = '12-21-2017'\n",
    "t = parse(date)\n",
    "print(t,type(t))\n",
    "# 直接将str转化成datetime.datetime\n",
    "\n",
    "print(parse('2000-1-1'),'\\n',\n",
    "     parse('5/1/2014'),'\\n',\n",
    "     parse('5/1/2014', dayfirst = True),'\\n',  # 国际通用格式中，日在月之前，可以通过dayfirst来设置\n",
    "     parse('22/1/2014'),'\\n',\n",
    "     parse('Jan 31, 1997 10:45 PM'))\n",
    "# 各种格式可以解析，但无法支持中文\n"
   ],
   "metadata": {
    "collapsed": false,
    "pycharm": {
     "name": "#%%\n"
    }
   }
  },
  {
   "cell_type": "markdown",
   "source": [
    "######## 本节课有作业，请查看 “课程作业.docx”  ########"
   ],
   "metadata": {
    "collapsed": false
   }
  },
  {
   "cell_type": "code",
   "execution_count": null,
   "outputs": [],
   "source": [
    "'''\n",
    "【课程2.9】  Pandas时刻数据：Timestamp\n",
    "\n",
    "时刻数据代表时间点，是pandas的数据类型，是将值与时间点相关联的最基本类型的时间序列数据\n",
    "\n",
    "pandas.Timestamp()\n",
    "\n",
    "'''"
   ],
   "metadata": {
    "collapsed": false,
    "pycharm": {
     "name": "#%%\n"
    }
   }
  },
  {
   "cell_type": "code",
   "execution_count": null,
   "outputs": [],
   "source": [
    "# pd.Timestamp()\n",
    "\n",
    "import numpy as np\n",
    "import pandas as pd\n",
    "\n",
    "date1 = datetime.datetime(2016,12,1,12,45,30)  # 创建一个datetime.datetime\n",
    "date2 = '2017-12-21'  # 创建一个字符串\n",
    "t1 = pd.Timestamp(date1)\n",
    "t2 = pd.Timestamp(date2)\n",
    "print(t1,type(t1))\n",
    "print(t2)\n",
    "print(pd.Timestamp('2017-12-21 15:00:22'))\n",
    "# 直接生成pandas的时刻数据 → 时间戳\n",
    "# 数据类型为 pandas的Timestamp\n"
   ],
   "metadata": {
    "collapsed": false,
    "pycharm": {
     "name": "#%%\n"
    }
   }
  },
  {
   "cell_type": "code",
   "execution_count": null,
   "outputs": [],
   "source": [
    "# pd.to_datetime\n",
    "\n",
    "from datetime import datetime\n",
    "\n",
    "date1 = datetime(2016,12,1,12,45,30)\n",
    "date2 = '2017-12-21'\n",
    "t1 = pd.to_datetime(date1)\n",
    "t2 = pd.to_datetime(date2)\n",
    "print(t1,type(t1))\n",
    "print(t2,type(t2))\n",
    "# pd.to_datetime()：如果是单个时间数据，转换成pandas的时刻数据，数据类型为Timestamp\n",
    "\n",
    "lst_date = [ '2017-12-21', '2017-12-22', '2017-12-23']\n",
    "t3 = pd.to_datetime(lst_date)\n",
    "print(t3,type(t3))\n",
    "# 多个时间数据，将会转换为pandas的DatetimeIndex\n"
   ],
   "metadata": {
    "collapsed": false,
    "pycharm": {
     "name": "#%%\n"
    }
   }
  },
  {
   "cell_type": "code",
   "execution_count": null,
   "outputs": [],
   "source": [
    "# pd.to_datetime → 多个时间数据转换时间戳索引\n",
    "\n",
    "date1 = [datetime(2015,6,1),datetime(2015,7,1),datetime(2015,8,1),datetime(2015,9,1),datetime(2015,10,1)]\n",
    "date2 = ['2017-2-1','2017-2-2','2017-2-3','2017-2-4','2017-2-5','2017-2-6']\n",
    "print(date1)\n",
    "print(date2)\n",
    "t1 = pd.to_datetime(date2)\n",
    "t2 = pd.to_datetime(date2)\n",
    "print(t1)\n",
    "print(t2)\n",
    "# 多个时间数据转换为 DatetimeIndex\n",
    "\n",
    "date3 = ['2017-2-1','2017-2-2','2017-2-3','hello world!','2017-2-5','2017-2-6']\n",
    "t3 = pd.to_datetime(date3, errors = 'ignore')\n",
    "print(t3,type(t3))\n",
    "# 当一组时间序列中夹杂其他格式数据，可用errors参数返回\n",
    "# errors = 'ignore':不可解析时返回原始输入，这里就是直接生成一般数组\n",
    "\n",
    "t4 = pd.to_datetime(date3, errors = 'coerce')\n",
    "print(t4,type(t4))\n",
    "# errors = 'coerce':不可扩展，缺失值返回NaT（Not a Time），结果认为DatetimeIndex"
   ],
   "metadata": {
    "collapsed": false,
    "pycharm": {
     "name": "#%%\n"
    }
   }
  },
  {
   "cell_type": "markdown",
   "source": [
    "######## 本节课有作业，请查看 “课程作业.docx”  ########"
   ],
   "metadata": {
    "collapsed": false
   }
  },
  {
   "cell_type": "code",
   "execution_count": null,
   "outputs": [],
   "source": [
    "'''\n",
    "【课程2.10】  Pandas时间戳索引：DatetimeIndex\n",
    "\n",
    "核心：pd.date_range()\n",
    "\n",
    "'''"
   ],
   "metadata": {
    "collapsed": false,
    "pycharm": {
     "name": "#%%\n"
    }
   }
  },
  {
   "cell_type": "code",
   "execution_count": null,
   "outputs": [],
   "source": [
    "# pd.DatetimeIndex()与TimeSeries时间序列\n",
    "\n",
    "rng = pd.DatetimeIndex(['12/1/2017','12/2/2017','12/3/2017','12/4/2017','12/5/2017'])\n",
    "print(rng,type(rng))\n",
    "print(rng[0],type(rng[0]))\n",
    "# 直接生成时间戳索引，支持str、datetime.datetime\n",
    "# 单个时间戳为Timestamp，多个时间戳为DatetimeIndex\n",
    "\n",
    "st = pd.Series(np.random.rand(len(rng)), index = rng)\n",
    "print(st,type(st))\n",
    "print(st.index)\n",
    "# 以DatetimeIndex为index的Series，为TimeSries，时间序列"
   ],
   "metadata": {
    "collapsed": false,
    "pycharm": {
     "name": "#%%\n"
    }
   }
  },
  {
   "cell_type": "code",
   "execution_count": null,
   "outputs": [],
   "source": [
    "# pd.date_range()-日期范围：生成日期范围\n",
    "# 2种生成方式：①start + end； ②start/end + periods\n",
    "# 默认频率：day\n",
    "\n",
    "rng1 = pd.date_range('1/1/2017','1/10/2017', normalize=True)\n",
    "rng2 = pd.date_range(start = '1/1/2017', periods = 10)\n",
    "rng3 = pd.date_range(end = '1/30/2017 15:00:00', periods = 10)  # 增加了时、分、秒\n",
    "print(rng1,type(rng1))\n",
    "print(rng2)\n",
    "print(rng3)\n",
    "print('-------')\n",
    "# 直接生成DatetimeIndex\n",
    "# pd.date_range(start=None, end=None, periods=None, freq='D', tz=None, normalize=False, name=None, closed=None, **kwargs)\n",
    "# start：开始时间\n",
    "# end：结束时间\n",
    "# periods：偏移量\n",
    "# freq：频率，默认天，pd.date_range()默认频率为日历日，pd.bdate_range()默认频率为工作日\n",
    "# tz：时区\n",
    "\n",
    "rng4 = pd.date_range(start = '1/1/2017 15:30', periods = 10, name = 'hello world!', normalize = True)\n",
    "print(rng4)\n",
    "print('-------')\n",
    "# normalize：时间参数值正则化到午夜时间戳（这里最后就直接变成0:00:00，并不是15:30:00）\n",
    "# name：索引对象名称\n",
    "\n",
    "print(pd.date_range('20170101','20170104'))  # 20170101也可读取\n",
    "print(pd.date_range('20170101','20170104',closed = 'right'))\n",
    "print(pd.date_range('20170101','20170104',closed = 'left'))\n",
    "print('-------')\n",
    "# closed：默认为None的情况下，左闭右闭，left则左闭右开，right则左开右闭\n",
    "\n",
    "print(pd.bdate_range('20170101','20170107'))\n",
    "# pd.bdate_range()默认频率为工作日\n",
    "\n",
    "print(list(pd.date_range(start = '1/1/2017', periods = 10)))\n",
    "# 直接转化为list，元素为Timestamp"
   ],
   "metadata": {
    "collapsed": false,
    "pycharm": {
     "name": "#%%\n"
    }
   }
  }
 ],
 "metadata": {
  "kernelspec": {
   "display_name": "Python 3",
   "language": "python",
   "name": "python3"
  },
  "language_info": {
   "codemirror_mode": {
    "name": "ipython",
    "version": 2
   },
   "file_extension": ".py",
   "mimetype": "text/x-python",
   "name": "python",
   "nbconvert_exporter": "python",
   "pygments_lexer": "ipython2",
   "version": "2.7.6"
  }
 },
 "nbformat": 4,
 "nbformat_minor": 0
}