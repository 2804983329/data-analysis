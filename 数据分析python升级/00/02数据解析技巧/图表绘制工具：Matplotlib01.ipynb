{
 "cells": [
  {
   "cell_type": "code",
   "execution_count": null,
   "metadata": {
    "collapsed": true
   },
   "outputs": [],
   "source": [
    "'''\n",
    "【课程3.1】  Matplotlib简介及图表窗口\n",
    "\n",
    "Matplotlib → 一个python版的matlab绘图接口，以2D为主，支持python、numpy、pandas基本数据结构，运营高效且有较丰富的图表库\n",
    "\n",
    "'''"
   ]
  },
  {
   "cell_type": "code",
   "execution_count": null,
   "outputs": [],
   "source": [
    "import numpy as np\n",
    "import pandas as pd\n",
    "import matplotlib.pyplot as plt"
   ],
   "metadata": {
    "collapsed": false,
    "pycharm": {
     "name": "#%%\n"
    }
   }
  },
  {
   "cell_type": "code",
   "execution_count": null,
   "outputs": [],
   "source": [
    "# 图表窗口1 → plt.show()\n",
    "\n",
    "plt.plot(np.random.rand(10))\n",
    "plt.show()\n",
    "# 直接生成图表\n"
   ],
   "metadata": {
    "collapsed": false,
    "pycharm": {
     "name": "#%%\n"
    }
   }
  },
  {
   "cell_type": "code",
   "execution_count": null,
   "outputs": [],
   "source": [
    "# 图表窗口2 → 魔法函数，嵌入图表\n",
    "\n",
    "% matplotlib inline\n",
    "x = np.random.randn(1000)\n",
    "y = np.random.randn(1000)\n",
    "plt.scatter(x,y)\n",
    "# 直接嵌入图表，不用plt.show()\n",
    "# <matplotlib.collections.PathCollection at ...> 代表该图表对象"
   ],
   "metadata": {
    "collapsed": false,
    "pycharm": {
     "name": "#%%\n"
    }
   }
  },
  {
   "cell_type": "code",
   "execution_count": null,
   "outputs": [],
   "source": [
    "# 图表窗口3 → 魔法函数，弹出可交互的matplotlib窗口\n",
    "\n",
    "% matplotlib notebook\n",
    "s = pd.Series(np.random.randn(100))\n",
    "s.plot(style = 'k--o',figsize=(10,5))\n",
    "# 可交互的matplotlib窗口，不用plt.show()\n",
    "# 可做一定调整"
   ],
   "metadata": {
    "collapsed": false,
    "pycharm": {
     "name": "#%%\n"
    }
   }
  },
  {
   "cell_type": "code",
   "execution_count": null,
   "outputs": [],
   "source": [
    "# 图表窗口4 → 魔法函数，弹出matplotlib控制台\n",
    "\n",
    "% matplotlib qt5\n",
    "df = pd.DataFrame(np.random.rand(50,2),columns=['A','B'])\n",
    "df.hist(figsize=(12,5),color='g',alpha=0.8)\n",
    "# 可交互性控制台\n",
    "# 如果已经设置了显示方式（比如notebook），需要重启然后再运行魔法函数\n",
    "# 网页嵌入的交互性窗口 和 控制台，只能显示一个\n",
    "\n",
    "#plt.close()\n",
    "# 关闭窗口\n",
    "\n",
    "#plt.gcf().clear()\n",
    "# 每次清空图表内内容\n"
   ],
   "metadata": {
    "collapsed": false,
    "pycharm": {
     "name": "#%%\n"
    }
   }
  },
  {
   "cell_type": "code",
   "execution_count": null,
   "outputs": [],
   "source": [
    "'''\n",
    "【课程3.2】  图表的基本元素\n",
    "\n",
    "图表内基本参数设置\n",
    "\n",
    "'''"
   ],
   "metadata": {
    "collapsed": false,
    "pycharm": {
     "name": "#%%\n"
    }
   }
  },
  {
   "cell_type": "code",
   "execution_count": null,
   "outputs": [],
   "source": [
    "# 图名，图例，轴标签，轴边界，轴刻度，轴刻度标签等\n",
    "\n",
    "df = pd.DataFrame(np.random.rand(10,2),columns=['A','B'])\n",
    "fig = df.plot(figsize=(6,4))\n",
    "# figsize：创建图表窗口，设置窗口大小\n",
    "# 创建图表对象，并赋值与fig\n",
    "\n",
    "plt.title('Interesting Graph - Check it out')  # 图名\n",
    "plt.xlabel('Plot Number')  # x轴标签\n",
    "plt.ylabel('Important var') # y轴标签\n",
    "\n",
    "plt.legend(loc = 'upper right')\n",
    "# 显示图例，loc表示位置\n",
    "# 'best'         : 0, (only implemented for axes legends)(自适应方式)\n",
    "# 'upper right'  : 1,\n",
    "# 'upper left'   : 2,\n",
    "# 'lower left'   : 3,\n",
    "# 'lower right'  : 4,\n",
    "# 'right'        : 5,\n",
    "# 'center left'  : 6,\n",
    "# 'center right' : 7,\n",
    "# 'lower center' : 8,\n",
    "# 'upper center' : 9,\n",
    "# 'center'       : 10,\n",
    "\n",
    "plt.xlim([0,12])  # x轴边界\n",
    "plt.ylim([0,1.5])  # y轴边界\n",
    "plt.xticks(range(10))  # 设置x刻度\n",
    "plt.yticks([0,0.2,0.4,0.6,0.8,1.0,1.2])  # 设置y刻度\n",
    "fig.set_xticklabels(\"%.1f\" %i for i in range(10))  # x轴刻度标签\n",
    "fig.set_yticklabels(\"%.2f\" %i for i in [0,0.2,0.4,0.6,0.8,1.0,1.2])  # y轴刻度标签\n",
    "# 范围只限定图表的长度，刻度则是决定显示的标尺 → 这里x轴范围是0-12，但刻度只是0-9，刻度标签使得其显示1位小数\n",
    "# 轴标签则是显示刻度的标签\n",
    "\n",
    "print(fig,type(fig))\n",
    "# 查看表格本身的显示方式，以及类别"
   ],
   "metadata": {
    "collapsed": false,
    "pycharm": {
     "name": "#%%\n"
    }
   }
  },
  {
   "cell_type": "code",
   "execution_count": null,
   "outputs": [],
   "source": [
    "# 其他元素可视性\n",
    "\n",
    "x = np.linspace(-np.pi,np.pi,256,endpoint = True)\n",
    "c, s = np.cos(x), np.sin(x)\n",
    "plt.plot(x, c)\n",
    "plt.plot(x, s)\n",
    "# 通过ndarry创建图表\n",
    "\n",
    "plt.grid(True, linestyle = \"--\",color = \"gray\", linewidth = \"0.5\",axis = 'x')\n",
    "# 显示网格\n",
    "# linestyle：线型\n",
    "# color：颜色\n",
    "# linewidth：宽度\n",
    "# axis：x，y，both，显示x/y/两者的格网\n",
    "\n",
    "plt.tick_params(bottom='on',top='off',left='on',right='off')\n",
    "# 刻度显示\n",
    "\n",
    "import matplotlib\n",
    "matplotlib.rcParams['xtick.direction'] = 'out'\n",
    "matplotlib.rcParams['ytick.direction'] = 'inout'\n",
    "# 设置刻度的方向，in,out,inout\n",
    "# 这里需要导入matploltib，而不仅仅导入matplotlib.pyplot\n",
    "\n",
    "\n",
    "frame = plt.gca()\n",
    "#plt.axis('off')\n",
    "# 关闭坐标轴\n",
    "#frame.axes.get_xaxis().set_visible(False)\n",
    "#frame.axes.get_yaxis().set_visible(False)\n",
    "# x/y 轴不可见"
   ],
   "metadata": {
    "collapsed": false,
    "pycharm": {
     "name": "#%%\n"
    }
   }
  },
  {
   "cell_type": "code",
   "execution_count": null,
   "outputs": [],
   "source": [
    "'''\n",
    "【课程3.3】  图表的样式参数\n",
    "\n",
    "linestyle、style、color、marker\n",
    "\n",
    "'''"
   ],
   "metadata": {
    "collapsed": false,
    "pycharm": {
     "name": "#%%\n"
    }
   }
  },
  {
   "cell_type": "code",
   "execution_count": null,
   "outputs": [],
   "source": [
    "# linestyle参数\n",
    "\n",
    "plt.plot([i**2 for i in range(100)],\n",
    "        linestyle = '-.')\n",
    "# '-'       solid line style\n",
    "# '--'      dashed line style\n",
    "# '-.'      dash-dot line style\n",
    "# ':'       dotted line style"
   ],
   "metadata": {
    "collapsed": false,
    "pycharm": {
     "name": "#%%\n"
    }
   }
  },
  {
   "cell_type": "code",
   "execution_count": null,
   "outputs": [],
   "source": [
    "# marker参数\n",
    "\n",
    "s = pd.Series(np.random.randn(100).cumsum())\n",
    "s.plot(linestyle = '--',\n",
    "      marker = '.')\n",
    "# '.'       point marker\n",
    "# ','       pixel marker\n",
    "# 'o'       circle marker\n",
    "# 'v'       triangle_down marker\n",
    "# '^'       triangle_up marker\n",
    "# '<'       triangle_left marker\n",
    "# '>'       triangle_right marker\n",
    "# '1'       tri_down marker\n",
    "# '2'       tri_up marker\n",
    "# '3'       tri_left marker\n",
    "# '4'       tri_right marker\n",
    "# 's'       square marker\n",
    "# 'p'       pentagon marker\n",
    "# '*'       star marker\n",
    "# 'h'       hexagon1 marker\n",
    "# 'H'       hexagon2 marker\n",
    "# '+'       plus marker\n",
    "# 'x'       x marker\n",
    "# 'D'       diamond marker\n",
    "# 'd'       thin_diamond marker\n",
    "# '|'       vline marker\n",
    "# '_'       hline marker"
   ],
   "metadata": {
    "collapsed": false,
    "pycharm": {
     "name": "#%%\n"
    }
   }
  },
  {
   "cell_type": "code",
   "execution_count": null,
   "outputs": [],
   "source": [
    "# color参数\n",
    "\n",
    "plt.hist(np.random.randn(100),\n",
    "        color = 'g',alpha = 0.8)\n",
    "# alpha：0-1，透明度\n",
    "# 常用颜色简写：red-r, green-g, black-k, blue-b, yellow-y\n",
    "\n",
    "df = pd.DataFrame(np.random.randn(1000, 4),columns=list('ABCD'))\n",
    "df = df.cumsum()\n",
    "df.plot(style = '--.',alpha = 0.8,colormap = 'GnBu')\n",
    "# colormap：颜色板，包括：\n",
    "# Accent, Accent_r, Blues, Blues_r, BrBG, BrBG_r, BuGn, BuGn_r, BuPu, BuPu_r, CMRmap, CMRmap_r, Dark2, Dark2_r, GnBu, GnBu_r, Greens, Greens_r,\n",
    "# Greys, Greys_r, OrRd, OrRd_r, Oranges, Oranges_r, PRGn, PRGn_r, Paired, Paired_r, Pastel1, Pastel1_r, Pastel2, Pastel2_r, PiYG, PiYG_r,\n",
    "# PuBu, PuBuGn, PuBuGn_r, PuBu_r, PuOr, PuOr_r, PuRd, PuRd_r, Purples, Purples_r, RdBu, RdBu_r, RdGy, RdGy_r, RdPu, RdPu_r, RdYlBu, RdYlBu_r,\n",
    "# RdYlGn, RdYlGn_r, Reds, Reds_r, Set1, Set1_r, Set2, Set2_r, Set3, Set3_r, Spectral, Spectral_r, Wistia, Wistia_r, YlGn, YlGnBu, YlGnBu_r,\n",
    "# YlGn_r, YlOrBr, YlOrBr_r, YlOrRd, YlOrRd_r, afmhot, afmhot_r, autumn, autumn_r, binary, binary_r, bone, bone_r, brg, brg_r, bwr, bwr_r,\n",
    "# cool, cool_r, coolwarm, coolwarm_r, copper, copper_r, cubehelix, cubehelix_r, flag, flag_r, gist_earth, gist_earth_r, gist_gray, gist_gray_r,\n",
    "# gist_heat, gist_heat_r, gist_ncar, gist_ncar_r, gist_rainbow, gist_rainbow_r, gist_stern, gist_stern_r, gist_yarg, gist_yarg_r, gnuplot,\n",
    "# gnuplot2, gnuplot2_r, gnuplot_r, gray, gray_r, hot, hot_r, hsv, hsv_r, inferno, inferno_r, jet, jet_r, magma, magma_r, nipy_spectral,\n",
    "# nipy_spectral_r, ocean, ocean_r, pink, pink_r, plasma, plasma_r, prism, prism_r, rainbow, rainbow_r, seismic, seismic_r, spectral,\n",
    "# spectral_r ,spring, spring_r, summer, summer_r, terrain, terrain_r, viridis, viridis_r, winter, winter_r\n",
    "\n",
    "# 其他参数见“颜色参数.docx”"
   ],
   "metadata": {
    "collapsed": false,
    "pycharm": {
     "name": "#%%\n"
    }
   }
  },
  {
   "cell_type": "code",
   "execution_count": null,
   "outputs": [],
   "source": [
    "# style参数，可以包含linestyle，marker，color\n",
    "\n",
    "ts = pd.Series(np.random.randn(1000).cumsum(), index=pd.date_range('1/1/2000', periods=1000))\n",
    "ts.plot(style = '--g.',grid = True)\n",
    "# style → 风格字符串，这里包括了linestyle（-），marker（.），color（g）\n",
    "# plot()内也有grid参数"
   ],
   "metadata": {
    "collapsed": false,
    "pycharm": {
     "name": "#%%\n"
    }
   }
  },
  {
   "cell_type": "code",
   "execution_count": null,
   "outputs": [],
   "source": [
    "# 整体风格样式\n",
    "\n",
    "import matplotlib.style as psl\n",
    "print(plt.style.available)\n",
    "# 查看样式列表\n",
    "psl.use('ggplot')\n",
    "ts = pd.Series(np.random.randn(1000).cumsum(), index=pd.date_range('1/1/2000', periods=1000))\n",
    "ts.plot(style = '--g.',grid = True,figsize=(10,6))\n",
    "# 一旦选用样式后，所有图表都会有样式，重启后才能关掉\n",
    "\n"
   ],
   "metadata": {
    "collapsed": false,
    "pycharm": {
     "name": "#%%\n"
    }
   }
  },
  {
   "cell_type": "code",
   "execution_count": null,
   "outputs": [],
   "source": [
    "'''\n",
    "【课程3.4】  刻度、注解、图表输出\n",
    "\n",
    "主刻度、次刻度\n",
    "\n",
    "'''"
   ],
   "metadata": {
    "collapsed": false,
    "pycharm": {
     "name": "#%%\n"
    }
   }
  },
  {
   "cell_type": "code",
   "execution_count": null,
   "outputs": [],
   "source": [
    "# 刻度\n",
    "\n",
    "from matplotlib.ticker import MultipleLocator, FormatStrFormatter\n",
    "\n",
    "t = np.arange(0.0, 100.0, 1)\n",
    "s = np.sin(0.1*np.pi*t)*np.exp(-t*0.01)\n",
    "ax = plt.subplot(111) #注意:一般都在ax中设置,不再plot中设置\n",
    "plt.plot(t,s,'--*')\n",
    "plt.grid(True, linestyle = \"--\",color = \"gray\", linewidth = \"0.5\",axis = 'both')\n",
    "# 网格\n",
    "#plt.legend()  # 图例\n",
    "\n",
    "xmajorLocator = MultipleLocator(10) # 将x主刻度标签设置为10的倍数\n",
    "xmajorFormatter = FormatStrFormatter('%.0f') # 设置x轴标签文本的格式\n",
    "xminorLocator   = MultipleLocator(5) # 将x轴次刻度标签设置为5的倍数\n",
    "ymajorLocator = MultipleLocator(0.5) # 将y轴主刻度标签设置为0.5的倍数\n",
    "ymajorFormatter = FormatStrFormatter('%.1f') # 设置y轴标签文本的格式\n",
    "yminorLocator   = MultipleLocator(0.1) # 将此y轴次刻度标签设置为0.1的倍数\n",
    "\n",
    "ax.xaxis.set_major_locator(xmajorLocator)  # 设置x轴主刻度\n",
    "ax.xaxis.set_major_formatter(xmajorFormatter)  # 设置x轴标签文本格式\n",
    "ax.xaxis.set_minor_locator(xminorLocator)  # 设置x轴次刻度\n",
    "\n",
    "ax.yaxis.set_major_locator(ymajorLocator)  # 设置y轴主刻度\n",
    "ax.yaxis.set_major_formatter(ymajorFormatter)  # 设置y轴标签文本格式\n",
    "ax.yaxis.set_minor_locator(yminorLocator)  # 设置y轴次刻度\n",
    "\n",
    "ax.xaxis.grid(True, which='both') #x坐标轴的网格使用主刻度\n",
    "ax.yaxis.grid(True, which='minor') #y坐标轴的网格使用次刻度\n",
    "# which：格网显示\n",
    "\n",
    "#删除坐标轴的刻度显示\n",
    "#ax.yaxis.set_major_locator(plt.NullLocator())\n",
    "#ax.xaxis.set_major_formatter(plt.NullFormatter())"
   ],
   "metadata": {
    "collapsed": false,
    "pycharm": {
     "name": "#%%\n"
    }
   }
  },
  {
   "cell_type": "code",
   "execution_count": null,
   "outputs": [],
   "source": [
    "# 注解\n",
    "\n",
    "df = pd.DataFrame(np.random.randn(10,2))\n",
    "df.plot(style = '--o')\n",
    "plt.text(5,0.5,'hahaha',fontsize=10)\n",
    "# 注解 → 横坐标，纵坐标，注解字符串"
   ],
   "metadata": {
    "collapsed": false,
    "pycharm": {
     "name": "#%%\n"
    }
   }
  },
  {
   "cell_type": "code",
   "execution_count": null,
   "outputs": [],
   "source": [
    "# 图表输出\n",
    "\n",
    "df = pd.DataFrame(np.random.randn(1000, 4), columns=list('ABCD'))\n",
    "df = df.cumsum()\n",
    "df.plot(style = '--.',alpha = 0.5)\n",
    "plt.legend(loc = 'upper left')\n",
    "plt.savefig('C:/Users/Hjx/Desktop/pic.png',\n",
    "            dpi=400,\n",
    "            bbox_inches = 'tight',\n",
    "            facecolor = 'g',\n",
    "            edgecolor = 'b')\n",
    "# 可支持png，pdf，svg，ps，eps…等，以后缀名来指定\n",
    "# dpi是分辨率\n",
    "# bbox_inches：图表需要保存的部分。如果设置为‘tight’，则尝试剪除图表周围的空白部分。\n",
    "# facecolor，edgecolor： 图像的背景色，默认为‘w’（白色）"
   ],
   "metadata": {
    "collapsed": false,
    "pycharm": {
     "name": "#%%\n"
    }
   }
  }
 ],
 "metadata": {
  "kernelspec": {
   "display_name": "Python 3",
   "language": "python",
   "name": "python3"
  },
  "language_info": {
   "codemirror_mode": {
    "name": "ipython",
    "version": 2
   },
   "file_extension": ".py",
   "mimetype": "text/x-python",
   "name": "python",
   "nbconvert_exporter": "python",
   "pygments_lexer": "ipython2",
   "version": "2.7.6"
  }
 },
 "nbformat": 4,
 "nbformat_minor": 0
}