{
 "cells": [
  {
   "cell_type": "code",
   "execution_count": null,
   "metadata": {
    "collapsed": true
   },
   "outputs": [],
   "source": [
    "'''\n",
    "【课程3.1】  Matplotlib简介及图表窗口\n",
    "\n",
    "Matplotlib → 一个python版的matlab绘图接口，以2D为主，支持python、numpy、pandas基本数据结构，运营高效且有较丰富的图表库\n",
    "\n",
    "'''"
   ]
  },
  {
   "cell_type": "code",
   "execution_count": null,
   "outputs": [],
   "source": [
    "import numpy as np\n",
    "import pandas as pd\n",
    "import matplotlib.pyplot as plt"
   ],
   "metadata": {
    "collapsed": false,
    "pycharm": {
     "name": "#%%\n"
    }
   }
  },
  {
   "cell_type": "code",
   "execution_count": null,
   "outputs": [],
   "source": [
    "# 图表窗口1 → plt.show()\n",
    "\n",
    "plt.plot(np.random.rand(10))\n",
    "plt.show()\n",
    "# 直接生成图表\n"
   ],
   "metadata": {
    "collapsed": false,
    "pycharm": {
     "name": "#%%\n"
    }
   }
  },
  {
   "cell_type": "code",
   "execution_count": null,
   "outputs": [],
   "source": [
    "# 图表窗口2 → 魔法函数，嵌入图表\n",
    "\n",
    "% matplotlib inline\n",
    "x = np.random.randn(1000)\n",
    "y = np.random.randn(1000)\n",
    "plt.scatter(x,y)\n",
    "# 直接嵌入图表，不用plt.show()\n",
    "# <matplotlib.collections.PathCollection at ...> 代表该图表对象"
   ],
   "metadata": {
    "collapsed": false,
    "pycharm": {
     "name": "#%%\n"
    }
   }
  },
  {
   "cell_type": "code",
   "execution_count": null,
   "outputs": [],
   "source": [
    "# 图表窗口3 → 魔法函数，弹出可交互的matplotlib窗口\n",
    "\n",
    "% matplotlib notebook\n",
    "s = pd.Series(np.random.randn(100))\n",
    "s.plot(style = 'k--o',figsize=(10,5))\n",
    "# 可交互的matplotlib窗口，不用plt.show()\n",
    "# 可做一定调整"
   ],
   "metadata": {
    "collapsed": false,
    "pycharm": {
     "name": "#%%\n"
    }
   }
  },
  {
   "cell_type": "code",
   "execution_count": null,
   "outputs": [],
   "source": [
    "# 图表窗口4 → 魔法函数，弹出matplotlib控制台\n",
    "\n",
    "% matplotlib qt5\n",
    "df = pd.DataFrame(np.random.rand(50,2),columns=['A','B'])\n",
    "df.hist(figsize=(12,5),color='g',alpha=0.8)\n",
    "# 可交互性控制台\n",
    "# 如果已经设置了显示方式（比如notebook），需要重启然后再运行魔法函数\n",
    "# 网页嵌入的交互性窗口 和 控制台，只能显示一个\n",
    "\n",
    "#plt.close()\n",
    "# 关闭窗口\n",
    "\n",
    "#plt.gcf().clear()\n",
    "# 每次清空图表内内容\n"
   ],
   "metadata": {
    "collapsed": false,
    "pycharm": {
     "name": "#%%\n"
    }
   }
  },
  {
   "cell_type": "code",
   "execution_count": null,
   "outputs": [],
   "source": [
    "'''\n",
    "【课程3.2】  图表的基本元素\n",
    "\n",
    "图表内基本参数设置\n",
    "\n",
    "'''"
   ],
   "metadata": {
    "collapsed": false,
    "pycharm": {
     "name": "#%%\n"
    }
   }
  },
  {
   "cell_type": "code",
   "execution_count": null,
   "outputs": [],
   "source": [
    "# 图名，图例，轴标签，轴边界，轴刻度，轴刻度标签等\n",
    "\n",
    "df = pd.DataFrame(np.random.rand(10,2),columns=['A','B'])\n",
    "fig = df.plot(figsize=(6,4))\n",
    "# figsize：创建图表窗口，设置窗口大小\n",
    "# 创建图表对象，并赋值与fig\n",
    "\n",
    "plt.title('Interesting Graph - Check it out')  # 图名\n",
    "plt.xlabel('Plot Number')  # x轴标签\n",
    "plt.ylabel('Important var') # y轴标签\n",
    "\n",
    "plt.legend(loc = 'upper right')\n",
    "# 显示图例，loc表示位置\n",
    "# 'best'         : 0, (only implemented for axes legends)(自适应方式)\n",
    "# 'upper right'  : 1,\n",
    "# 'upper left'   : 2,\n",
    "# 'lower left'   : 3,\n",
    "# 'lower right'  : 4,\n",
    "# 'right'        : 5,\n",
    "# 'center left'  : 6,\n",
    "# 'center right' : 7,\n",
    "# 'lower center' : 8,\n",
    "# 'upper center' : 9,\n",
    "# 'center'       : 10,\n",
    "\n",
    "plt.xlim([0,12])  # x轴边界\n",
    "plt.ylim([0,1.5])  # y轴边界\n",
    "plt.xticks(range(10))  # 设置x刻度\n",
    "plt.yticks([0,0.2,0.4,0.6,0.8,1.0,1.2])  # 设置y刻度\n",
    "fig.set_xticklabels(\"%.1f\" %i for i in range(10))  # x轴刻度标签\n",
    "fig.set_yticklabels(\"%.2f\" %i for i in [0,0.2,0.4,0.6,0.8,1.0,1.2])  # y轴刻度标签\n",
    "# 范围只限定图表的长度，刻度则是决定显示的标尺 → 这里x轴范围是0-12，但刻度只是0-9，刻度标签使得其显示1位小数\n",
    "# 轴标签则是显示刻度的标签\n",
    "\n",
    "print(fig,type(fig))\n",
    "# 查看表格本身的显示方式，以及类别"
   ],
   "metadata": {
    "collapsed": false,
    "pycharm": {
     "name": "#%%\n"
    }
   }
  },
  {
   "cell_type": "code",
   "execution_count": null,
   "outputs": [],
   "source": [
    "# 其他元素可视性\n",
    "\n",
    "x = np.linspace(-np.pi,np.pi,256,endpoint = True)\n",
    "c, s = np.cos(x), np.sin(x)\n",
    "plt.plot(x, c)\n",
    "plt.plot(x, s)\n",
    "# 通过ndarry创建图表\n",
    "\n",
    "plt.grid(True, linestyle = \"--\",color = \"gray\", linewidth = \"0.5\",axis = 'x')\n",
    "# 显示网格\n",
    "# linestyle：线型\n",
    "# color：颜色\n",
    "# linewidth：宽度\n",
    "# axis：x，y，both，显示x/y/两者的格网\n",
    "\n",
    "plt.tick_params(bottom='on',top='off',left='on',right='off')\n",
    "# 刻度显示\n",
    "\n",
    "import matplotlib\n",
    "matplotlib.rcParams['xtick.direction'] = 'out'\n",
    "matplotlib.rcParams['ytick.direction'] = 'inout'\n",
    "# 设置刻度的方向，in,out,inout\n",
    "# 这里需要导入matploltib，而不仅仅导入matplotlib.pyplot\n",
    "\n",
    "\n",
    "frame = plt.gca()\n",
    "#plt.axis('off')\n",
    "# 关闭坐标轴\n",
    "#frame.axes.get_xaxis().set_visible(False)\n",
    "#frame.axes.get_yaxis().set_visible(False)\n",
    "# x/y 轴不可见\n"
   ],
   "metadata": {
    "collapsed": false,
    "pycharm": {
     "name": "#%%\n"
    }
   }
  }
 ],
 "metadata": {
  "kernelspec": {
   "display_name": "Python 3",
   "language": "python",
   "name": "python3"
  },
  "language_info": {
   "codemirror_mode": {
    "name": "ipython",
    "version": 2
   },
   "file_extension": ".py",
   "mimetype": "text/x-python",
   "name": "python",
   "nbconvert_exporter": "python",
   "pygments_lexer": "ipython2",
   "version": "2.7.6"
  }
 },
 "nbformat": 4,
 "nbformat_minor": 0
}