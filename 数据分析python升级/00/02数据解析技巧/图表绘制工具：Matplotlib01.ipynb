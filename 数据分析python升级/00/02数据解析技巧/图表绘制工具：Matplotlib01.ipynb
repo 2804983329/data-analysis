{
 "cells": [
  {
   "cell_type": "code",
   "execution_count": null,
   "metadata": {
    "collapsed": true
   },
   "outputs": [],
   "source": [
    "'''\n",
    "【课程3.1】  Matplotlib简介及图表窗口\n",
    "\n",
    "Matplotlib → 一个python版的matlab绘图接口，以2D为主，支持python、numpy、pandas基本数据结构，运营高效且有较丰富的图表库\n",
    "\n",
    "'''"
   ]
  },
  {
   "cell_type": "code",
   "execution_count": null,
   "outputs": [],
   "source": [
    "import numpy as np\n",
    "import pandas as pd\n",
    "import matplotlib.pyplot as plt"
   ],
   "metadata": {
    "collapsed": false,
    "pycharm": {
     "name": "#%%\n"
    }
   }
  },
  {
   "cell_type": "code",
   "execution_count": null,
   "outputs": [],
   "source": [
    "# 图表窗口1 → plt.show()\n",
    "\n",
    "plt.plot(np.random.rand(10))\n",
    "plt.show()\n",
    "# 直接生成图表\n"
   ],
   "metadata": {
    "collapsed": false,
    "pycharm": {
     "name": "#%%\n"
    }
   }
  },
  {
   "cell_type": "code",
   "execution_count": null,
   "outputs": [],
   "source": [
    "# 图表窗口2 → 魔法函数，嵌入图表\n",
    "\n",
    "% matplotlib inline\n",
    "x = np.random.randn(1000)\n",
    "y = np.random.randn(1000)\n",
    "plt.scatter(x,y)\n",
    "# 直接嵌入图表，不用plt.show()\n",
    "# <matplotlib.collections.PathCollection at ...> 代表该图表对象"
   ],
   "metadata": {
    "collapsed": false,
    "pycharm": {
     "name": "#%%\n"
    }
   }
  },
  {
   "cell_type": "code",
   "execution_count": null,
   "outputs": [],
   "source": [
    "# 图表窗口3 → 魔法函数，弹出可交互的matplotlib窗口\n",
    "\n",
    "% matplotlib notebook\n",
    "s = pd.Series(np.random.randn(100))\n",
    "s.plot(style = 'k--o',figsize=(10,5))\n",
    "# 可交互的matplotlib窗口，不用plt.show()\n",
    "# 可做一定调整"
   ],
   "metadata": {
    "collapsed": false,
    "pycharm": {
     "name": "#%%\n"
    }
   }
  },
  {
   "cell_type": "code",
   "execution_count": null,
   "outputs": [],
   "source": [
    "# 图表窗口4 → 魔法函数，弹出matplotlib控制台\n",
    "\n",
    "% matplotlib qt5\n",
    "df = pd.DataFrame(np.random.rand(50,2),columns=['A','B'])\n",
    "df.hist(figsize=(12,5),color='g',alpha=0.8)\n",
    "# 可交互性控制台\n",
    "# 如果已经设置了显示方式（比如notebook），需要重启然后再运行魔法函数\n",
    "# 网页嵌入的交互性窗口 和 控制台，只能显示一个\n",
    "\n",
    "#plt.close()\n",
    "# 关闭窗口\n",
    "\n",
    "#plt.gcf().clear()\n",
    "# 每次清空图表内内容\n",
    "\n"
   ],
   "metadata": {
    "collapsed": false,
    "pycharm": {
     "name": "#%%\n"
    }
   }
  }
 ],
 "metadata": {
  "kernelspec": {
   "display_name": "Python 3",
   "language": "python",
   "name": "python3"
  },
  "language_info": {
   "codemirror_mode": {
    "name": "ipython",
    "version": 2
   },
   "file_extension": ".py",
   "mimetype": "text/x-python",
   "name": "python",
   "nbconvert_exporter": "python",
   "pygments_lexer": "ipython2",
   "version": "2.7.6"
  }
 },
 "nbformat": 4,
 "nbformat_minor": 0
}