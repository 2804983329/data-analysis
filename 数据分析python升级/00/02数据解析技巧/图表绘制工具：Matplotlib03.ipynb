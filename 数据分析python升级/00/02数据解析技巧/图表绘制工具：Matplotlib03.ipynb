{
 "cells": [
  {
   "cell_type": "code",
   "execution_count": null,
   "metadata": {
    "collapsed": true
   },
   "outputs": [],
   "source": [
    "'''\n",
    "【课程3.13】  表格样式创建\n",
    "\n",
    "表格视觉样式：Dataframe.style → 返回pandas.Styler对象的属性，具有格式化和显示Dataframe的有用方法\n",
    "\n",
    "样式创建：\n",
    "① Styler.applymap：elementwise → 按元素方式处理Dataframe\n",
    "② Styler.apply：column- / row- / table-wise → 按行/列处理Dataframe\n",
    "\n",
    "'''"
   ]
  },
  {
   "cell_type": "code",
   "execution_count": null,
   "outputs": [],
   "source": [
    "import numpy as np\n",
    "import pandas as pd\n",
    "import matplotlib.pyplot as plt\n",
    "% matplotlib inline"
   ],
   "metadata": {
    "collapsed": false,
    "pycharm": {
     "name": "#%%\n"
    }
   }
  },
  {
   "cell_type": "code",
   "execution_count": null,
   "outputs": [],
   "source": [
    "# 样式\n",
    "\n",
    "df = pd.DataFrame(np.random.randn(10,4),columns=['a','b','c','d'])\n",
    "sty = df.style\n",
    "print(sty,type(sty))\n",
    "# 查看样式类型\n",
    "\n",
    "sty\n",
    "# 显示样式"
   ],
   "metadata": {
    "collapsed": false,
    "pycharm": {
     "name": "#%%\n"
    }
   }
  },
  {
   "cell_type": "code",
   "execution_count": null,
   "outputs": [],
   "source": [
    "# 按元素处理样式：style.applymap()\n",
    "\n",
    "def color_neg_red(val):\n",
    "    if val < 0:\n",
    "        color = 'red'\n",
    "    else:\n",
    "        color = 'black'\n",
    "    return('color:%s' % color)\n",
    "df.style.applymap(color_neg_red)\n",
    "# 创建样式方法，使得小于0的数变成红色\n",
    "# style.applymap() → 自动调用其中的函数"
   ],
   "metadata": {
    "collapsed": false,
    "pycharm": {
     "name": "#%%\n"
    }
   }
  },
  {
   "cell_type": "code",
   "execution_count": null,
   "outputs": [],
   "source": [
    "# 按行/列处理样式：style.apply()\n",
    "\n",
    "def highlight_max(s):\n",
    "    is_max = s == s.max()\n",
    "    #print(is_max)\n",
    "    lst = []\n",
    "    for v in is_max:\n",
    "        if v:\n",
    "            lst.append('background-color: yellow')\n",
    "        else:\n",
    "            lst.append('')\n",
    "    return(lst)\n",
    "df.style.apply(highlight_max, axis = 0, subset = ['b','c'])\n",
    "# 创建样式方法，每列最大值填充黄色\n",
    "# axis：0为列，1为行，默认为0\n",
    "# subset：索引"
   ],
   "metadata": {
    "collapsed": false,
    "pycharm": {
     "name": "#%%\n"
    }
   }
  },
  {
   "cell_type": "code",
   "execution_count": null,
   "outputs": [],
   "source": [
    "# 样式索引、切片\n",
    "\n",
    "df.style.apply(highlight_max, axis = 1,\n",
    "               subset = pd.IndexSlice[2:5,['b', 'd']])\n",
    "# 通过pd.IndexSlice[]调用切片\n",
    "# 也可：df[2:5].style.apply(highlight_max, subset = ['b', 'd']) → 先索引行再做样式"
   ],
   "metadata": {
    "collapsed": false,
    "pycharm": {
     "name": "#%%\n"
    }
   }
  },
  {
   "cell_type": "code",
   "execution_count": null,
   "outputs": [],
   "source": [
    "'''\n",
    "【课程3.14】  表格显示控制\n",
    "\n",
    "df.style.format()\n",
    "\n",
    "'''"
   ],
   "metadata": {
    "collapsed": false,
    "pycharm": {
     "name": "#%%\n"
    }
   }
  },
  {
   "cell_type": "code",
   "execution_count": null,
   "outputs": [],
   "source": [
    "# 按照百分数显示\n",
    "\n",
    "df = pd.DataFrame(np.random.randn(10,4),columns=['a','b','c','d'])\n",
    "print(df.head())\n",
    "df.head().style.format(\"{:.2%}\")"
   ],
   "metadata": {
    "collapsed": false,
    "pycharm": {
     "name": "#%%\n"
    }
   }
  },
  {
   "cell_type": "code",
   "execution_count": null,
   "outputs": [],
   "source": [
    "# 显示小数点数\n",
    "\n",
    "df.head().style.format(\"{:.4f}\")"
   ],
   "metadata": {
    "collapsed": false,
    "pycharm": {
     "name": "#%%\n"
    }
   }
  },
  {
   "cell_type": "code",
   "execution_count": null,
   "outputs": [],
   "source": [
    "# 显示正负数\n",
    "\n",
    "df.head().style.format(\"{:+.2f}\")"
   ],
   "metadata": {
    "collapsed": false,
    "pycharm": {
     "name": "#%%\n"
    }
   }
  },
  {
   "cell_type": "code",
   "execution_count": null,
   "outputs": [],
   "source": [
    "# 分列显示\n",
    "\n",
    "df.head().style.format({'b':\"{:.2%}\", 'c':\"{:+.3f}\", 'd':\"{:.3f}\"})"
   ],
   "metadata": {
    "collapsed": false,
    "pycharm": {
     "name": "#%%\n"
    }
   }
  },
  {
   "cell_type": "code",
   "execution_count": null,
   "outputs": [],
   "source": [
    "'''\n",
    "【课程3.15】  表格样式调用\n",
    "\n",
    "Styler内置样式调用\n",
    "\n",
    "'''"
   ],
   "metadata": {
    "collapsed": false,
    "pycharm": {
     "name": "#%%\n"
    }
   }
  },
  {
   "cell_type": "code",
   "execution_count": null,
   "outputs": [],
   "source": [
    "# 定位空值\n",
    "\n",
    "df = pd.DataFrame(np.random.rand(5,4),columns = list('ABCD'))\n",
    "df['A'][2] = np.nan\n",
    "df.style.highlight_null(null_color='red')"
   ],
   "metadata": {
    "collapsed": false,
    "pycharm": {
     "name": "#%%\n"
    }
   }
  },
  {
   "cell_type": "code",
   "execution_count": null,
   "outputs": [],
   "source": [
    "# 色彩映射\n",
    "\n",
    "df = pd.DataFrame(np.random.rand(10,4),columns = list('ABCD'))\n",
    "df.style.background_gradient(cmap='Greens',axis =1,low=0,high=1)\n",
    "# cmap：颜色\n",
    "# axis：映射参考，0为行，1以列"
   ],
   "metadata": {
    "collapsed": false,
    "pycharm": {
     "name": "#%%\n"
    }
   }
  },
  {
   "cell_type": "code",
   "execution_count": null,
   "outputs": [],
   "source": [
    "# 条形图\n",
    "\n",
    "df = pd.DataFrame(np.random.rand(10,4),columns = list('ABCD'))\n",
    "df.style.bar(subset=['A', 'B'], color='#d65f5f', width=100)\n",
    "# width：最长长度在格子的占比"
   ],
   "metadata": {
    "collapsed": false,
    "pycharm": {
     "name": "#%%\n"
    }
   }
  },
  {
   "cell_type": "code",
   "execution_count": null,
   "outputs": [],
   "source": [
    "# 分段式构建样式\n",
    "\n",
    "df = pd.DataFrame(np.random.rand(10,4),columns = list('ABCD'))\n",
    "df['A'][[3,2]] = np.nan\n",
    "df.style.\\\n",
    "    bar(subset=['A', 'B'], color='#d65f5f', width=100).\\\n",
    "    highlight_null(null_color='yellow')"
   ],
   "metadata": {
    "collapsed": false,
    "pycharm": {
     "name": "#%%\n"
    }
   }
  }
 ],
 "metadata": {
  "kernelspec": {
   "display_name": "Python 3",
   "language": "python",
   "name": "python3"
  },
  "language_info": {
   "codemirror_mode": {
    "name": "ipython",
    "version": 2
   },
   "file_extension": ".py",
   "mimetype": "text/x-python",
   "name": "python",
   "nbconvert_exporter": "python",
   "pygments_lexer": "ipython2",
   "version": "2.7.6"
  }
 },
 "nbformat": 4,
 "nbformat_minor": 0
}