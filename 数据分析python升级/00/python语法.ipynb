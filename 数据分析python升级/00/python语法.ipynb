{
 "cells": [
  {
   "cell_type": "code",
   "execution_count": null,
   "metadata": {
    "collapsed": true
   },
   "outputs": [],
   "source": []
  },
  {
   "cell_type": "markdown",
   "source": [
    "##### 3、如何用python加载数据 →字典+列表的存储方式\n",
    "1)成功 读取商铺数据.csv\n",
    "文件\n",
    "2）解析数据，存成列表字典格式：[{'var1':value1,'var2':value2,'var3':value3...},...,{}]\n",
    "3)数据清洗：\n",
    "- comment，point两个字段清洗成数字\n",
    "- 清楚字段缺失的数据\n",
    "- commentlist拆分成3个字段，并且清洗成数字\n",
    "\n",
    "\n"
   ],
   "metadata": {
    "collapsed": false
   }
  }
 ],
 "metadata": {
  "kernelspec": {
   "display_name": "${KERNEL_SPEC_DISPLAY_NAME}",
   "language": "${KERNEL_SPEC_LANGUAGE}",
   "name": "${KERNEL_SPEC_NAME}"
  },
  "language_info": {
   "codemirror_mode": {
    "name": "ipython",
    "version": 2
   },
   "file_extension": ".py",
   "mimetype": "text/x-python",
   "name": "python",
   "nbconvert_exporter": "python",
   "pygments_lexer": "ipython2",
   "version": "2.7.6"
  }
 },
 "nbformat": 4,
 "nbformat_minor": 0
}