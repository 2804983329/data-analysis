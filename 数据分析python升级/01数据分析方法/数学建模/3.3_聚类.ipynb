{
 "cells": [
  {
   "cell_type": "code",
   "execution_count": null,
   "metadata": {
    "collapsed": true
   },
   "outputs": [],
   "source": [
    "'''\n",
    "【课程3.4.2】  PCA主成分分析的python实现方法\n",
    "\n",
    "最广泛无监督算法 + 基础的降维算法\n",
    "通过线性变换将原始数据变换为一组各维度线性无关的表示，用于提取数据的主要特征分量 → 高维数据的降维\n",
    "\n",
    "二维数据降维 / 多维数据降维\n",
    "\n",
    "'''"
   ]
  },
  {
   "cell_type": "code",
   "execution_count": null,
   "outputs": [],
   "source": [
    "import numpy as np\n",
    "import pandas as pd\n",
    "import matplotlib.pyplot as plt\n",
    "% matplotlib inline"
   ],
   "metadata": {
    "collapsed": false,
    "pycharm": {
     "name": "#%%\n"
    }
   }
  },
  {
   "cell_type": "code",
   "execution_count": null,
   "outputs": [],
   "source": [
    "# 二维数据降维\n",
    "# 数据创建\n",
    "rng = np.random.RandomState(8)\n",
    "data = np.dot(rng.rand(2,2),rng.randn(2,200)).T\n",
    "df = pd.DataFrame({'X1':data[:,0],\n",
    "                    'X2':data[:,1]})\n",
    "print(df.head())\n",
    "print(df.shape)\n",
    "\n",
    "plt.scatter(df['X1'],df['X2'], alpha = 0.8, marker = '.')\n",
    "plt.axis('equal')\n",
    "plt.grid()\n",
    "# 生成图表"
   ],
   "metadata": {
    "collapsed": false,
    "pycharm": {
     "name": "#%%\n"
    }
   }
  }
 ],
 "metadata": {
  "kernelspec": {
   "display_name": "Python 3",
   "language": "python",
   "name": "python3"
  },
  "language_info": {
   "codemirror_mode": {
    "name": "ipython",
    "version": 2
   },
   "file_extension": ".py",
   "mimetype": "text/x-python",
   "name": "python",
   "nbconvert_exporter": "python",
   "pygments_lexer": "ipython2",
   "version": "2.7.6"
  }
 },
 "nbformat": 4,
 "nbformat_minor": 0
}