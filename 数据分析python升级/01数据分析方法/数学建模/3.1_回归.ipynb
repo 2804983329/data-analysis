{
 "cells": [
  {
   "cell_type": "code",
   "execution_count": null,
   "metadata": {
    "collapsed": true
   },
   "outputs": [],
   "source": [
    "'''\n",
    "【课程3.2.2】  线性回归的python实现方法\n",
    "\n",
    "线性回归通常是人们在学习预测模型时首选的技术之一。在这种技术中，因变量是连续的，自变量可以是连续的也可以是离散的，回归线的性质是线性的。\n",
    "线性回归使用最佳的拟合直线（也就是回归线）在因变量（Y）和一个或多个自变量（X）之间建立一种关系\n",
    "\n",
    "简单线性回归 / 多元线性回归\n",
    "\n",
    "'''"
   ]
  },
  {
   "cell_type": "code",
   "execution_count": null,
   "outputs": [],
   "source": [
    "import numpy as np\n",
    "import pandas as pd\n",
    "import matplotlib.pyplot as plt\n",
    "% matplotlib inline"
   ],
   "metadata": {
    "collapsed": false,
    "pycharm": {
     "name": "#%%\n"
    }
   }
  },
  {
   "cell_type": "code",
   "execution_count": null,
   "outputs": [],
   "source": [
    "# 简单线性回归（一元线性回归）\n",
    "# （1）数据示例\n",
    "\n",
    "from sklearn.linear_model import LinearRegression\n",
    "# 导入线性回归模块\n",
    "\n",
    "rng = np.random.RandomState(1)\n",
    "xtrain = 10 * rng.rand(30)\n",
    "ytrain = 8 + 4 * xtrain + rng.rand(30)\n",
    "# np.random.RandomState → 随机数种子，对于一个随机数发生器，只要该种子（seed）相同，产生的随机数序列就是相同的\n",
    "# 生成随机数据x与y\n",
    "# 样本关系：y = 8 + 4*x\n",
    "\n",
    "fig = plt.figure(figsize =(12,3))\n",
    "ax1 = fig.add_subplot(1,2,1)\n",
    "plt.scatter(xtrain,ytrain,marker = '.',color = 'k')\n",
    "plt.grid()\n",
    "plt.title('样本数据散点图')\n",
    "# 生成散点图\n",
    "\n",
    "model = LinearRegression()\n",
    "model.fit(xtrain[:,np.newaxis],ytrain)\n",
    "# LinearRegression → 线性回归评估器，用于拟合数据得到拟合直线\n",
    "# model.fit(x,y) → 拟合直线，参数分别为x与y\n",
    "# x[:,np.newaxis] → 将数组变成(n,1)形状 行转列\n",
    "\n",
    "xtest = np.linspace(0,10,1000)\n",
    "ytest = model.predict(xtest[:,np.newaxis])\n",
    "# 创建测试数据xtest，并根据拟合曲线求出ytest\n",
    "# model.predict → 预测\n",
    "\n",
    "ax2 = fig.add_subplot(1,2,2)\n",
    "plt.scatter(xtrain,ytrain,marker = '.',color = 'k')\n",
    "plt.plot(xtest,ytest,color = 'r')\n",
    "plt.grid()\n",
    "plt.title('线性回归拟合')\n",
    "# 绘制散点图、线性回归拟合直线"
   ],
   "metadata": {
    "collapsed": false,
    "pycharm": {
     "name": "#%%\n"
    }
   }
  }
 ],
 "metadata": {
  "kernelspec": {
   "display_name": "Python 3",
   "language": "python",
   "name": "python3"
  },
  "language_info": {
   "codemirror_mode": {
    "name": "ipython",
    "version": 2
   },
   "file_extension": ".py",
   "mimetype": "text/x-python",
   "name": "python",
   "nbconvert_exporter": "python",
   "pygments_lexer": "ipython2",
   "version": "2.7.6"
  }
 },
 "nbformat": 4,
 "nbformat_minor": 0
}