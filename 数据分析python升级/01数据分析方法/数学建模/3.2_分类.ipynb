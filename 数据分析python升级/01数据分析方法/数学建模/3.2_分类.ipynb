{
 "cells": [
  {
   "cell_type": "code",
   "execution_count": null,
   "metadata": {
    "collapsed": true
   },
   "outputs": [],
   "source": [
    "'''\n",
    "【课程3.3.2】  最邻近分类的python实现方法\n",
    "\n",
    "在距离空间里，如果一个样本的最接近的k个邻居里，绝大多数属于某个类别，则该样本也属于这个类别\n",
    "\n",
    "电影分类 / 植物分类\n",
    "\n",
    "'''"
   ]
  },
  {
   "cell_type": "code",
   "execution_count": null,
   "outputs": [],
   "source": [
    "import numpy as np\n",
    "import pandas as pd\n",
    "import matplotlib.pyplot as plt\n",
    "% matplotlib inline"
   ],
   "metadata": {
    "collapsed": false,
    "pycharm": {
     "name": "#%%\n"
    }
   }
  },
  {
   "cell_type": "code",
   "execution_count": null,
   "outputs": [],
   "source": [
    "#  案例一：电影数据分类\n",
    "\n",
    "from sklearn import neighbors  # 导入KNN分类模块\n",
    "import warnings\n",
    "warnings.filterwarnings('ignore')\n",
    "# 不发出警告\n",
    "\n",
    "data = pd.DataFrame({'name':['北京遇上西雅图','喜欢你','疯狂动物城','战狼2','力王','敢死队'],\n",
    "                  'fight':[3,2,1,101,99,98],\n",
    "                  'kiss':[104,100,81,10,5,2],\n",
    "                  'type':['Romance','Romance','Romance','Action','Action','Action']})\n",
    "print(data)\n",
    "print('-------')\n",
    "#  创建数据\n",
    "\n",
    "knn = neighbors.KNeighborsClassifier()   # 取得knn分类器\n",
    "knn.fit(data[['fight','kiss']], data['type'])\n",
    "print('预测电影类型为:', knn.predict([18, 90]))\n",
    "# 加载数据，构建KNN分类模型\n",
    "# 预测未知数据\n",
    "\n",
    "plt.scatter(data[data['type'] == 'Romance']['fight'],data[data['type'] == 'Romance']['kiss'],color = 'r',marker = 'o',label = 'Romance')\n",
    "plt.scatter(data[data['type'] == 'Action']['fight'],data[data['type'] == 'Action']['kiss'],color = 'g',marker = 'o',label = 'Action')\n",
    "plt.grid()\n",
    "plt.legend()\n",
    "plt.scatter(18,90,color = 'r',marker = 'x',label = 'Romance')\n",
    "plt.ylabel('kiss')\n",
    "plt.xlabel('fight')\n",
    "plt.text(18,90,'《你的名字》',color = 'r')\n",
    "# 绘制图表"
   ],
   "metadata": {
    "collapsed": false,
    "pycharm": {
     "name": "#%%\n"
    }
   }
  },
  {
   "cell_type": "code",
   "execution_count": null,
   "outputs": [],
   "source": [
    "# 案例一：电影分类\n",
    "# 给随机数据进行模拟预测\n",
    "\n",
    "data2 = pd.DataFrame(np.random.randn(100,2)*50,columns = ['fight','kiss'])\n",
    "data2['type'] = knn.predict(data2)\n",
    "print(data2.head())\n",
    "print('------')\n",
    "# 创建数据，并调用模型预测\n",
    "\n",
    "plt.scatter(data[data['type'] == 'Romance']['fight'],data[data['type'] == 'Romance']['kiss'],color = 'r',marker = 'o',label = 'Romance')\n",
    "plt.scatter(data[data['type'] == 'Action']['fight'],data[data['type'] == 'Action']['kiss'],color = 'g',marker = 'o',label = 'Action')\n",
    "plt.grid()\n",
    "plt.scatter(data2[data2['type'] == 'Romance']['fight'],data2[data2['type'] == 'Romance']['kiss'],color = 'r',marker = 'x',label = 'Romance')\n",
    "plt.scatter(data2[data2['type'] == 'Action']['fight'],data2[data2['type'] == 'Action']['kiss'],color = 'g',marker = 'x',label = 'Action')\n",
    "plt.legend()\n",
    "plt.ylabel('kiss')\n",
    "plt.xlabel('fight')\n",
    "# 绘制图表"
   ],
   "metadata": {
    "collapsed": false,
    "pycharm": {
     "name": "#%%\n"
    }
   }
  },
  {
   "cell_type": "code",
   "execution_count": null,
   "outputs": [],
   "source": [
    "# 案例二：植物分类\n",
    "\n",
    "from sklearn import datasets\n",
    "iris = datasets.load_iris()\n",
    "print(iris.keys())\n",
    "print('数据长度为:%i条' % len(iris['data']))\n",
    "# 导入数据\n",
    "\n",
    "print(iris.feature_names)\n",
    "print(iris.target_names)\n",
    "#print(iris.target)\n",
    "print(iris.data[:5])\n",
    "# 150个实例数据\n",
    "# feature_names - 特征分类：萼片长度，萼片宽度，花瓣长度，花瓣宽度  → sepal length, sepal width, petal length, petal width\n",
    "# 目标类别：Iris setosa, Iris versicolor, Iris virginica."
   ],
   "metadata": {
    "collapsed": false,
    "pycharm": {
     "name": "#%%\n"
    }
   }
  },
  {
   "cell_type": "code",
   "execution_count": null,
   "outputs": [],
   "source": [
    "# 案例二：植物分类\n",
    "\n",
    "df = pd.DataFrame(iris.data, columns = iris.feature_names)  # 将特征值转为Dataframe\n",
    "df['target'] = iris.target\n",
    "ty = pd.DataFrame({'target':[0,1,2],\n",
    "                  'target_names':iris.target_names})\n",
    "df = pd.merge(df, ty, on = 'target')\n",
    "# 数据转换\n",
    "\n",
    "knn = neighbors.KNeighborsClassifier()   # 取得knn分类器\n",
    "knn.fit(iris.data, df['target_names'])\n",
    "# 建立分类模型\n",
    "\n",
    "pre_data = [[0.1, 0.2, 0.3, 0.4]]\n",
    "print('预测结果为:', knn.predict(pre_data))\n",
    "# 预测结果\n",
    "\n",
    "df.head()\n",
    "# 显示数据"
   ],
   "metadata": {
    "collapsed": false,
    "pycharm": {
     "name": "#%%\n"
    }
   }
  }
 ],
 "metadata": {
  "kernelspec": {
   "display_name": "Python 3",
   "language": "python",
   "name": "python3"
  },
  "language_info": {
   "codemirror_mode": {
    "name": "ipython",
    "version": 2
   },
   "file_extension": ".py",
   "mimetype": "text/x-python",
   "name": "python",
   "nbconvert_exporter": "python",
   "pygments_lexer": "ipython2",
   "version": "2.7.6"
  }
 },
 "nbformat": 4,
 "nbformat_minor": 0
}