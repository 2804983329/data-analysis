{
 "cells": [
  {
   "cell_type": "code",
   "execution_count": null,
   "metadata": {
    "collapsed": true
   },
   "outputs": [],
   "source": [
    "'''\n",
    "【课程3.5】  蒙特卡罗模拟\n",
    "\n",
    "蒙特卡罗（Monte Carlo）方法，又称随机抽样或统计试验方法，是以概率和统计理论方法为基础的一种计算方法\n",
    "使用随机数（或更常见的伪随机数）来解决很多计算问题的方法。\n",
    "将所求解的问题同一定的概率模型相联系，用电子计算机实现统计模拟或抽样，以获得问题的近似解。\n",
    "\n",
    "① π的计算\n",
    "② 计算积分 y = x**2\n",
    "③ 排队上厕所问题\n",
    "\n",
    "'''"
   ]
  },
  {
   "cell_type": "code",
   "execution_count": null,
   "outputs": [],
   "source": [
    "import numpy as np\n",
    "import pandas as pd\n",
    "import matplotlib.pyplot as plt\n",
    "% matplotlib inline"
   ],
   "metadata": {
    "collapsed": false,
    "pycharm": {
     "name": "#%%\n"
    }
   }
  },
  {
   "cell_type": "code",
   "execution_count": null,
   "outputs": [],
   "source": [
    "# π的计算\n",
    "\n",
    "from matplotlib.patches import Circle\n",
    "\n",
    "n = 10000\n",
    "# 投点次数\n",
    "\n",
    "r = 1.0           # 半径\n",
    "a, b = (0., 0.)   # 圆心\n",
    "# 圆的信息\n",
    "\n",
    "x_min, x_max = a-r, a+r\n",
    "y_min, y_max = b-r, b+r\n",
    "# 正方形区域边界\n",
    "\n",
    "x = np.random.uniform(x_min, x_max, n) # 均匀分布\n",
    "y = np.random.uniform(y_min, y_max, n)\n",
    "# 在正方形区域内随机投点\n",
    "# numpy.random.uniform(low,high,size) → 从一个均匀分布[low,high)中随机采样，均匀分布\n",
    "\n",
    "d = np.sqrt((x-a)**2 + (y-b)**2)\n",
    "res = sum(np.where(d < r, 1, 0))\n",
    "# 计算点到圆心的距离\n",
    "# 统计落在圆内的点的数目\n",
    "\n",
    "pi = 4 * res / n\n",
    "print('pi: ', pi)\n",
    "# 计算 pi 的近似值 → Monte Carlo方法：用统计值去近似真实值\n",
    "\n",
    "fig = plt.figure(figsize = (6,6))\n",
    "axes = fig.add_subplot(1,1,1)\n",
    "plt.plot(x,y,'ro',markersize = 1)\n",
    "plt.axis('equal')\n",
    "# 制图\n",
    "\n",
    "circle = Circle(xy = (a,b),radius = r, alpha = 0.5 ,color = 'gray')\n",
    "axes.add_patch(circle)\n",
    "plt.grid(True, linestyle = \"--\",linewidth = \"0.8\")\n",
    "plt.show()\n",
    "# 绘制圆形"
   ],
   "metadata": {
    "collapsed": false,
    "pycharm": {
     "name": "#%%\n"
    }
   }
  },
  {
   "cell_type": "code",
   "execution_count": null,
   "outputs": [],
   "source": [
    "# 计算积分 y = x**2\n",
    "\n",
    "n = 10000\n",
    "# 投点次数\n",
    "\n",
    "x_min, x_max = 0.0, 1.0\n",
    "y_min, y_max = 0.0, 1.0\n",
    "# 矩形区域边界\n",
    "\n",
    "x = np.random.uniform(x_min, x_max, n) # 均匀分布\n",
    "y = np.random.uniform(y_min, y_max, n)\n",
    "# 在矩形区域内随机投点\n",
    "\n",
    "def f(x):\n",
    "    return x**2\n",
    "# 创建函数 y = x**2\n",
    "\n",
    "res = sum(np.where(y < f(x), 1, 0))\n",
    "# 统计 落在函数 y=x^2图像下方的点的数目\n",
    "\n",
    "integral = res / n\n",
    "print('integral: ', integral)\n",
    "# 计算 定积分的近似值\n",
    "\n",
    "fig = plt.figure(figsize = (6,6))\n",
    "axes = fig.add_subplot(111)\n",
    "axes.plot(x, y,'ro',markersize = 1)\n",
    "plt.axis('equal')\n",
    "# 绘制散点图\n",
    "\n",
    "xi = np.linspace(0,1,100)\n",
    "yi = xi ** 2\n",
    "plt.plot(xi,yi,'--k')\n",
    "plt.fill_between(xi, yi, 0, color ='gray',alpha=0.5,label='area')\n",
    "plt.grid()\n",
    "# 绘制 y = x**2 面积图"
   ],
   "metadata": {
    "collapsed": false,
    "pycharm": {
     "name": "#%%\n"
    }
   }
  },
  {
   "cell_type": "code",
   "execution_count": null,
   "outputs": [],
   "source": [
    "# 厕所排队问题\n",
    "# 1、两场电影结束时间相隔较长，互不影响；\n",
    "# 2、每场电影结束之后会有20个人想上厕所；\n",
    "# 3、这20个人会在0到10分钟之内全部到达厕所）；\n",
    "# 4、每个人上厕所时间在1-3分钟之间\n",
    "# 首先模拟最简单的情况，也就是厕所只有一个位置，不考虑两人共用的情况则每人必须等上一人出恭完毕方可进行。\n",
    "# 分析：对于每个人都有如下几个参数：\n",
    "# 到达时间 / 等待时间 / 开始上厕所时间 / 结束时间\n",
    "\n",
    "arrivingtime = np.random.uniform(0,10,size = 20)\n",
    "arrivingtime.sort()\n",
    "workingtime = np.random.uniform(1,3,size = 20)\n",
    "# np.random.uniform 随机数：均匀分布的样本值\n",
    "\n",
    "startingtime = [0 for i in range(20)]\n",
    "finishtime = [0 for i in range(20)]\n",
    "waitingtime = [0 for i in range(20)]\n",
    "emptytime = [0 for i in range(20)]\n",
    "# 开始时间都是0\n",
    "\n",
    "#print('arrivingtime\\n',arrivingtime,'\\n')\n",
    "#print('workingtime\\n',workingtime,'\\n')\n",
    "#print('startingtime\\n',startingtime,'\\n')\n",
    "#print('finishtime\\n',finishtime,'\\n')\n",
    "#print('waitingtime\\n',waitingtime,'\\n')\n",
    "#print('emptytime\\n',emptytime,'\\n')\n",
    "print('------')\n",
    "\n",
    "startingtime[0] = arrivingtime[0]  # 第一个人之前没有人，所以开始时间 = 到达时间\n",
    "finishtime[0] = startingtime[0] + workingtime[0]   # 第一个人完成时间 = 开始时间 + “工作”时间\n",
    "waitingtime[0] = startingtime[0]-arrivingtime[0]   # 第一个人不用等待\n",
    "\n",
    "for i in range(1,len(arrivingtime)):\n",
    "    if finishtime[i-1] > arrivingtime[i]:\n",
    "        startingtime[i] = finishtime[i-1]\n",
    "    else:\n",
    "        startingtime[i] = arrivingtime[i]\n",
    "        emptytime[i] = arrivingtime[i] - finishtime[i-1]\n",
    "    finishtime[i] = startingtime[i] + workingtime[i]\n",
    "    waitingtime[i] = startingtime[i] - arrivingtime[i]\n",
    "    print('第%d个人：到达时间 开始时间 “工作”时间 完成时间 等待时间\\n' %i,\n",
    "          arrivingtime[i],\n",
    "          startingtime[i],\n",
    "          workingtime[i],\n",
    "          finishtime[i],\n",
    "          waitingtime[i],\n",
    "         '\\n')\n",
    "print('arerage waiting time is %f' %np.mean(waitingtime))\n",
    "print('------')\n",
    "# 判断：如果下一个人在上一个人完成之前到达，则 开始时间 = 上一个人完成时间，\n",
    "# 否则 开始时间 = 到达时间，且存在空闲时间 = 到达时间 - 上一个人完成时间\n",
    "\n",
    "fig = plt.figure(figsize = (6,4))\n",
    "plt.plot(waitingtime, '-go')\n",
    "plt.grid(True,linestyle='--', color = 'gray',linewidth = '0.8')\n",
    "plt.title('蒙特卡罗模拟 - 排队上厕所问题')\n",
    "plt.show()\n",
    "# 图表绘制"
   ],
   "metadata": {
    "collapsed": false,
    "pycharm": {
     "name": "#%%\n"
    }
   }
  }
 ],
 "metadata": {
  "kernelspec": {
   "display_name": "Python 3",
   "language": "python",
   "name": "python3"
  },
  "language_info": {
   "codemirror_mode": {
    "name": "ipython",
    "version": 2
   },
   "file_extension": ".py",
   "mimetype": "text/x-python",
   "name": "python",
   "nbconvert_exporter": "python",
   "pygments_lexer": "ipython2",
   "version": "2.7.6"
  }
 },
 "nbformat": 4,
 "nbformat_minor": 0
}