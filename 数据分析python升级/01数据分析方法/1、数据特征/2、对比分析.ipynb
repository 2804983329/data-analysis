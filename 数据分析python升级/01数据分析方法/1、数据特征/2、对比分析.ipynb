{
 "cells": [
  {
   "cell_type": "code",
   "execution_count": null,
   "metadata": {
    "collapsed": true
   },
   "outputs": [],
   "source": [
    "'''\n",
    "【课程1.3】  对比分析\n",
    "\n",
    "对比分析 → 两个互相联系的指标进行比较\n",
    "\n",
    "绝对数比较（相减） / 相对数比较（相除）\n",
    "结构分析、比例分析、空间比较分析、动态对比分析\n",
    "\n",
    "'''"
   ]
  },
  {
   "cell_type": "code",
   "execution_count": null,
   "outputs": [],
   "source": [
    "import numpy as np\n",
    "import pandas as pd\n",
    "import matplotlib.pyplot as plt\n",
    "% matplotlib inline"
   ],
   "metadata": {
    "collapsed": false,
    "pycharm": {
     "name": "#%%\n"
    }
   }
  },
  {
   "cell_type": "code",
   "execution_count": null,
   "outputs": [],
   "source": [
    "# 1、绝对数比较 → 相减\n",
    "# 相互对比的指标在量级上不能差别过大\n",
    "# （1）折线图比较\n",
    "# （2）多系列柱状图比较\n",
    "\n",
    "data = pd.DataFrame(np.random.rand(30,2)*1000,\n",
    "                   columns = ['A_sale','B_sale'],\n",
    "                   index = pd.period_range('20170601','20170630'))\n",
    "print(data.head())\n",
    "# 创建数据 → 30天内A/B产品的日销售额\n",
    "\n",
    "data.plot(kind='line',\n",
    "       style = '--.',\n",
    "       alpha = 0.8,\n",
    "       figsize = (10,3),\n",
    "       title = 'AB产品销量对比-折线图')\n",
    "# 折线图比较\n",
    "\n",
    "data.plot(kind = 'bar',\n",
    "          width = 0.8,\n",
    "          alpha = 0.8,\n",
    "          figsize = (10,3),\n",
    "          title = 'AB产品销量对比-柱状图')\n",
    "# 多系列柱状图比较\n",
    "\n"
   ],
   "metadata": {
    "collapsed": false,
    "pycharm": {
     "name": "#%%\n"
    }
   }
  }
 ],
 "metadata": {
  "kernelspec": {
   "display_name": "Python 3",
   "language": "python",
   "name": "python3"
  },
  "language_info": {
   "codemirror_mode": {
    "name": "ipython",
    "version": 2
   },
   "file_extension": ".py",
   "mimetype": "text/x-python",
   "name": "python",
   "nbconvert_exporter": "python",
   "pygments_lexer": "ipython2",
   "version": "2.7.6"
  }
 },
 "nbformat": 4,
 "nbformat_minor": 0
}