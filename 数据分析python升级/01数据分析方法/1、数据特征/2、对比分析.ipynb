{
 "cells": [
  {
   "cell_type": "code",
   "execution_count": null,
   "metadata": {
    "collapsed": true
   },
   "outputs": [],
   "source": [
    "'''\n",
    "【课程1.3】  对比分析\n",
    "\n",
    "对比分析 → 两个互相联系的指标进行比较\n",
    "\n",
    "绝对数比较（相减） / 相对数比较（相除）\n",
    "结构分析、比例分析、空间比较分析、动态对比分析\n",
    "\n",
    "'''"
   ]
  },
  {
   "cell_type": "code",
   "execution_count": null,
   "outputs": [],
   "source": [
    "import numpy as np\n",
    "import pandas as pd\n",
    "import matplotlib.pyplot as plt\n",
    "% matplotlib inline"
   ],
   "metadata": {
    "collapsed": false,
    "pycharm": {
     "name": "#%%\n"
    }
   }
  },
  {
   "cell_type": "code",
   "execution_count": null,
   "outputs": [],
   "source": [
    "# 1、绝对数比较 → 相减\n",
    "# 相互对比的指标在量级上不能差别过大\n",
    "# （1）折线图比较\n",
    "# （2）多系列柱状图比较\n",
    "\n",
    "data = pd.DataFrame(np.random.rand(30,2)*1000,\n",
    "                   columns = ['A_sale','B_sale'],\n",
    "                   index = pd.period_range('20170601','20170630'))\n",
    "print(data.head())\n",
    "# 创建数据 → 30天内A/B产品的日销售额\n",
    "\n",
    "data.plot(kind='line',\n",
    "       style = '--.',\n",
    "       alpha = 0.8,\n",
    "       figsize = (10,3),\n",
    "       title = 'AB产品销量对比-折线图')\n",
    "# 折线图比较\n",
    "\n",
    "data.plot(kind = 'bar',\n",
    "          width = 0.8,\n",
    "          alpha = 0.8,\n",
    "          figsize = (10,3),\n",
    "          title = 'AB产品销量对比-柱状图')\n",
    "# 多系列柱状图比较"
   ],
   "metadata": {
    "collapsed": false,
    "pycharm": {
     "name": "#%%\n"
    }
   }
  },
  {
   "cell_type": "code",
   "execution_count": null,
   "outputs": [],
   "source": [
    "# 1、绝对数比较 → 相减\n",
    "# （3）柱状图堆叠图+差值折线图比较\n",
    "\n",
    "fig3 = plt.figure(figsize=(10,6))\n",
    "plt.subplots_adjust(hspace=0.3)\n",
    "# 创建子图及间隔设置\n",
    "\n",
    "ax1 = fig3.add_subplot(2,1,1)\n",
    "x = range(len(data))\n",
    "y1 = data['A_sale']\n",
    "y2 = -data['B_sale']\n",
    "plt.bar(x,y1,width = 1,facecolor = 'yellowgreen')\n",
    "plt.bar(x,y2,width = 1,facecolor = 'lightskyblue')\n",
    "plt.title('AB产品销量对比-堆叠图')\n",
    "plt.grid()\n",
    "plt.xticks(range(0,30,6))\n",
    "ax1.set_xticklabels(data.index[::6])\n",
    "# 创建堆叠图\n",
    "\n",
    "ax2 = fig3.add_subplot(2,1,2)\n",
    "y3 = data['A_sale']-data['B_sale']\n",
    "plt.plot(x,y3,'--go')\n",
    "plt.axhline(0,hold=None,color='r',linestyle=\"--\",alpha=0.8)  # 添加y轴参考线\n",
    "plt.grid()\n",
    "plt.title('AB产品销量对比-差值折线')\n",
    "plt.xticks(range(0,30,6))\n",
    "ax2.set_xticklabels(data.index[::6])  #添加x轴刻度\n",
    "# 创建差值折线图\n"
   ],
   "metadata": {
    "collapsed": false,
    "pycharm": {
     "name": "#%%\n"
    }
   }
  },
  {
   "cell_type": "code",
   "execution_count": null,
   "outputs": [],
   "source": [
    "# 2、相对数比较 → 相除\n",
    "# 有联系的指标综合计算后的对比，数值为相对数\n",
    "# 结构分析、比例分析、空间比较分析、动态对比分析\n",
    "# （1）结构分析\n",
    "# 在分组基础上，各组总量指标与总体的总量指标对比，计算出各组数量在总量中所占比重\n",
    "# 反映总体的内部结构\n",
    "\n",
    "data = pd.DataFrame({'A_sale':np.random.rand(30)*1000,\n",
    "                    'B_sale':np.random.rand(30)*200},\n",
    "                   index = pd.period_range('20170601','20170630'))\n",
    "print(data.head())\n",
    "print('------')\n",
    "# 创建数据 → 30天内A/B产品的日销售额\n",
    "# A/B产品销售额量级不同\n",
    "\n",
    "data['A_per'] = data['A_sale'] / data['A_sale'].sum()\n",
    "data['B_per'] = data['B_sale'] / data['B_sale'].sum()\n",
    "# 计算出每天的营收占比\n",
    "\n",
    "data['A_per%'] = data['A_per'].apply(lambda x: '%.2f%%' % (x*100))\n",
    "data['B_per%'] = data['B_per'].apply(lambda x: '%.2f%%' % (x*100))\n",
    "# 转换为百分数\n",
    "print(data.head())\n",
    "\n",
    "fig,axes = plt.subplots(2,1,figsize = (10,6),sharex=True)\n",
    "data[['A_sale','B_sale']].plot(kind='line',style = '--.',alpha = 0.8,ax=axes[0])\n",
    "axes[0].legend(loc = 'upper right')\n",
    "data[['A_per','B_per']].plot(kind='line',style = '--.',alpha = 0.8,ax=axes[1])\n",
    "axes[1].legend(loc = 'upper right')\n",
    "# 绝对值对比较难看出结构性变化，通过看销售额占比来看售卖情况的对比\n",
    "\n",
    "# 同时可以反应“强度” → 两个性质不同但有一定联系的总量指标对比，用来说明“强度”、“密度”、“普遍程度”\n",
    "# 例如：国内生产总值“元/人”，人口密度“人/平方公里”"
   ],
   "metadata": {
    "collapsed": false,
    "pycharm": {
     "name": "#%%\n"
    }
   }
  },
  {
   "cell_type": "code",
   "execution_count": null,
   "outputs": [],
   "source": [
    "# 2、相对数比较 → 相除\n",
    "# （2）比例分析\n",
    "# 在分组的基础上，将总体不同部分的指标数值进行对比，其相对指标一般称为“比例相对数”\n",
    "# 比例相对数 = 总体中某一部分数值 / 总体中另一部分数值 → “基本建设投资额中工业、农业、教育投资的比例”、“男女比例”...\n",
    "\n",
    "data = pd.DataFrame({'consumption':np.random.rand(12)*1000 + 2000,\n",
    "                    'salary':np.random.rand(12)*500 + 5000},\n",
    "                   index = pd.period_range('2017/1','2017/12',freq = 'M'))\n",
    "print(data.head())\n",
    "print('------')\n",
    "# 创建数据 → 某人一年内的消费、工资薪水情况\n",
    "# 消费按照2000-3000/月随机，工资按照5000-5500/月随机\n",
    "\n",
    "data['c_s'] = data['consumption'] / data['salary']\n",
    "print(data.head())\n",
    "# 比例相对数 → 消费收入比\n",
    "\n",
    "data['c_s'].plot.area(color = 'green',alpha = 0.5,ylim = [0.3,0.6],figsize=(8,3),grid=True)\n",
    "# 创建面积图表达"
   ],
   "metadata": {
    "collapsed": false,
    "pycharm": {
     "name": "#%%\n"
    }
   }
  }
 ],
 "metadata": {
  "kernelspec": {
   "display_name": "Python 3",
   "language": "python",
   "name": "python3"
  },
  "language_info": {
   "codemirror_mode": {
    "name": "ipython",
    "version": 2
   },
   "file_extension": ".py",
   "mimetype": "text/x-python",
   "name": "python",
   "nbconvert_exporter": "python",
   "pygments_lexer": "ipython2",
   "version": "2.7.6"
  }
 },
 "nbformat": 4,
 "nbformat_minor": 0
}