{
 "cells": [
  {
   "cell_type": "code",
   "execution_count": null,
   "metadata": {
    "collapsed": true
   },
   "outputs": [],
   "source": [
    "'''\n",
    "【课程1.2】  分布分析\n",
    "\n",
    "分布分析 → 研究数据的分布特征和分布类型，分定量数据、定性数据区分基本统计量\n",
    "\n",
    "极差 / 频率分布情况 / 分组组距及组数\n",
    "\n",
    "'''"
   ]
  },
  {
   "cell_type": "code",
   "execution_count": 1,
   "outputs": [
    {
     "name": "stderr",
     "output_type": "stream",
     "text": [
      "UsageError: Line magic function `%` not found.\n"
     ]
    }
   ],
   "source": [
    "import numpy as np\n",
    "import pandas as pd\n",
    "import matplotlib.pyplot as plt\n",
    "% matplotlib inline"
   ],
   "metadata": {
    "collapsed": false,
    "pycharm": {
     "name": "#%%\n"
    }
   }
  },
  {
   "cell_type": "code",
   "execution_count": 8,
   "outputs": [
    {
     "name": "stdout",
     "output_type": "stream",
     "text": [
      "-----\n",
      "数据长度为75条\n"
     ]
    },
    {
     "data": {
      "text/plain": "        房屋编码      小区  朝向   房屋单价  参考首付   参考总价          经度         纬度\n0  605093949   大望新平村  南北   5434  15.0   50.0  114.180964  22.603698\n1  605768856     通宝楼  南北   3472   7.5   25.0  114.179298  22.566910\n2  606815561  罗湖区罗芳村  南北   5842  15.6   52.0  114.158869  22.547223\n3  605147285     兴华苑  南北   3829  10.8   36.0  114.158040  22.554343\n4  606030866  京基东方都会  西南  47222  51.0  170.0  114.149243  22.554370",
      "text/html": "<div>\n<style scoped>\n    .dataframe tbody tr th:only-of-type {\n        vertical-align: middle;\n    }\n\n    .dataframe tbody tr th {\n        vertical-align: top;\n    }\n\n    .dataframe thead th {\n        text-align: right;\n    }\n</style>\n<table border=\"1\" class=\"dataframe\">\n  <thead>\n    <tr style=\"text-align: right;\">\n      <th></th>\n      <th>房屋编码</th>\n      <th>小区</th>\n      <th>朝向</th>\n      <th>房屋单价</th>\n      <th>参考首付</th>\n      <th>参考总价</th>\n      <th>经度</th>\n      <th>纬度</th>\n    </tr>\n  </thead>\n  <tbody>\n    <tr>\n      <th>0</th>\n      <td>605093949</td>\n      <td>大望新平村</td>\n      <td>南北</td>\n      <td>5434</td>\n      <td>15.0</td>\n      <td>50.0</td>\n      <td>114.180964</td>\n      <td>22.603698</td>\n    </tr>\n    <tr>\n      <th>1</th>\n      <td>605768856</td>\n      <td>通宝楼</td>\n      <td>南北</td>\n      <td>3472</td>\n      <td>7.5</td>\n      <td>25.0</td>\n      <td>114.179298</td>\n      <td>22.566910</td>\n    </tr>\n    <tr>\n      <th>2</th>\n      <td>606815561</td>\n      <td>罗湖区罗芳村</td>\n      <td>南北</td>\n      <td>5842</td>\n      <td>15.6</td>\n      <td>52.0</td>\n      <td>114.158869</td>\n      <td>22.547223</td>\n    </tr>\n    <tr>\n      <th>3</th>\n      <td>605147285</td>\n      <td>兴华苑</td>\n      <td>南北</td>\n      <td>3829</td>\n      <td>10.8</td>\n      <td>36.0</td>\n      <td>114.158040</td>\n      <td>22.554343</td>\n    </tr>\n    <tr>\n      <th>4</th>\n      <td>606030866</td>\n      <td>京基东方都会</td>\n      <td>西南</td>\n      <td>47222</td>\n      <td>51.0</td>\n      <td>170.0</td>\n      <td>114.149243</td>\n      <td>22.554370</td>\n    </tr>\n  </tbody>\n</table>\n</div>"
     },
     "execution_count": 8,
     "metadata": {},
     "output_type": "execute_result"
    },
    {
     "data": {
      "text/plain": "<Figure size 432x288 with 1 Axes>",
      "image/png": "[encoded data removed]"
     },
     "metadata": {
      "needs_background": "light"
     },
     "output_type": "display_data"
    }
   ],
   "source": [
    "# 数据读取\n",
    "#data = pd.read_csv('')\n",
    "data = pd.read_csv(r'E:\\视频qyp\\【瑞客论坛 www.ruike1.com】网易云课堂 数据分析师Python进阶（完结）\\00-0 QQ群资料\\【非常重要】课程资料\\CLASSDATA_ch04进阶算法学习：统计分析能力强化\\CH01数据特征分析\\深圳罗湖二手房信息.csv',engine = 'python')\n",
    "#print(data)\n",
    "plt.scatter(data['经度'],data['纬度'],\n",
    "            s = data['房屋单价']/500,\n",
    "            c = data['参考总价'],\n",
    "            alpha = 0.8, cmap = 'Reds')\n",
    "plt.grid()\n",
    "print('-----\\n数据长度为%i条' % len(data))\n",
    "data.head()\n",
    "\n",
    "# 通过数据可见，一共8个字段\n",
    "# 定量字段：房屋单价，参考首付，参考总价，*经度，*纬度，*房屋编码\n",
    "# 定性字段：小区，朝向"
   ],
   "metadata": {
    "collapsed": false,
    "pycharm": {
     "name": "#%%\n"
    }
   }
  },
  {
   "cell_type": "code",
   "execution_count": null,
   "outputs": [],
   "source": [
    "# 极差：max-min\n",
    "# 只针对定量字段\n",
    "\n",
    "def d_range(df,*cols):\n",
    "    krange = []\n",
    "    for col in cols:\n",
    "        crange = df[col].max() - df[col].min()\n",
    "        krange.append(crange)\n",
    "    return(krange)\n",
    "# 创建函数求极差\n",
    "\n",
    "key1 = '参考首付'\n",
    "key2 = '参考总价'\n",
    "dr = d_range(data,key1,key2)\n",
    "print('%s极差为 %f \\n%s极差为 %f' % (key1, dr[0], key2, dr[1]))\n",
    "# 求出数据对应列的极差\n"
   ],
   "metadata": {
    "collapsed": false,
    "pycharm": {
     "name": "#%%\n"
    }
   }
  },
  {
   "cell_type": "code",
   "execution_count": null,
   "outputs": [],
   "source": [
    "# 频率分布情况 - 定量字段\n",
    "# ① 通过直方图直接判断分组组数\n",
    "\n",
    "data[key2].hist(bins=10)\n",
    "# 简单查看数据分布，确定分布组数 → 一般8-16即可\n",
    "# 这里以10组为参考"
   ],
   "metadata": {
    "collapsed": false,
    "pycharm": {
     "name": "#%%\n"
    }
   }
  },
  {
   "cell_type": "code",
   "execution_count": null,
   "outputs": [],
   "source": [
    "# 频率分布情况 - 定量字段\n",
    "# ② 求出分组区间\n",
    "\n",
    "gcut = pd.cut(data[key2],10,right=False)\n",
    "gcut_count = gcut.value_counts(sort=False)  # 不排序\n",
    "data['%s分组区间' % key2] = gcut.values\n",
    "print(gcut.head(),'\\n------')\n",
    "print(gcut_count)\n",
    "data.head()\n",
    "# pd.cut(x, bins, right)：按照组数对x分组，且返回一个和x同样长度的分组dataframe，right → 是否右边包含，默认True\n",
    "# 通过groupby查看不同组的数据频率分布\n",
    "# 给源数据data添加“分组区间”列"
   ],
   "metadata": {
    "collapsed": false,
    "pycharm": {
     "name": "#%%\n"
    }
   }
  },
  {
   "cell_type": "code",
   "execution_count": null,
   "outputs": [],
   "source": [
    "# 频率分布情况 - 定量字段\n",
    "# ③  求出目标字段下频率分布的其他统计量 → 频数，频率，累计频率\n",
    "\n",
    "r_zj = pd.DataFrame(gcut_count)\n",
    "r_zj.rename(columns ={gcut_count.name:'频数'}, inplace = True)  # 修改频数字段名\n",
    "r_zj['频率'] = r_zj / r_zj['频数'].sum()  # 计算频率\n",
    "r_zj['累计频率'] = r_zj['频率'].cumsum()  # 计算累计频率\n",
    "r_zj['频率%'] = r_zj['频率'].apply(lambda x: \"%.2f%%\" % (x*100))  # 以百分比显示频率\n",
    "r_zj['累计频率%'] = r_zj['累计频率'].apply(lambda x: \"%.2f%%\" % (x*100))  # 以百分比显示累计频率\n",
    "r_zj.style.bar(subset=['频率','累计频率'], color='green',width=100)\n",
    "# 可视化显示"
   ],
   "metadata": {
    "collapsed": false,
    "pycharm": {
     "name": "#%%\n"
    }
   }
  },
  {
   "cell_type": "code",
   "execution_count": null,
   "outputs": [],
   "source": [
    "# 频率分布情况 - 定性字段\n",
    "# ④ 绘制频率直方图\n",
    "\n",
    "r_zj['频率'].plot(kind = 'bar',\n",
    "                 width = 0.8,\n",
    "                 figsize = (12,2),\n",
    "                 rot = 0,\n",
    "                 color = 'k',\n",
    "                 grid = True,\n",
    "                 alpha = 0.5)\n",
    "plt.title('参考总价分布频率直方图')\n",
    "# 绘制直方图\n",
    "\n",
    "x = len(r_zj)\n",
    "y = r_zj['频率']\n",
    "m = r_zj['频数']\n",
    "for i,j,k in zip(range(x),y,m):\n",
    "    plt.text(i-0.1,j+0.01,'%i' % k, color = 'k')\n",
    "# 添加频数标签"
   ],
   "metadata": {
    "collapsed": false,
    "pycharm": {
     "name": "#%%\n"
    }
   }
  },
  {
   "cell_type": "code",
   "execution_count": null,
   "outputs": [],
   "source": [
    "# 频率分布情况 - 定性字段\n",
    "# ① 通过计数统计判断不同类别的频率\n",
    "\n",
    "cx_g = data['朝向'].value_counts(sort=True)\n",
    "print(cx_g)\n",
    "# 统计频率\n",
    "\n",
    "r_cx = pd.DataFrame(cx_g)\n",
    "r_cx.rename(columns ={cx_g.name:'频数'}, inplace = True)  # 修改频数字段名\n",
    "r_cx['频率'] = r_cx / r_cx['频数'].sum()  # 计算频率\n",
    "r_cx['累计频率'] = r_cx['频率'].cumsum()  # 计算累计频率\n",
    "r_cx['频率%'] = r_cx['频率'].apply(lambda x: \"%.2f%%\" % (x*100))  # 以百分比显示频率\n",
    "r_cx['累计频率%'] = r_cx['累计频率'].apply(lambda x: \"%.2f%%\" % (x*100))  # 以百分比显示累计频率\n",
    "r_cx.style.bar(subset=['频率','累计频率'], color='#d65f5f',width=100)\n",
    "# 可视化显示"
   ],
   "metadata": {
    "collapsed": false,
    "pycharm": {
     "name": "#%%\n"
    }
   }
  },
  {
   "cell_type": "code",
   "execution_count": null,
   "outputs": [],
   "source": [
    "# 频率分布情况 - 定量字段\n",
    "# ② 绘制频率直方图、饼图\n",
    "\n",
    "plt.figure(num = 1,figsize = (12,2))\n",
    "r_cx['频率'].plot(kind = 'bar',\n",
    "                 width = 0.8,\n",
    "                 rot = 0,\n",
    "                 color = 'k',\n",
    "                 grid = True,\n",
    "                 alpha = 0.5)\n",
    "plt.title('参考总价分布频率直方图')\n",
    "# 绘制直方图\n",
    "\n",
    "plt.figure(num = 2)\n",
    "plt.pie(r_cx['频数'],\n",
    "       labels = r_cx.index,\n",
    "       autopct='%.2f%%',\n",
    "       shadow = True)\n",
    "plt.axis('equal')\n",
    "# 绘制饼图\n"
   ],
   "metadata": {
    "collapsed": false,
    "pycharm": {
     "name": "#%%\n"
    }
   }
  }
 ],
 "metadata": {
  "kernelspec": {
   "display_name": "Python 3",
   "language": "python",
   "name": "python3"
  },
  "language_info": {
   "codemirror_mode": {
    "name": "ipython",
    "version": 2
   },
   "file_extension": ".py",
   "mimetype": "text/x-python",
   "name": "python",
   "nbconvert_exporter": "python",
   "pygments_lexer": "ipython2",
   "version": "2.7.6"
  }
 },
 "nbformat": 4,
 "nbformat_minor": 0
}