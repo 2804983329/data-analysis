{
 "cells": [
  {
   "cell_type": "code",
   "execution_count": null,
   "metadata": {
    "collapsed": true
   },
   "outputs": [],
   "source": [
    "'''\n",
    "【课程1.2】  分布分析\n",
    "\n",
    "分布分析 → 研究数据的分布特征和分布类型，分定量数据、定性数据区分基本统计量\n",
    "\n",
    "极差 / 频率分布情况 / 分组组距及组数\n",
    "\n",
    "'''"
   ]
  },
  {
   "cell_type": "code",
   "execution_count": null,
   "outputs": [],
   "source": [
    "import numpy as np\n",
    "import pandas as pd\n",
    "import matplotlib.pyplot as plt\n",
    "% matplotlib inline"
   ],
   "metadata": {
    "collapsed": false,
    "pycharm": {
     "name": "#%%\n"
    }
   }
  },
  {
   "cell_type": "code",
   "execution_count": null,
   "outputs": [],
   "source": [
    "# 数据读取\n",
    "\n",
    "data = pd.read_csv('C:/Users/Hjx/Desktop/深圳罗湖二手房信息.csv',engine = 'python')\n",
    "plt.scatter(data['经度'],data['纬度'],  # 按照经纬度显示\n",
    "            s = data['房屋单价']/500,  # 按照单价显示大小\n",
    "            c = data['参考总价'],  # 按照总价显示颜色\n",
    "            alpha = 0.4, cmap = 'Reds')\n",
    "plt.grid()\n",
    "print(data.dtypes)\n",
    "print('-------\\n数据长度为%i条' % len(data))\n",
    "data.head()\n",
    "# 通过数据可见，一共8个字段\n",
    "# 定量字段：房屋单价，参考首付，参考总价，*经度，*纬度，*房屋编码\n",
    "# 定性字段：小区，朝向"
   ],
   "metadata": {
    "collapsed": false,
    "pycharm": {
     "name": "#%%\n"
    }
   }
  },
  {
   "cell_type": "code",
   "execution_count": null,
   "outputs": [],
   "source": [
    "# 极差：max-min\n",
    "# 只针对定量字段\n",
    "\n",
    "def d_range(df,*cols):\n",
    "    krange = []\n",
    "    for col in cols:\n",
    "        crange = df[col].max() - df[col].min()\n",
    "        krange.append(crange)\n",
    "    return(krange)\n",
    "# 创建函数求极差\n",
    "\n",
    "key1 = '参考首付'\n",
    "key2 = '参考总价'\n",
    "dr = d_range(data,key1,key2)\n",
    "print('%s极差为 %f \\n%s极差为 %f' % (key1, dr[0], key2, dr[1]))\n",
    "# 求出数据对应列的极差\n",
    "\n"
   ],
   "metadata": {
    "collapsed": false,
    "pycharm": {
     "name": "#%%\n"
    }
   }
  }
 ],
 "metadata": {
  "kernelspec": {
   "display_name": "Python 3",
   "language": "python",
   "name": "python3"
  },
  "language_info": {
   "codemirror_mode": {
    "name": "ipython",
    "version": 2
   },
   "file_extension": ".py",
   "mimetype": "text/x-python",
   "name": "python",
   "nbconvert_exporter": "python",
   "pygments_lexer": "ipython2",
   "version": "2.7.6"
  }
 },
 "nbformat": 4,
 "nbformat_minor": 0
}