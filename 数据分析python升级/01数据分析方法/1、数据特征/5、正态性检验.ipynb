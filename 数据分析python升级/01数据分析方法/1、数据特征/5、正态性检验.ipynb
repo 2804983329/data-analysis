{
 "cells": [
  {
   "cell_type": "code",
   "execution_count": null,
   "metadata": {
    "collapsed": true
   },
   "outputs": [],
   "source": [
    "'''\n",
    "【课程1.6】  正太性检验\n",
    "\n",
    "利用观测数据判断总体是否服从正态分布的检验称为正态性检验，它是统计判决中重要的一种特殊的拟合优度假设检验。\n",
    "\n",
    "直方图初判 / QQ图判断 / K-S检验\n",
    "\n",
    "'''"
   ]
  },
  {
   "cell_type": "code",
   "execution_count": null,
   "outputs": [],
   "source": [
    "import numpy as np\n",
    "import pandas as pd\n",
    "import matplotlib.pyplot as plt\n",
    "% matplotlib inline"
   ],
   "metadata": {
    "collapsed": false,
    "pycharm": {
     "name": "#%%\n"
    }
   }
  },
  {
   "cell_type": "code",
   "execution_count": null,
   "outputs": [],
   "source": [
    "# 直方图初判\n",
    "\n",
    "s = pd.DataFrame(np.random.randn(1000)+10,columns = ['value'])\n",
    "print(s.head())\n",
    "# 创建随机数据\n",
    "\n",
    "fig = plt.figure(figsize = (10,6))\n",
    "ax1 = fig.add_subplot(2,1,1)  # 创建子图1\n",
    "ax1.scatter(s.index, s.values)\n",
    "plt.grid()\n",
    "# 绘制数据分布图\n",
    "\n",
    "ax2 = fig.add_subplot(2,1,2)  # 创建子图2\n",
    "s.hist(bins=30,alpha = 0.5,ax = ax2)\n",
    "s.plot(kind = 'kde', secondary_y=True,ax = ax2)\n",
    "plt.grid()\n",
    "# 绘制直方图\n",
    "# 呈现较明显的正太性\n"
   ],
   "metadata": {
    "collapsed": false,
    "pycharm": {
     "name": "#%%\n"
    }
   }
  },
  {
   "cell_type": "code",
   "execution_count": null,
   "outputs": [],
   "source": [
    "# QQ图判断\n",
    "# QQ图通过把测试样本数据的分位数与已知分布相比较，从而来检验数据的分布情况\n",
    "\n",
    "# QQ图是一种散点图，对应于正态分布的QQ图，就是由标准正态分布的分位数为横坐标，样本值为纵坐标的散点图\n",
    "# 参考直线：四分之一分位点和四分之三分位点这两点确定，看散点是否落在这条线的附近\n",
    "\n",
    "# 绘制思路\n",
    "# ① 在做好数据清洗后，对数据进行排序（次序统计量：x(1)<x(2)<....<x(n)）\n",
    "# ② 排序后，计算出每个数据对应的百分位p{i}，即第i个数据x(i)为p(i)分位数，其中p(i)=(i-0.5)/n （pi有多重算法，这里以最常用方法为主）\n",
    "# ③ 绘制直方图 + qq图，直方图作为参考\n",
    "\n",
    "s = pd.DataFrame(np.random.randn(1000)+10,columns = ['value'])\n",
    "print(s.head())\n",
    "# 创建随机数据\n",
    "\n",
    "mean = s['value'].mean()\n",
    "std = s['value'].std()\n",
    "print('均值为：%.2f，标准差为：%.2f' % (mean,std))\n",
    "print('------')\n",
    "#  计算均值，标准差\n",
    "\n",
    "s.sort_values(by = 'value', inplace = True)  # 重新排序\n",
    "s_r = s.reset_index(drop = False)  # 重新排序后，更新index\n",
    "s_r['p'] = (s_r.index - 0.5) / len(s_r)\n",
    "s_r['q'] = (s_r['value'] - mean) / std\n",
    "print(s_r.head())\n",
    "print('------')\n",
    "# 计算百分位数 p(i)\n",
    "# 计算q值\n",
    "\n",
    "st = s['value'].describe()\n",
    "x1 ,y1 = 0.25, st['25%']\n",
    "x2 ,y2 = 0.75, st['75%']\n",
    "print('四分之一位数为：%.2f，四分之三位数为：%.2f' % (y1,y2))\n",
    "print('------')\n",
    "# 计算四分之一位数、四分之三位数\n",
    "\n",
    "fig = plt.figure(figsize = (10,9))\n",
    "ax1 = fig.add_subplot(3,1,1)  # 创建子图1\n",
    "ax1.scatter(s.index, s.values)\n",
    "plt.grid()\n",
    "# 绘制数据分布图\n",
    "\n",
    "ax2 = fig.add_subplot(3,1,2)  # 创建子图2\n",
    "s.hist(bins=30,alpha = 0.5,ax = ax2)\n",
    "s.plot(kind = 'kde', secondary_y=True,ax = ax2)\n",
    "plt.grid()\n",
    "# 绘制直方图\n",
    "\n",
    "ax3 = fig.add_subplot(3,1,3)  # 创建子图3\n",
    "ax3.plot(s_r['q'],s_r['value'],'k.',alpha = 0.1)\n",
    "plt.grid()\n",
    "# 绘制QQ图，直线为四分之一位数、四分之三位数的连线，基本符合正态分布\n",
    "\n",
    "s_r.head()\n"
   ],
   "metadata": {
    "collapsed": false,
    "pycharm": {
     "name": "#%%\n"
    }
   }
  }
 ],
 "metadata": {
  "kernelspec": {
   "display_name": "Python 3",
   "language": "python",
   "name": "python3"
  },
  "language_info": {
   "codemirror_mode": {
    "name": "ipython",
    "version": 2
   },
   "file_extension": ".py",
   "mimetype": "text/x-python",
   "name": "python",
   "nbconvert_exporter": "python",
   "pygments_lexer": "ipython2",
   "version": "2.7.6"
  }
 },
 "nbformat": 4,
 "nbformat_minor": 0
}