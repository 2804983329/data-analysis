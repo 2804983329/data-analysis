{
 "cells": [
  {
   "cell_type": "code",
   "execution_count": null,
   "metadata": {
    "collapsed": true
   },
   "outputs": [],
   "source": [
    "'''\n",
    "【课程1.4】  统计分析\n",
    "\n",
    "统计指标对定量数据进行统计描述，常从集中趋势和离中趋势两个方面进行分析\n",
    "\n",
    "集中趋势度量 / 离中趋势度量\n",
    "\n",
    "'''"
   ]
  },
  {
   "cell_type": "code",
   "execution_count": null,
   "outputs": [],
   "source": [
    "import numpy as np\n",
    "import pandas as pd\n",
    "import matplotlib.pyplot as plt\n",
    "% matplotlib inline"
   ],
   "metadata": {
    "collapsed": false,
    "pycharm": {
     "name": "#%%\n"
    }
   }
  },
  {
   "cell_type": "code",
   "execution_count": null,
   "outputs": [],
   "source": [
    "# 1、集中趋势度量\n",
    "# 指一组数据向某一中心靠拢的倾向，核心在于寻找数据的代表值或中心值 —— 统计平均数\n",
    "# 算数平均数、位置平均数\n",
    "# （1）算数平均数\n",
    "\n",
    "data = pd.DataFrame({'value':np.random.randint(100,120,100),\n",
    "                    'f':np.random.rand(100)})\n",
    "data['f'] = data['f'] / data['f'].sum()  # f为权重，这里将f列设置成总和为1的权重占比\n",
    "print(data.head())\n",
    "print('------')\n",
    "# 创建数据\n",
    "\n",
    "mean = data['value'].mean()\n",
    "print('简单算数平均值为：%.2f' % mean)\n",
    "# 简单算数平均值 = 总和 / 样本数量 （不涉及权重）\n",
    "\n",
    "mean_w = (data['value'] * data['f']).sum() / data['f'].sum()\n",
    "print('加权算数平均值为：%.2f' % mean_w)\n",
    "# 加权算数平均值 = (x1f1 + x2f2 + ... + xnfn) / (f1 + f2 + ... + fn)"
   ],
   "metadata": {
    "collapsed": false,
    "pycharm": {
     "name": "#%%\n"
    }
   }
  },
  {
   "cell_type": "code",
   "execution_count": null,
   "outputs": [],
   "source": [
    "# 1、集中趋势度量\n",
    "# （2）位置平均数\n",
    "\n",
    "m = data['value'].mode()\n",
    "print('众数为',m.tolist())\n",
    "# 众数是一组数据中出现次数最多的数，这里可能返回多个值\n",
    "\n",
    "med = data['value'].median()\n",
    "print('中位数为%i' % med)\n",
    "# 中位数指将总体各单位标志按照大小顺序排列后，中间位置的数字\n",
    "\n",
    "data['value'].plot(kind = 'kde',style = '--k',grid = True)\n",
    "# 密度曲线\n",
    "\n",
    "plt.axvline(mean,hold=None,color='r',linestyle=\"--\",alpha=0.8)\n",
    "plt.text(mean + 5,0.005,'简单算数平均值为：%.2f' % mean, color = 'r')\n",
    "# 简单算数平均值\n",
    "\n",
    "plt.axvline(mean_w,hold=None,color='b',linestyle=\"--\",alpha=0.8)\n",
    "plt.text(mean + 5,0.01,'加权算数平均值：%.2f' % mean_w, color = 'b')\n",
    "# 加权算数平均值\n",
    "\n",
    "plt.axvline(med,hold=None,color='g',linestyle=\"--\",alpha=0.8)\n",
    "plt.text(mean + 5,0.015,'中位数：%i' % med, color = 'g')\n",
    "# 中位数\n",
    "# **这里三个数text显示的横坐标一致，目的是图示效果不拥挤\n"
   ],
   "metadata": {
    "collapsed": false,
    "pycharm": {
     "name": "#%%\n"
    }
   }
  }
 ],
 "metadata": {
  "kernelspec": {
   "display_name": "Python 3",
   "language": "python",
   "name": "python3"
  },
  "language_info": {
   "codemirror_mode": {
    "name": "ipython",
    "version": 2
   },
   "file_extension": ".py",
   "mimetype": "text/x-python",
   "name": "python",
   "nbconvert_exporter": "python",
   "pygments_lexer": "ipython2",
   "version": "2.7.6"
  }
 },
 "nbformat": 4,
 "nbformat_minor": 0
}