{
 "cells": [
  {
   "cell_type": "code",
   "execution_count": null,
   "outputs": [],
   "source": [
    "'''\n",
    "【课程2.3】  数据归一化/标准化\n",
    "\n",
    " 数据的标准化（normalization）是将数据按比例缩放，使之落入一个小的特定区间。\n",
    " 在某些比较和评价的指标处理中经常会用到，去除数据的单位限制，将其转化为无量纲的纯数值，便于不同单位或量级的指标能够进行比较和加权\n",
    "\n",
    "最典型的就是数据的归一化处理，即将数据统一映射到[0,1]区间上\n",
    "\n",
    "0-1标准化 / Z-score标准化\n",
    "\n",
    "'''"
   ],
   "metadata": {
    "collapsed": false,
    "pycharm": {
     "name": "#%%\n"
    }
   }
  },
  {
   "cell_type": "code",
   "execution_count": null,
   "outputs": [],
   "source": [
    "import numpy as np\n",
    "import pandas as pd\n",
    "import matplotlib.pyplot as plt\n",
    "% matplotlib inline"
   ],
   "metadata": {
    "collapsed": false,
    "pycharm": {
     "name": "#%%\n"
    }
   }
  },
  {
   "cell_type": "code",
   "execution_count": null,
   "outputs": [],
   "source": [
    "# 数据标准化\n",
    "# （1）0-1标准化\n",
    "# 将数据的最大最小值记录下来，并通过Max-Min作为基数（即Min=0，Max=1）进行数据的归一化处理\n",
    "# x = (x - Min) / (Max - Min)\n",
    "\n",
    "df = pd.DataFrame({\"value1\":np.random.rand(10)*20,\n",
    "                  'value2':np.random.rand(10)*100})\n",
    "print(df.head())\n",
    "print('------')\n",
    "# 创建数据\n",
    "\n",
    "def data_norm(df,*cols):\n",
    "    df_n = df.copy()\n",
    "    for col in cols:\n",
    "        ma = df_n[col].max()\n",
    "        mi = df_n[col].min()\n",
    "        df_n[col + '_n'] = (df_n[col] - mi) / (ma - mi)\n",
    "    return(df_n)\n",
    "# 创建函数，标准化数据\n",
    "\n",
    "df_n = data_norm(df,'value1','value2')\n",
    "print(df_n.head())\n",
    "# 标准化数据"
   ],
   "metadata": {
    "collapsed": false,
    "pycharm": {
     "name": "#%%\n"
    }
   }
  },
  {
   "cell_type": "code",
   "execution_count": null,
   "outputs": [],
   "source": [
    "# 数据标准化\n",
    "# （2）Z-score标准化\n",
    "# Z分数（z-score）,是一个分数与平均数的差再除以标准差的过程 → z=(x-μ)/σ，其中x为某一具体分数，μ为平均数，σ为标准差\n",
    "# Z值的量代表着原始分数和母体平均值之间的距离，是以标准差为单位计算。在原始分数低于平均值时Z则为负数，反之则为正数\n",
    "# 数学意义：一个给定分数距离平均数多少个标准差?\n",
    "\n",
    "df = pd.DataFrame({\"value1\":np.random.rand(10) * 100,\n",
    "                  'value2':np.random.rand(10) * 100})\n",
    "print(df.head())\n",
    "print('------')\n",
    "# 创建数据\n",
    "\n",
    "def data_Znorm(df, *cols):\n",
    "    df_n = df.copy()\n",
    "    for col in cols:\n",
    "        u = df_n[col].mean()\n",
    "        std = df_n[col].std()\n",
    "        df_n[col + '_Zn'] = (df_n[col] - u) / std\n",
    "    return(df_n)\n",
    "# 创建函数，标准化数据\n",
    "\n",
    "df_z = data_Znorm(df,'value1','value2')\n",
    "u_z = df_z['value1_Zn'].mean()\n",
    "std_z = df_z['value1_Zn'].std()\n",
    "print(df_z)\n",
    "print('标准化后value1的均值为:%.2f, 标准差为：%.2f' % (u_z, std_z))\n",
    "# 标准化数据\n",
    "# 经过处理的数据符合标准正态分布，即均值为0，标准差为1\n",
    "\n",
    "# 什么情况用Z-score标准化：\n",
    "# 在分类、聚类算法中，需要使用距离来度量相似性的时候，Z-score表现更好"
   ],
   "metadata": {
    "collapsed": false,
    "pycharm": {
     "name": "#%%\n"
    }
   }
  },
  {
   "cell_type": "code",
   "execution_count": null,
   "outputs": [],
   "source": [
    "# 案例应用\n",
    "# 八类产品的两个指标value1，value2，其中value1权重为0.6，value2权重为0.4\n",
    "# 通过0-1标准化，判断哪个产品综合指标状况最好\n",
    "\n",
    "df = pd.DataFrame({\"value1\":np.random.rand(10) * 30,\n",
    "                  'value2':np.random.rand(10) * 100},\n",
    "                 index = list('ABCDEFGHIJ'))\n",
    "#print(df.head())\n",
    "#print('------')\n",
    "# 创建数据\"\n",
    "\n",
    "df_n1 = data_norm(df,'value1','value2')\n",
    "# 进行标准化处理\n",
    "\n",
    "df_n1['f'] = df_n1['value1_n'] * 0.6 + df_n1['value2_n'] * 0.4\n",
    "df_n1.sort_values(by = 'f',inplace=True,ascending=False)\n",
    "df_n1['f'].plot(kind = 'line', style = '--.k', alpha = 0.8, grid = True)\n",
    "df_n1\n",
    "# 查看综合指标状况"
   ],
   "metadata": {
    "collapsed": false,
    "pycharm": {
     "name": "#%%\n"
    }
   }
  }
 ],
 "metadata": {
  "kernelspec": {
   "display_name": "Python 3",
   "language": "python",
   "name": "python3"
  },
  "language_info": {
   "codemirror_mode": {
    "name": "ipython",
    "version": 2
   },
   "file_extension": ".py",
   "mimetype": "text/x-python",
   "name": "python",
   "nbconvert_exporter": "python",
   "pygments_lexer": "ipython2",
   "version": "2.7.6"
  }
 },
 "nbformat": 4,
 "nbformat_minor": 0
}