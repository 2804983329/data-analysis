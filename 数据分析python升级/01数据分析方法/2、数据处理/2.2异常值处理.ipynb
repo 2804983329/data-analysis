{
 "cells": [
  {
   "cell_type": "code",
   "execution_count": null,
   "metadata": {
    "collapsed": true
   },
   "outputs": [],
   "source": [
    "'''\n",
    "【课程2.2】  异常值处理\n",
    "\n",
    "异常值是指样本中的个别值，其数值明显偏离其余的观测值。\n",
    "异常值也称离群点，异常值的分析也称为离群点的分析\n",
    "\n",
    "异常值分析 → 3σ原则 / 箱型图分析\n",
    "异常值处理方法 → 删除 / 修正填补\n",
    "\n",
    "'''"
   ]
  },
  {
   "cell_type": "code",
   "execution_count": null,
   "outputs": [],
   "source": [
    "import numpy as np\n",
    "import pandas as pd\n",
    "import matplotlib.pyplot as plt\n",
    "from scipy import stats\n",
    "% matplotlib inline"
   ],
   "metadata": {
    "collapsed": false,
    "pycharm": {
     "name": "#%%\n"
    }
   }
  },
  {
   "cell_type": "code",
   "execution_count": null,
   "outputs": [],
   "source": [
    "# 异常值分析\n",
    "# （1）3σ原则：如果数据服从正态分布，异常值被定义为一组测定值中与平均值的偏差超过3倍的值 → p(|x - μ| > 3σ) ≤ 0.003\n",
    "\n",
    "data = pd.Series(np.random.randn(10000)*100)\n",
    "# 创建数据\n",
    "\n",
    "u = data.mean()  # 计算均值\n",
    "std = data.std()  # 计算标准差\n",
    "stats.kstest(data, 'norm', (u, std))\n",
    "print('均值为：%.3f，标准差为：%.3f' % (u,std))\n",
    "print('------')\n",
    "# 正态性检验\n",
    "\n",
    "fig = plt.figure(figsize = (10,6))\n",
    "ax1 = fig.add_subplot(2,1,1)\n",
    "data.plot(kind = 'kde',grid = True,style = '-k',title = '密度曲线')\n",
    "plt.axvline(3*std,hold=None,color='r',linestyle=\"--\",alpha=0.8)\n",
    "plt.axvline(-3*std,hold=None,color='r',linestyle=\"--\",alpha=0.8)\n",
    "# 绘制数据密度曲线\n",
    "\n",
    "ax2 = fig.add_subplot(2,1,2)\n",
    "error = data[np.abs(data - u) > 3*std]\n",
    "data_c = data[np.abs(data - u) <= 3*std]\n",
    "print('异常值共%i条' % len(error))\n",
    "# 筛选出异常值error、剔除异常值之后的数据data_c\n",
    "\n",
    "plt.scatter(data_c.index,data_c,color = 'k',marker='.',alpha = 0.3)\n",
    "plt.scatter(error.index,error,color = 'r',marker='.',alpha = 0.5)\n",
    "plt.xlim([-10,10010])\n",
    "plt.grid()\n",
    "# 图表表达\n",
    "\n"
   ],
   "metadata": {
    "collapsed": false,
    "pycharm": {
     "name": "#%%\n"
    }
   }
  }
 ],
 "metadata": {
  "kernelspec": {
   "display_name": "Python 3",
   "language": "python",
   "name": "python3"
  },
  "language_info": {
   "codemirror_mode": {
    "name": "ipython",
    "version": 2
   },
   "file_extension": ".py",
   "mimetype": "text/x-python",
   "name": "python",
   "nbconvert_exporter": "python",
   "pygments_lexer": "ipython2",
   "version": "2.7.6"
  }
 },
 "nbformat": 4,
 "nbformat_minor": 0
}