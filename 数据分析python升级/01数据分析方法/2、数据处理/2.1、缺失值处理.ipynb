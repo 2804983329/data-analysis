{
 "cells": [
  {
   "cell_type": "code",
   "execution_count": null,
   "metadata": {
    "collapsed": true
   },
   "outputs": [],
   "source": [
    "'''\n",
    "【课程2.1】  缺失值处理\n",
    "\n",
    "数据缺失主要包括记录缺失和字段信息缺失等情况，其对数据分析会有较大影响，导致结果不确定性更加显著\n",
    "\n",
    "缺失值的处理：删除记录 / 数据插补 / 不处理\n",
    "\n",
    "'''"
   ]
  },
  {
   "cell_type": "code",
   "execution_count": null,
   "outputs": [],
   "source": [
    "import numpy as np\n",
    "import pandas as pd\n",
    "import matplotlib.pyplot as plt\n",
    "from scipy import stats\n",
    "% matplotlib inline"
   ],
   "metadata": {
    "collapsed": false,
    "pycharm": {
     "name": "#%%\n"
    }
   }
  },
  {
   "cell_type": "code",
   "execution_count": null,
   "outputs": [],
   "source": [
    "# 判断是否有缺失值数据 - isnull，notnull\n",
    "# isnull：缺失值为True，非缺失值为False\n",
    "# notnull：缺失值为False，非缺失值为True\n",
    "\n",
    "s = pd.Series([12,33,45,23,np.nan,np.nan,66,54,np.nan,99])\n",
    "df = pd.DataFrame({'value1':[12,33,45,23,np.nan,np.nan,66,54,np.nan,99,190],\n",
    "                  'value2':['a','b','c','d','e',np.nan,np.nan,'f','g',np.nan,'g']})\n",
    "# 创建数据\n",
    "\n",
    "print(s.isnull())  # Series直接判断是否是缺失值，返回一个Series\n",
    "print(df.notnull())  # Dataframe直接判断是否是缺失值，返回一个Series\n",
    "print(df['value1'].notnull())  # 通过索引判断\n",
    "print('------')\n",
    "\n",
    "s2 = s[s.isnull() == False]\n",
    "df2 = df[df['value2'].notnull()]    # 注意和 df2 = df[df['value2'].notnull()] ['value1'] 的区别\n",
    "print(s2)\n",
    "print(df2)\n",
    "# 筛选非缺失值"
   ],
   "metadata": {
    "collapsed": false,
    "pycharm": {
     "name": "#%%\n"
    }
   }
  }
 ],
 "metadata": {
  "kernelspec": {
   "display_name": "Python 3",
   "language": "python",
   "name": "python3"
  },
  "language_info": {
   "codemirror_mode": {
    "name": "ipython",
    "version": 2
   },
   "file_extension": ".py",
   "mimetype": "text/x-python",
   "name": "python",
   "nbconvert_exporter": "python",
   "pygments_lexer": "ipython2",
   "version": "2.7.6"
  }
 },
 "nbformat": 4,
 "nbformat_minor": 0
}