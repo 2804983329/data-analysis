{
 "cells": [
  {
   "cell_type": "code",
   "execution_count": null,
   "outputs": [],
   "source": [
    "'''\n",
    "【课程2.4】  数据连续属性离散化\n",
    "\n",
    "连续属性变换成分类属性，即连续属性离散化\n",
    "在数值的取值范围内设定若干个离散划分点，将取值范围划分为一些离散化的区间，最后用不同的符号或整数值代表每个子区间中的数据值\n",
    "\n",
    "等宽法 / 等频法\n",
    "\n",
    "'''"
   ],
   "metadata": {
    "collapsed": false,
    "pycharm": {
     "name": "#%%\n"
    }
   }
  },
  {
   "cell_type": "code",
   "execution_count": null,
   "outputs": [],
   "source": [
    "import numpy as np\n",
    "import pandas as pd\n",
    "import matplotlib.pyplot as plt\n",
    "% matplotlib inline"
   ],
   "metadata": {
    "collapsed": false,
    "pycharm": {
     "name": "#%%\n"
    }
   }
  },
  {
   "cell_type": "code",
   "execution_count": null,
   "outputs": [],
   "source": [
    "# 等宽法 → 将数据均匀划分成n等份，每份的间距相等\n",
    "# cut方法\n",
    "\n",
    "ages=[20,22,25,27,21,23,37,31,61,45,41,32]\n",
    "# 有一组人员年龄数据，希望将这些数据划分为“18到25”,“26到35”,“36到60”,“60以上”几个面元\n",
    "\n",
    "bins = [18,25,35,60,100]\n",
    "cats = pd.cut(ages,bins)\n",
    "print(cats)\n",
    "print(type(cats))\n",
    "print('-------')\n",
    "# 返回的是一个特殊的Categorical对象 → 一组表示面元名称的字符串\n",
    "\n",
    "print(cats.codes, type(cats.codes))  # 0-3对应分组后的四个区间，用代号来注释数据对应区间，结果为ndarray\n",
    "print(cats.categories, type(cats.categories))  # 四个区间，结果为index\n",
    "print(pd.value_counts(cats))  # 按照区间计数\n",
    "print('-------')\n",
    "# cut结果含有一个表示不同分类名称的层级数组以及一个年龄数据进行标号的代号属性\n",
    "\n",
    "print(pd.cut(ages,[18,26,36,61,100],right=False))\n",
    "print('-------')\n",
    "# 通过right函数修改闭端，默认为True\n",
    "\n",
    "group_names=['Youth','YoungAdult','MiddleAged','Senior']\n",
    "print(pd.cut(ages,bins,labels=group_names))\n",
    "print('-------')\n",
    "# 可以设置自己的区间名称，用labels参数\n",
    "\n",
    "df = pd.DataFrame({'ages':ages})\n",
    "group_names=['Youth','YoungAdult','MiddleAged','Senior']\n",
    "s = pd.cut(df['ages'],bins)  # 也可以 pd.cut(df['ages'],5),将数据等分为5份\n",
    "df['label'] = s\n",
    "cut_counts = s.value_counts(sort=False)\n",
    "print(df)\n",
    "print(cut_counts)\n",
    "# 对一个Dataframe数据进行离散化，并计算各个区间的数据计数\n",
    "\n",
    "plt.scatter(df.index,df['ages'],cmap = 'Reds',c = cats.codes)\n",
    "plt.grid()\n",
    "# 用散点图表示，其中颜色按照codes分类\n",
    "# 注意codes是来自于Categorical对象"
   ],
   "metadata": {
    "collapsed": false,
    "pycharm": {
     "name": "#%%\n"
    }
   }
  },
  {
   "cell_type": "code",
   "execution_count": null,
   "outputs": [],
   "source": [
    "# 等频法 → 以相同数量的记录放进每个区间\n",
    "# qcut方法\n",
    "\n",
    "data = np.random.randn(1000)\n",
    "s = pd.Series(data)\n",
    "cats = pd.qcut(s,4)  # 按四分位数进行切割，可以试试 pd.qcut(data,10)\n",
    "print(cats.head())\n",
    "print(pd.value_counts(cats))\n",
    "print('------')\n",
    "# qcut → 根据样本分位数对数据进行面元划分，得到大小基本相等的面元，但并不能保证每个面元含有相同数据个数\n",
    "# 也可以设置自定义的分位数（0到1之间的数值，包含端点） → pd.qcut(data1,[0,0.1,0.5,0.9,1])\n",
    "\n",
    "plt.scatter(s.index,s,cmap = 'Greens',c = pd.qcut(data,4).codes)\n",
    "plt.xlim([0,1000])\n",
    "plt.grid()\n",
    "# 用散点图表示，其中颜色按照codes分类\n",
    "# 注意codes是来自于Categorical对象"
   ],
   "metadata": {
    "collapsed": false,
    "pycharm": {
     "name": "#%%\n"
    }
   }
  }
 ],
 "metadata": {
  "kernelspec": {
   "display_name": "Python 3",
   "language": "python",
   "name": "python3"
  },
  "language_info": {
   "codemirror_mode": {
    "name": "ipython",
    "version": 2
   },
   "file_extension": ".py",
   "mimetype": "text/x-python",
   "name": "python",
   "nbconvert_exporter": "python",
   "pygments_lexer": "ipython2",
   "version": "2.7.6"
  }
 },
 "nbformat": 4,
 "nbformat_minor": 0
}