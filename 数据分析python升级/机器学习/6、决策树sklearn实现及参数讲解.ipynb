{
 "cells": [
  {
   "cell_type": "code",
   "execution_count": null,
   "metadata": {
    "collapsed": true
   },
   "outputs": [],
   "source": [
    "#### 决策树sklearn实现及参数讲解\n"
   ]
  },
  {
   "cell_type": "code",
   "execution_count": null,
   "outputs": [],
   "source": [
    "#数据读取以及xy提取\n",
    "import pandas as pd\n",
    "import matplotlib as plt\n",
    "#样例数据读取\n",
    "df = pd.read_excel('')\n",
    "#根据共线性矩阵,保留与房价相关性最高的日间人口,将夜间人口和夜间20-29岁人口进行比例处理\n",
    "def age_percent(row):\n",
    "    if row['夜间人口'] == 0:\n",
    "        return 0\n",
    "    else:\n",
    "        return row['夜间20-29岁人口']/row['夜间人口']\n",
    "df['per_a20-29'] = df.apply(age_percent,axis=1)\n",
    "df = df.drop(columns=['夜间人口','夜间20-29岁人口'])\n",
    "#再次查看相关性矩阵的热力图\n",
    "price_median = df['房价']median()\n",
    "df['is_high'] = df['房价'].map(lambda x: True if x >= price_median else False)\n",
    "print(df['is_high'].value_counts())\n",
    "#数据集基本情况查看\n",
    "print(df.shape)\n",
    "print(df.dtypes)\n",
    "#划分数据集\n",
    "x = df[['日间人口','夜间人口','夜间20-29岁人口','','','']]\n",
    "print(x.shape)\n",
    "y = df[['is_high']]\n",
    "print(y.shape)"
   ],
   "metadata": {
    "collapsed": false,
    "pycharm": {
     "name": "#%%\n"
    }
   }
  },
  {
   "cell_type": "code",
   "execution_count": null,
   "outputs": [],
   "source": [
    "#构建决策树模型\n",
    "from sklearn.tree import DecisionTreeClassifier\n",
    "#如果是回归问题，就要引入回归模型\n",
    "from sklearn.tree import DecisionTreeRegressor\n",
    "#简历模型\n",
    "clf_tree = DecisionTreeClassifier(criterion='gini',\n",
    "                                  splitter='best',\n",
    "                                  max_depth=3,\n",
    "                                  min_samples_split=2,\n",
    "                                  min_samples_leaf=5,\n",
    "                                  max_features=None,\n",
    "                                  max_leaf_nodes=10,\n",
    "                                  min_impurity_decrease=0.0,\n",
    "                                  min_impurity_split=None,\n",
    "                                  class_weight=None)\n",
    "#训练决策树模型\n",
    "clf_tree.fit()\n",
    "print(clf_tree)"
   ],
   "metadata": {
    "collapsed": false,
    "pycharm": {
     "name": "#%%\n"
    }
   }
  },
  {
   "cell_type": "markdown",
   "source": [
    "决策树参数讲解：\n",
    "criterion：划分算法gini，另外一种是entropy就是信息增益，回归模型可以选择mse或mae\n",
    "splitter：两个选择，best或random\n",
    "max_depth：控制树的深度\n",
    "min_samples_split：任意节点样本数量达到多少的时候就不在分裂\n",
    "min_samples_leaf：每一个叶子上最少的样本数\n",
    "max_features：控制所搜到的特征数量\n",
    "max_leaf_nodes：最大叶节点数量\n",
    "min_impurity_decrease：切分点不纯度最小减少程度\n",
    "min_impurity_split：切分点最小不纯度\n",
    "class_weight：指定样本各类别的权重"
   ],
   "metadata": {
    "collapsed": false,
    "pycharm": {
     "name": "#%% md\n"
    }
   }
  },
  {
   "cell_type": "code",
   "execution_count": null,
   "outputs": [],
   "source": [
    "import graphviz\n",
    "#https://graphviz.gitlab.io/_pages/download/download_windows.html\n",
    "import os\n",
    "os.environ[\"PATH\"] += os.pathsep + '.../graphviz2.38/bin/'\n",
    "from IPython.display import import Image\n",
    "import pydotplus\n",
    "features = ['日间人口','夜间人口','夜间20-29岁人口','','','']\n",
    "classes = ['低价','高价']\n",
    "#定义图像\n",
    "from sklearn import tree\n",
    "tree_graph_data = tree.export_graphviz(clf_tree,\n",
    "                                       feature_names=features,\n",
    "                                       class_names=classes,\n",
    "                                       filled=True,\n",
    "                                       rounded=True)\n",
    "#绘图：\n",
    "tree_graph = pydotplus.graph_from_dot_data(tree_graph_data)\n",
    "Image(tree_graph.create_png())"
   ],
   "metadata": {
    "collapsed": false,
    "pycharm": {
     "name": "#%%\n"
    }
   }
  }
 ],
 "metadata": {
  "kernelspec": {
   "display_name": "Python 3",
   "language": "python",
   "name": "python3"
  },
  "language_info": {
   "codemirror_mode": {
    "name": "ipython",
    "version": 2
   },
   "file_extension": ".py",
   "mimetype": "text/x-python",
   "name": "python",
   "nbconvert_exporter": "python",
   "pygments_lexer": "ipython2",
   "version": "2.7.6"
  }
 },
 "nbformat": 4,
 "nbformat_minor": 0
}