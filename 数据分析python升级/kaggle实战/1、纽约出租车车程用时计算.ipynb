{
 "cells": [
  {
   "cell_type": "code",
   "execution_count": null,
   "metadata": {
    "collapsed": true
   },
   "outputs": [],
   "source": [
    "#%matplotlib inline\n",
    "import pandas as pd\n",
    "from datetime import datetime, date\n",
    "from sklearn.model_selection import train_test_split\n",
    "import xgboost as xgb\n",
    "from sklearn.linear_model import LinearRegression,Ridge,BayesianRidge\n",
    "from sklearn.cluster import Minibatchmeans\n",
    "from sklearn.metrics import mean_squared_error\n",
    "from math import radians, cos, sin, asin, sqrt\n",
    "import seaborn as sns\n",
    "import numpy as np\n",
    "import matplotlib.pyplot as plt\n",
    "plt.rcParams('figure.figsize') = [60,30]\n",
    "from sklearn.cluster import KMeans\n",
    "\n",
    "from sklearn.model_selection import GridSearchCV\n",
    "from sklearn.model_selection import cross_val_score, KFold"
   ]
  },
  {
   "cell_type": "code",
   "execution_count": null,
   "outputs": [],
   "source": [
    "train = pd.read_csv('train.csv',parse_dates = ['pickup_datetime'])\n",
    "test = pd.read_csv('test.csv',parse_dates = ['pickup_datetime'])\n"
   ],
   "metadata": {
    "collapsed": false,
    "pycharm": {
     "name": "#%%\n"
    }
   }
  },
  {
   "cell_type": "code",
   "execution_count": null,
   "outputs": [],
   "source": [
    "print('train shape',train.shape)\n",
    "print('test shape', test.shape)"
   ],
   "metadata": {
    "collapsed": false,
    "pycharm": {
     "name": "#%%\n"
    }
   }
  },
  {
   "cell_type": "code",
   "execution_count": null,
   "outputs": [],
   "source": [
    "print([i for i in train.columns if i not in test.columns])"
   ],
   "metadata": {
    "collapsed": false,
    "pycharm": {
     "name": "#%%\n"
    }
   }
  },
  {
   "cell_type": "markdown",
   "source": [
    "holiday"
   ],
   "metadata": {
    "collapsed": false,
    "pycharm": {
     "name": "#%% md\n"
    }
   }
  },
  {
   "cell_type": "code",
   "execution_count": null,
   "outputs": [],
   "source": [
    "holiday = pd.read_csv('NYC_2016Holidays.csv',seq=';')\n",
    "holiday.head()"
   ],
   "metadata": {
    "collapsed": false,
    "pycharm": {
     "name": "#%%\n"
    }
   }
  },
  {
   "cell_type": "code",
   "execution_count": null,
   "outputs": [],
   "source": [
    "holiday['Date'] = holiday['Date'].apply(lambda x: x + ' 2016')\n",
    "holiday.head()"
   ],
   "metadata": {
    "collapsed": false,
    "pycharm": {
     "name": "#%%\n"
    }
   }
  },
  {
   "cell_type": "code",
   "execution_count": null,
   "outputs": [],
   "source": [
    "holidays = [datetime.strftime(holiday.loc[i,'Date'], '%B %d %Y').date() for i in range(len(holiday))]\n",
    "holidays"
   ],
   "metadata": {
    "collapsed": false,
    "pycharm": {
     "name": "#%%\n"
    }
   }
  },
  {
   "cell_type": "markdown",
   "source": [
    "routes from open ource routing machine"
   ],
   "metadata": {
    "collapsed": false,
    "pycharm": {
     "name": "#%% md\n"
    }
   }
  },
  {
   "cell_type": "code",
   "execution_count": null,
   "outputs": [],
   "source": [
    "fastrout1 = pd.read_csv('fastest_routes_train_part_1.csv',\n",
    "                        usecols = ['id','total_distance','total_travel_time','number_of_steps','step_direction'])\n",
    "fastrout2 = pd.read_csv('fastest_routes_train_part_2.csv',\n",
    "                        usecols = ['id','total_distance','total_travel_time','number_of_steps','step_direction'])\n",
    "fastrout = pd.concat((fastrout1,fastrout2))\n",
    "fastrout.head()\n"
   ],
   "metadata": {
    "collapsed": false,
    "pycharm": {
     "name": "#%%\n"
    }
   }
  },
  {
   "cell_type": "code",
   "execution_count": null,
   "outputs": [],
   "source": [
    "right_turn = []\n",
    "left_turn = []\n",
    "right_turn += list(map(lambda x:x.count('right') - x.count('slight right'),fastrout.step_direction)\n",
    "left_turn += list(map(lambda x:x.count('left') - x.count('slight left'),fastrout.step_direction))\n",
    "\n",
    "osrm_data = fastrout[['id','total_distance','total_travel_time','number_of_steps']]\n",
    "osrm_data = osrm_data.assign(right_steps = right_turn)\n",
    "osrm_data = osrm_data.assign(left_steps = left_turn)\n",
    "osrm_data.head()"
   ],
   "metadata": {
    "collapsed": false,
    "pycharm": {
     "name": "#%%\n"
    }
   }
  },
  {
   "cell_type": "code",
   "execution_count": null,
   "outputs": [],
   "source": [
    "osrm_test = pd.read_csv('fastest_rotes_test.csv')\n",
    "right_turn = list(map(lambda x:x.count('right') - x.count('slight right'),osrm_test.step_direction)\n",
    "left_turn = list(map(lambda x:x.count('left') - x.count('slight left'),osrm_test.step_direction))\n",
    "\n",
    "osrm_test = osrm_test[['id','total_distance','total_travel_time','number_of_steps']]\n",
    "osrm_test = osrm_test.assign(right_steps = right_turn)\n",
    "osrm_test = osrm_test.assign(left_steps = left_turn)\n",
    "osrm_test.head()"
   ],
   "metadata": {
    "collapsed": false,
    "pycharm": {
     "name": "#%%\n"
    }
   }
  },
  {
   "cell_type": "markdown",
   "source": [
    "weather"
   ],
   "metadata": {
    "collapsed": false,
    "pycharm": {
     "name": "#%% md\n"
    }
   }
  },
  {
   "cell_type": "code",
   "execution_count": null,
   "outputs": [],
   "source": [
    "weather = pd.read_csv('KNYC_Motars.csv',paras_dates=['Time'])\n",
    "weather.head()"
   ],
   "metadata": {
    "collapsed": false,
    "pycharm": {
     "name": "#%%\n"
    }
   }
  },
  {
   "cell_type": "markdown",
   "source": [
    "Visualization"
   ],
   "metadata": {
    "collapsed": false,
    "pycharm": {
     "name": "#%% md\n"
    }
   }
  },
  {
   "cell_type": "code",
   "execution_count": null,
   "outputs": [],
   "source": [
    "lonngitude = list(train.pickup_longitude) + list(train.dropoff_longitude)\n",
    "latitude =  list(train.pickup_latitude) + list(train.dropoff_latitude)\n",
    "\n",
    "print(len(train.pickup_longitude),len(train.dropoff_longitude), len(lonngitude))\n",
    "print(len(train.pickup_latitude),len(train.dropoff_latitude), len(latitude))\n",
    "\n",
    "loc_df = pd.DataFrame()\n",
    "loc_df['longitude'] = lonngitude\n",
    "loc_df['latitude'] = latitude\n",
    "loc_df.head()\n"
   ],
   "metadata": {
    "collapsed": false,
    "pycharm": {
     "name": "#%%\n"
    }
   }
  },
  {
   "cell_type": "code",
   "execution_count": null,
   "outputs": [],
   "source": [
    "xlim = [-74.03,-73.77]\n",
    "ylim = [40.63,40.85]\n",
    "\n",
    "print(loc_df.shape)\n",
    "loc_df = loc_df[(loc_df.longtitude > xlim[0]) & (loc_df.longtitude < xlim[1])]\n",
    "loc_df = loc_df[(loc_df.longtitude > xlim[0]) & (loc_df.longtitude < xlim[1])]\n",
    "loc_df = loc_df[(loc_df.latitude > ylim[0]) & (loc_df.latitude < ylim[1])]\n",
    "loc_df = loc_df[(loc_df.latitude > ylim[0]) & (loc_df.latitude < ylim[1])]\n",
    "print(loc_df.shape)\n"
   ],
   "metadata": {
    "collapsed": false,
    "pycharm": {
     "name": "#%%\n"
    }
   }
  },
  {
   "cell_type": "code",
   "execution_count": null,
   "outputs": [],
   "source": [
    "kmeans = KMeans(n_clusters=15, random_state=2, n_init=10).fit(loc_df)\n",
    "loc_df['label'] = kmeans.labels_\n",
    "loc_df.head()"
   ],
   "metadata": {
    "collapsed": false,
    "pycharm": {
     "name": "#%%\n"
    }
   }
  },
  {
   "cell_type": "code",
   "execution_count": null,
   "outputs": [],
   "source": [
    "plt.figure(figsize=(10,10))\n",
    "for label in loc_df.label.unique():\n",
    "    plt.plot(loc_df.longtitude[loc_df.label == label],loc_df.latitude[loc_df.label == label],'.',alpha = 0.3,markersize=)\n",
    "\n",
    "plt.title('Cluster of New York')\n",
    "plt.show()"
   ],
   "metadata": {
    "collapsed": false,
    "pycharm": {
     "name": "#%%\n"
    }
   }
  },
  {
   "cell_type": "markdown",
   "source": [
    "Feature engineering"
   ],
   "metadata": {
    "collapsed": false,
    "pycharm": {
     "name": "#%% md\n"
    }
   }
  },
  {
   "cell_type": "markdown",
   "source": [
    "date feature,including holldays"
   ],
   "metadata": {
    "collapsed": false,
    "pycharm": {
     "name": "#%% md\n"
    }
   }
  },
  {
   "cell_type": "code",
   "execution_count": null,
   "outputs": [],
   "source": [
    "print('train shape',train.shape)\n",
    "print('test shape',test.shape)"
   ],
   "metadata": {
    "collapsed": false,
    "pycharm": {
     "name": "#%%\n"
    }
   }
  },
  {
   "cell_type": "code",
   "execution_count": null,
   "outputs": [],
   "source": [
    "for df in (train,test):\n",
    "    df['year'] = df[pickup_datatime].dt.year\n",
    "    df['month'] = df[pickup_datatime].dt.month\n",
    "    df['day'] = df[pickup_datatime].dt.day\n",
    "    df['hr'] = df[pickup_datatime].dt.hr\n",
    "    df['minute'] = df[pickup_datatime].dt.minute\n",
    "    df['store_and_fwd_flag'] = 1 * (df.store_and_fwd_flag.values =='Y')"
   ],
   "metadata": {
    "collapsed": false,
    "pycharm": {
     "name": "#%%\n"
    }
   }
  },
  {
   "cell_type": "code",
   "execution_count": null,
   "outputs": [],
   "source": [
    "train = train.assign(log_trip_duration - np.log(train.trip_duration+1))"
   ],
   "metadata": {
    "collapsed": false,
    "pycharm": {
     "name": "#%%\n"
    }
   }
  },
  {
   "cell_type": "code",
   "execution_count": null,
   "outputs": [],
   "source": [
    "time_data = pd.DataFrame(index = range(len(train)))\n",
    "time_test = pd.DataFrame(index = range(len(test)))"
   ],
   "metadata": {
    "collapsed": false,
    "pycharm": {
     "name": "#%%\n"
    }
   }
  },
  {
   "cell_type": "code",
   "execution_count": null,
   "outputs": [],
   "source": [
    "def restday(yr,month,day,holidays):\n",
    "    '''\n",
    "    output:\n",
    "        is_rest: a list of Boolean variable indicating if the sample occurred in the rest day.\n",
    "        is_weekend: a list of Boolean variable indicating if the sample occurred in the weekend.\n",
    "    '''\n",
    "    is_rest     =[None]*len(yr)\n",
    "    is_weekend     =[None]*len(yr)\n",
    "    i = 0\n",
    "    for yy,mm,dd in zip(yr,month,day):\n",
    "        is_weekend[i] = date(yy,mm,dd).isoweekday() in (6,7)\n",
    "        is_rest[i] = is_weekend[i] or date(yy,mm,dd) in holidays\n",
    "        i+=1\n",
    "    return is_rest,is_weekend"
   ],
   "metadata": {
    "collapsed": false,
    "pycharm": {
     "name": "#%%\n"
    }
   }
  },
  {
   "cell_type": "code",
   "execution_count": null,
   "outputs": [],
   "source": [
    "rest_day,weekend = testday(train.year,train.month,train.day,holidays)\n",
    "train['rest_day'] = rest_day\n",
    "train['weekend'] = weekend\n",
    "\n",
    "rest_day,weekend = restday(test.year,test.month,test.day,holidays)\n",
    "test['rest_day'] = rest_day\n",
    "test['weekend'] = weekend\n",
    "\n",
    "train['pickup_time'] = train.hr+train.minute/60\n",
    "test['pickup_time'] = test.hr+test.minute/60"
   ],
   "metadata": {
    "collapsed": false,
    "pycharm": {
     "name": "#%%\n"
    }
   }
  },
  {
   "cell_type": "code",
   "execution_count": null,
   "outputs": [],
   "source": [
    "for df in (train,test):\n",
    "\n",
    "    df['hr_categori'] = np.nan\n",
    "    df.loc[(df.rest_day == False) & (df.hr <= 9)&(df.hr >= 7), 'hr_categori'] = \"rush\"\n",
    "    df.loc[(df.rest_day == False) & (df.hr <= 18)&(df.hr >= 16), 'hr_categori'] = \"rush\"\n",
    "    df.loc[(df.rest_day == False) & (df.hr <= 16)&(df.hr >= 9), 'hr_categori'] = \"day\"\n",
    "    df.loc[(df.rest_day == False) & (df.hr <= 7)&(df.hr >= 18), 'hr_categori'] = \"night\"\n",
    "    df.loc[(df.rest_day == True) & (df.hr <= 18)&(df.hr >= 7), 'hr_categori'] = \"day\"\n",
    "    df.loc[(df.rest_day == True) & (df.hr <= 7)&(df.hr >= 10), 'hr_categori'] = \"night\"\n"
   ],
   "metadata": {
    "collapsed": false,
    "pycharm": {
     "name": "#%%\n"
    }
   }
  },
  {
   "cell_type": "code",
   "execution_count": null,
   "outputs": [],
   "source": [
    "#11\n",
    "print('train shape',train.shape)\n",
    "print('test shape', test.shape)"
   ],
   "metadata": {
    "collapsed": false,
    "pycharm": {
     "name": "#%%\n"
    }
   }
  },
  {
   "cell_type": "code",
   "execution_count": null,
   "outputs": [],
   "source": [
    "print([i for i in train.columns if i not in test.columns])"
   ],
   "metadata": {
    "collapsed": false,
    "pycharm": {
     "name": "#%%\n"
    }
   }
  },
  {
   "cell_type": "markdown",
   "source": [
    "distance feature"
   ],
   "metadata": {
    "collapsed": false,
    "pycharm": {
     "name": "#%% md\n"
    }
   }
  },
  {
   "cell_type": "code",
   "execution_count": null,
   "outputs": [],
   "source": [
    "train = train.join(osrm_data.set_index('id'),on='id')"
   ],
   "metadata": {
    "collapsed": false,
    "pycharm": {
     "name": "#%%\n"
    }
   }
  },
  {
   "cell_type": "code",
   "execution_count": null,
   "outputs": [],
   "source": [
    "test = test.join(osrm_test.set_inndex('id'),on='id')"
   ],
   "metadata": {
    "collapsed": false,
    "pycharm": {
     "name": "#%%\n"
    }
   }
  },
  {
   "cell_type": "code",
   "execution_count": null,
   "outputs": [],
   "source": [
    "print('train shape',train.shape)\n",
    "print('test shape',test.shape)"
   ],
   "metadata": {
    "collapsed": false,
    "pycharm": {
     "name": "#%%\n"
    }
   }
  },
  {
   "cell_type": "markdown",
   "source": [
    "weather feature"
   ],
   "metadata": {
    "collapsed": false,
    "pycharm": {
     "name": "#%% md\n"
    }
   }
  },
  {
   "cell_type": "code",
   "execution_count": null,
   "outputs": [],
   "source": [
    "weather['snow'] = 1 * (weather.Events == 'Snow') + 1 * (weather.Events=='fog\\n\\t,\\nSnow')\n",
    "weather['year'] = weather['Time'].dt.year\n",
    "weather['month'] = weather['month'].dt.month\n",
    "weather['day'] = weather['day'].dt.day\n",
    "weather['hr'] = weather['hr'].dt.hour\n",
    "weather = weather[weather['year'] == 2016]['month','day','hr','temp','Precip','snow','Visibility']\n",
    "print(weather.shape)\n",
    "weather.head()"
   ],
   "metadata": {
    "collapsed": false,
    "pycharm": {
     "name": "#%%\n"
    }
   }
  },
  {
   "cell_type": "code",
   "execution_count": null,
   "outputs": [],
   "source": [
    "train = pd.merge(train, weather, on = ['month','day','hr'],how = left)\n",
    "test = pd.merge(test, weather, on = ['month','day','hr'],how = left)"
   ],
   "metadata": {
    "collapsed": false,
    "pycharm": {
     "name": "#%%\n"
    }
   }
  },
  {
   "cell_type": "code",
   "execution_count": null,
   "outputs": [],
   "source": [
    "print('train shape',train.shape)\n",
    "print('test shape',test.shape)"
   ],
   "metadata": {
    "collapsed": false,
    "pycharm": {
     "name": "#%%\n"
    }
   }
  },
  {
   "cell_type": "markdown",
   "source": [
    "clustering and find speed"
   ],
   "metadata": {
    "collapsed": false,
    "pycharm": {
     "name": "#%% md\n"
    }
   }
  },
  {
   "cell_type": "code",
   "execution_count": null,
   "outputs": [],
   "source": [
    "coords = np.vstack((train[['pickup_latiyude','pickip_longitude']],values,\n",
    "                   train[['dropoff_latiyude','dropoff_longitude']],values,\n",
    "                    test[['pickup_latiyude','pickip_longitude']],values,\n",
    "                    test[['dropoff_latiyude','dropoff_longitude']],values,))\n",
    "coords"
   ],
   "metadata": {
    "collapsed": false,
    "pycharm": {
     "name": "#%%\n"
    }
   }
  },
  {
   "cell_type": "code",
   "execution_count": null,
   "outputs": [],
   "source": [
    "sample_ind = np.random.permutation(len(coords))[:1000000]\n",
    "kmeans = MiniBatchKMeans(n_cluster-8, batch_size=10000).fit(coords[sample_ind])"
   ],
   "metadata": {
    "collapsed": false,
    "pycharm": {
     "name": "#%%\n"
    }
   }
  },
  {
   "cell_type": "code",
   "execution_count": null,
   "outputs": [],
   "source": [
    "\n",
    "\n",
    "\n",
    "\n",
    "\n",
    "\n"
   ],
   "metadata": {
    "collapsed": false,
    "pycharm": {
     "name": "#%%\n"
    }
   }
  }
 ],
 "metadata": {
  "kernelspec": {
   "display_name": "Python 3",
   "language": "python",
   "name": "python3"
  },
  "language_info": {
   "codemirror_mode": {
    "name": "ipython",
    "version": 2
   },
   "file_extension": ".py",
   "mimetype": "text/x-python",
   "name": "python",
   "nbconvert_exporter": "python",
   "pygments_lexer": "ipython2",
   "version": "2.7.6"
  }
 },
 "nbformat": 4,
 "nbformat_minor": 0
}