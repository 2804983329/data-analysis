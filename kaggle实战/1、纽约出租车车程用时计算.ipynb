{
 "cells": [
  {
   "cell_type": "code",
   "execution_count": null,
   "metadata": {
    "collapsed": true
   },
   "outputs": [],
   "source": [
    "#%matplotlib inline\n",
    "import pandas as pd\n",
    "from datetime import datetime, date\n",
    "from sklearn.model_selection import train_test_split\n",
    "import xgboost as xgb\n",
    "from sklearn.linear_model import LinearRegression,Ridge,BayesianRidge\n",
    "from sklearn.cluster import Minibatchmeans\n",
    "from sklearn.metrics import mean_squared_error\n",
    "from math import radians, cos, sin, asin, sqrt\n",
    "import seaborn as sns\n",
    "import numpy as np\n",
    "import matplotlib.pyplot as plt\n",
    "plt.rcParams('figure.figsize') = [60,30]\n",
    "from sklearn.cluster import KMeans\n",
    "\n",
    "from sklearn.model_selection import GridSearchCV\n",
    "from sklearn.model_selection import cross_val_score, KFold"
   ]
  },
  {
   "cell_type": "code",
   "execution_count": null,
   "outputs": [],
   "source": [
    "train = pd.read_csv('train.csv',parse_dates = ['pickup_datetime'])\n",
    "test = pd.read_csv('test.csv',parse_dates = ['pickup_datetime'])\n"
   ],
   "metadata": {
    "collapsed": false,
    "pycharm": {
     "name": "#%%\n"
    }
   }
  },
  {
   "cell_type": "code",
   "execution_count": null,
   "outputs": [],
   "source": [
    "print('train shape',train.shape)\n",
    "print('test shape', test.shape)"
   ],
   "metadata": {
    "collapsed": false,
    "pycharm": {
     "name": "#%%\n"
    }
   }
  },
  {
   "cell_type": "code",
   "execution_count": null,
   "outputs": [],
   "source": [
    "print([i for i in train.columns if i not in test.columns])"
   ],
   "metadata": {
    "collapsed": false,
    "pycharm": {
     "name": "#%%\n"
    }
   }
  },
  {
   "cell_type": "markdown",
   "source": [
    "holiday"
   ],
   "metadata": {
    "collapsed": false,
    "pycharm": {
     "name": "#%% md\n"
    }
   }
  },
  {
   "cell_type": "code",
   "execution_count": null,
   "outputs": [],
   "source": [
    "holiday = pd.read_csv('NYC_2016Holidays.csv',seq=';')\n",
    "holiday.head()"
   ],
   "metadata": {
    "collapsed": false,
    "pycharm": {
     "name": "#%%\n"
    }
   }
  },
  {
   "cell_type": "code",
   "execution_count": null,
   "outputs": [],
   "source": [
    "holiday['Date'] = holiday['Date'].apply(lambda x: x + ' 2016')\n",
    "holiday.head()"
   ],
   "metadata": {
    "collapsed": false,
    "pycharm": {
     "name": "#%%\n"
    }
   }
  },
  {
   "cell_type": "code",
   "execution_count": null,
   "outputs": [],
   "source": [
    "holidays = [datetime.strftime(holiday.loc[i,'Date'], '%B %d %Y').date() for i in range(len(holiday))]\n",
    "holidays"
   ],
   "metadata": {
    "collapsed": false,
    "pycharm": {
     "name": "#%%\n"
    }
   }
  },
  {
   "cell_type": "markdown",
   "source": [
    "routes from open ource routing machine"
   ],
   "metadata": {
    "collapsed": false,
    "pycharm": {
     "name": "#%% md\n"
    }
   }
  },
  {
   "cell_type": "code",
   "execution_count": null,
   "outputs": [],
   "source": [
    "fastrout1 = pd.read_csv('fastest_routes_train_part_1.csv',\n",
    "                        usecols = ['id','total_distance','total_travel_time','number_of_steps','step_direction'])\n",
    "fastrout2 = pd.read_csv('fastest_routes_train_part_2.csv',\n",
    "                        usecols = ['id','total_distance','total_travel_time','number_of_steps','step_direction'])\n",
    "fastrout = pd.concat((fastrout1,fastrout2))\n",
    "fastrout.head()\n"
   ],
   "metadata": {
    "collapsed": false,
    "pycharm": {
     "name": "#%%\n"
    }
   }
  },
  {
   "cell_type": "code",
   "execution_count": null,
   "outputs": [],
   "source": [
    "right_turn = []\n",
    "left_turn = []\n",
    "right_turn += list(map(lambda x:x.count('right') - x.count('slight right'),fastrout.step_direction)\n",
    "left_turn += list(map(lambda x:x.count('left') - x.count('slight left'),fastrout.step_direction))\n",
    "\n",
    "osrm_data = fastrout[['id','total_distance','total_travel_time','number_of_steps']]\n",
    "osrm_data = osrm_data.assign(right_steps = right_turn)\n",
    "osrm_data = osrm_data.assign(left_steps = left_turn)\n",
    "osrm_data.head()"
   ],
   "metadata": {
    "collapsed": false,
    "pycharm": {
     "name": "#%%\n"
    }
   }
  },
  {
   "cell_type": "code",
   "execution_count": null,
   "outputs": [],
   "source": [
    "osrm_test = pd.read_csv('fastest_rotes_test.csv')\n",
    "right_turn = list(map(lambda x:x.count('right') - x.count('slight right'),osrm_test.step_direction)\n",
    "left_turn = list(map(lambda x:x.count('left') - x.count('slight left'),osrm_test.step_direction))\n",
    "\n",
    "osrm_test = osrm_test[['id','total_distance','total_travel_time','number_of_steps']]\n",
    "osrm_test = osrm_test.assign(right_steps = right_turn)\n",
    "osrm_test = osrm_test.assign(left_steps = left_turn)\n",
    "osrm_test.head()"
   ],
   "metadata": {
    "collapsed": false,
    "pycharm": {
     "name": "#%%\n"
    }
   }
  },
  {
   "cell_type": "markdown",
   "source": [
    "weather"
   ],
   "metadata": {
    "collapsed": false,
    "pycharm": {
     "name": "#%% md\n"
    }
   }
  },
  {
   "cell_type": "code",
   "execution_count": null,
   "outputs": [],
   "source": [
    "weather = pd.read_csv('KNYC_Motars.csv',paras_dates=['Time'])\n",
    "weather.head()"
   ],
   "metadata": {
    "collapsed": false,
    "pycharm": {
     "name": "#%%\n"
    }
   }
  },
  {
   "cell_type": "markdown",
   "source": [
    "Visualization"
   ],
   "metadata": {
    "collapsed": false,
    "pycharm": {
     "name": "#%% md\n"
    }
   }
  },
  {
   "cell_type": "code",
   "execution_count": null,
   "outputs": [],
   "source": [
    "lonngitude = list(train.pickup_longitude) + list(train.dropoff_longitude)\n",
    "latitude =  list(train.pickup_latitude) + list(train.dropoff_latitude)\n",
    "\n",
    "print(len(train.pickup_longitude),len(train.dropoff_longitude), len(lonngitude))\n",
    "print(len(train.pickup_latitude),len(train.dropoff_latitude), len(latitude))\n",
    "\n",
    "loc_df = pd.DataFrame()\n",
    "loc_df['longitude'] = lonngitude\n",
    "loc_df['latitude'] = latitude\n",
    "loc_df.head()\n"
   ],
   "metadata": {
    "collapsed": false,
    "pycharm": {
     "name": "#%%\n"
    }
   }
  },
  {
   "cell_type": "code",
   "execution_count": null,
   "outputs": [],
   "source": [
    "\n",
    "\n"
   ],
   "metadata": {
    "collapsed": false,
    "pycharm": {
     "name": "#%%\n"
    }
   }
  }
 ],
 "metadata": {
  "kernelspec": {
   "display_name": "Python 3",
   "language": "python",
   "name": "python3"
  },
  "language_info": {
   "codemirror_mode": {
    "name": "ipython",
    "version": 2
   },
   "file_extension": ".py",
   "mimetype": "text/x-python",
   "name": "python",
   "nbconvert_exporter": "python",
   "pygments_lexer": "ipython2",
   "version": "2.7.6"
  }
 },
 "nbformat": 4,
 "nbformat_minor": 0
}